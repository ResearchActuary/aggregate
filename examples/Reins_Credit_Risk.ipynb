{
 "cells": [
  {
   "cell_type": "markdown",
   "metadata": {},
   "source": [
    "# Reinsurance Credit Risk Examples"
   ]
  },
  {
   "cell_type": "code",
   "execution_count": 1,
   "metadata": {},
   "outputs": [],
   "source": [
    "import pandas as pd\n",
    "import matplotlib.pyplot as plt\n",
    "import numpy as np\n",
    "import seaborn as sns\n",
    "from IPython.core.display import HTML, display\n",
    "from importlib import reload\n",
    "\n",
    "# pandas options \n",
    "pd.set_option('max_rows', 50)\n",
    "pd.set_option('max_columns', 30)\n",
    "pd.set_option('display.max_colwidth', 150)\n",
    "\n",
    "# matplotlib and plotting options \n",
    "%matplotlib inline\n",
    "%config InlineBackend.figure_format = 'svg'\n",
    "\n",
    "# seaborn options \n",
    "sns.set(context='paper', style='darkgrid', font='serif')\n",
    "# sns.set(context='paper', style='ticks', font='serif')\n",
    "\n",
    "# warnings\n",
    "import warnings\n",
    "# warnings.simplefilter('error')\n",
    "# warnings.simplefilter('ignore')\n",
    "import logging\n",
    "logging.getLogger(\"matplotlib\").setLevel(logging.CRITICAL)"
   ]
  },
  {
   "cell_type": "code",
   "execution_count": 2,
   "metadata": {},
   "outputs": [],
   "source": [
    "# this file is in examples\n",
    "from importlib import reload\n",
    "import sys\n",
    "sys.path.insert(0,'..')\n",
    "import aggregate as agg\n",
    "\n",
    "import aggregate.parser as parser\n",
    "import aggregate.underwriter as trash\n",
    "\n",
    "uw = trash.Underwriter(debug=False)"
   ]
  },
  {
   "cell_type": "code",
   "execution_count": null,
   "metadata": {},
   "outputs": [],
   "source": []
  }
 ],
 "metadata": {
  "kernelspec": {
   "display_name": "Python 3",
   "language": "python",
   "name": "python3"
  },
  "language_info": {
   "codemirror_mode": {
    "name": "ipython",
    "version": 3
   },
   "file_extension": ".py",
   "mimetype": "text/x-python",
   "name": "python",
   "nbconvert_exporter": "python",
   "pygments_lexer": "ipython3",
   "version": "3.6.3"
  }
 },
 "nbformat": 4,
 "nbformat_minor": 2
}
