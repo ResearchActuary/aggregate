{
 "cells": [
  {
   "cell_type": "markdown",
   "id": "6a60b985-c95b-49f3-a426-990c1e28871e",
   "metadata": {},
   "source": [
    "## Snippet: Mixed Exponential Distributions\n",
    "\n",
    "The mixed exponential distribution (MED) is used by major US rating bureaus to model severity and compute increased limits factors (ILFs).\n",
    "This snippet explains how to create a MED in `aggregate`. The distribution is created as an `Aggregate` object with a degenerate frequency \n",
    "identically equal to 1 claim. The exponential distribution is surprisingly thick-tailed - in fact, it cab be regarded as the dividing line between \n",
    "thin- and thick-tailed distributions. In order to achieve good accuracy, the modeling increases the number of buckets to $2^{18}$ (i.e., `log2=18`) \n",
    "and  uses a bucket size `bs=500`.\n",
    "\n",
    "\n",
    "The table of exponential means and weights appears on slide 24 of Zhu, titled a \"Sample of Actual Fitted Distribution\".\n",
    "\n",
    "| **Mean**   |  **Weight** |\n",
    "|-----------:|------------:|\n",
    "| 2,763      |  0.824796   |\n",
    "| 24,548     |  0.159065   |\n",
    "| 275,654    |  0.014444   |\n",
    "| 1,917,469  |  0.001624   |\n",
    "| 10,000,000 |  0.000071   |\n",
    "\n",
    "Li Zhu, Introduction to Increased Limits Factors, 2011 RPM Basic Ratemaking Workshop,\n",
    "https://www.casact.org/sites/default/files/presentation/rpm_2011_handouts_ws1-zhu.pdf"
   ]
  },
  {
   "cell_type": "code",
   "execution_count": null,
   "id": "57d89bc2-9de9-4337-845e-79253960bf35",
   "metadata": {},
   "outputs": [],
   "source": [
    "from aggregate import build\n",
    "build.logger_level(30)"
   ]
  },
  {
   "cell_type": "code",
   "execution_count": null,
   "id": "fd7ad997-ea1e-47f9-9a17-c1f0e14d4923",
   "metadata": {},
   "outputs": [],
   "source": [
    "# default shows unacceptable error \n",
    "medd = build('agg MEDd 1 claim '\n",
    "            'sev [2.764e3 24.548e3 275.654e3 1.917469e6 10e6] @ expon 1 wts [0.824796 0.159065 0.014444 0.001624, 0.000071] fixed')\n",
    "print(medd.bs)\n",
    "medd.report_df"
   ]
  },
  {
   "cell_type": "code",
   "execution_count": null,
   "id": "2ca8e0f8-bf1f-4577-878e-02cb5856b2e9",
   "metadata": {},
   "outputs": [],
   "source": [
    "# with increased log2 and bs=500\n",
    "med = build('agg MED 1 claim '\n",
    "            'sev [2.764e3 24.548e3 275.654e3 1.917469e6 10e6] @ expon 1 wts [0.824796 0.159065 0.014444 0.001624, 0.000071] fixed', \n",
    "            log2=18, bs=500)\n",
    "med.report_df"
   ]
  },
  {
   "cell_type": "code",
   "execution_count": null,
   "id": "659c0ef0-9fe9-42da-8c3b-f4d76dc511ae",
   "metadata": {},
   "outputs": [],
   "source": [
    "med.plot()"
   ]
  },
  {
   "cell_type": "code",
   "execution_count": null,
   "id": "a6fff9e6-dbc2-4a53-9f2c-1154242038cc",
   "metadata": {},
   "outputs": [],
   "source": [
    "med.density_df"
   ]
  },
  {
   "cell_type": "code",
   "execution_count": null,
   "id": "c808012c-7782-45be-a1c9-559f09f68e09",
   "metadata": {},
   "outputs": [],
   "source": [
    "# ILF at 1M, p. 25, reported as 1.52\n",
    "med.density_df.loc[1000000, 'lev'] / med.density_df.loc[100000, 'lev']"
   ]
  },
  {
   "cell_type": "code",
   "execution_count": null,
   "id": "3ac2a441-692d-4fec-88df-da80ef5332f0",
   "metadata": {},
   "outputs": [],
   "source": [
    "# graph of all ILFs\n",
    "base = med.density_df.loc[100000, 'lev']\n",
    "\n",
    "ax = (med.density_df.lev / base).plot(xlim=[-100000,10.1e6], ylim=[0.9, 1.85])\n",
    "ax.grid(lw=.25, c='w')\n",
    "ax.set(xlabel='Limit', ylabel='ILF', title='Pure loss ILFs relative to 100K base');"
   ]
  },
  {
   "cell_type": "code",
   "execution_count": null,
   "id": "1921cab4-5b12-4686-9786-2ea6402de4cf",
   "metadata": {},
   "outputs": [],
   "source": [
    "# to combine with a limits profile (see also snippet on limits profiles)\n",
    "lim_prof = build('agg LIM_PROF [20 8 4 2] claims [1e6, 2e6 5e6 10e6] xs 0 '\n",
    "                 'sev [2.764e3 24.548e3 275.654e3 1.917469e6 10e6] @ expon 1 wts [0.824796 0.159065 0.014444 0.001624, 0.000071] fixed', \n",
    "                 log2=18, bs=500)\n",
    "lim_prof"
   ]
  },
  {
   "cell_type": "code",
   "execution_count": null,
   "id": "070e01e2-edc7-48a4-a50c-664476ed6222",
   "metadata": {},
   "outputs": [],
   "source": [
    "# the report_df shows all 20 components: 4 limits x 5 mixture components\n",
    "lim_prof.report_df"
   ]
  },
  {
   "cell_type": "markdown",
   "id": "3a2317ac-fd19-4c13-bcd2-ab121ef79dfb",
   "metadata": {},
   "source": [
    "\\\n",
    "\\\n",
    "Created: July 6, 2022"
   ]
  }
 ],
 "metadata": {
  "kernelspec": {
   "display_name": "Python 3 (ipykernel)",
   "language": "python",
   "name": "python3"
  },
  "language_info": {
   "codemirror_mode": {
    "name": "ipython",
    "version": 3
   },
   "file_extension": ".py",
   "mimetype": "text/x-python",
   "name": "python",
   "nbconvert_exporter": "python",
   "pygments_lexer": "ipython3",
   "version": "3.8.12"
  }
 },
 "nbformat": 4,
 "nbformat_minor": 5
}
