{
 "cells": [
  {
   "cell_type": "markdown",
   "id": "df82b8a0-16e2-4bcc-be6f-3f6824131478",
   "metadata": {
    "tags": []
   },
   "source": [
    "## Snippet: Limits Profiles, Mixed Severity, and Frequency Mixing\n",
    "\n",
    "The `Aggregate` distribution class manages creation and calculation of aggregate distributions.\n",
    "It allows for very flexible creation of aggregate distributions, including  a limit profile, \n",
    "a mixed severity, or both. Mixed frequency types share\n",
    "a mixing distribution across all broadcast terms to ensure an appropriate inter-\n",
    "class correlation."
   ]
  },
  {
   "cell_type": "code",
   "execution_count": null,
   "id": "826179e3-4ec7-4796-9044-9f88adf081ec",
   "metadata": {},
   "outputs": [],
   "source": [
    "sys.path.append('c:\\\\s\\\\telos\\\\python\\\\aggregate_project')\n",
    "from aggregate import build\n",
    "build.logger_level(30)"
   ]
  },
  {
   "cell_type": "markdown",
   "id": "f084567a-5e27-40b8-8063-d913ad5821f6",
   "metadata": {
    "tags": []
   },
   "source": [
    "### Limit profiles\n",
    "The exposure variables can be vectors to express a *limit profile*.\n",
    "All ```exp_[en|prem|loss|count]``` related elements are broadcast against one-another.\n",
    "For example\n",
    "\n",
    "    agg Eg1 [100 200 400 100] premium at 0.65 lr [1000 2000 5000 4000] xs [0 0 0 1000] sev lognorm 500 cv 1.25 poisson\n",
    "\n",
    "expresses a limit profile with 100 of premium at 1000 x 1000; 200 at 2000 x 1000\n",
    "400 at 5000 x 1000 and 100 at 10000 x 1000. In this case all the loss ratios are\n",
    "the same, but they could vary too, as could the attachments."
   ]
  },
  {
   "cell_type": "code",
   "execution_count": null,
   "id": "dd4dc7c7-fe63-4af4-8a55-356ae6dbf08f",
   "metadata": {},
   "outputs": [],
   "source": [
    "# limit profile\n",
    "eg1 = build('agg Eg1 [100 200 400 100] premium at 0.65 lr '\n",
    "            '[1000 2000 5000 4000] xs [0 0 0 1000] '\n",
    "            'sev lognorm 500 cv 1.25 '\n",
    "            'poisson')\n",
    "eg1.report_df"
   ]
  },
  {
   "cell_type": "markdown",
   "id": "f4707c00-ebed-4761-b016-81da3edde587",
   "metadata": {
    "tags": []
   },
   "source": [
    "### Mixed severity distributions\n",
    "The severity variables can be vectors to express a *mixed severity*. All severity\n",
    "elements are broadcast against one-another. For example\n",
    "\n",
    "    sev lognorm 1000 cv [0.75 1.0 1.25 1.5 2] wts [0.4, 0.2, 0.1, 0.1, 0.1]\n",
    "\n",
    "expresses a mixture of five lognormals with a mean of 1000 and CVs as indicated with\n",
    "weights 0.4, 0.2, 0.1, 0.1, 0.1. Equal weights can be expressed using the shorthand `wts=5`. \n",
    "A missing weights clause is interpreted as giving each severity weight 1. It results in five\n",
    "times the total loss."
   ]
  },
  {
   "cell_type": "code",
   "execution_count": null,
   "id": "31a1f884-cba8-41c8-811e-8de1b5340c02",
   "metadata": {},
   "outputs": [],
   "source": [
    "# mixed severity\n",
    "eg2 = build('agg Eg2 1000 loss sev lognorm 100 cv [0.75 1.0 1.25 1.5 2] wts [0.4, 0.2, 0.1, 0.1, 0.1] poisson')\n",
    "eg2.report_df"
   ]
  },
  {
   "cell_type": "code",
   "execution_count": null,
   "id": "8b9fa30f-1124-408b-8ad9-410b23b9872d",
   "metadata": {},
   "outputs": [],
   "source": [
    "# mixed severity with poisson frequency is the same as the sum of five independent components\n",
    "egPort = build('''\n",
    "port EgPort\n",
    "    agg Unit1 400 loss sev lognorm 100 cv 0.75 poisson\n",
    "    agg Unit2 200 loss sev lognorm 100 cv 1.0 poisson\n",
    "    agg Unit3 100 loss sev lognorm 100 cv 1.25 poisson\n",
    "    agg Unit4 100 loss sev lognorm 100 cv 1.5 poisson\n",
    "    agg Unit5 100 loss sev lognorm 100 cv 2.0 poisson\n",
    "\n",
    "''')\n",
    "egPort.report_df"
   ]
  },
  {
   "cell_type": "code",
   "execution_count": null,
   "id": "6687f0ba-2ae2-4823-9fd1-3b332be86713",
   "metadata": {},
   "outputs": [],
   "source": [
    "# actual frequency = total frequency x weight; wts=5 sets equal weights, here 0.2\n",
    "eg2e = build('agg Eg2e 1000 loss sev lognorm 100 cv [0.75 1.0 1.25 1.5 2] wts=5 poisson')\n",
    "eg2e.report_df"
   ]
  },
  {
   "cell_type": "code",
   "execution_count": null,
   "id": "a50159be-40d8-4270-b9b7-4f8e8dc6b6ef",
   "metadata": {},
   "outputs": [],
   "source": [
    "# missing weights set to 1 resulting in five times loss\n",
    "eg2m = build('agg Eg2m 1000 loss sev lognorm 100 cv [0.75 1.0 1.25 1.5 2] poisson')\n",
    "eg2m.report_df"
   ]
  },
  {
   "cell_type": "markdown",
   "id": "29d838a9-4fa0-4444-a70c-41e577d8d778",
   "metadata": {
    "tags": []
   },
   "source": [
    "### Limit profiles and mixed severity\n",
    "Limit profiles and mixtures can be combined. Each mixed severity is applied to each\n",
    "limit profile component. For example\n",
    "\n",
    "    agg multiExp [10 20 30] claims [100 200 75] xs [0 50 75] sev lognorm 100 cv [1 2] wts [.6 .4] mixed gamma 0.4\n",
    "\n",
    "creates an aggregate with six severity subcomponents:\n",
    "\n",
    "|  #  |   limit |   attachment |   claims |\n",
    "|:---:|--------:|-------------:|---------:|\n",
    "|  0  |     100 |            0 |        6 |\n",
    "|  1  |     100 |            0 |        4 |\n",
    "|  2  |     200 |           50 |       12 |\n",
    "|  3  |     200 |           50 |        8 |\n",
    "|  4  |      75 |           75 |       18 |\n",
    "|  5  |      75 |           75 |       12 |"
   ]
  },
  {
   "cell_type": "code",
   "execution_count": null,
   "id": "23c36a12-093c-4f51-b1b7-af0ec16b826b",
   "metadata": {},
   "outputs": [],
   "source": [
    "# limits profile and mixed severity\n",
    "eg3 = build('agg Eg3 [10 20 30] claims [100 200 75] xs [0 50 75] '\n",
    "            'sev lognorm 100 cv [1 2] wts [0.6 0.4] '\n",
    "            'poisson')\n",
    "eg3.report_df"
   ]
  },
  {
   "cell_type": "markdown",
   "id": "82f7e7f0-9335-410b-aef7-57e106045a06",
   "metadata": {
    "tags": []
   },
   "source": [
    "### Limit profiles with different severities: circumventing products\n",
    "Exposures with different limits may have different severity curves. In this case, the limit profile \n",
    "and severity curves should all be broadcast together, rather than broadcasting limits and severities \n",
    "separately and then taking the outer product as in the previous example. \n",
    "\n",
    "    agg Eg4 [10 10 10] claims [1000 2000 5000] xs 0 \\\n",
    "        sev lognorm [50 100 150] cv [0.1 0.15 0.2] \\\n",
    "        poisson\n",
    "\n",
    "The interpretation is determined by the total weights. If the weights sum to\n",
    "one then the severity is interpreted as a mixture, and the result is an exposure / severity product as above. \n",
    "If the weights are missing (i.e., all equal 1 by default)  then the result is a different severity for each limit band. \n",
    "(If the weights are specified and sum to the number of severity components then they are used to adjust the \n",
    "expected losses. Usually, this is not the desired behavior.)"
   ]
  },
  {
   "cell_type": "code",
   "execution_count": null,
   "id": "2dfdc973-45c6-47ca-b877-ee7dda8193f8",
   "metadata": {},
   "outputs": [],
   "source": [
    "# limits profile where each limit band has a different severity curve\n",
    "eg4 = build('agg Eg4 [10 10 10] claims [1000 2000 5000] xs 0 '\n",
    "            'sev lognorm [50 100 150] cv [0.1 0.15 0.2] '\n",
    "            'poisson')\n",
    "eg4.report_df"
   ]
  },
  {
   "cell_type": "code",
   "execution_count": null,
   "id": "3ba31b98-b331-42db-b3dc-dc4b158cb15e",
   "metadata": {},
   "outputs": [],
   "source": [
    "# adding weights that sum to the number of components adjusted expected losses\n",
    "eg4m = build('agg Eg4m [10 10 10] claims [1000 2000 5000] xs 0 '\n",
    "            'sev lognorm [50 100 150] cv [0.1 0.15 0.2] wts [2 .5 .5]'\n",
    "            'poisson')\n",
    "eg4m.report_df"
   ]
  },
  {
   "cell_type": "markdown",
   "id": "3d9dd5bf-6398-445e-90a9-39b7a4c6865d",
   "metadata": {
    "tags": []
   },
   "source": [
    "### Frequency mixing\n",
    "All severity components in an aggregate share the same frequency mixing value, inducing correlation between\n",
    "the parts. For example, to model the current accident year and prior year reserves. \n",
    "\n",
    "    agg Egn [100 200] claims sev [gamma lognorm] [100 150] cv [1 0.5] mixed gamma 0.4\n",
    "\n",
    "`Egn` models the current accident year is gamma mean 100 cv 1 and a run-off reserve lognormal mean 150 cv 0.5."
   ]
  },
  {
   "cell_type": "code",
   "execution_count": null,
   "id": "62853522-5bb3-4df7-855a-4e25a5870567",
   "metadata": {},
   "outputs": [],
   "source": [
    "# mixed frequency, negative binomial cv 0.4\n",
    "eg4x = build('agg Eg4x [1000 500 200 100] premium at [0.85 .75 .65 .55] lr '\n",
    "            '[1000 2000 5000 10000] xs 1000 '\n",
    "            'sev lognorm 100 cv .75 '\n",
    "            'mixed gamma 0.4')\n",
    "eg4x.report_df"
   ]
  },
  {
   "cell_type": "code",
   "execution_count": null,
   "id": "4db0a44e-995b-4d00-a2f1-232693b7beff",
   "metadata": {},
   "outputs": [],
   "source": [
    "# model of current AY (gamma) and reserves(lognormal) with shared gamma mixing \n",
    "eg5 = build('agg Eg5 [100 200] claims 5000 x 0 sev [gamma lognorm] [100 150] cv [1 0.5] mixed gamma 0.5',\n",
    "           log2=16, bs=2.5)\n",
    "eg5.report_df"
   ]
  },
  {
   "cell_type": "code",
   "execution_count": null,
   "id": "6e95d451-f213-47c6-8b51-53e9aae2f3c8",
   "metadata": {},
   "outputs": [],
   "source": [
    "# Delaporte (shifted) gamma mixing often produces more realistic output, avoiding very good years\n",
    "eg5d = build('agg Eg5d [100 200] claims 5000 x 0 sev [gamma lognorm] [100 150] cv [1 0.5] mixed delaporte 0.5 0.6', \n",
    "            log2=18, bs=2.5)\n",
    "eg5d.report_df"
   ]
  },
  {
   "cell_type": "code",
   "execution_count": null,
   "id": "db8466ae-27b7-4a7c-84af-d9e3356faeea",
   "metadata": {},
   "outputs": [],
   "source": [
    "eg5.plot()"
   ]
  },
  {
   "cell_type": "code",
   "execution_count": null,
   "id": "34e478af-6854-460f-ac4e-85ad059b1f91",
   "metadata": {},
   "outputs": [],
   "source": [
    "eg5d.plot()"
   ]
  },
  {
   "cell_type": "markdown",
   "id": "6d9dad74-ac25-46ad-9aaf-90d1566f1be5",
   "metadata": {
    "tags": []
   },
   "source": [
    "Created: 2022-07-06 from `Aggregate` class docstring."
   ]
  },
  {
   "cell_type": "code",
   "execution_count": null,
   "id": "7afb95eb-575a-4421-b0d4-b73d43e7cdc8",
   "metadata": {},
   "outputs": [],
   "source": []
  }
 ],
 "metadata": {
  "kernelspec": {
   "display_name": "Python 3 (ipykernel)",
   "language": "python",
   "name": "python3"
  },
  "language_info": {
   "codemirror_mode": {
    "name": "ipython",
    "version": 3
   },
   "file_extension": ".py",
   "mimetype": "text/x-python",
   "name": "python",
   "nbconvert_exporter": "python",
   "pygments_lexer": "ipython3",
   "version": "3.8.12"
  }
 },
 "nbformat": 4,
 "nbformat_minor": 5
}
