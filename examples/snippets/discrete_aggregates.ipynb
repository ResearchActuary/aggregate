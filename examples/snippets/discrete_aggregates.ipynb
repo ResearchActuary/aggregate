{
 "cells": [
  {
   "cell_type": "markdown",
   "id": "0c208c0b-91f0-47ac-810b-1bdced8667a6",
   "metadata": {},
   "source": [
    "## Simple Discrete Aggregate Distributions \n",
    "\n",
    "### Aggregate Frequency and Severity Models\n",
    "\n",
    "Simulation algorithm for insurance losses\n",
    "\n",
    "```\n",
    "    for i = 1 to 10000\n",
    "    \tagg = 0\n",
    "        simulate number of events n \n",
    "        for j = 1 to n\n",
    "            simulate loss amount X\n",
    "            agg = agg + X\n",
    "        output agg for simulation i\n",
    "```\n",
    "\n",
    "* Write $A = X_1 + \\cdots X_N$, $X_i$ and $N$ random and independent, and $X_i$ identically distributed\n",
    "* Model insured losses via number of claims $N$ the **frequency** and the amount $X_i$ of each claim, the **severity**\n",
    "\n",
    "### Aggregate Statistics: the Mean\n",
    "* Mean of sum = sum of means\n",
    "* $A = X_1 + \\cdots + X_N$\n",
    "* If $N=n$ is fixed then $E[A] = nE(X)$, because all $E[X_i]=E[X]$\n",
    "* In general, $E[A] = E[X]E[N]$ by conditional probability\n",
    "\n",
    "### Aggregate Statistics: the Variance\n",
    "* For independent random variables, variance of sum = sum of variances\n",
    "* $A = X_1 + \\cdots + X_N$\n",
    "* If $N=n$ is fixed then $Var(A) = nVar(X)$ and $Var(N)=0$\n",
    "* If $X=x$ is fixed then $Var(A) = x^2Var(N)$ and $Var(X)=0$\n",
    "* Obvious choices: $n=E[N]$, $x=E[X]$\n",
    "* Combine $Var(A) = E[N]Var(X) + E[X]^2Var(N)$\n",
    "* Miraculously this is the correct answer!"
   ]
  },
  {
   "cell_type": "markdown",
   "id": "9aa95304-de8c-4fe2-9b29-a1b03dc4c6a2",
   "metadata": {},
   "source": [
    "### Simple Aggregate Model\n",
    "\n",
    "In a given year there can be 1, 2 or 3 events. There is a 50% chance of 1 event, 25% chance of 2, and 25% chance of 3. Each event randomly  causes a loss of 5, 10 or 15, each with equal probability.\n",
    "\n",
    "1. What is the average annual event frequency?\n",
    "1. What is the average event severity?\n",
    "1. What are the average losses each year?\n",
    "1. What is the coefficient of variation of losses for each year?\n",
    "1. Create a table showing all possible outcomes from the model\n",
    "1. What is the probability of an annual loss of 5? How can it occur?\n",
    "1. What is the probability of an annual loss of 10? How can it occur?\n",
    "1. What is the highest amount of total losses that can occur in one year? What is the chances that occurs?"
   ]
  },
  {
   "cell_type": "code",
   "execution_count": null,
   "id": "147b19c5-941b-454d-8d19-a5b2e55b8ddf",
   "metadata": {},
   "outputs": [],
   "source": [
    "sys.path.append('c:\\\\s\\\\telos\\\\python\\\\aggregate_project')"
   ]
  },
  {
   "cell_type": "code",
   "execution_count": null,
   "id": "fdda91c8-1c30-498f-998e-d6f9ac83679d",
   "metadata": {},
   "outputs": [],
   "source": [
    "from aggregate import build\n",
    "# build.logger_level(30)"
   ]
  },
  {
   "cell_type": "code",
   "execution_count": null,
   "id": "6689547c-3e63-4c19-8ebd-1213a870a724",
   "metadata": {},
   "outputs": [],
   "source": [
    "sam = build('agg SAM dfreq [1 2 3] [.5 .25 .25] dsev [5 10 15]')\n",
    "sam.plot()\n",
    "sam"
   ]
  },
  {
   "cell_type": "code",
   "execution_count": null,
   "id": "79c269f9-3362-4efb-a99b-40f79ef82bd8",
   "metadata": {},
   "outputs": [],
   "source": [
    "# useful computed quantities \n",
    "sam.density_df"
   ]
  },
  {
   "cell_type": "code",
   "execution_count": null,
   "id": "cf593d42-3655-40be-8890-01570a262a1b",
   "metadata": {},
   "outputs": [],
   "source": [
    "sam.density_df.query('p_total > 0')[['p_total', 'p_sev']]"
   ]
  },
  {
   "cell_type": "code",
   "execution_count": null,
   "id": "0d157064-3fa8-4438-ad6e-213ae5681890",
   "metadata": {},
   "outputs": [],
   "source": [
    "# highest outcome of 45 has probability 0.25 * (1/3)**3 (1/4 one for count, three outcomes of 50); check accuracy\n",
    "a, e = (1/4) * (1/3)**3, sam.density_df.loc[45, 'p_total']\n",
    "pd.DataFrame([a, e, e/a-1], index=['Actual worst', 'Computed worst', 'error'], columns=['value']).style.format(lambda x: f'{x:.15g}')"
   ]
  },
  {
   "cell_type": "markdown",
   "id": "f5e3282c-d86f-4009-b4f6-6cb9edf12ce0",
   "metadata": {},
   "source": [
    "### More Complex Aggregate Model\n",
    "\n",
    "In a given year there can be 1, 2, 3 or 20 events. There is a 45% chance of 1 event, 25% chance of 2, 25% chance of 3, and 5% chance of 100 events. Each event randomly  causes a loss of 5, 10 or 50, each with equal probability.\n",
    "\n",
    "1. What is the average annual event frequency?\n",
    "1. What are the average losses each year?\n",
    "1. What is the coefficient of variation of losses for each year?\n",
    "1. What are the probabilities of each possible outcome? \n",
    "1. What are the 99 and 99.6 percentiles of aggregate losses?\n",
    "1. What is the probability of a maximum loss of 1000?"
   ]
  },
  {
   "cell_type": "code",
   "execution_count": null,
   "id": "da13391a-11b7-43f2-9586-8e58c09c16c0",
   "metadata": {},
   "outputs": [],
   "source": [
    "cam = build('agg CAM dfreq [1 2 3 20] [.45 .25 .25 0.05] dsev [5 10 50] [1/3 1/3 1/3]', log2=11, bs=1)\n",
    "cam.plot()\n",
    "cam"
   ]
  },
  {
   "cell_type": "code",
   "execution_count": null,
   "id": "6fca26c4-ed26-4228-b6a1-05ef134732a6",
   "metadata": {},
   "outputs": [],
   "source": [
    "# percentiles\n",
    "cam.q(0.99), cam.q(0.996), cam.cdf(570)"
   ]
  },
  {
   "cell_type": "code",
   "execution_count": null,
   "id": "3143df25-1e3e-455e-a5c0-e870be50a4f5",
   "metadata": {},
   "outputs": [],
   "source": [
    "# highest outcome of 1000 has probability 0.05 * (1/3)**20 (1/4 one for count, three outcomes of 50); check accuracy\n",
    "a, e = 0.05 * (1/3)**20, cam.density_df.loc[1000, 'p_total']\n",
    "pd.DataFrame([a, e, e/a-1], index=['Actual worst', 'Computed worst', 'error'], columns=['value'])"
   ]
  },
  {
   "cell_type": "code",
   "execution_count": null,
   "id": "33aa4659-2c06-4fbc-8272-fc5bef002ffb",
   "metadata": {},
   "outputs": [],
   "source": [
    "cam.density_df.query('p_total > 0')[['p_total', 'p_sev', 'F', 'S']]"
   ]
  },
  {
   "cell_type": "markdown",
   "id": "4e8c5bc8-eabc-4c45-a89c-6276dde08ba1",
   "metadata": {},
   "source": [
    "\\\n",
    "\\\n",
    "Created July 6, 2022"
   ]
  }
 ],
 "metadata": {
  "kernelspec": {
   "display_name": "Python 3 (ipykernel)",
   "language": "python",
   "name": "python3"
  },
  "language_info": {
   "codemirror_mode": {
    "name": "ipython",
    "version": 3
   },
   "file_extension": ".py",
   "mimetype": "text/x-python",
   "name": "python",
   "nbconvert_exporter": "python",
   "pygments_lexer": "ipython3",
   "version": "3.8.12"
  }
 },
 "nbformat": 4,
 "nbformat_minor": 5
}
