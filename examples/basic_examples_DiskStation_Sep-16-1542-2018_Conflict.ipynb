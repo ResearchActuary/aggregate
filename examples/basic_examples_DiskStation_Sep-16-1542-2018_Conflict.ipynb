{
 "cells": [
  {
   "cell_type": "markdown",
   "metadata": {},
   "source": [
    "# ```aggregate```: Simple Examples"
   ]
  },
  {
   "cell_type": "code",
   "execution_count": null,
   "metadata": {},
   "outputs": [],
   "source": [
    "import pandas as pd\n",
    "import matplotlib.pyplot as plt\n",
    "import numpy as np\n",
    "import seaborn as sns\n",
    "from IPython.core.display import HTML, display\n",
    "from importlib import reload\n",
    "\n",
    "# pandas options \n",
    "pd.set_option('max_rows', 50)\n",
    "pd.set_option('max_columns', 30)\n",
    "pd.set_option('display.max_colwidth', 150)\n",
    "\n",
    "# matplotlib and plotting options \n",
    "%matplotlib inline\n",
    "%config InlineBackend.figure_format = 'svg'\n",
    "\n",
    "# seaborn options \n",
    "sns.set(context='paper', style='darkgrid', font='serif')\n",
    "# sns.set(context='paper', style='ticks', font='serif')\n",
    "\n",
    "# this file is in examples\n",
    "import sys\n",
    "sys.path.insert(0,'/s/telos/python/aggregate_project/')\n",
    "import aggregate as agg"
   ]
  },
  {
   "cell_type": "code",
   "execution_count": null,
   "metadata": {},
   "outputs": [],
   "source": [
    "uw = agg.Underwriter()"
   ]
  },
  {
   "cell_type": "code",
   "execution_count": null,
   "metadata": {},
   "outputs": [],
   "source": [
    "uw.list()"
   ]
  },
  {
   "cell_type": "code",
   "execution_count": null,
   "metadata": {},
   "outputs": [],
   "source": [
    "uw.describe(pretty_print=True);"
   ]
  },
  {
   "cell_type": "code",
   "execution_count": null,
   "metadata": {},
   "outputs": [],
   "source": [
    "uw.describe('severity')"
   ]
  },
  {
   "cell_type": "code",
   "execution_count": null,
   "metadata": {},
   "outputs": [],
   "source": [
    "uw['liaba']"
   ]
  },
  {
   "cell_type": "code",
   "execution_count": null,
   "metadata": {},
   "outputs": [],
   "source": [
    "uw.liabc.plot()"
   ]
  },
  {
   "cell_type": "code",
   "execution_count": null,
   "metadata": {},
   "outputs": [],
   "source": [
    "ag = uw.ppal\n",
    "ag.easy_update(14)\n",
    "ag.report('audit')"
   ]
  },
  {
   "cell_type": "code",
   "execution_count": null,
   "metadata": {},
   "outputs": [],
   "source": [
    "pf = uw.bodoff1\n",
    "pf.update(8, 1)"
   ]
  },
  {
   "cell_type": "code",
   "execution_count": null,
   "metadata": {},
   "outputs": [],
   "source": [
    "pf.plot('density')"
   ]
  },
  {
   "cell_type": "code",
   "execution_count": null,
   "metadata": {},
   "outputs": [],
   "source": [
    "c = uw.write('a: 0.01 * uw.cmp', 'test', update=True, log2=13) \n",
    "c.plot(subplots=True, height=4)"
   ]
  },
  {
   "cell_type": "code",
   "execution_count": null,
   "metadata": {},
   "outputs": [],
   "source": [
    "biz = uw['homeowners'] \n",
    "print(f'Type: {type(biz)}\\nstr:  {biz}\\nrepr: {repr(biz)}')"
   ]
  },
  {
   "cell_type": "code",
   "execution_count": null,
   "metadata": {},
   "outputs": [],
   "source": [
    "biz = uw.homeowners \n",
    "print(f'Type: {type(biz)}\\nstr:  {biz}\\nrepr: {repr(biz)}')"
   ]
  },
  {
   "cell_type": "code",
   "execution_count": null,
   "metadata": {},
   "outputs": [],
   "source": [
    "biz.easy_update(10)\n",
    "print(f'Type: {type(biz)}\\nstr:  {biz}\\nrepr: {repr(biz)}')\n",
    "biz.report('audit')"
   ]
  },
  {
   "cell_type": "code",
   "execution_count": null,
   "metadata": {},
   "outputs": [],
   "source": [
    "biz.recommend_bucket(verbose=True)"
   ]
  },
  {
   "cell_type": "code",
   "execution_count": null,
   "metadata": {},
   "outputs": [],
   "source": [
    "a, b = biz.easy_update(10, reporting_level=1, verbose=True)\n",
    "display(a)\n",
    "display(b)"
   ]
  },
  {
   "cell_type": "code",
   "execution_count": null,
   "metadata": {},
   "outputs": [],
   "source": [
    "biz.audit_df"
   ]
  },
  {
   "cell_type": "code",
   "execution_count": null,
   "metadata": {},
   "outputs": [],
   "source": [
    "biz.report('all')"
   ]
  },
  {
   "cell_type": "markdown",
   "metadata": {},
   "source": [
    "# Script Examples"
   ]
  },
  {
   "cell_type": "code",
   "execution_count": null,
   "metadata": {},
   "outputs": [],
   "source": [
    "s = uw.write('sev MyLN1 12 * lognorm 1; sev MyLN2 12 * lognorm 2; sev MyLN3 12 * lognorm 3; ')"
   ]
  },
  {
   "cell_type": "code",
   "execution_count": null,
   "metadata": {},
   "outputs": [],
   "source": [
    "for v in s:\n",
    "    print(v.moms())\n",
    "    v.plot()\n",
    "print([ 12 * np.exp(x*x/2) for  x in [1,2,3]])"
   ]
  },
  {
   "cell_type": "code",
   "execution_count": null,
   "metadata": {},
   "outputs": [],
   "source": [
    "pf = uw.write('PA: 0.0085 * uw.pers_auto; CA: 0.02 * uw.comm_auto;WC: 0.005 * uw.work_comp', 'test', True, False, log2=16, bs=10e4, remove_fuzz=True)"
   ]
  },
  {
   "cell_type": "code",
   "execution_count": null,
   "metadata": {},
   "outputs": [],
   "source": [
    "print(pf)"
   ]
  },
  {
   "cell_type": "code",
   "execution_count": null,
   "metadata": {},
   "outputs": [],
   "source": [
    "pf.report('quick')"
   ]
  },
  {
   "cell_type": "code",
   "execution_count": null,
   "metadata": {},
   "outputs": [],
   "source": [
    "pf.plot('audit', aspect=1.4, height=2.25)"
   ]
  },
  {
   "cell_type": "markdown",
   "metadata": {},
   "source": [
    "## More complex program "
   ]
  },
  {
   "cell_type": "code",
   "execution_count": null,
   "metadata": {},
   "outputs": [],
   "source": [
    "ans = uw.write(\"\"\"\n",
    "A1: 50  claims          on gamma 12 cv .30 (mixed gamma 0.014)\n",
    "A2: 50  claims 30 xs 10 on gamma 12 cv .30 (mixed gamma 0.014)\n",
    "A3: 50  claims          on gamma 12 cv 1.30 (mixed gamma 0.014)\n",
    "A4: 50  claims 30 xs 20 on gamma 12 cv 1.30 (mixed gamma 0.14); B 15 claims 15 xs 15 on lognorm 12 cv 1.5 + 2 mixed gamma 4.8\n",
    "Cat 1.7 claims 25 xs 5  on 25 * pareto 1.3 0 - 25 poisson \n",
    "ppa: 1e-8 * uw.ppal\n",
    "\"\"\", 'my_first_program', True, False, log2=13, bs=0.25, remove_fuzz=True, trim_df=False)"
   ]
  },
  {
   "cell_type": "code",
   "execution_count": null,
   "metadata": {},
   "outputs": [],
   "source": [
    "ans.recommend_bucket()"
   ]
  },
  {
   "cell_type": "code",
   "execution_count": null,
   "metadata": {},
   "outputs": [],
   "source": [
    "ans.update(13, 1, remove_fuzz=True)"
   ]
  },
  {
   "cell_type": "code",
   "execution_count": null,
   "metadata": {},
   "outputs": [],
   "source": [
    "ans.plot('density', subplots=True, logy=True)"
   ]
  },
  {
   "cell_type": "code",
   "execution_count": null,
   "metadata": {},
   "outputs": [],
   "source": [
    "ans.report('audit')"
   ]
  },
  {
   "cell_type": "code",
   "execution_count": null,
   "metadata": {},
   "outputs": [],
   "source": [
    "for a in ans:\n",
    "    print(a.name, a.attachment, a.limit, a.recommend_bucket(), a.agg_m, a.agg_cv, a.agg_skew)"
   ]
  },
  {
   "cell_type": "code",
   "execution_count": null,
   "metadata": {},
   "outputs": [],
   "source": [
    "for a in ans:\n",
    "    print(a)"
   ]
  },
  {
   "cell_type": "code",
   "execution_count": null,
   "metadata": {},
   "outputs": [],
   "source": [
    "ans.report()"
   ]
  },
  {
   "cell_type": "code",
   "execution_count": null,
   "metadata": {},
   "outputs": [],
   "source": [
    "for col in ['Cat']:\n",
    "    print(col)\n",
    "    t1 = ans.density_df.loc[:, 'e_' + col]\n",
    "    t2 = ans.density_df.loc[:, 'exa_' + col]\n",
    "    print(t2[np.isnan(t2)] )"
   ]
  },
  {
   "cell_type": "code",
   "execution_count": null,
   "metadata": {},
   "outputs": [],
   "source": [
    "type(t2)"
   ]
  },
  {
   "cell_type": "code",
   "execution_count": null,
   "metadata": {},
   "outputs": [],
   "source": [
    "n = np.argwhere(np.isnan(t2))\n",
    "ans.density_df.filter(regex='p_total|ex(le)?a_A$|loss|F|S|exi_xgta_A$').iloc[n[0][0]-10:n[0][0]+10, :]"
   ]
  },
  {
   "cell_type": "code",
   "execution_count": null,
   "metadata": {},
   "outputs": [],
   "source": [
    "t2[1500:2000]"
   ]
  },
  {
   "cell_type": "markdown",
   "metadata": {},
   "source": [
    "# Integrated Parser"
   ]
  },
  {
   "cell_type": "code",
   "execution_count": null,
   "metadata": {},
   "outputs": [],
   "source": [
    "program1 = \"\"\"\n",
    "A:    50  claims,             on  gamma 12 cv .30          mixed gamma 0.014\n",
    "Ba:  500 loss,                on lognorm 50 cv .8\n",
    "Bb:  500 loss,  1000 xs 0     on lognorm 50 cv .8\n",
    "Bg:  500 loss,                on gamma 50 cv .8\n",
    "C:   500  loss,      75 xs 25, on lognorm 50 cv .9\n",
    "D:    25  claims,    30 xs 20,  on gamma 12 cv 1.30         (mixed gamma 0.85)\n",
    "Cat1:  1.7 claims,  125 xs 5,   on 25 * pareto 1.3 - 25 \n",
    "Cat2:  3.5 claims, 1000 xs 0,  on 25 * pareto 2.3 0 - 25\n",
    "\"\"\"\n",
    "program2 = \"\"\"\n",
    "Thick:  500 loss,            on lognorm 50 cv .8\n",
    "Thin:  500 loss,  1000 xs 0  on lognorm 50 cv .8\n",
    "Cat:  2 claims,  1250 xs 5,  on 25 * pareto 1.3 - 25 \n",
    "\"\"\"\n",
    "\n",
    "program3 = '''\n",
    "MyWC: 0.005 * uw.work_comp\n",
    "InHomCA: uw.comm_auto * 0.002 ;\n",
    "HomCA: 0.001 * uw.comm_auto\n",
    "Cat: 50000000 loss 1e9 xs 0 on 50000000 * pareto 1.3 - 50000000\n",
    "'''\n",
    "\n",
    "ans1 = uw.write(program1, 'script example 1', True, False, log2=13, bs=0.5, remove_fuzz=True, trim_df=False)\n",
    "ans2 = uw.write(program2, 'script example 2', True, False, log2=10, remove_fuzz=True, trim_df=False)\n",
    "ans3 = uw.write(program3, 'script example 3', True, False, log2=11, padding=2, remove_fuzz=True, trim_df=False)\n",
    "# %timeit ans = uw.write(program, 'script example', False) #, False, log2=13, bs=0.5, remove_fuzz=True, trim_df=False)\n",
    "ans = [ans1, ans2, ans3]"
   ]
  },
  {
   "cell_type": "code",
   "execution_count": null,
   "metadata": {},
   "outputs": [],
   "source": [
    "for a in ans:\n",
    "    a.report()\n",
    "    a.plot('density', subplots=True, logy=True)"
   ]
  },
  {
   "cell_type": "code",
   "execution_count": null,
   "metadata": {},
   "outputs": [],
   "source": [
    "ans[2].q(.999)"
   ]
  },
  {
   "cell_type": "code",
   "execution_count": null,
   "metadata": {},
   "outputs": [],
   "source": [
    "uw['liaba']"
   ]
  },
  {
   "cell_type": "code",
   "execution_count": null,
   "metadata": {},
   "outputs": [],
   "source": [
    "agg.Severity(**uw['liaba'][1]).plot()"
   ]
  },
  {
   "cell_type": "code",
   "execution_count": null,
   "metadata": {},
   "outputs": [],
   "source": [
    "ans = uw.write('sev CA_PPA lognorm 12 cv 2; sev ilppa 12 * lognorm 2.1')\n",
    "ans"
   ]
  },
  {
   "cell_type": "code",
   "execution_count": null,
   "metadata": {},
   "outputs": [],
   "source": [
    "for a in ans:\n",
    "    a.plot()"
   ]
  },
  {
   "cell_type": "code",
   "execution_count": null,
   "metadata": {},
   "outputs": [],
   "source": [
    "portfolio_program = \"\"\"\n",
    "| name        | expos                 | limit                    | sev                                               | freq              |\n",
    "|:------------|:----------------------|:-------------------------|:--------------------------------------------------|:------------------|\n",
    "| big_mixture | 50 claims             | [50, 100, 150, 200] xs 0 | on lognorm 12 cv [1,2,3,4] wts [0.25 .25 .25 .25] | poisson           |\n",
    "| A1a         | 500 premium at 0.5    |                          | on gamma 12 cv .30                                | mixed gamma 0.014 |\n",
    "| A1b         | 500 premium at 0.5 lr |                          | on gamma 12 cv .30                                | mixed gamma 0.014 |\n",
    "| A2          | 50  claims            | 30 xs 10                 | on gamma 12 cv .30                                | mixed gamma 0.014 |\n",
    "| A3          | 50  claims            |                          | on gamma 12 cv .30                                | mixed gamma 0.014 |\n",
    "| A4          | 50  claims            | 30 xs 20                 | on gamma 12 cv .30                                | mixed gamma 0.14  |\n",
    "| hcmp        | 1e-8 * uw.cmp         |                          |                                                   |                   |\n",
    "\"\"\""
   ]
  },
  {
   "cell_type": "code",
   "execution_count": null,
   "metadata": {},
   "outputs": [],
   "source": [
    "p = uw.write(portfolio_program, 'test_portfolio', update=True, verbose=False, log2=12, remove_fuzz=True)"
   ]
  },
  {
   "cell_type": "code",
   "execution_count": null,
   "metadata": {},
   "outputs": [],
   "source": [
    "uw.portfolio['test_portfolio']"
   ]
  },
  {
   "cell_type": "code",
   "execution_count": null,
   "metadata": {},
   "outputs": [],
   "source": [
    "p.recommend_bucket()"
   ]
  },
  {
   "cell_type": "code",
   "execution_count": null,
   "metadata": {},
   "outputs": [],
   "source": [
    "p.bs"
   ]
  },
  {
   "cell_type": "code",
   "execution_count": null,
   "metadata": {},
   "outputs": [],
   "source": [
    "p.report()  # subset of the audit report "
   ]
  },
  {
   "cell_type": "code",
   "execution_count": null,
   "metadata": {},
   "outputs": [],
   "source": [
    "port = p \n",
    "a = agg.axiter_factory(None, 24, aspect=1.4, height=2)\n",
    "port.plot('quick', axiter=a)\n",
    "port.plot('density', axiter=a, subplots=True, aspect=1.4, height=2)\n",
    "port.plot('density', axiter=a, subplots=True, aspect=1.4, height=2, logy=True, ylim=[1e-10, 1e-2])\n",
    "a.tidy()\n",
    "agg.suptitle_and_tight('Density Plots for Portfolio 1')"
   ]
  },
  {
   "cell_type": "code",
   "execution_count": null,
   "metadata": {},
   "outputs": [],
   "source": [
    "port.plot('audit', aspect=1.2, height=2.5)"
   ]
  },
  {
   "cell_type": "code",
   "execution_count": null,
   "metadata": {},
   "outputs": [],
   "source": [
    "port.plot('priority', aspect=1.2, height=2.5)"
   ]
  },
  {
   "cell_type": "code",
   "execution_count": null,
   "metadata": {},
   "outputs": [],
   "source": []
  }
 ],
 "metadata": {
  "kernelspec": {
   "display_name": "Python 3",
   "language": "python",
   "name": "python3"
  },
  "language_info": {
   "codemirror_mode": {
    "name": "ipython",
    "version": 3
   },
   "file_extension": ".py",
   "mimetype": "text/x-python",
   "name": "python",
   "nbconvert_exporter": "python",
   "pygments_lexer": "ipython3",
   "version": "3.6.3"
  }
 },
 "nbformat": 4,
 "nbformat_minor": 2
}
