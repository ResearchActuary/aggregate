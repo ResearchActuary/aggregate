{
 "cells": [
  {
   "cell_type": "markdown",
   "metadata": {},
   "source": [
    "# Quantile Tests\n",
    "\n",
    "Illustrates the various problems with quantiles and shows that the `Aggregate` and `Portfolio` classes handle them correctly. "
   ]
  },
  {
   "cell_type": "code",
   "execution_count": 1,
   "metadata": {},
   "outputs": [
    {
     "name": "stdout",
     "output_type": "stream",
     "text": [
      "c:\\s\\telos\\python\\aggregate_project\\aggregate\\__init__.py\n"
     ]
    }
   ],
   "source": [
    "import sys\n",
    "sys.path.append(\"c:\\\\s\\\\telos\\\\python\\\\aggregate_project\")\n",
    "sys.path.append(\"c:\\\\s\\\\telos\\\\python\\\\aggregate_extensions_project\")\n",
    "\n",
    "import aggregate as agg\n",
    "import aggregate_extensions as agg_ext\n",
    "import aggregate_extensions.allocation as aea\n",
    "\n",
    "import numpy as np\n",
    "import matplotlib.pyplot as plt\n",
    "# from matplotlib.ticker import MultipleLocator, FormatStrFormatter, StrMethodFormatter, FuncFormatter, \\\n",
    "#                                AutoMinorLocator, MaxNLocator, NullFormatter, FixedLocator, FixedFormatter\n",
    "import pandas as pd\n",
    "# from jinja2 import Template\n",
    "# import seaborn as sns\n",
    "from IPython.core.display import HTML\n",
    "import itertools\n",
    "# sns.set('paper', 'ticks', 'plasma', 'serif')\n",
    "# sns.set_palette('muted', 8)\n",
    "%config InlineBackend.figure_format = 'svg'\n",
    "pd.set_option('display.max_rows', 500)\n",
    "# pd.set_option('display.max_cols', 500)\n",
    "\n",
    "# https://github.com/matplotlib/jupyter-matplotlib\n",
    "%matplotlib widget\n",
    "# %matplotlib\n",
    "\n",
    "from importlib import reload\n",
    "\n",
    "import logging\n",
    "aggdevlog = logging.getLogger('aggdev.log')\n",
    "aggdevlog.setLevel(logging.INFO)\n",
    "print(agg.__file__)\n",
    "\n",
    "# print(agg.__file__, agg.__version__)\n",
    "# import os\n",
    "# print(os.environ['CONDA_DEFAULT_ENV'])\n",
    "# print(os.getcwd())\n",
    "# x = !dir *.ipynb"
   ]
  },
  {
   "cell_type": "code",
   "execution_count": null,
   "metadata": {},
   "outputs": [],
   "source": []
  },
  {
   "cell_type": "code",
   "execution_count": null,
   "metadata": {},
   "outputs": [],
   "source": []
  },
  {
   "cell_type": "code",
   "execution_count": 2,
   "metadata": {},
   "outputs": [
    {
     "name": "stderr",
     "output_type": "stream",
     "text": [
      "c:\\users\\steve\\anaconda3\\envs\\smve37\\lib\\site-packages\\numpy\\core\\fromnumeric.py:61: FutureWarning: Series.nonzero() is deprecated and will be removed in a future version.Use Series.to_numpy().nonzero() instead\n",
      "  return bound(*args, **kwds)\n",
      "c:\\s\\telos\\python\\aggregate_project\\aggregate\\port.py:1324: RuntimeWarning: divide by zero encountered in true_divide\n",
      "  index_inv = 1.0 / np.array(self.density_df.index)\n"
     ]
    }
   ],
   "source": [
    "uw = agg.Underwriter(update=False, create_all=False)\n",
    "port = uw('''\n",
    "port tester\n",
    "    agg Athin  1 claim sev dhistogram xps [0 9 10] [.98 .01 .01] fixed\n",
    "    agg Dthick 1 claim sev dhistogram xps [0 1 90] [.98 .01 .01] fixed\n",
    "''')\n",
    "port.update(bs=1, log2=8, remove_fuzz=True)"
   ]
  },
  {
   "cell_type": "code",
   "execution_count": 3,
   "metadata": {},
   "outputs": [
    {
     "data": {
      "text/plain": [
       "(9.0, 10.0)"
      ]
     },
     "execution_count": 3,
     "metadata": {},
     "output_type": "execute_result"
    }
   ],
   "source": [
    "port.q(0.98, kind='lower'), port.q(0.98, kind='upper')"
   ]
  },
  {
   "cell_type": "code",
   "execution_count": 4,
   "metadata": {},
   "outputs": [
    {
     "data": {
      "text/html": [
       "<div>\n",
       "<style scoped>\n",
       "    .dataframe tbody tr th:only-of-type {\n",
       "        vertical-align: middle;\n",
       "    }\n",
       "\n",
       "    .dataframe tbody tr th {\n",
       "        vertical-align: top;\n",
       "    }\n",
       "\n",
       "    .dataframe thead th {\n",
       "        text-align: right;\n",
       "    }\n",
       "</style>\n",
       "<table border=\"1\" class=\"dataframe\">\n",
       "  <thead>\n",
       "    <tr style=\"text-align: right;\">\n",
       "      <th></th>\n",
       "      <th>loss</th>\n",
       "      <th>loss_s</th>\n",
       "    </tr>\n",
       "    <tr>\n",
       "      <th>F</th>\n",
       "      <th></th>\n",
       "      <th></th>\n",
       "    </tr>\n",
       "  </thead>\n",
       "  <tbody>\n",
       "    <tr>\n",
       "      <th>0.0000</th>\n",
       "      <td>0.0</td>\n",
       "      <td>0.0</td>\n",
       "    </tr>\n",
       "    <tr>\n",
       "      <th>0.9604</th>\n",
       "      <td>0.0</td>\n",
       "      <td>1.0</td>\n",
       "    </tr>\n",
       "    <tr>\n",
       "      <th>0.9702</th>\n",
       "      <td>1.0</td>\n",
       "      <td>9.0</td>\n",
       "    </tr>\n",
       "    <tr>\n",
       "      <th>0.9800</th>\n",
       "      <td>9.0</td>\n",
       "      <td>10.0</td>\n",
       "    </tr>\n",
       "    <tr>\n",
       "      <th>0.9899</th>\n",
       "      <td>10.0</td>\n",
       "      <td>11.0</td>\n",
       "    </tr>\n",
       "    <tr>\n",
       "      <th>0.9900</th>\n",
       "      <td>11.0</td>\n",
       "      <td>90.0</td>\n",
       "    </tr>\n",
       "    <tr>\n",
       "      <th>0.9998</th>\n",
       "      <td>90.0</td>\n",
       "      <td>99.0</td>\n",
       "    </tr>\n",
       "    <tr>\n",
       "      <th>0.9999</th>\n",
       "      <td>99.0</td>\n",
       "      <td>100.0</td>\n",
       "    </tr>\n",
       "    <tr>\n",
       "      <th>1.0000</th>\n",
       "      <td>100.0</td>\n",
       "      <td>100.0</td>\n",
       "    </tr>\n",
       "    <tr>\n",
       "      <th>1.0000</th>\n",
       "      <td>100.0</td>\n",
       "      <td>100.0</td>\n",
       "    </tr>\n",
       "  </tbody>\n",
       "</table>\n",
       "</div>"
      ],
      "text/plain": [
       "         loss  loss_s\n",
       "F                    \n",
       "0.0000    0.0     0.0\n",
       "0.9604    0.0     1.0\n",
       "0.9702    1.0     9.0\n",
       "0.9800    9.0    10.0\n",
       "0.9899   10.0    11.0\n",
       "0.9900   11.0    90.0\n",
       "0.9998   90.0    99.0\n",
       "0.9999   99.0   100.0\n",
       "1.0000  100.0   100.0\n",
       "1.0000  100.0   100.0"
      ]
     },
     "execution_count": 4,
     "metadata": {},
     "output_type": "execute_result"
    }
   ],
   "source": [
    "port.q_temp"
   ]
  },
  {
   "cell_type": "code",
   "execution_count": null,
   "metadata": {},
   "outputs": [],
   "source": []
  }
 ],
 "metadata": {
  "kernelspec": {
   "display_name": "Python 3",
   "language": "python",
   "name": "python3"
  },
  "language_info": {
   "codemirror_mode": {
    "name": "ipython",
    "version": 3
   },
   "file_extension": ".py",
   "mimetype": "text/x-python",
   "name": "python",
   "nbconvert_exporter": "python",
   "pygments_lexer": "ipython3",
   "version": "3.7.5"
  },
  "widgets": {
   "application/vnd.jupyter.widget-state+json": {
    "state": {},
    "version_major": 2,
    "version_minor": 0
   }
  }
 },
 "nbformat": 4,
 "nbformat_minor": 4
}
