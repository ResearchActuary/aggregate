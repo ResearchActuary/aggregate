{
 "cells": [
  {
   "cell_type": "code",
   "execution_count": 1,
   "metadata": {},
   "outputs": [],
   "source": [
    "import sys"
   ]
  },
  {
   "cell_type": "code",
   "execution_count": 2,
   "metadata": {},
   "outputs": [
    {
     "data": {
      "text/plain": [
       "['C:\\\\S\\\\TELOS\\\\Python\\\\aggregate_project\\\\examples',\n",
       " 'C:\\\\Users\\\\steve\\\\Anaconda3\\\\envs\\\\Working_Duplicate\\\\python37.zip',\n",
       " 'C:\\\\Users\\\\steve\\\\Anaconda3\\\\envs\\\\Working_Duplicate\\\\DLLs',\n",
       " 'C:\\\\Users\\\\steve\\\\Anaconda3\\\\envs\\\\Working_Duplicate\\\\lib',\n",
       " 'C:\\\\Users\\\\steve\\\\Anaconda3\\\\envs\\\\Working_Duplicate',\n",
       " '',\n",
       " 'C:\\\\Users\\\\steve\\\\AppData\\\\Roaming\\\\Python\\\\Python37\\\\site-packages',\n",
       " 'C:\\\\Users\\\\steve\\\\Anaconda3\\\\envs\\\\Working_Duplicate\\\\lib\\\\site-packages',\n",
       " 'C:\\\\Users\\\\steve\\\\Anaconda3\\\\envs\\\\Working_Duplicate\\\\lib\\\\site-packages\\\\win32',\n",
       " 'C:\\\\Users\\\\steve\\\\Anaconda3\\\\envs\\\\Working_Duplicate\\\\lib\\\\site-packages\\\\win32\\\\lib',\n",
       " 'C:\\\\Users\\\\steve\\\\Anaconda3\\\\envs\\\\Working_Duplicate\\\\lib\\\\site-packages\\\\Pythonwin',\n",
       " 'C:\\\\Users\\\\steve\\\\Anaconda3\\\\envs\\\\Working_Duplicate\\\\lib\\\\site-packages\\\\IPython\\\\extensions',\n",
       " 'C:\\\\Users\\\\steve\\\\.ipython']"
      ]
     },
     "execution_count": 2,
     "metadata": {},
     "output_type": "execute_result"
    }
   ],
   "source": [
    "sys.path"
   ]
  },
  {
   "cell_type": "code",
   "execution_count": null,
   "metadata": {},
   "outputs": [],
   "source": []
  }
 ],
 "metadata": {
  "kernelspec": {
   "display_name": "Python 3",
   "language": "python",
   "name": "python3"
  },
  "language_info": {
   "name": ""
  }
 },
 "nbformat": 4,
 "nbformat_minor": 2
}
