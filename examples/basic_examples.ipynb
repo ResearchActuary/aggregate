{
 "cells": [
  {
   "cell_type": "markdown",
   "metadata": {},
   "source": [
    "# ```aggregate```: Simple Examples"
   ]
  },
  {
   "cell_type": "code",
   "execution_count": null,
   "metadata": {},
   "outputs": [],
   "source": [
    "import pandas as pd\n",
    "import matplotlib.pyplot as plt\n",
    "import numpy as np\n",
    "import seaborn as sns\n",
    "from IPython.core.display import HTML, display\n",
    "from importlib import reload\n",
    "\n",
    "# pandas options \n",
    "pd.set_option('max_rows', 50)\n",
    "pd.set_option('max_columns', 30)\n",
    "pd.set_option('display.max_colwidth', 150)\n",
    "\n",
    "# matplotlib and plotting options \n",
    "%matplotlib inline\n",
    "%config InlineBackend.figure_format = 'svg'\n",
    "\n",
    "# seaborn options \n",
    "sns.set(context='paper', style='darkgrid', font='serif')\n",
    "# sns.set(context='paper', style='ticks', font='serif')\n",
    "\n",
    "# warnings\n",
    "import warnings\n",
    "# warnings.simplefilter('error')\n",
    "# warnings.simplefilter('ignore')\n",
    "\n",
    "# this file is in examples\n",
    "import sys\n",
    "sys.path.insert(0,'/s/telos/python/aggregate_project/')\n",
    "import aggregate as agg\n",
    "\n",
    "import aggregate.parser as parser\n",
    "import aggregate.underwriter as trash\n",
    "uw = trash.Underwriter(debug=False)"
   ]
  },
  {
   "cell_type": "code",
   "execution_count": null,
   "metadata": {},
   "outputs": [],
   "source": [
    "reload(parser)\n",
    "reload(trash)\n",
    "uw = trash.Underwriter(debug=False)\n",
    "\n",
    "testa1 = \"\"\"\n",
    "port Portfolio_1 \n",
    "    agg LineA 50 claims sev lognorm 12 cv [2, 3, 4] wt [.3 .5 .2] \n",
    "    agg LineB 24 claims 10 x 5 sev lognorm 12 cv 3.4 \n",
    "    LineC 124 claims 120 x 5 sev lognorm 16 cv 3.4\n",
    "\"\"\"\n",
    "\n",
    "testa2 = \"\"\"\n",
    "port Portfolio_2 \n",
    "    CA 500 prem at .5 lr 15 x 12 sev gamma 12 cv [2 3 4] wt [.3 .5 .2] mixed gamma 0.4\n",
    "    FL 1.7 claims 100 x 5 sev 10000 * pareto 1.3 - 10000 poisson\n",
    "    IL 1e-8 * uw.cmp\n",
    "    OH uw.cmp * 1e-8\n",
    "    agg NY 500 prem at .5 lr 15 x 12 sev [20 30 40 10] * gamma [9 10 11 12] cv [1 2 3 4] wt =4 mixed gamma 0.4\n",
    "\n",
    "sev proda 30000 * lognorm 2\n",
    "\"\"\"\n",
    "\n",
    "testb = \"\"\"\n",
    "sev prodc: 50000 * lognorm(3) \n",
    "sev weird 50000 * beta(1, 4) + 10000\n",
    "sev premsop1 25000 * lognorm 2.3; sev premsop2 35000 * lognorm 2.4;\n",
    "sev premsop3 45000 * \\\n",
    "lognorm 2.8\n",
    "\"\"\"\n",
    "\n",
    "testc = \"\"\"\n",
    "agg Agg_1 20 claims 10 x 2 sev lognorm 12 cv 0.2 mixed gamma 0.8\n",
    "agg Agg_2 20 claims 10 x 2 sev 15 * lognorm 2.5;\n",
    "sev premsop1 25000 * lognorm 2.3; \n",
    "Agg_3 20 claims 10 x 2 on 25 * lognorm 2 fixed;\n",
    "\"\"\"\n",
    "\n",
    "testall = testa1 + testa2 + testb + testc\n",
    "a, b, c = uw.write_test(testall)\n",
    "del b['note']\n",
    "agg.html_title('Severities')\n",
    "display(a)\n",
    "agg.html_title('Aggregates')\n",
    "display(b)\n",
    "agg.html_title('Portfolios')\n",
    "display(c)"
   ]
  },
  {
   "cell_type": "code",
   "execution_count": null,
   "metadata": {},
   "outputs": [],
   "source": [
    "uw.list().T"
   ]
  },
  {
   "cell_type": "code",
   "execution_count": null,
   "metadata": {},
   "outputs": [],
   "source": [
    "uw['LineA']"
   ]
  },
  {
   "cell_type": "code",
   "execution_count": null,
   "metadata": {},
   "outputs": [],
   "source": [
    "ob = uw('LineA')\n",
    "ob"
   ]
  },
  {
   "cell_type": "code",
   "execution_count": null,
   "metadata": {},
   "outputs": [],
   "source": [
    "ob.audit_df"
   ]
  },
  {
   "cell_type": "code",
   "execution_count": null,
   "metadata": {},
   "outputs": [],
   "source": [
    "ob.easy_update()\n",
    "ob"
   ]
  },
  {
   "cell_type": "code",
   "execution_count": null,
   "metadata": {},
   "outputs": [],
   "source": [
    "ob.audit_df"
   ]
  },
  {
   "cell_type": "code",
   "execution_count": null,
   "metadata": {},
   "outputs": [],
   "source": [
    "uw['ppal']"
   ]
  },
  {
   "cell_type": "code",
   "execution_count": null,
   "metadata": {},
   "outputs": [],
   "source": [
    "ob = uw('ppal')\n",
    "display(ob.statistics_df)\n",
    "ob"
   ]
  },
  {
   "cell_type": "code",
   "execution_count": null,
   "metadata": {},
   "outputs": [],
   "source": [
    "testa1 = f\"\"\"\n",
    "port Portfolio_1 \n",
    "    agg LineA 50 claims sev lognorm 12 cv [{', '.join([str(i) for i in np.linspace(2,5, 20)])}] wt=20 \n",
    "    agg LineB 24 claims 10 x 5 sev lognorm 12 cv 3.4 \n",
    "    LineC 124 claims 120 x 5 sev lognorm 16 cv 3.4\n",
    "\"\"\"\n",
    "testa1d = f\"\"\"\n",
    "port Portfolio_1 \n",
    "    agg LineA 50 claims sev lognorm 12 cv [1,2,3,4,5] wt=5 \n",
    "    agg LineB 24 claims 10 x 5 sev lognorm 12 cv 3.4 \n",
    "    LineC 124 claims 120 x 5 sev lognorm 16 cv 3.4\n",
    "\"\"\"\n",
    "\n",
    "print(testa1d)"
   ]
  },
  {
   "cell_type": "code",
   "execution_count": null,
   "metadata": {},
   "outputs": [],
   "source": [
    "reload(parser)\n",
    "reload(trash)\n",
    "uw = trash.Underwriter(debug=False)\n",
    "uw"
   ]
  },
  {
   "cell_type": "code",
   "execution_count": null,
   "metadata": {},
   "outputs": [],
   "source": [
    "uw.databases"
   ]
  },
  {
   "cell_type": "code",
   "execution_count": null,
   "metadata": {},
   "outputs": [],
   "source": [
    "uw.list()"
   ]
  },
  {
   "cell_type": "code",
   "execution_count": null,
   "metadata": {},
   "outputs": [],
   "source": [
    "reload(parser)\n",
    "reload(trash)\n",
    "uw = trash.Underwriter(debug=False, log2=12, update=True)\n",
    "p = uw.write(testa1d)\n",
    "p.plot()\n",
    "p"
   ]
  },
  {
   "cell_type": "code",
   "execution_count": null,
   "metadata": {},
   "outputs": [],
   "source": [
    "p = uw.write(testa1d, log2=10)\n",
    "p.plot()\n",
    "p"
   ]
  },
  {
   "cell_type": "code",
   "execution_count": null,
   "metadata": {},
   "outputs": [],
   "source": [
    "uw.parser.port_out_dict"
   ]
  },
  {
   "cell_type": "code",
   "execution_count": null,
   "metadata": {},
   "outputs": [],
   "source": [
    "p.report('all')"
   ]
  },
  {
   "cell_type": "code",
   "execution_count": null,
   "metadata": {},
   "outputs": [],
   "source": [
    "for ag in p:\n",
    "    # the underlying aggregates\n",
    "    print(ag) \n",
    "    ag.plot()\n",
    "    display(ag)"
   ]
  },
  {
   "cell_type": "code",
   "execution_count": null,
   "metadata": {},
   "outputs": [],
   "source": [
    "uw.describe(pretty_print=True);"
   ]
  },
  {
   "cell_type": "code",
   "execution_count": null,
   "metadata": {},
   "outputs": [],
   "source": [
    "uw.describe('severity')"
   ]
  },
  {
   "cell_type": "code",
   "execution_count": null,
   "metadata": {},
   "outputs": [],
   "source": [
    "uw['liaba']"
   ]
  },
  {
   "cell_type": "code",
   "execution_count": null,
   "metadata": {},
   "outputs": [],
   "source": [
    "uw('liabc')"
   ]
  },
  {
   "cell_type": "code",
   "execution_count": null,
   "metadata": {},
   "outputs": [],
   "source": [
    "uw('liabc').plot()"
   ]
  },
  {
   "cell_type": "code",
   "execution_count": null,
   "metadata": {},
   "outputs": [],
   "source": [
    "ag = uw('ppal')\n",
    "ag.easy_update(14)\n",
    "ag"
   ]
  },
  {
   "cell_type": "code",
   "execution_count": null,
   "metadata": {},
   "outputs": [],
   "source": [
    "pf = uw('bodoff1')\n",
    "pf.update(8, 1) \n",
    "pf"
   ]
  },
  {
   "cell_type": "code",
   "execution_count": null,
   "metadata": {},
   "outputs": [],
   "source": [
    "pf.plot('density')"
   ]
  },
  {
   "cell_type": "code",
   "execution_count": null,
   "metadata": {},
   "outputs": [],
   "source": [
    "reload(trash)\n",
    "uw = trash.Underwriter()\n",
    "uw"
   ]
  },
  {
   "cell_type": "code",
   "execution_count": null,
   "metadata": {},
   "outputs": [],
   "source": [
    "uw['cmp']"
   ]
  },
  {
   "cell_type": "code",
   "execution_count": null,
   "metadata": {},
   "outputs": [],
   "source": [
    "uw['cmp']"
   ]
  },
  {
   "cell_type": "code",
   "execution_count": null,
   "metadata": {},
   "outputs": [],
   "source": [
    "reload(trash)\n",
    "uw = trash.Underwriter()"
   ]
  },
  {
   "cell_type": "code",
   "execution_count": null,
   "metadata": {},
   "outputs": [],
   "source": [
    "ob = uw('agg MYCMP 0.01 *uw.cmp')\n",
    "ob.easy_update()"
   ]
  },
  {
   "cell_type": "code",
   "execution_count": null,
   "metadata": {},
   "outputs": [],
   "source": [
    "ob"
   ]
  },
  {
   "cell_type": "code",
   "execution_count": null,
   "metadata": {},
   "outputs": [],
   "source": [
    "sv = agg.Severity('lognorm', sev_mean = 1000, sev_cv = 0.5)"
   ]
  },
  {
   "cell_type": "code",
   "execution_count": null,
   "metadata": {},
   "outputs": [],
   "source": [
    "sv.plot()"
   ]
  },
  {
   "cell_type": "code",
   "execution_count": null,
   "metadata": {},
   "outputs": [],
   "source": [
    "reload(trash)\n",
    "uw = trash.Underwriter()\n",
    "c = uw.write('port test a: 0.01 * uw.cmp') "
   ]
  },
  {
   "cell_type": "code",
   "execution_count": null,
   "metadata": {},
   "outputs": [],
   "source": [
    "c.recommend_bucket()"
   ]
  },
  {
   "cell_type": "code",
   "execution_count": null,
   "metadata": {},
   "outputs": [],
   "source": [
    "c.update(log2=13, bs=100000)"
   ]
  },
  {
   "cell_type": "code",
   "execution_count": null,
   "metadata": {},
   "outputs": [],
   "source": [
    "c.plot(subplots=True, height=4)"
   ]
  },
  {
   "cell_type": "code",
   "execution_count": null,
   "metadata": {},
   "outputs": [],
   "source": [
    "c"
   ]
  },
  {
   "cell_type": "code",
   "execution_count": null,
   "metadata": {},
   "outputs": [],
   "source": [
    "biz = uw['homeowners'] \n",
    "print(f'Type: {type(biz)}\\nstr:  {biz}\\nrepr: {repr(biz)}')\n",
    "display(biz)"
   ]
  },
  {
   "cell_type": "code",
   "execution_count": null,
   "metadata": {},
   "outputs": [],
   "source": [
    "biz = uw('homeowners')\n",
    "print(f'Type: {type(biz)}\\nstr:  {biz}\\nrepr: {repr(biz)}')\n",
    "display(biz)"
   ]
  },
  {
   "cell_type": "code",
   "execution_count": null,
   "metadata": {},
   "outputs": [],
   "source": [
    "biz.easy_update(10)\n",
    "print(f'Type: {type(biz)}\\nstr:  {biz}\\nrepr: {repr(biz)}')\n",
    "display(biz)\n",
    "biz.report('audit')"
   ]
  },
  {
   "cell_type": "code",
   "execution_count": null,
   "metadata": {},
   "outputs": [],
   "source": [
    "biz.recommend_bucket(verbose=True)"
   ]
  },
  {
   "cell_type": "code",
   "execution_count": null,
   "metadata": {},
   "outputs": [],
   "source": [
    "biz.easy_update(10, verbose=True)"
   ]
  },
  {
   "cell_type": "code",
   "execution_count": null,
   "metadata": {},
   "outputs": [],
   "source": [
    "biz.audit_df"
   ]
  },
  {
   "cell_type": "code",
   "execution_count": null,
   "metadata": {},
   "outputs": [],
   "source": [
    "biz.report('all')"
   ]
  },
  {
   "cell_type": "markdown",
   "metadata": {},
   "source": [
    "# Script Examples"
   ]
  },
  {
   "cell_type": "code",
   "execution_count": null,
   "metadata": {},
   "outputs": [],
   "source": [
    "reload(trash)\n",
    "uw = trash.Underwriter()"
   ]
  },
  {
   "cell_type": "code",
   "execution_count": null,
   "metadata": {},
   "outputs": [],
   "source": [
    "s = uw.write('sev MyLN1 12 * lognorm 1; sev MyLN2 12 * lognorm 2; sev MyLN3 12 * lognorm 3; ')"
   ]
  },
  {
   "cell_type": "code",
   "execution_count": null,
   "metadata": {},
   "outputs": [],
   "source": [
    "uw.describe('severity')"
   ]
  },
  {
   "cell_type": "code",
   "execution_count": null,
   "metadata": {},
   "outputs": [],
   "source": [
    "for v in s:\n",
    "    print(v.moms())\n",
    "    v.plot()\n",
    "print([ 12 * np.exp(x*x/2) for  x in [1,2,3]])"
   ]
  },
  {
   "cell_type": "code",
   "execution_count": null,
   "metadata": {},
   "outputs": [],
   "source": [
    "pf = uw.write('port test: PA: 0.0085 * uw.pers_auto; CA: 0.02 * uw.comm_auto;WC: 0.005 * uw.work_comp', update=False, log2=16, bs=10e4, remove_fuzz=True, add_exa=False)"
   ]
  },
  {
   "cell_type": "code",
   "execution_count": null,
   "metadata": {},
   "outputs": [],
   "source": [
    "%timeit pf.update(log2=16, bs=10e4, add_exa=False)"
   ]
  },
  {
   "cell_type": "code",
   "execution_count": null,
   "metadata": {},
   "outputs": [],
   "source": [
    "%timeit pf.update(log2=16, bs=10e4, add_exa=True)"
   ]
  },
  {
   "cell_type": "code",
   "execution_count": null,
   "metadata": {},
   "outputs": [],
   "source": [
    "pf"
   ]
  },
  {
   "cell_type": "code",
   "execution_count": null,
   "metadata": {},
   "outputs": [],
   "source": [
    "pf.report('quick')"
   ]
  },
  {
   "cell_type": "code",
   "execution_count": null,
   "metadata": {},
   "outputs": [],
   "source": [
    "pf.update(log2=16, bs=10e4, add_exa=False)"
   ]
  },
  {
   "cell_type": "code",
   "execution_count": null,
   "metadata": {},
   "outputs": [],
   "source": [
    "pf.plot('audit', aspect=1.4, height=2.25)"
   ]
  },
  {
   "cell_type": "markdown",
   "metadata": {},
   "source": [
    "## More complex program "
   ]
  },
  {
   "cell_type": "code",
   "execution_count": null,
   "metadata": {},
   "outputs": [],
   "source": [
    "uw.update=True\n",
    "uw.log2 = 13\n",
    "uw.bs = 0.25\n",
    "uw\n",
    "warnings.simplefilter('always')"
   ]
  },
  {
   "cell_type": "code",
   "execution_count": null,
   "metadata": {},
   "outputs": [],
   "source": [
    "ans = uw.write(\"\"\"port my_first_portfolio\n",
    "    A1: 50  claims          sev gamma 12 cv .30 (mixed gamma 0.014)\n",
    "    A2: 50  claims 30 xs 10 sev gamma 12 cv .30 (mixed gamma 0.014)\n",
    "    A3: 50  claims          sev gamma 12 cv 1.30 (mixed gamma 0.014)\n",
    "    A4: 50  claims 30 xs 20 sev gamma 12 cv 1.30 (mixed gamma 0.14)\n",
    "    B 15 claims 15 xs 15 sev lognorm 12 cv 1.5 + 2 mixed gamma 4.8\n",
    "    Cat 1.7 claims 25 xs 5  sev 25 * pareto 1.3 0 - 25 poisson \n",
    "    ppa: 1e-8 * uw.ppal\n",
    "\"\"\", add_exa=False, remove_fuzz=True, trim_df=False)"
   ]
  },
  {
   "cell_type": "code",
   "execution_count": null,
   "metadata": {},
   "outputs": [],
   "source": [
    "ans = uw.write(\"\"\"port my_first_portfolio\n",
    "    A1: 50  claims          sev gamma 12 cv .30  \n",
    "    A2: 50  claims 30 xs 10 sev gamma 12 cv .30  \n",
    "    A3: 50  claims          sev gamma 12 cv 1.30  \n",
    "    A4: 50  claims 30 xs 20 sev gamma 12 cv 1.30  \n",
    "    B 15 claims 15 xs 15 sev lognorm 12 cv 1.5 + 2  \n",
    "    ppa: uw.ppal * 1e-5\n",
    "    Cat 1.7 claims 25 xs 5  sev 25 * pareto 1.3 0 - 25 poisson\"\"\", add_exa=False, remove_fuzz=True, trim_df=False)"
   ]
  },
  {
   "cell_type": "code",
   "execution_count": null,
   "metadata": {},
   "outputs": [],
   "source": [
    "uw['ppal']"
   ]
  },
  {
   "cell_type": "code",
   "execution_count": null,
   "metadata": {},
   "outputs": [],
   "source": [
    "ans.statistics_df"
   ]
  },
  {
   "cell_type": "code",
   "execution_count": null,
   "metadata": {},
   "outputs": [],
   "source": [
    "ans.recommend_bucket()"
   ]
  },
  {
   "cell_type": "code",
   "execution_count": null,
   "metadata": {},
   "outputs": [],
   "source": [
    "ans.update(14, 1, remove_fuzz=True)"
   ]
  },
  {
   "cell_type": "code",
   "execution_count": null,
   "metadata": {},
   "outputs": [],
   "source": [
    "ans.plot('density', subplots=True, logy=True)"
   ]
  },
  {
   "cell_type": "code",
   "execution_count": null,
   "metadata": {},
   "outputs": [],
   "source": [
    "ans.report('audit')"
   ]
  },
  {
   "cell_type": "code",
   "execution_count": null,
   "metadata": {},
   "outputs": [],
   "source": [
    "for a in ans:\n",
    "    display(a)"
   ]
  },
  {
   "cell_type": "code",
   "execution_count": null,
   "metadata": {},
   "outputs": [],
   "source": [
    "ans.report()"
   ]
  },
  {
   "cell_type": "code",
   "execution_count": null,
   "metadata": {},
   "outputs": [],
   "source": [
    "for col in ['Cat']:\n",
    "    print(col)\n",
    "    t1 = ans.density_df.loc[:, 'e_' + col]\n",
    "    t2 = ans.density_df.loc[:, 'exa_' + col]\n",
    "    print(t2[np.isnan(t2)] )"
   ]
  },
  {
   "cell_type": "code",
   "execution_count": null,
   "metadata": {},
   "outputs": [],
   "source": [
    "type(t2)"
   ]
  },
  {
   "cell_type": "code",
   "execution_count": null,
   "metadata": {},
   "outputs": [],
   "source": [
    "n = np.argwhere(np.isnan(t2))\n",
    "ans.density_df.filter(regex='p_total|ex(le)?a_A$|loss|F|S|exi_xgta_A$').iloc[n[0][0]-10:n[0][0]+10, :]"
   ]
  },
  {
   "cell_type": "code",
   "execution_count": null,
   "metadata": {},
   "outputs": [],
   "source": [
    "t2[1500:2000]"
   ]
  },
  {
   "cell_type": "markdown",
   "metadata": {},
   "source": [
    "# Integrated Parser"
   ]
  },
  {
   "cell_type": "code",
   "execution_count": null,
   "metadata": {},
   "outputs": [],
   "source": [
    "uw = agg.Underwriter(debug=True)"
   ]
  },
  {
   "cell_type": "code",
   "execution_count": null,
   "metadata": {},
   "outputs": [],
   "source": [
    "program1 = \"\"\"\n",
    "A:    50  claims,             sev  gamma 12 cv .30          mixed gamma 0.014\n",
    "Ba:  500 loss,                sev lognorm 50 cv .8\n",
    "Bb:  500 loss,  1000 xs 0     sev lognorm 50 cv .8\n",
    "Bg:  500 loss,                sev gamma 50 cv .8\n",
    "C:   500  loss,      75 xs 25, sev lognorm 50 cv .9\n",
    "D:    25  claims,    30 xs 20,  sev gamma 12 cv 1.30         (mixed gamma 0.85)\n",
    "Cat1:  1.7 claims,  125 xs 5,   sev 25 * pareto 1.3 - 25 \n",
    "Cat2:  3.5 claims, 1000 xs 0,  sev 25 * pareto 2.3 0 - 25\n",
    "\"\"\"\n",
    "program2 = \"\"\"\n",
    "Thick:  500 loss,            sev lognorm 50 cv .8\n",
    "Thin:  500 loss,  1000 xs 0  sev lognorm 50 cv .8\n",
    "Cat:  2 claims,  1250 xs 5,  sev 25 * pareto 1.3 - 25 \n",
    "\"\"\"\n",
    "\n",
    "program3 = '''\n",
    "MyWC: 0.005 * uw.work_comp\n",
    "InHomCA: uw.comm_auto * 0.002 ;\n",
    "HomCA: 0.001 * uw.comm_auto\n",
    "Cat: 50000000 loss 1e9 xs 0 sev 50000000 * pareto 1.3 - 50000000'''"
   ]
  },
  {
   "cell_type": "code",
   "execution_count": null,
   "metadata": {},
   "outputs": [],
   "source": [
    "ans1 = uw.write(program1, 'script example 1', True, False, log2=13, bs=0.5, remove_fuzz=True, trim_df=False)"
   ]
  },
  {
   "cell_type": "code",
   "execution_count": null,
   "metadata": {},
   "outputs": [],
   "source": [
    "ans2 = uw.write(program2, 'script example 2', True, False, log2=10, remove_fuzz=True, trim_df=False)\n",
    "ans3 = uw.write(program3, 'script example 3', True, False, log2=11, padding=2, remove_fuzz=True, trim_df=False)\n",
    "# %timeit ans = uw.write(program, 'script example', False) #, False, log2=13, bs=0.5, remove_fuzz=True, trim_df=False)\n",
    "ans = [ans1, ans2, ans3]"
   ]
  },
  {
   "cell_type": "code",
   "execution_count": null,
   "metadata": {},
   "outputs": [],
   "source": [
    "for a in ans:\n",
    "    a.report()\n",
    "    a.plot('density', subplots=True, logy=True)"
   ]
  },
  {
   "cell_type": "code",
   "execution_count": null,
   "metadata": {},
   "outputs": [],
   "source": [
    "ans[2].q(.999)"
   ]
  },
  {
   "cell_type": "code",
   "execution_count": null,
   "metadata": {},
   "outputs": [],
   "source": [
    "uw['liaba']"
   ]
  },
  {
   "cell_type": "code",
   "execution_count": null,
   "metadata": {},
   "outputs": [],
   "source": [
    "agg.Severity(**uw['liaba'][1]).plot()"
   ]
  },
  {
   "cell_type": "code",
   "execution_count": null,
   "metadata": {},
   "outputs": [],
   "source": [
    "ans = uw.write('sev CA_PPA lognorm 12 cv 2; sev ilppa 12 * lognorm 2.1')\n",
    "ans"
   ]
  },
  {
   "cell_type": "code",
   "execution_count": null,
   "metadata": {},
   "outputs": [],
   "source": [
    "for a in ans:\n",
    "    a.plot()"
   ]
  },
  {
   "cell_type": "markdown",
   "metadata": {},
   "source": [
    "# Distortions and Pricing\n",
    "\n",
    "## Line names must match ```r'[a-zA-Z][a-zA-Z0-9_]*'```"
   ]
  },
  {
   "cell_type": "code",
   "execution_count": null,
   "metadata": {},
   "outputs": [],
   "source": [
    "portfolio_program = \"\"\"\n",
    "| name        | expos                 | limit                    | sev                                               | freq              |\n",
    "|:------------|:----------------------|:-------------------------|:--------------------------------------------------|:------------------|\n",
    "| mix         | 50 claims             | [50, 100, 150, 200] xs 0 | sev lognorm 12 cv [1,2,3,4] wts [0.25 .25 .25 .25] | poisson           |\n",
    "| low         | 500 premium at 0.5    | 5 xs 5                   | sev gamma 12 cv .30                                | mixed gamma 0.014 |\n",
    "| med         | 500 premium at 0.5 lr | 15 xs 10                 | sev gamma 12 cv .30                                | mixed gamma 0.4   |\n",
    "| xsa         | 50  claims            | 30 xs 10                 | sev gamma 12 cv .30                                | mixed gamma 0.8   |\n",
    "| hcmp        | 1e-8 * uw.cmp         |                          |                                                   |                   |\n",
    "\"\"\""
   ]
  },
  {
   "cell_type": "code",
   "execution_count": null,
   "metadata": {},
   "outputs": [],
   "source": [
    "port = uw.write(portfolio_program, 'test_portfolio', update=True, verbose=False, log2=12, remove_fuzz=True)"
   ]
  },
  {
   "cell_type": "code",
   "execution_count": null,
   "metadata": {},
   "outputs": [],
   "source": [
    "a = agg.axiter_factory(None, 24, aspect=1.4, height=2)\n",
    "port.plot('quick', axiter=a)\n",
    "port.plot('density', axiter=a, subplots=True, aspect=1.4, height=2)\n",
    "port.plot('density', axiter=a, subplots=True, aspect=1.4, height=2, logy=True, ylim=[1e-10, 1e-2])\n",
    "a.tidy()\n",
    "agg.suptitle_and_tight('Density Plots for Portfolio 1')"
   ]
  },
  {
   "cell_type": "code",
   "execution_count": null,
   "metadata": {},
   "outputs": [],
   "source": [
    "port.plot('audit', aspect=1.2, height=2.5)"
   ]
  },
  {
   "cell_type": "code",
   "execution_count": null,
   "metadata": {},
   "outputs": [],
   "source": [
    "port.plot('priority', aspect=1.2, height=2.5)"
   ]
  },
  {
   "cell_type": "code",
   "execution_count": null,
   "metadata": {},
   "outputs": [],
   "source": [
    "portfolio_program = \"\"\"\n",
    "| name        | expos                 | limit                    | sev                                               | freq              |\n",
    "|:------------|:----------------------|:-------------------------|:--------------------------------------------------|:------------------|\n",
    "| mix         | 0.50 claims           | [50, 100, 150, 2000] xs 0 | sev 12 * lognorm [1,2,3,14] wts [0.25 .25 .25 .25] | poisson           |\n",
    "| low         | 1.500 claims          | 1250 xs 5                | sev 400 * pareto 2.2 - 400                           | mixed gamma 0.014 |\n",
    "| med         | 500 premium at 0.5 lr | 15 xs 10                 | sev gamma 12 cv .30                                | mixed gamma 0.4   |\n",
    "| hard        | 50  claims            | 30 xs 10                 | sev gamma 12 cv .30                                | mixed gamma 0.8   |\n",
    "\"\"\""
   ]
  },
  {
   "cell_type": "code",
   "execution_count": null,
   "metadata": {},
   "outputs": [],
   "source": [
    "port = uw.write(portfolio_program, 'test_portfolio', update=True, verbose=False, log2=14, bs=0.5, remove_fuzz=True)"
   ]
  },
  {
   "cell_type": "code",
   "execution_count": null,
   "metadata": {},
   "outputs": [],
   "source": [
    "port.recommend_bucket()"
   ]
  },
  {
   "cell_type": "code",
   "execution_count": null,
   "metadata": {},
   "outputs": [],
   "source": [
    "port.report('audit')"
   ]
  },
  {
   "cell_type": "code",
   "execution_count": null,
   "metadata": {},
   "outputs": [],
   "source": [
    "port.plot('density', subplots=True,)\n",
    "port.plot('density', subplots=True, logy=True)"
   ]
  },
  {
   "cell_type": "code",
   "execution_count": null,
   "metadata": {},
   "outputs": [],
   "source": [
    "port.uat(verbose=True,);"
   ]
  },
  {
   "cell_type": "code",
   "execution_count": null,
   "metadata": {},
   "outputs": [],
   "source": [
    "K = port.q(0.995)  # Resonable capital scale\n",
    "LR = 0.7\n",
    "K"
   ]
  },
  {
   "cell_type": "code",
   "execution_count": null,
   "metadata": {},
   "outputs": [],
   "source": [
    "cd = port.calibrate_distortions(LRs=[LR], As=[K])"
   ]
  },
  {
   "cell_type": "code",
   "execution_count": null,
   "metadata": {},
   "outputs": [],
   "source": [
    "cd"
   ]
  },
  {
   "cell_type": "code",
   "execution_count": null,
   "metadata": {},
   "outputs": [],
   "source": [
    "dd = agg.Distortion.distortions_from_params(cd, (K, LR), plot=True)"
   ]
  },
  {
   "cell_type": "code",
   "execution_count": null,
   "metadata": {},
   "outputs": [],
   "source": [
    "dd"
   ]
  },
  {
   "cell_type": "code",
   "execution_count": null,
   "metadata": {},
   "outputs": [],
   "source": [
    "ans_table, ans_stacked = port.apply_distortions(dd, As=[port.q(0.99), port.q(0.995), port.q(0.999)], num_plots=2)"
   ]
  },
  {
   "cell_type": "markdown",
   "metadata": {},
   "source": [
    "# Another Interesting Example"
   ]
  },
  {
   "cell_type": "code",
   "execution_count": null,
   "metadata": {},
   "outputs": [],
   "source": [
    "reload(trash)\n",
    "uw  = trash.Underwriter()"
   ]
  },
  {
   "cell_type": "code",
   "execution_count": null,
   "metadata": {},
   "outputs": [],
   "source": [
    "uw['cata']"
   ]
  },
  {
   "cell_type": "code",
   "execution_count": null,
   "metadata": {},
   "outputs": [],
   "source": [
    "uw.update = True\n",
    "uw.log2 = 10\n",
    "ag = uw('agg myCatA 2 claims sev 10000*uw.cata')\n",
    "ag.plot()"
   ]
  },
  {
   "cell_type": "code",
   "execution_count": null,
   "metadata": {},
   "outputs": [],
   "source": [
    "ag"
   ]
  },
  {
   "cell_type": "code",
   "execution_count": null,
   "metadata": {},
   "outputs": [],
   "source": [
    "uw.update = False\n",
    "uw.verbose = False\n",
    "pf = uw(\"\"\"port small_large \n",
    "       cat 2 claims sev 10000 * pareto 1.3  - 10000\n",
    "       noncat 120 claims sev lognorm 1000 cv 0.5\"\"\")\n",
    "pf"
   ]
  },
  {
   "cell_type": "code",
   "execution_count": null,
   "metadata": {},
   "outputs": [],
   "source": [
    "pf.recommend_bucket()"
   ]
  },
  {
   "cell_type": "code",
   "execution_count": null,
   "metadata": {},
   "outputs": [],
   "source": [
    "pf.update(log2=18, bs=10000, padding=1, add_exa=False)\n",
    "pf.plot(subplots=True, logy=True)\n",
    "pf"
   ]
  },
  {
   "cell_type": "code",
   "execution_count": null,
   "metadata": {},
   "outputs": [],
   "source": [
    "pf"
   ]
  },
  {
   "cell_type": "code",
   "execution_count": null,
   "metadata": {},
   "outputs": [],
   "source": [
    "pf.plot()"
   ]
  },
  {
   "cell_type": "code",
   "execution_count": null,
   "metadata": {},
   "outputs": [],
   "source": [
    "f = sns.factorplot(x='return', y='value', row='line', col='method', size=2.5, kind='bar',\n",
    "                           data=ans_stacked.query(' stat==\"lr\" ')) "
   ]
  },
  {
   "cell_type": "code",
   "execution_count": null,
   "metadata": {},
   "outputs": [],
   "source": [
    "warnings.simplefilter('ignore')\n",
    "warnings.simplefilter('error')"
   ]
  },
  {
   "cell_type": "code",
   "execution_count": null,
   "metadata": {},
   "outputs": [],
   "source": [
    "        pf = uw('''\n",
    "        port MyCompanyBook\n",
    "            agg LineA 100 claims 100000 xs 0 sev lognorm 30000 cv 1.25\n",
    "            agg LineB 150 claims 250000 xs 5000 sev lognorm 50000 cv 0.9\n",
    "            agg Cat 2 claims 100000000 xs 0 sev 500000 * pareto 1.8 - 500000\n",
    "        ''')"
   ]
  },
  {
   "cell_type": "code",
   "execution_count": null,
   "metadata": {},
   "outputs": [],
   "source": [
    "df = pf.recommend_bucket()"
   ]
  },
  {
   "cell_type": "code",
   "execution_count": null,
   "metadata": {},
   "outputs": [],
   "source": [
    "df"
   ]
  },
  {
   "cell_type": "code",
   "execution_count": null,
   "metadata": {},
   "outputs": [],
   "source": [
    "sys.path.insert(0,'/s/telos/python/')"
   ]
  },
  {
   "cell_type": "code",
   "execution_count": null,
   "metadata": {},
   "outputs": [],
   "source": [
    "import great as grt"
   ]
  },
  {
   "cell_type": "code",
   "execution_count": null,
   "metadata": {},
   "outputs": [],
   "source": [
    "grt.tabulate(df, ',.1f', True)"
   ]
  },
  {
   "cell_type": "code",
   "execution_count": null,
   "metadata": {},
   "outputs": [],
   "source": [
    "\n",
    "bs = 10000\n",
    "pf.update(13, bs)\n",
    "pf.report('quick')\n",
    "pf.plot('density')\n",
    "pf.plot('density', logy=True)\n",
    "pf"
   ]
  },
  {
   "cell_type": "code",
   "execution_count": null,
   "metadata": {},
   "outputs": [],
   "source": [
    "print(pf)"
   ]
  },
  {
   "cell_type": "code",
   "execution_count": null,
   "metadata": {},
   "outputs": [],
   "source": [
    "dir(agg.Distortion)"
   ]
  },
  {
   "cell_type": "code",
   "execution_count": null,
   "metadata": {},
   "outputs": [],
   "source": [
    "agg.Distortion.available_distortions()"
   ]
  },
  {
   "cell_type": "code",
   "execution_count": null,
   "metadata": {},
   "outputs": [],
   "source": [
    "warnings.simplefilter('default')"
   ]
  },
  {
   "cell_type": "code",
   "execution_count": null,
   "metadata": {},
   "outputs": [],
   "source": [
    "agg.Distortion.test()"
   ]
  },
  {
   "cell_type": "code",
   "execution_count": null,
   "metadata": {},
   "outputs": [],
   "source": [
    "agg.insurability_triangle()"
   ]
  },
  {
   "cell_type": "code",
   "execution_count": null,
   "metadata": {},
   "outputs": [],
   "source": [
    "uw.update = False\n",
    "# basic = uw('''\n",
    "# port basic\n",
    "#     ppa 4000 claims 1e6 x 0 sev lognorm 10000 cv 15\n",
    "#     ho  800 claims 2e6 x 0 sev gamma 50000 cv 10\n",
    "#     cat 2 claims 20e6 x 0 sev 1e5 * pareto 2.1 - 1e5\n",
    "# ''')"
   ]
  },
  {
   "cell_type": "code",
   "execution_count": null,
   "metadata": {},
   "outputs": [],
   "source": [
    "# uw['interesting_cat']"
   ]
  },
  {
   "cell_type": "code",
   "execution_count": null,
   "metadata": {},
   "outputs": [],
   "source": [
    "# this is about Intereseting_Cat Example See LCA_08_25\n",
    "# \n",
    "basic = uw('''\n",
    "port basic\n",
    "    attrit 10000 claims 500 x 0 sev lognorm 1 cv 1.75 mixed gamma 0.5\n",
    "    paretoccat 2 claims      sev 50 * pareto 1.25 - 50\n",
    "    lognccat  3.5 claims 40e3 x 0 sev 200 * lognorm 1.25 \n",
    "''')"
   ]
  },
  {
   "cell_type": "code",
   "execution_count": null,
   "metadata": {},
   "outputs": [],
   "source": [
    "# basic = uw('interesting_cat')"
   ]
  },
  {
   "cell_type": "code",
   "execution_count": null,
   "metadata": {},
   "outputs": [],
   "source": [
    "basic.recommend_bucket()"
   ]
  },
  {
   "cell_type": "code",
   "execution_count": null,
   "metadata": {},
   "outputs": [],
   "source": [
    "basic.update(14, 10,  add_exa=True, remove_fuzz=True, approx_freq_ge=100, approx_type='slognorm', discretization_calc='distribution', trim_df=False)\n",
    "basic"
   ]
  },
  {
   "cell_type": "code",
   "execution_count": null,
   "metadata": {},
   "outputs": [],
   "source": [
    "basic.plot('quick')\n",
    "basic.plot('density', subplots=True)\n",
    "basic.plot('density', subplots=True, logy=True)\n",
    "basic.plot('density', aspect=1.9, logy=True)"
   ]
  },
  {
   "cell_type": "code",
   "execution_count": null,
   "metadata": {},
   "outputs": [],
   "source": [
    "bfit = uw(basic.fit())"
   ]
  },
  {
   "cell_type": "code",
   "execution_count": null,
   "metadata": {},
   "outputs": [],
   "source": [
    "bfit.update(basic.density_df.loss.values)"
   ]
  },
  {
   "cell_type": "code",
   "execution_count": null,
   "metadata": {},
   "outputs": [],
   "source": [
    "bfit2 = basic.collapse()"
   ]
  },
  {
   "cell_type": "code",
   "execution_count": null,
   "metadata": {},
   "outputs": [],
   "source": []
  },
  {
   "cell_type": "code",
   "execution_count": null,
   "metadata": {},
   "outputs": [],
   "source": [
    "bfit.plot()"
   ]
  },
  {
   "cell_type": "code",
   "execution_count": null,
   "metadata": {},
   "outputs": [],
   "source": [
    "plt.plot(basic.density_df.loss, basic.density_df.p_total, label='exact')\n",
    "plt.plot(bfit.xs, bfit.agg_density, label='approx')\n",
    "plt.yscale('log')\n",
    "plt.legend()"
   ]
  },
  {
   "cell_type": "code",
   "execution_count": null,
   "metadata": {},
   "outputs": [],
   "source": [
    "xs = basic.density_df.loss\n",
    "print(np.sum(xs * basic.density_df.p_total))\n",
    "print(np.sum(xs * bfit.agg_density))"
   ]
  },
  {
   "cell_type": "code",
   "execution_count": null,
   "metadata": {},
   "outputs": [],
   "source": [
    " bfit.agg_density.sum()"
   ]
  },
  {
   "cell_type": "markdown",
   "metadata": {},
   "source": [
    "# The plot of EXEQA is very intesting... different behaviours at different size losses"
   ]
  },
  {
   "cell_type": "code",
   "execution_count": null,
   "metadata": {},
   "outputs": [],
   "source": [
    "axiter = agg.axiter_factory(None, 24, aspect=1.4)\n",
    "distort = agg.Distortion('wang', 2.25)\n",
    "df, audit = basic.apply_distortion(distort, axiter)"
   ]
  },
  {
   "cell_type": "code",
   "execution_count": null,
   "metadata": {},
   "outputs": [],
   "source": [
    "params = basic.calibrate_distortions(LRs=[0.85, 0.90], Ps=[0.99, 0.98], r0=0.025)\n",
    "params"
   ]
  },
  {
   "cell_type": "code",
   "execution_count": null,
   "metadata": {},
   "outputs": [],
   "source": [
    "gs = agg.Distortion.distortions_from_params(params, (basic.q(0.99), 0.85), r0=0.025)"
   ]
  },
  {
   "cell_type": "code",
   "execution_count": null,
   "metadata": {},
   "outputs": [],
   "source": [
    "gs"
   ]
  },
  {
   "cell_type": "markdown",
   "metadata": {},
   "source": [
    "#### The first apply distortion was random and extreme. Now we apply Wang with a more reasonable shift. "
   ]
  },
  {
   "cell_type": "code",
   "execution_count": null,
   "metadata": {},
   "outputs": [],
   "source": [
    "axiter = agg.axiter_factory(None, 24, aspect=1.25)\n",
    "df, au = basic.apply_distortion(gs['ly'] , axiter)"
   ]
  },
  {
   "cell_type": "code",
   "execution_count": null,
   "metadata": {},
   "outputs": [],
   "source": [
    "test = basic.top_down(gs, 0.99)"
   ]
  },
  {
   "cell_type": "code",
   "execution_count": null,
   "metadata": {},
   "outputs": [],
   "source": [
    "ans = basic.apply_distortions(gs, Ps=[0.98, 0.99], num_plots=3)"
   ]
  },
  {
   "cell_type": "code",
   "execution_count": null,
   "metadata": {},
   "outputs": [],
   "source": [
    "a, p, test, arams, dd, table, stacked = basic.uat(LRs=[0.9], verbose=True)"
   ]
  },
  {
   "cell_type": "code",
   "execution_count": null,
   "metadata": {},
   "outputs": [],
   "source": [
    "basic.density_df.filter(regex='exa[g]?_[st][a-z]+$').plot(kind='line')"
   ]
  },
  {
   "cell_type": "code",
   "execution_count": null,
   "metadata": {},
   "outputs": [],
   "source": [
    "table"
   ]
  },
  {
   "cell_type": "code",
   "execution_count": null,
   "metadata": {},
   "outputs": [],
   "source": [
    "uw('sev stepEg dhistogram xps [0, 1, 2, 3, 4] [.2, .3, .4, .05, .05]  ').plot()"
   ]
  },
  {
   "cell_type": "code",
   "execution_count": null,
   "metadata": {},
   "outputs": [],
   "source": [
    "uw('sev stepEg chistogram xps [0, 1, 2, 3, 4] [.2, .3, .4, .05, .05]  ').plot()"
   ]
  },
  {
   "cell_type": "code",
   "execution_count": null,
   "metadata": {},
   "outputs": [],
   "source": [
    "uw('sev stepEg dhistogram xps [0, 1, 2, 3, 4] .2 ').plot()"
   ]
  },
  {
   "cell_type": "code",
   "execution_count": null,
   "metadata": {},
   "outputs": [],
   "source": [
    "uw('sev stepEg chistogram xps [0, 1, 2, 3, 4] .2 ').plot()"
   ]
  },
  {
   "cell_type": "code",
   "execution_count": null,
   "metadata": {},
   "outputs": [],
   "source": [
    "import pandas as pd\n",
    "import matplotlib.pyplot as plt\n",
    "import numpy as np\n",
    "import seaborn as sns\n",
    "from IPython.core.display import HTML, display\n",
    "from importlib import reload\n",
    "\n",
    "# pandas options \n",
    "pd.set_option('max_rows', 50)\n",
    "pd.set_option('max_columns', 30)\n",
    "pd.set_option('display.max_colwidth', 150)\n",
    "\n",
    "# matplotlib and plotting options \n",
    "%matplotlib inline\n",
    "%config InlineBackend.figure_format = 'svg'\n",
    "\n",
    "# seaborn options \n",
    "sns.set(context='paper', style='darkgrid', font='serif')\n",
    "# sns.set(context='paper', style='ticks', font='serif')\n",
    "\n",
    "# warnings\n",
    "import warnings\n",
    "# warnings.simplefilter('error')\n",
    "# warnings.simplefilter('ignore')\n",
    "np.seterr(all='warn')\n",
    "\n",
    "# this file is in examples\n",
    "import sys\n",
    "sys.path.insert(0,'/s/telos/python/aggregate_project/')\n",
    "import aggregate as agg\n",
    "\n",
    "import aggregate.parser as parser\n",
    "import aggregate.underwriter as trash\n",
    "uw = trash.Underwriter(debug=False)"
   ]
  },
  {
   "cell_type": "code",
   "execution_count": null,
   "metadata": {},
   "outputs": [],
   "source": [
    "fixed = uw('sev my chistogram xps [0,1,2,3,4] [.1,.2,.3, 0, .4]')\n",
    "fixed.plot()\n",
    "fixed.moms()==(2.9000000000000004, 10.449999999999999, 41.825000000000003)"
   ]
  },
  {
   "cell_type": "markdown",
   "metadata": {},
   "source": [
    "#### A fixed distribution is just a discrete histogram with only one value"
   ]
  },
  {
   "cell_type": "code",
   "execution_count": null,
   "metadata": {},
   "outputs": [],
   "source": [
    "fixed = uw('sev my dhistogram xps [2] [1]')\n",
    "fixed.plot()\n",
    "fixed.moms() == (2, 4, 8)"
   ]
  },
  {
   "cell_type": "code",
   "execution_count": null,
   "metadata": {},
   "outputs": [],
   "source": [
    "# cts version is uniform? How exactly is this working?! \n",
    "fixed = uw('sev my chistogram xps [0 2] [0 1]')\n",
    "fixed.plot()\n",
    "fixed.moms() == (2, 4, 8)"
   ]
  },
  {
   "cell_type": "code",
   "execution_count": null,
   "metadata": {},
   "outputs": [],
   "source": [
    "reload(trash)\n",
    "uw = trash.Underwriter()\n",
    "uw.update = True\n",
    "uw.verbose = True\n",
    "uw.log2 = 10"
   ]
  },
  {
   "cell_type": "code",
   "execution_count": null,
   "metadata": {},
   "outputs": [],
   "source": [
    "s = f'''agg logo 1 claim {np.linspace(10, 250, 15)} sev lognorm 100 cv {np.linspace(.2, 10, 15)} fixed'''"
   ]
  },
  {
   "cell_type": "code",
   "execution_count": null,
   "metadata": {},
   "outputs": [],
   "source": [
    "s = f'''agg logo 1 claim {np.linspace(10, 500, 100)} xs 0 sev lognorm 100 cv 1 fixed'''"
   ]
  },
  {
   "cell_type": "code",
   "execution_count": null,
   "metadata": {},
   "outputs": [],
   "source": [
    "print(s)"
   ]
  },
  {
   "cell_type": "code",
   "execution_count": null,
   "metadata": {},
   "outputs": [],
   "source": [
    "logo = uw.write(s, update=False)\n",
    "logo.recommend_bucket(verbose=True)"
   ]
  },
  {
   "cell_type": "code",
   "execution_count": null,
   "metadata": {},
   "outputs": [],
   "source": [
    "uw['logo']\n",
    "N = 2**14\n",
    "bs = 1\n",
    "xs = np.linspace(0, bs * N, N, endpoint=False)\n",
    "junk = logo.update(xs, verbose=True)"
   ]
  },
  {
   "cell_type": "code",
   "execution_count": null,
   "metadata": {},
   "outputs": [],
   "source": [
    "logo.plot()"
   ]
  },
  {
   "cell_type": "code",
   "execution_count": null,
   "metadata": {},
   "outputs": [],
   "source": [
    "# can get the dictionary \n",
    "uw['logo']"
   ]
  },
  {
   "cell_type": "code",
   "execution_count": null,
   "metadata": {},
   "outputs": [],
   "source": [
    "s = f'agg fixedclaim 1 claim sev dhistogram xps [5 10 20 ] [.5 .25 .25 ] fixed'\n",
    "print(s)"
   ]
  },
  {
   "cell_type": "code",
   "execution_count": null,
   "metadata": {},
   "outputs": [],
   "source": [
    "uw.update = True\n",
    "uw.verbose = True\n",
    "uw.log2 = 8\n",
    "fixed = uw.write(s, approximation='exact')\n",
    "fixed.plot('quick')\n",
    "fixed"
   ]
  },
  {
   "cell_type": "code",
   "execution_count": null,
   "metadata": {},
   "outputs": [],
   "source": [
    "a, b = fixed.update(1.0 * np.arange(256), verbose=True)\n",
    "display(a)\n",
    "display(b)"
   ]
  },
  {
   "cell_type": "code",
   "execution_count": null,
   "metadata": {},
   "outputs": [],
   "source": [
    "fixed.plot('quick')"
   ]
  },
  {
   "cell_type": "code",
   "execution_count": null,
   "metadata": {},
   "outputs": [],
   "source": [
    "warnings.simplefilter('default')\n",
    "fixed.plot('long')"
   ]
  },
  {
   "cell_type": "code",
   "execution_count": null,
   "metadata": {},
   "outputs": [],
   "source": [
    "uw.update = True\n",
    "uw.log2 = 1"
   ]
  },
  {
   "cell_type": "code",
   "execution_count": null,
   "metadata": {},
   "outputs": [],
   "source": [
    "uw.update = True\n",
    "# interesting = uw(\"\"\"agg home 1 claim sev 20 * triang 0.5 fixed\"\"\")\n",
    "interesting = uw(\"\"\"agg home 1 claim sev 20 * uniform fixed\"\"\")\n",
    "interesting.plot()"
   ]
  },
  {
   "cell_type": "code",
   "execution_count": null,
   "metadata": {},
   "outputs": [],
   "source": [
    "uw.update = False\n",
    "interesting1 = uw(\"\"\"\n",
    "port easy\n",
    "    home 1 claim sev 20 * uniform fixed\n",
    "    auto 1 claim sev 50 * triang 0.5 fixed\n",
    "\"\"\")\n",
    "interesting2 = uw(\"\"\"\n",
    "port easy\n",
    "    home 2 claim sev 30 * uniform + 4 fixed\n",
    "    auto 1 claim sev 50 * uniform + 2 fixed\n",
    "\"\"\")"
   ]
  },
  {
   "cell_type": "code",
   "execution_count": null,
   "metadata": {},
   "outputs": [],
   "source": [
    "interesting2"
   ]
  },
  {
   "cell_type": "code",
   "execution_count": null,
   "metadata": {},
   "outputs": [],
   "source": [
    "interesting = interesting2\n",
    "interesting.update(8, 1)\n",
    "interesting"
   ]
  },
  {
   "cell_type": "code",
   "execution_count": null,
   "metadata": {},
   "outputs": [],
   "source": [
    "interesting.plot()"
   ]
  },
  {
   "cell_type": "code",
   "execution_count": null,
   "metadata": {},
   "outputs": [],
   "source": [
    "p = interesting\n",
    "p.plot(kind='density', line='all')\n",
    "p.plot(kind='collateral', line='auto', c=45, a=90)"
   ]
  },
  {
   "cell_type": "code",
   "execution_count": null,
   "metadata": {},
   "outputs": [],
   "source": [
    "acc = []\n",
    "for a in range(10, 150, 5):\n",
    "    s, ans = p.analysis_collateral('home', c=0, a=a, debug=True)\n",
    "    acc.append(s)\n",
    "    # change percent here to move line up or down \n",
    "    s, ans = p.analysis_collateral('home', c=a*.9, a=a, debug=True)\n",
    "    acc.append(s)\n",
    "    s, ans = p.analysis_collateral('home', c=a, a=a, debug=True)\n",
    "    acc.append(s)\n",
    "res = pd.concat(acc).sort_index()\n",
    "res = res.set_index('a')\n",
    "res[['exa', 'ecac', 'lev']].plot(marker='o')\n",
    "# display(res)\n",
    "assert(np.allclose(res.query('c==0')['exa'], res.query('c==0')['ecac']))"
   ]
  },
  {
   "cell_type": "markdown",
   "metadata": {},
   "source": [
    "## Credit Puzzle and Empirical Distortions \n",
    "\n",
    "https://www.bis.org/publ/qtrpdf/r_qt0312e.pdf"
   ]
  },
  {
   "cell_type": "code",
   "execution_count": null,
   "metadata": {},
   "outputs": [],
   "source": [
    "oneyear= '''AAA 49.50 0.06 63.86 0.18 70.47 0.33 73.95 0.61\n",
    "AA 58.97 1.24 71.22 1.44 82.36 1.86 88.57 2.70\n",
    "A 88.82 1.12 102.91 2.78 110.71 4.71 117.52 7.32\n",
    "BBB 168.99 12.48 170.89 20.12 185.34 27.17 179.63 34.56\n",
    "BB 421.20 103.09 364.55 126.74 345.37 140.52 322.32 148.05\n",
    "B 760.84 426.16 691.81 400.52 571.94 368.38 512.43 329.40'''"
   ]
  },
  {
   "cell_type": "code",
   "execution_count": null,
   "metadata": {},
   "outputs": [],
   "source": [
    "oy = oneyear.split('\\n')\n",
    "oyo = [i.split(' ') for i in oy]\n",
    "df = pd.DataFrame(oyo, columns=['rating', 's_13', 'el_13', 's_35', 'el_35', 's_57', 'el_57', 's_710', 'el_710'], dtype=float)\n",
    "df = df.set_index('rating')\n",
    "df = df.sort_index(axis=1)\n",
    "df.columns = pd.MultiIndex.from_product((('el', 'spread'), ('1-3', '3-5', '5-7', '7-10')), names=['type', 'maturity'])\n",
    "df"
   ]
  },
  {
   "cell_type": "code",
   "execution_count": null,
   "metadata": {},
   "outputs": [],
   "source": [
    "for m in ('1-3', '3-5', '5-7', '7-10'):\n",
    "    df[('lr', m)] = df[('el', m)] / df[('spread', m)]\n",
    "df"
   ]
  },
  {
   "cell_type": "code",
   "execution_count": null,
   "metadata": {},
   "outputs": [],
   "source": [
    "df['lr'].plot(kind='bar')"
   ]
  },
  {
   "cell_type": "code",
   "execution_count": null,
   "metadata": {},
   "outputs": [],
   "source": [
    "temp = df.loc[:, [('el', '1-3'), ('spread', '1-3')]] / 10000\n",
    "temp.columns =['el', 'spread']\n",
    "temp.loc['AAAA', :] = (0,0)\n",
    "temp = temp.sort_values('el')\n",
    "temp.plot(x='el', y='spread')\n",
    "temp"
   ]
  },
  {
   "cell_type": "code",
   "execution_count": null,
   "metadata": {},
   "outputs": [],
   "source": [
    "from scipy.spatial import ConvexHull\n",
    "\n",
    "hull = ConvexHull(temp)\n",
    "\n",
    "plt.plot(temp.el, temp.spread, 'o')\n",
    "for simplex in hull.simplices:\n",
    "    print(simplex)\n",
    "    plt.plot(temp.iloc[simplex, 0], temp.iloc[simplex, 1], 'k-')\n",
    "plt.xlim(0, .002)\n",
    "plt.ylim(0, 0.02)"
   ]
  },
  {
   "cell_type": "markdown",
   "metadata": {},
   "source": [
    "# Audit from 08_28 on Sum of Parts"
   ]
  },
  {
   "cell_type": "code",
   "execution_count": null,
   "metadata": {},
   "outputs": [],
   "source": [
    "uw['mass_test']"
   ]
  },
  {
   "cell_type": "code",
   "execution_count": null,
   "metadata": {},
   "outputs": [],
   "source": [
    "mt = uw(\"\"\"\n",
    "port mass\n",
    "    a 2 claims sev 10 * uniform + 5 fixed\n",
    "    b 1 claim  sev 10 * uniform fixed\n",
    "    c 1 claim  sev 15 * uniform fixed\n",
    "\"\"\")"
   ]
  },
  {
   "cell_type": "code",
   "execution_count": null,
   "metadata": {},
   "outputs": [],
   "source": [
    "mt.update(6, 1)"
   ]
  },
  {
   "cell_type": "code",
   "execution_count": null,
   "metadata": {},
   "outputs": [],
   "source": [
    "mt.plot(height=3, aspect=1.5)"
   ]
  },
  {
   "cell_type": "code",
   "execution_count": null,
   "metadata": {},
   "outputs": [],
   "source": [
    "a, p, test, params, dd, table, stacked = mt.uat(Ps=[0.95, .97], LRs=[0.9], r0=0.1, verbose=True)"
   ]
  },
  {
   "cell_type": "code",
   "execution_count": null,
   "metadata": {},
   "outputs": [],
   "source": [
    "mt.plot()"
   ]
  },
  {
   "cell_type": "code",
   "execution_count": null,
   "metadata": {},
   "outputs": [],
   "source": [
    "mt.fit(output='dict')"
   ]
  },
  {
   "cell_type": "code",
   "execution_count": null,
   "metadata": {},
   "outputs": [],
   "source": [
    "mt.collapse()"
   ]
  },
  {
   "cell_type": "code",
   "execution_count": null,
   "metadata": {},
   "outputs": [],
   "source": [
    "mt.xs"
   ]
  },
  {
   "cell_type": "code",
   "execution_count": null,
   "metadata": {},
   "outputs": [],
   "source": [
    "uw['mt']"
   ]
  },
  {
   "cell_type": "code",
   "execution_count": null,
   "metadata": {},
   "outputs": [],
   "source": []
  }
 ],
 "metadata": {
  "kernelspec": {
   "display_name": "Python 3",
   "language": "python",
   "name": "python3"
  },
  "language_info": {
   "codemirror_mode": {
    "name": "ipython",
    "version": 3
   },
   "file_extension": ".py",
   "mimetype": "text/x-python",
   "name": "python",
   "nbconvert_exporter": "python",
   "pygments_lexer": "ipython3",
   "version": "3.6.3"
  }
 },
 "nbformat": 4,
 "nbformat_minor": 2
}
