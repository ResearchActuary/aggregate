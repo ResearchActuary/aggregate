{
 "cells": [
  {
   "cell_type": "markdown",
   "id": "341ae65c-fa0d-4aae-a570-398ad1be7e62",
   "metadata": {},
   "source": [
    "# Problems and Solutions \n",
    "\n",
    "Exercies from books and exams. Good tests!\n",
    "\n",
    "Will be basis for Student (& Prof) Vignette. \n",
    "\n",
    "## Provenance\n",
    "\n",
    "* Oct 2022 created new."
   ]
  },
  {
   "cell_type": "code",
   "execution_count": 1,
   "id": "72cffeb4-da45-4a1a-b3cf-495d4e0108ac",
   "metadata": {},
   "outputs": [
    {
     "name": "stderr",
     "output_type": "stream",
     "text": [
      "WARNING: 21 shift/reduce conflicts\n",
      "Parser debugging for UnderwritingParser written to C:\\Users\\steve\\aggregate\\parser\\parser.out\n"
     ]
    },
    {
     "name": "stdout",
     "output_type": "stream",
     "text": [
      "time: 1.56 s (started: 2022-10-30 22:04:47 +00:00)\n"
     ]
    }
   ],
   "source": [
    "from aggregate import build\n",
    "from aggregate import Distortion, make_mosaic_figure, Aggregate, Portfolio"
   ]
  },
  {
   "cell_type": "markdown",
   "id": "c58d3185-27cc-4859-b93a-c938e40887ed",
   "metadata": {},
   "source": [
    "# Exercises from LDA (Frees Book) "
   ]
  },
  {
   "cell_type": "code",
   "execution_count": null,
   "id": "8956d135-f2d5-46c4-97f8-028812fadc04",
   "metadata": {},
   "outputs": [],
   "source": [
    "ex_3_3_5 = build('agg AEQ 1 claim sev [200 200] * [expon pareto] [1 3] wts [.25 .75] + [0 -200] fixed',\n",
    "             normalize=False)\n",
    "    # , discretization_calc='both', log2=16)\n",
    "                 # sev_calc='continuous')\n",
    "                 # log2=16, bs=1/64) # , sev_calc='continuous')\n",
    "self = ex_3_3_5\n",
    "1/ex_3_3_5.bs"
   ]
  },
  {
   "cell_type": "code",
   "execution_count": null,
   "id": "95820954-71f6-4221-b353-8f2c94a60739",
   "metadata": {},
   "outputs": [],
   "source": [
    "ex_3_3_5"
   ]
  },
  {
   "cell_type": "code",
   "execution_count": null,
   "id": "3c15b05c-c653-4427-bf6f-ca5d5dea7a29",
   "metadata": {},
   "outputs": [],
   "source": [
    "f, f2 = ex_3_3_5.sev_cdf(100, True)\n",
    "f, .25*(1-np.exp(-(100/(100 + 100)))) + .75*(1 - (200/(100+200))**3), ex_3_3_5.cdf(100), ex_3_3_5.sev_cdf(100+ex_3_3_5.bs/2)"
   ]
  },
  {
   "cell_type": "code",
   "execution_count": null,
   "id": "c856f223-8dda-4c85-a925-316c6edde0e3",
   "metadata": {},
   "outputs": [],
   "source": [
    "from aggregate import build\n",
    "import aggregate as agg"
   ]
  },
  {
   "cell_type": "code",
   "execution_count": null,
   "id": "b669cb1a-72b1-469c-9fad-89aaafb1dac1",
   "metadata": {},
   "outputs": [],
   "source": [
    "build('agg AEQ2 1 claim inf xs 200 sev lognorm 200 cv .3  fixed') #, bs=1/16)"
   ]
  },
  {
   "cell_type": "code",
   "execution_count": null,
   "id": "ce4182c0-0c25-444e-8a4e-97be21855180",
   "metadata": {},
   "outputs": [],
   "source": [
    "ex_3_4_1 = build('agg AEQ2 1 claim inf xs 100 sev 1000 * expon 1 ! fixed') # , bs=1/16)\n",
    "# ex_3_4_1 = build('agg AEQ2 1 claim sev 1000 @ expon 1 occurrence net of 100 x 0 fixed', log2=16)\n",
    "self = ex_3_4_1"
   ]
  },
  {
   "cell_type": "code",
   "execution_count": null,
   "id": "36398765-5f0c-40f7-b4ac-3240d39ea430",
   "metadata": {},
   "outputs": [],
   "source": [
    "self"
   ]
  },
  {
   "cell_type": "code",
   "execution_count": null,
   "id": "40768f78-388d-40b2-bc1d-f739e62edf91",
   "metadata": {},
   "outputs": [],
   "source": [
    "1000 * np.exp(-0.1) , (1000 * np.exp(-0.1) * 1.1)**2"
   ]
  },
  {
   "cell_type": "code",
   "execution_count": null,
   "id": "c25f7614-45ef-45b1-9e02-2f23b1c9c0a0",
   "metadata": {},
   "outputs": [],
   "source": [
    "%%sf 1 1 \n",
    "self.density_df.F.plot(ax=ax)\n",
    "ax.set(ylim=[-0.05, 1.05])\n",
    "ax.grid(lw=.25, c='w')"
   ]
  },
  {
   "cell_type": "code",
   "execution_count": null,
   "id": "8489da51-b9c3-4fa5-b21f-08c302637e2a",
   "metadata": {},
   "outputs": [],
   "source": [
    "ex_3_4_2 = build('agg AEQ2 1 claim sev 10 * beta 2 1 occurrence net of 4 x 0 fixed')\n",
    "self = ex_3_4_2\n",
    "self"
   ]
  },
  {
   "cell_type": "code",
   "execution_count": null,
   "id": "81445718-c5f8-49a2-b389-868623801507",
   "metadata": {},
   "outputs": [],
   "source": [
    "ex_3_4_2 = build('agg AEQ2 1 claim 6 x 4 sev 10 * beta 2 1 fixed')\n",
    "self = ex_3_4_2\n",
    "self"
   ]
  },
  {
   "cell_type": "code",
   "execution_count": null,
   "id": "028c10aa-eb8a-40b8-8dfd-2d8d7b863fe7",
   "metadata": {},
   "outputs": [],
   "source": [
    "ex_3_4_2 = build('agg AEQ2 1 claim 6 x 4 sev 10 * beta 2 1 ! fixed')\n",
    "self = ex_3_4_2\n",
    "self"
   ]
  },
  {
   "cell_type": "code",
   "execution_count": null,
   "id": "41e947df-1d1a-4054-8ae7-859699d8271c",
   "metadata": {},
   "outputs": [],
   "source": [
    "%%sf 1 1 \n",
    "self.density_df.F.plot(ax=ax)\n",
    "ax.set(ylim=[-0.05, 1.05])\n",
    "ax.grid(lw=.25, c='w')"
   ]
  },
  {
   "cell_type": "code",
   "execution_count": null,
   "id": "c018352d-c5d5-4e7b-bea4-90548eec3d51",
   "metadata": {},
   "outputs": [],
   "source": [
    "xs = np.linspace(0, 4, 2**13, endpoint=False)\n",
    "F = np.where(xs<3,(xs * xs  * (2 - xs / 3)) / 9, 1)\n",
    "ps = np.diff(F, append=1)\n",
    "plt.plot(xs, ps)"
   ]
  },
  {
   "cell_type": "code",
   "execution_count": null,
   "id": "e4ddc898-d58d-451c-84ef-c73670baa7c9",
   "metadata": {},
   "outputs": [],
   "source": [
    "ex_3_4_4 = Aggregate('Example', exp_en=1, sev_name='dhistogram', sev_xs=xs, sev_ps=ps, \n",
    "                 exp_attachment=0, exp_limit=1, freq_name='fixed')\n",
    "self = ex_3_4_4\n",
    "self"
   ]
  },
  {
   "cell_type": "code",
   "execution_count": null,
   "id": "0143b267-5a3a-4dd8-bc86-c0f6fd6a7356",
   "metadata": {},
   "outputs": [],
   "source": [
    "ex3_4_5_06 = build('agg X06 1 claim 500 x 100 sev 1000 * expon fixed')\n",
    "ex3_4_5_07 = build('agg X07 1 claim 500 x 100 sev 1050 * expon fixed')\n",
    "ans = pd.concat((ex3_4_5_06.describe, ex3_4_5_07.describe), keys=['2006', '2007'])\n",
    "display(ans)\n",
    "ans.iloc[3, 0] / ans.iloc[0, 0] - 1"
   ]
  },
  {
   "cell_type": "code",
   "execution_count": null,
   "id": "a155acf5-9bea-478f-85bc-88cd851cb282",
   "metadata": {},
   "outputs": [],
   "source": [
    "ans = build.write('agg Copart 1 claim sev 3600 * pareto 5 -3600 fixed')"
   ]
  },
  {
   "cell_type": "code",
   "execution_count": null,
   "id": "989071fd-c3d6-4e4b-94f4-9e4a47859c0f",
   "metadata": {},
   "outputs": [],
   "source": [
    "list(ans.keys())"
   ]
  },
  {
   "cell_type": "code",
   "execution_count": null,
   "id": "02c58412-d568-49ee-b768-89d41674f4f3",
   "metadata": {},
   "outputs": [],
   "source": [
    "ans[('agg', 'Copart')].object"
   ]
  },
  {
   "cell_type": "code",
   "execution_count": null,
   "id": "3e8dc8e5-1062-4760-b446-401a7ff1333e",
   "metadata": {},
   "outputs": [],
   "source": [
    "build('agg Copart 1 claim 5000 xs 0 sev 3600 * pareto 5 - 3600 occurrence net of 0.15 so 5000 xs 0 fixed', log2=16)"
   ]
  },
  {
   "cell_type": "code",
   "execution_count": null,
   "id": "3954aef3-0e9f-4813-af54-cf3aa0215852",
   "metadata": {},
   "outputs": [],
   "source": [
    "# their cv\n",
    "987.6108 / 741.5103"
   ]
  },
  {
   "cell_type": "code",
   "execution_count": null,
   "id": "d1218676-e97f-438e-80e3-a97e0a017969",
   "metadata": {},
   "outputs": [],
   "source": [
    "from aggregate import build"
   ]
  },
  {
   "cell_type": "code",
   "execution_count": null,
   "id": "894e625d-9664-4468-99eb-728d8a726b47",
   "metadata": {},
   "outputs": [],
   "source": [
    "ob = build('agg Copart 1 claim sev 3600*pareto 5 - 3600 occurrence net of 0.15 so 1e7 xs 0 fixed', log2=18, bs=1/4)\n",
    "ob"
   ]
  },
  {
   "cell_type": "code",
   "execution_count": null,
   "id": "250e5ea3-525d-4af6-836a-f9d7302af640",
   "metadata": {},
   "outputs": [],
   "source": [
    "ex3_4_4 = build('agg Copart 1 claim sev 3600 * pareto 5 - 3600 occurrence net of 0.15 so 5000 xs 0 and 1e20 xs 5000 fixed')\n",
    "self = ex3_4_4"
   ]
  },
  {
   "cell_type": "code",
   "execution_count": null,
   "id": "9e76d027-ce32-4771-bbcf-96bd87edff48",
   "metadata": {},
   "outputs": [],
   "source": [
    "self"
   ]
  },
  {
   "cell_type": "code",
   "execution_count": null,
   "id": "21dcb97a-6e1e-411c-8354-1f1a899c0895",
   "metadata": {},
   "outputs": [],
   "source": [
    "741.5103 * .85"
   ]
  },
  {
   "cell_type": "code",
   "execution_count": null,
   "id": "41d3ff80-b6c8-4f65-92f9-9409cd101c1a",
   "metadata": {},
   "outputs": [],
   "source": []
  },
  {
   "cell_type": "code",
   "execution_count": null,
   "id": "983f9fbb-70db-4196-bf9f-4403367a848f",
   "metadata": {},
   "outputs": [],
   "source": [
    "self.density_df.F.plot()"
   ]
  },
  {
   "cell_type": "markdown",
   "id": "d0ddba49-5241-4dfe-b8eb-f7283c34cffe",
   "metadata": {},
   "source": [
    "# Agg Loss Models, Ch 5"
   ]
  },
  {
   "cell_type": "code",
   "execution_count": null,
   "id": "4b3cfe3b-4d20-4d81-90a1-5fd1c145b390",
   "metadata": {},
   "outputs": [],
   "source": [
    "ex_5_3_1 = build('agg QU 12 claims dsev [1 2 3] [1/2 1/3 1/6] poisson')\n",
    "ex_5_3_1"
   ]
  },
  {
   "cell_type": "code",
   "execution_count": null,
   "id": "2b0e7548-ea05-47d5-beca-5f50e66dd74d",
   "metadata": {},
   "outputs": [],
   "source": [
    "ex_5_3_1.agg_m, ex_5_3_1.agg_var"
   ]
  },
  {
   "cell_type": "code",
   "execution_count": null,
   "id": "1ca8ac50-f28d-4e96-84b9-d6eab8fbf623",
   "metadata": {},
   "outputs": [],
   "source": [
    "ex_5_3_2 = build('agg QU2 dfreq [1 2] [.8 .2] dsev [0 100 1000] [.2 .7 .1]')\n",
    "ex_5_3_2"
   ]
  },
  {
   "cell_type": "code",
   "execution_count": null,
   "id": "c11e63f8-ee36-4008-89a0-1d84dd3c5129",
   "metadata": {},
   "outputs": [],
   "source": [
    "ex_5_3_2.agg_m, ex_5_3_2.agg_sd, ex_5_3_2.agg_var "
   ]
  },
  {
   "cell_type": "code",
   "execution_count": null,
   "id": "fc318621-411e-4b8e-b07d-2606a8b5c39e",
   "metadata": {},
   "outputs": [],
   "source": [
    "ex_5_3_3 = build('agg QU3 4 claims dsev [1:4] geometric')  \n",
    "ex_5_3_3"
   ]
  },
  {
   "cell_type": "code",
   "execution_count": null,
   "id": "4135321c-cf3a-4399-9d5e-735a13ce7984",
   "metadata": {},
   "outputs": [],
   "source": [
    "ex_5_3_3.cdf(3)"
   ]
  },
  {
   "cell_type": "code",
   "execution_count": null,
   "id": "e3ec9349-91fc-4332-9638-49b98489cb85",
   "metadata": {},
   "outputs": [],
   "source": [
    "ex_5_3_3.density_df.F[:20]"
   ]
  },
  {
   "cell_type": "code",
   "execution_count": null,
   "id": "458e2b36-0816-4597-9d13-97f1b49771fc",
   "metadata": {},
   "outputs": [],
   "source": [
    "from aggregate import MomentAggregator\n",
    "import scipy.stats as ss"
   ]
  },
  {
   "cell_type": "code",
   "execution_count": null,
   "id": "0dc37a8f-c60b-4b3b-aecd-505caac27ad0",
   "metadata": {},
   "outputs": [],
   "source": [
    "ex_5_3_5 = build('agg Pharma 25 claims sev 90 * uniform 1 + 5 poisson')"
   ]
  },
  {
   "cell_type": "code",
   "execution_count": null,
   "id": "508519de-3346-4b02-ab8b-d2e27fe9de63",
   "metadata": {},
   "outputs": [],
   "source": [
    "ex_5_3_5.sf(2000), ex_5_3_5.agg_m, ex_5_3_5.agg_var"
   ]
  },
  {
   "cell_type": "code",
   "execution_count": null,
   "id": "f245e0f7-2770-4af7-9b89-e971a93fb59e",
   "metadata": {},
   "outputs": [],
   "source": [
    "import scipy.stats as ss"
   ]
  },
  {
   "cell_type": "code",
   "execution_count": null,
   "id": "e3eeed0d-3bb1-4b2b-bce6-b810876000d6",
   "metadata": {},
   "outputs": [],
   "source": [
    "m, sd =  ex_5_3_5.agg_m, ex_5_3_5.agg_var**.5\n",
    "fz = ss.norm(loc=m, scale=sd)"
   ]
  },
  {
   "cell_type": "code",
   "execution_count": null,
   "id": "51fd1c3a-643c-49d1-a29a-07e0b0e9de20",
   "metadata": {},
   "outputs": [],
   "source": [
    "mom = MomentAggregator.agg_from_fs2(8, 9, 10000, 3937**2)\n",
    "fz = ss.norm(loc=mom.ex, scale=mom.sd)\n",
    "mom['prob'] = fz.sf(1.5*m)\n",
    "mom"
   ]
  },
  {
   "cell_type": "code",
   "execution_count": null,
   "id": "50ff5cf1-14c3-41cd-9b59-b9bd23ec3b79",
   "metadata": {},
   "outputs": [],
   "source": [
    "ax = (ex_5_3_5.density_df.p / ex_5_3_5.bs).plot(label='Exact')\n",
    "ax.plot(ex_5_3_5.xs, fz.pdf(ex_5_3_5.xs), label='Normal approx')\n",
    "ax.grid(lw=.25, c='w')\n",
    "ax.set(xlim=[0, 3000], title='Normal approximation')\n",
    "ax.legend(loc='upper right')"
   ]
  },
  {
   "cell_type": "code",
   "execution_count": null,
   "id": "3a5d45d9-e966-4ef6-9b77-cf3abfd165d6",
   "metadata": {},
   "outputs": [],
   "source": [
    "ex_5_3_6a = build('agg Projects 2 claims dsev [5 10 20] [.2 .3 .5] geometric')\n",
    "ex_5_3_6a"
   ]
  },
  {
   "cell_type": "code",
   "execution_count": null,
   "id": "fdc7fc80-9e9c-44e5-83a1-e8c692878b28",
   "metadata": {},
   "outputs": [],
   "source": [
    "# geometric, mean=beta, p=1/(1+beta), var=b(1+b)\n",
    "np.sqrt(2*3) / 2"
   ]
  },
  {
   "cell_type": "code",
   "execution_count": null,
   "id": "7c35fab3-d16f-4310-af7e-d7d5d04c3773",
   "metadata": {},
   "outputs": [],
   "source": [
    "ex_5_3_6b = build('agg Projects 2 claims dsev [5 10 20] [.2 .3 .5] geometric aggregate net of 15 x 0')\n",
    "ex_5_3_6b"
   ]
  },
  {
   "cell_type": "code",
   "execution_count": null,
   "id": "cbab4691-a183-4e4e-a824-d24b0000f651",
   "metadata": {},
   "outputs": [],
   "source": [
    "ex_5_3_6c = build('agg Projects 2 claims dsev [5 10 20] [.2 .3 .5] geometric aggregate net of 5 x 0')\n",
    "ex_5_3_6d = build('agg Projects 2 claims dsev [5 10 20] [.2 .3 .5] geometric aggregate net of 10 x 0')\n",
    "display(ex_5_3_6c)\n",
    "ex_5_3_6d"
   ]
  },
  {
   "cell_type": "code",
   "execution_count": null,
   "id": "f54545b3-14d4-466e-bb2c-aaab6f3d8ee3",
   "metadata": {},
   "outputs": [],
   "source": [
    "# var(NB) = n (1+cn), c = (v/n-1)/n, cv=c*c\n",
    "c = (8/3-1)/300\n",
    "cv = c**.5\n",
    "c, cv"
   ]
  },
  {
   "cell_type": "code",
   "execution_count": null,
   "id": "522f4c21-8dc6-4b63-a640-bb724a3c66bf",
   "metadata": {},
   "outputs": [],
   "source": [
    "# unconditional doesn't work with dsev?\n",
    "# ex_5_5_5 = build(f'agg Projects 300 claims inf xs 10 dsev [4*1.5 8*1.5 12*1.5 20*1.5] ! mixed gamma {cv}')\n",
    "ex_5_5_5 = build(f'agg Projects 300 claims inf xs 10 sev dhistogram xps [{4*1.5} {8*1.5} {12*1.5} {20*1.5}] ! mixed gamma {cv}')\n",
    "ex_5_5_5"
   ]
  },
  {
   "cell_type": "code",
   "execution_count": null,
   "id": "68832e55-554a-4f63-98d0-68667516108d",
   "metadata": {},
   "outputs": [],
   "source": [
    "np.sqrt(800)/ 300"
   ]
  },
  {
   "cell_type": "code",
   "execution_count": null,
   "id": "5d02c1a2-3aab-407c-8011-e657cade8c1c",
   "metadata": {},
   "outputs": [],
   "source": [
    "ex_5_5_5.agg_var"
   ]
  },
  {
   "cell_type": "code",
   "execution_count": null,
   "id": "317f4ac1-3841-45cb-a4c8-c542f0e067af",
   "metadata": {},
   "outputs": [],
   "source": [
    "cv"
   ]
  },
  {
   "cell_type": "code",
   "execution_count": null,
   "id": "f433ed0b-7fcc-44e6-af3c-1050bc948e6a",
   "metadata": {},
   "outputs": [],
   "source": [
    "ex_5_5_7 = build(f'agg Auto {20 * 0.8} claims inf xs 100 sev 200 * expon ! poisson')\n",
    "ex_5_5_7"
   ]
  },
  {
   "cell_type": "markdown",
   "id": "44a173c3-dc94-4c88-a61f-da778c7f24db",
   "metadata": {},
   "source": [
    "## Aggregate loss guided tutorials\n",
    "\n",
    "https://www.ssc.wisc.edu/~jfrees/loss-data-analytics/aggregate-loss-guided-tutorials/"
   ]
  },
  {
   "cell_type": "code",
   "execution_count": null,
   "id": "251573b3-5bf0-4cd9-bb31-07d5348b06dd",
   "metadata": {},
   "outputs": [],
   "source": [
    "soa113 = build('agg SOA113 dfreq [0 2 3] [.7 .2 .1] dsev [0, 10] [.8 .2]')\n",
    "soa113"
   ]
  },
  {
   "cell_type": "code",
   "execution_count": null,
   "id": "e02a68a2-62aa-4a68-88ec-e524b427d2e9",
   "metadata": {},
   "outputs": [],
   "source": [
    "soa113.sf(soa113.agg_m + 2 * soa113.agg_sd)"
   ]
  },
  {
   "cell_type": "code",
   "execution_count": null,
   "id": "4c89e4e8-2cad-4cbf-8103-b1798117633e",
   "metadata": {},
   "outputs": [],
   "source": [
    "soa99 = build('agg SOA99 2 claims dsev [1 2 3] poisson aggregate net of 2 x 0')\n",
    "soa99"
   ]
  },
  {
   "cell_type": "code",
   "execution_count": null,
   "id": "904800dc-693f-4d14-afdd-7e5661133522",
   "metadata": {},
   "outputs": [],
   "source": [
    "soa212 = build('agg SOA212 10 claims 6 x 4 sev 10 * uniform ! poisson')\n",
    "soa212"
   ]
  },
  {
   "cell_type": "code",
   "execution_count": null,
   "id": "813435fa-fda9-45e2-ba9f-7d1779ff40c8",
   "metadata": {},
   "outputs": [],
   "source": [
    "soa212.agg_var"
   ]
  },
  {
   "cell_type": "markdown",
   "id": "a6df08b5-f5a7-459e-9750-575f0990e629",
   "metadata": {},
   "source": [
    "# web trawling\n",
    "https://web.ma.utexas.edu/users/mcudina/m339j-sample-three-probs.pdf"
   ]
  },
  {
   "cell_type": "markdown",
   "id": "8fa9fff7-2935-4dcc-a663-60c7583d9fe1",
   "metadata": {},
   "source": [
    "Problem 3.5. (10 points) The frequency random variable N is assumed to have a Poisson distribution\n",
    "with a mean of 2. Individual claim severity random variable X has the following probability mass\n",
    "function\n",
    "pX(100) = 0.6, pX(200) = 0.3, pX(300) = 0.1.\n",
    "Let the above be the common distribution of the i.i.d. severity random variables {Xj ; j = 1, 2, . . . },\n",
    "and Let our usual assumptions hold, i.e., let N be independent of {Xj ; j = 1, 2, . . . }. Define the\n",
    "aggregate loss as S =\n",
    "PN\n",
    "j=1 Xj . Calculate the probability that S is exactly equal to 300."
   ]
  },
  {
   "cell_type": "code",
   "execution_count": null,
   "id": "30da26ec-c8d2-4614-90b4-01f72fa5557c",
   "metadata": {},
   "outputs": [],
   "source": [
    "web = build('agg Web 2 claims dsev [100 200 300] [.6 .3 .1] poisson')\n",
    "web"
   ]
  },
  {
   "cell_type": "code",
   "execution_count": null,
   "id": "ccc586c4-5012-42c2-aa6f-e2fe0c27277d",
   "metadata": {},
   "outputs": [],
   "source": [
    "web.pmf(300)"
   ]
  },
  {
   "cell_type": "markdown",
   "id": "f4d546a4-6a2c-4d2b-88b9-129c27405fb4",
   "metadata": {},
   "source": [
    "Problem 3.6. (6 points) In the compound model for aggregate claims, let the frequency random\n",
    "variable N have the probability (mass) function\n",
    "pN (0) = 0.4, pN (1) = 0.3, pN (2) = 0.2, pN (4) = 0.1.\n",
    "Moreover, let the common distribution of the i.i.d. severity random variables {Xj ; j = 1, 2, . . . } be\n",
    "given by the probability (mass) function pX(1) = 0.3 and pX(2) = 0.7.\n",
    "Let our usual assumptions hold, i.e., let N be independent of {Xj ; j = 1, 2, . . . }.\n",
    "Define the aggregate loss as S =\n",
    "PN\n",
    "j=1 Xj .\n",
    "Calculate E[(S − 2)+].\n"
   ]
  },
  {
   "cell_type": "code",
   "execution_count": null,
   "id": "ce470eb2-58c7-47ec-bb4f-374535d223ca",
   "metadata": {},
   "outputs": [],
   "source": [
    "web2 = build('agg Web2 dfreq [0 1 2 4] [.4 .3 .2 .1] dsev [1 2] [.3 .7] aggregate net of 2 x 0')\n",
    "web2"
   ]
  },
  {
   "cell_type": "markdown",
   "id": "d8b10e4f-aabc-41a5-947f-c33988673601",
   "metadata": {},
   "source": [
    "# KPW: Loss Models, Fifth Edition"
   ]
  },
  {
   "cell_type": "markdown",
   "id": "77229214-c596-4f2e-afab-534bc54eabd3",
   "metadata": {},
   "source": [
    "An insurable event has a 10% probability of occurring and when it occurs results in\n",
    "a loss of 5,000. Market research has indicated that consumers will pay at most 550\n",
    "to purchase insurance against this event. How many policies must a company sell in\n",
    "order to have a 95% chance of making money (ignoring expenses)?"
   ]
  },
  {
   "cell_type": "code",
   "execution_count": null,
   "id": "d65e5bf4-b73b-4f65-bb09-f0b5f285feea",
   "metadata": {},
   "outputs": [],
   "source": [
    "from aggregate import MomentAggregator, MomentWrangler"
   ]
  },
  {
   "cell_type": "code",
   "execution_count": null,
   "id": "cd734074-5213-4e9f-bf81-3cc7d986e128",
   "metadata": {},
   "outputs": [],
   "source": [
    "ma = MomentAggregator()"
   ]
  },
  {
   "cell_type": "code",
   "execution_count": null,
   "id": "cf50a919-479b-4f2d-b9e9-2dd670cf7037",
   "metadata": {},
   "outputs": [],
   "source": [
    "MomentAggregator.agg_from_fs2(100, 300, 10, 16)"
   ]
  },
  {
   "cell_type": "code",
   "execution_count": null,
   "id": "1fb51290-00c0-4efd-b2fa-a553091de65a",
   "metadata": {},
   "outputs": [],
   "source": [
    "type(_)"
   ]
  },
  {
   "cell_type": "code",
   "execution_count": null,
   "id": "0239956a-36e5-4aa6-ae80-97d0e660c134",
   "metadata": {},
   "outputs": [],
   "source": [
    "b = build('agg FreqBinomial 2 claims dsev [1] binomial 0.25')\n",
    "b"
   ]
  },
  {
   "cell_type": "code",
   "execution_count": null,
   "id": "5c186d6c-32c2-450d-9d44-f2ab0e7a7043",
   "metadata": {},
   "outputs": [],
   "source": [
    "import scipy.stats as ss\n",
    "fz = ss.binom(8, 0.25)\n",
    "[fz.pmf(i) for i in range(9)]"
   ]
  },
  {
   "cell_type": "code",
   "execution_count": null,
   "id": "026a8d02-65f5-452e-8083-6b291906032f",
   "metadata": {},
   "outputs": [],
   "source": [
    "b.density_df.query('p > 0').p"
   ]
  },
  {
   "cell_type": "code",
   "execution_count": null,
   "id": "902b9776-17da-40c5-b2a1-577b721c0d26",
   "metadata": {},
   "outputs": [],
   "source": [
    "from aggregate import build"
   ]
  },
  {
   "cell_type": "code",
   "execution_count": null,
   "id": "c611db54-3d3a-4635-85e0-27cf082d4de5",
   "metadata": {},
   "outputs": [],
   "source": [
    "for n in range(2430, 2440):\n",
    "    kpw91 = build(f'agg KPW9.1 {n * 0.1} claims dsev [5] [.3 .7] binomial 0.1', update=False)\n",
    "    fz = kpw91.fit('norm')\n",
    "    z = fz.cdf(n*.55)\n",
    "    print(n, z)\n",
    "    if z >= 0.95:\n",
    "        break\n",
    "# kpw91.update(approximation='exact', log2=18, bs=1)"
   ]
  },
  {
   "cell_type": "code",
   "execution_count": null,
   "id": "71b8dfd5-f62f-4a2f-a601-397580a61591",
   "metadata": {},
   "outputs": [],
   "source": [
    "kpw91.update(log2=17, approximation='exact')"
   ]
  },
  {
   "cell_type": "code",
   "execution_count": null,
   "id": "6ab25bc5-53ce-401c-a977-b0e8b4ceb5de",
   "metadata": {},
   "outputs": [],
   "source": [
    "kpw91.bs, kpw91.cdf(n*0.55)"
   ]
  },
  {
   "cell_type": "code",
   "execution_count": null,
   "id": "e51120a0-9e10-4697-b3c6-92ccd0e670d3",
   "metadata": {},
   "outputs": [],
   "source": [
    "fz.stats()"
   ]
  },
  {
   "cell_type": "code",
   "execution_count": null,
   "id": "575b3d30-36fb-4679-9fd8-06651899f399",
   "metadata": {},
   "outputs": [],
   "source": [
    "n = 2435.42\n",
    "(.11 * n - 0.1 *n) / np.sqrt(0.1*0.9*n)"
   ]
  },
  {
   "cell_type": "markdown",
   "id": "08b50f48-0e25-43b1-8f81-c19377b69117",
   "metadata": {},
   "source": [
    "## KWP 9.3, 9.4"
   ]
  },
  {
   "cell_type": "code",
   "execution_count": null,
   "id": "42ec1bf8-90e4-4438-9d4a-454b379be24e",
   "metadata": {},
   "outputs": [],
   "source": [
    "moms = MomentAggregator.agg_from_fs2(6.7, 2.3**2, 179247, 52141**2)\n",
    "moms"
   ]
  },
  {
   "cell_type": "code",
   "execution_count": null,
   "id": "8039ffb8-d7d4-4fe4-8eed-aedf77d772d6",
   "metadata": {},
   "outputs": [],
   "source": [
    "fzn = ss.norm(loc=moms.ex, scale=moms.sd)\n",
    "sigma = np.sqrt(np.log(moms.cv**2 + 1))\n",
    "fzl = ss.lognorm(sigma, scale=moms.ex*np.exp(-sigma**2/2))\n",
    "fzn.stats(), fzl.stats(), fzn.sf(1.4 * moms.ex), fzl.sf(1.4 * moms.ex)"
   ]
  },
  {
   "cell_type": "code",
   "execution_count": null,
   "id": "ab0f5b29-4b81-4a6c-9903-11333612a9d4",
   "metadata": {},
   "outputs": [],
   "source": [
    "sigma"
   ]
  },
  {
   "cell_type": "markdown",
   "id": "31487df8-95a2-4edf-a671-933baf7a4b54",
   "metadata": {},
   "source": [
    "## Example KPW 9.5, 9.6\n",
    "\n",
    "Noote: units of 25"
   ]
  },
  {
   "cell_type": "code",
   "execution_count": null,
   "id": "1db14f41-2e08-474a-a7e2-10e776444edc",
   "metadata": {},
   "outputs": [],
   "source": [
    "from aggregate import build"
   ]
  },
  {
   "cell_type": "code",
   "execution_count": null,
   "id": "dd9b5c09-3341-47bd-9574-b93b33d9387b",
   "metadata": {},
   "outputs": [],
   "source": [
    "kpw95 = build('agg KPW.95 dfreq  [0:8] [0.05, 0.1, 0.15, 0.2, 0.25, 0.15, 0.06, 0.03, 0.01]'\n",
    "              'dsev [1:10] [0.15, 0.2, 0.25, 0.125, 0.075, 0.05, 0.05, 0.05, 0.025, 0.025]')\n",
    "kpw95"
   ]
  },
  {
   "cell_type": "code",
   "execution_count": null,
   "id": "77967895-b633-4c32-9866-94eb95e8b2d2",
   "metadata": {},
   "outputs": [],
   "source": [
    "kpw95.agg_m, kpw95.agg_var"
   ]
  },
  {
   "cell_type": "code",
   "execution_count": null,
   "id": "77c454a6-3410-48e8-80c3-493cdfed91d7",
   "metadata": {},
   "outputs": [],
   "source": [
    "p = kpw95.density_df.query('p > 0')[['p', 'S']]\n",
    "p.head()"
   ]
  },
  {
   "cell_type": "code",
   "execution_count": null,
   "id": "5993dd3d-9598-475a-8f45-4203b630cf03",
   "metadata": {},
   "outputs": [],
   "source": [
    "kpw95.agg_m, kpw95.agg_var"
   ]
  },
  {
   "cell_type": "code",
   "execution_count": null,
   "id": "1fc96429-1825-4b7b-a279-57cbab02bbbd",
   "metadata": {},
   "outputs": [],
   "source": [
    "(p.S[::-1].cumsum()[::-1] * 25)[:8]"
   ]
  },
  {
   "cell_type": "markdown",
   "id": "be3b0daf-2ebb-40cb-a085-623d6bf2329c",
   "metadata": {},
   "source": [
    "## Example 9.9, 9.10"
   ]
  },
  {
   "cell_type": "code",
   "execution_count": null,
   "id": "2a703c14-18f2-4cfa-b074-16cab5cb26f7",
   "metadata": {},
   "outputs": [],
   "source": [
    "from aggregate import build\n",
    "from aggregate import Aggregate"
   ]
  },
  {
   "cell_type": "code",
   "execution_count": null,
   "id": "fd431cd1-4eb9-47e9-a91b-1bcb797b2dd7",
   "metadata": {},
   "outputs": [],
   "source": [
    "od = build.interpret_program('''\n",
    "port Ex9.9\n",
    "    agg A 2 claims dsev [1 2] [.6 .4] poisson\n",
    "    agg B 1 claims dsev [1 3] [.7 .3] poisson\n",
    "''')"
   ]
  },
  {
   "cell_type": "code",
   "execution_count": null,
   "id": "24a3e5f3-6a7a-4469-b041-adf9d6b24663",
   "metadata": {},
   "outputs": [],
   "source": [
    "od[0].list()"
   ]
  },
  {
   "cell_type": "code",
   "execution_count": null,
   "id": "5667482a-031a-4fa0-bb12-3ee7cadf021e",
   "metadata": {},
   "outputs": [],
   "source": []
  },
  {
   "cell_type": "code",
   "execution_count": null,
   "id": "41d0ac03-93a6-45e6-94fa-7689b5eb33a9",
   "metadata": {},
   "outputs": [],
   "source": [
    "od[0].spec"
   ]
  },
  {
   "cell_type": "code",
   "execution_count": null,
   "id": "a171e9e4-771f-46b6-bc0d-746aec0a5f3e",
   "metadata": {},
   "outputs": [],
   "source": [
    "from aggregate import build"
   ]
  },
  {
   "cell_type": "code",
   "execution_count": null,
   "id": "473c466f-f47d-435c-b2d1-270b1fc2fc9d",
   "metadata": {},
   "outputs": [],
   "source": [
    "from aggregate import Portfolio"
   ]
  },
  {
   "cell_type": "code",
   "execution_count": null,
   "id": "2ece47d5-2b43-4182-9012-b336c14c0e9f",
   "metadata": {},
   "outputs": [],
   "source": [
    "from numpy import array"
   ]
  },
  {
   "cell_type": "code",
   "execution_count": null,
   "id": "7efe8c67-de02-478f-8f4b-8579ed68e7a1",
   "metadata": {},
   "outputs": [],
   "source": [
    "p = Portfolio('test', [{'name': 'A', 'exp_en': 2.0, 'sev_name': 'dhistogram', 'sev_xs': array([         1,          2]), 'sev_ps': array([       0.6,        0.4]), 'freq_name': 'poisson', 'note': ''}, {'name': 'B', 'exp_en': 1.0, 'sev_name': 'dhistogram', 'sev_xs': array([         1,          3]), 'sev_ps': array([       0.7,        0.3]), 'freq_name': 'poisson', 'note': ''}])"
   ]
  },
  {
   "cell_type": "code",
   "execution_count": 17,
   "id": "db457a5d-91ed-440e-9821-09beabc19c56",
   "metadata": {},
   "outputs": [
    {
     "name": "stderr",
     "output_type": "stream",
     "text": [
      "49:24.448|2794|Level 31  | aggregate.distributions, __init__|  sev_a not set, determined as 0.8325546111576977 shape from sev_cv 1.0\n",
      "49:24.542|2794|Level 31  | aggregate.distributions, __init__|  sev_a not set, determined as 0.8325546111576977 shape from sev_cv 1.0\n",
      "49:24.629|2794|Level 31  | aggregate.distributions, __init__|  sev_a not set, determined as 0.8325546111576977 shape from sev_cv 1.0\n"
     ]
    },
    {
     "name": "stdout",
     "output_type": "stream",
     "text": [
      "\n",
      "agg logo1 0.05 claim [10, 22.632, 35.263, 47.895, 60.526, 73.158, 85.789, 98.421, 111.05, 123.68, 136.32, 148.95, 161.58, 174.21, 186.84, 199.47, 212.11, 224.74, 237.37, 250] xs 0 sev lognorm 100 cv 1 fixed\n",
      "agg logo2    1 claim [10, 22.632, 35.263, 47.895, 60.526, 73.158, 85.789, 98.421, 111.05, 123.68, 136.32, 148.95, 161.58, 174.21, 186.84, 199.47, 212.11, 224.74, 237.37, 250] xs 0 sev lognorm 100 cv 1 fixed\n",
      "\n"
     ]
    },
    {
     "name": "stderr",
     "output_type": "stream",
     "text": [
      "49:24.726|2794|Level 31  | aggregate.distributions, __init__|  sev_a not set, determined as 0.8325546111576977 shape from sev_cv 1.0\n",
      "49:24.808|2794|Level 31  | aggregate.distributions, __init__|  sev_a not set, determined as 0.8325546111576977 shape from sev_cv 1.0\n",
      "49:24.888|2794|Level 31  | aggregate.distributions, __init__|  sev_a not set, determined as 0.8325546111576977 shape from sev_cv 1.0\n",
      "49:24.963|2794|Level 31  | aggregate.distributions, __init__|  sev_a not set, determined as 0.8325546111576977 shape from sev_cv 1.0\n",
      "49:25.040|2794|Level 31  | aggregate.distributions, __init__|  sev_a not set, determined as 0.8325546111576977 shape from sev_cv 1.0\n",
      "49:25.111|2794|Level 31  | aggregate.distributions, __init__|  sev_a not set, determined as 0.8325546111576977 shape from sev_cv 1.0\n",
      "49:25.177|2794|Level 31  | aggregate.distributions, __init__|  sev_a not set, determined as 0.8325546111576977 shape from sev_cv 1.0\n",
      "49:25.253|2794|Level 31  | aggregate.distributions, __init__|  sev_a not set, determined as 0.8325546111576977 shape from sev_cv 1.0\n",
      "49:25.324|2794|Level 31  | aggregate.distributions, __init__|  sev_a not set, determined as 0.8325546111576977 shape from sev_cv 1.0\n",
      "49:25.394|2794|Level 31  | aggregate.distributions, __init__|  sev_a not set, determined as 0.8325546111576977 shape from sev_cv 1.0\n",
      "49:25.464|2794|Level 31  | aggregate.distributions, __init__|  sev_a not set, determined as 0.8325546111576977 shape from sev_cv 1.0\n",
      "49:25.537|2794|Level 31  | aggregate.distributions, __init__|  sev_a not set, determined as 0.8325546111576977 shape from sev_cv 1.0\n",
      "49:25.611|2794|Level 31  | aggregate.distributions, __init__|  sev_a not set, determined as 0.8325546111576977 shape from sev_cv 1.0\n",
      "49:25.679|2794|Level 31  | aggregate.distributions, __init__|  sev_a not set, determined as 0.8325546111576977 shape from sev_cv 1.0\n",
      "49:25.749|2794|Level 31  | aggregate.distributions, __init__|  sev_a not set, determined as 0.8325546111576977 shape from sev_cv 1.0\n",
      "49:25.792|2794|Level 31  | aggregate.distributions, __init__|  sev_a not set, determined as 0.8325546111576977 shape from sev_cv 1.0\n",
      "49:25.859|2794|Level 31  | aggregate.distributions, __init__|  sev_a not set, determined as 0.8325546111576977 shape from sev_cv 1.0\n",
      "49:25.942|2794|Level 31  | aggregate.distributions, __init__|  sev_a not set, determined as 0.8325546111576977 shape from sev_cv 1.0\n",
      "49:26.028|2794|Level 31  | aggregate.distributions, __init__|  sev_a not set, determined as 0.8325546111576977 shape from sev_cv 1.0\n",
      "49:26.119|2794|Level 31  | aggregate.distributions, __init__|  sev_a not set, determined as 0.8325546111576977 shape from sev_cv 1.0\n",
      "49:26.197|2794|Level 31  | aggregate.distributions, __init__|  sev_a not set, determined as 0.8325546111576977 shape from sev_cv 1.0\n",
      "49:26.294|2794|Level 31  | aggregate.distributions, __init__|  sev_a not set, determined as 0.8325546111576977 shape from sev_cv 1.0\n",
      "49:26.387|2794|Level 31  | aggregate.distributions, __init__|  sev_a not set, determined as 0.8325546111576977 shape from sev_cv 1.0\n",
      "49:26.476|2794|Level 31  | aggregate.distributions, __init__|  sev_a not set, determined as 0.8325546111576977 shape from sev_cv 1.0\n",
      "49:26.552|2794|Level 31  | aggregate.distributions, __init__|  sev_a not set, determined as 0.8325546111576977 shape from sev_cv 1.0\n",
      "49:26.640|2794|Level 31  | aggregate.distributions, __init__|  sev_a not set, determined as 0.8325546111576977 shape from sev_cv 1.0\n",
      "49:26.723|2794|Level 31  | aggregate.distributions, __init__|  sev_a not set, determined as 0.8325546111576977 shape from sev_cv 1.0\n",
      "49:26.807|2794|Level 31  | aggregate.distributions, __init__|  sev_a not set, determined as 0.8325546111576977 shape from sev_cv 1.0\n",
      "49:26.870|2794|Level 31  | aggregate.distributions, __init__|  sev_a not set, determined as 0.8325546111576977 shape from sev_cv 1.0\n",
      "49:26.934|2794|Level 31  | aggregate.distributions, __init__|  sev_a not set, determined as 0.8325546111576977 shape from sev_cv 1.0\n",
      "49:26.991|2794|Level 31  | aggregate.distributions, __init__|  sev_a not set, determined as 0.8325546111576977 shape from sev_cv 1.0\n",
      "49:27.055|2794|Level 31  | aggregate.distributions, __init__|  sev_a not set, determined as 0.8325546111576977 shape from sev_cv 1.0\n",
      "49:27.127|2794|Level 31  | aggregate.distributions, __init__|  sev_a not set, determined as 0.8325546111576977 shape from sev_cv 1.0\n",
      "49:27.204|2794|Level 31  | aggregate.distributions, __init__|  sev_a not set, determined as 0.8325546111576977 shape from sev_cv 1.0\n",
      "49:27.282|2794|Level 31  | aggregate.distributions, __init__|  sev_a not set, determined as 0.8325546111576977 shape from sev_cv 1.0\n",
      "49:27.326|2794|Level 31  | aggregate.distributions, __init__|  sev_a not set, determined as 0.8325546111576977 shape from sev_cv 1.0\n",
      "49:27.414|2794|Level 31  | aggregate.distributions, __init__|  sev_a not set, determined as 0.8325546111576977 shape from sev_cv 1.0\n"
     ]
    },
    {
     "data": {
      "text/plain": [
       "[                                                                                    Type\n",
       " Item                                                                                    \n",
       " kind                                                                                 agg\n",
       " name                                                                               logo1\n",
       " spec                                                                      <class 'dict'>\n",
       " program  agg logo1 0.05 claim  [10, 22.632, 35.263, 47.895, 60.526, 73.158, 85.789, 9...\n",
       " object                                       <class 'aggregate.distributions.Aggregate'>,\n",
       "                                                                                     Type\n",
       " Item                                                                                    \n",
       " kind                                                                                 agg\n",
       " name                                                                               logo2\n",
       " spec                                                                      <class 'dict'>\n",
       " program  agg logo2    1 claim  [10, 22.632, 35.263, 47.895, 60.526, 73.158, 85.789, 9...\n",
       " object                                       <class 'aggregate.distributions.Aggregate'>]"
      ]
     },
     "execution_count": 17,
     "metadata": {},
     "output_type": "execute_result"
    },
    {
     "name": "stdout",
     "output_type": "stream",
     "text": [
      "time: 3.11 s (started: 2022-10-25 13:49:24 +01:00)\n"
     ]
    }
   ],
   "source": [
    "a = build(\"\"\"\n",
    "agg logo1 0.05 claim [10, 22.632, 35.263, 47.895, 60.526, 73.158, 85.789, 98.421, 111.05, 123.68, 136.32, 148.95, 161.58, 174.21, 186.84, 199.47, 212.11, 224.74, 237.37, 250] xs 0 sev lognorm 100 cv 1 fixed\n",
    "agg logo2    1 claim [10, 22.632, 35.263, 47.895, 60.526, 73.158, 85.789, 98.421, 111.05, 123.68, 136.32, 148.95, 161.58, 174.21, 186.84, 199.47, 212.11, 224.74, 237.37, 250] xs 0 sev lognorm 100 cv 1 fixed\n",
    "\"\"\")\n",
    "a"
   ]
  },
  {
   "cell_type": "code",
   "execution_count": null,
   "id": "7658534c-e4a0-4c81-8b1d-8d7b749608b8",
   "metadata": {},
   "outputs": [
    {
     "data": {
      "image/png": "[encoded data removed]",
      "text/plain": [
       "<Figure size 1007.75x252 with 3 Axes>"
      ]
     },
     "metadata": {
      "image/png": {
       "height": 260,
       "width": 1016
      }
     },
     "output_type": "display_data"
    },
    {
     "name": "stdout",
     "output_type": "stream",
     "text": [
      "time: 1.25 s (started: 2022-10-25 13:49:52 +01:00)\n"
     ]
    }
   ],
   "source": [
    "a[0].object.plot()"
   ]
  },
  {
   "cell_type": "code",
   "execution_count": 34,
   "id": "2319ecb6-c6ad-427b-ae5a-cde4eb540c19",
   "metadata": {},
   "outputs": [
    {
     "data": {
      "image/png": "[encoded data removed]",
      "text/plain": [
       "<Figure size 432x288 with 1 Axes>"
      ]
     },
     "metadata": {
      "image/png": {
       "height": 264,
       "width": 376
      }
     },
     "output_type": "display_data"
    },
    {
     "name": "stdout",
     "output_type": "stream",
     "text": [
      "time: 125 ms (started: 2022-10-25 13:53:07 +01:00)\n"
     ]
    }
   ],
   "source": [
    "ax = a[1].object.density_df.p_sev.plot()\n",
    "ax.set(xlim=[0, 275]);"
   ]
  },
  {
   "cell_type": "code",
   "execution_count": null,
   "id": "94793cf4-b675-461c-b46f-ec5c5f800431",
   "metadata": {},
   "outputs": [],
   "source": [
    "port = build('''\n",
    "port Ex9.9\n",
    "    agg A 2 claims dsev [1 2] [.6 .4] poisson\n",
    "    agg B 1 claims dsev [1 3] [.7 .3] poisson\n",
    "''', bs=1, log_level=26)\n",
    "port"
   ]
  },
  {
   "cell_type": "code",
   "execution_count": null,
   "id": "85c4f814-cffd-4e39-860a-26ec5bedad30",
   "metadata": {},
   "outputs": [],
   "source": [
    "port.pmf(2)"
   ]
  },
  {
   "cell_type": "code",
   "execution_count": null,
   "id": "3407f10e-d6f0-447a-946e-2e3bc8ce9047",
   "metadata": {},
   "outputs": [],
   "source": [
    "np.exp(-3)"
   ]
  },
  {
   "cell_type": "code",
   "execution_count": null,
   "id": "e8f65705-e5cf-4247-821f-d8e378fc4532",
   "metadata": {},
   "outputs": [],
   "source": [
    "port.density_df.loc[:10, ['p_total']]  / np.exp(-3)"
   ]
  },
  {
   "cell_type": "markdown",
   "id": "f174964c-8a71-4431-bd73-6b24c9a30ee4",
   "metadata": {},
   "source": [
    "# Exerc 9.40"
   ]
  },
  {
   "cell_type": "code",
   "execution_count": null,
   "id": "8c11e92b-240b-409f-9d89-63dc8251a77d",
   "metadata": {},
   "outputs": [],
   "source": [
    "from aggregate import build"
   ]
  },
  {
   "cell_type": "code",
   "execution_count": null,
   "id": "21adc21f-8026-47aa-ba6e-7d43b002097f",
   "metadata": {},
   "outputs": [],
   "source": [
    "port0940 = build('''\n",
    "\n",
    "port Ex9.40\n",
    "    agg A 50 claims dsev [10] poisson\n",
    "    agg B 60 claims dsev [20] poisson\n",
    "    agg C 30 claims dsev [40] poisson\n",
    "    \n",
    "''')\n",
    "\n",
    "port0940"
   ]
  },
  {
   "cell_type": "code",
   "execution_count": null,
   "id": "355e55fb-3dd3-475a-aa74-f1a776e63377",
   "metadata": {},
   "outputs": [],
   "source": [
    "port0940.agg_m, port0940.agg_sd,port0940.agg_var , port0940.agg_skew"
   ]
  },
  {
   "cell_type": "code",
   "execution_count": null,
   "id": "414a5705-dc0a-4f04-b862-73731dbaed1c",
   "metadata": {},
   "outputs": [],
   "source": [
    "port0940.density_df.F.plot()"
   ]
  },
  {
   "cell_type": "markdown",
   "id": "fdc3391b-cc59-4f92-9478-c1778c0128db",
   "metadata": {},
   "source": [
    "# Bahnemann Chapter 6: Limits and Deductibles "
   ]
  },
  {
   "cell_type": "code",
   "execution_count": null,
   "id": "dc516634-0bdd-4868-8c34-e8d41107752d",
   "metadata": {},
   "outputs": [],
   "source": [
    "## Example 4.1"
   ]
  },
  {
   "cell_type": "code",
   "execution_count": null,
   "id": "903600a8-cdbf-4872-8a94-1be1aeb2ec92",
   "metadata": {},
   "outputs": [],
   "source": [
    "a = build('agg Ex.4.1 dfreq[0 1 2][.6 .3 .1] dsev[1 2 3][.4 .5 .1]')\n",
    "a"
   ]
  },
  {
   "cell_type": "code",
   "execution_count": null,
   "id": "31ae3c93-75f8-486c-8635-19fb796fc3ac",
   "metadata": {},
   "outputs": [],
   "source": [
    "a.agg_m, a.agg_var"
   ]
  },
  {
   "cell_type": "code",
   "execution_count": null,
   "id": "df0be82a-0c20-4e7d-a876-60008dba8b3e",
   "metadata": {},
   "outputs": [],
   "source": [
    "a.density_df.query('p_total > 0') [['p_total', 'F']]"
   ]
  },
  {
   "cell_type": "markdown",
   "id": "ffdd1fc0-6fc8-4811-8784-3bb4b54f0755",
   "metadata": {},
   "source": [
    "## Example 4.2"
   ]
  },
  {
   "cell_type": "code",
   "execution_count": null,
   "id": "19a9a394-a135-460a-92ed-1f59b3d99494",
   "metadata": {},
   "outputs": [],
   "source": [
    "from aggregate import build"
   ]
  },
  {
   "cell_type": "code",
   "execution_count": null,
   "id": "6efd967f-02fe-4fa2-a6be-0741bb7aabea",
   "metadata": {},
   "outputs": [],
   "source": [
    "a = build('agg Ex.4.2 2.5 claims sev 4 * gamma 3 poisson', log2=16)\n",
    "a"
   ]
  },
  {
   "cell_type": "code",
   "execution_count": null,
   "id": "f412d9fb-0559-42d9-81c4-eb4c11a35dbb",
   "metadata": {},
   "outputs": [],
   "source": [
    "a.agg_m, a.agg_var"
   ]
  },
  {
   "cell_type": "code",
   "execution_count": null,
   "id": "48aa77da-2e1f-484d-81d0-eaa6ecc5e569",
   "metadata": {},
   "outputs": [],
   "source": [
    "a.density_df.loc[sorted(np.hstack((5, np.arange(0, 100.5, 10)))), \n",
    "                        ['F']].style.format(lambda x: f'{x:.4g}')"
   ]
  },
  {
   "cell_type": "code",
   "execution_count": null,
   "id": "433318a8-c21e-4e3a-aee4-6a908f0944a0",
   "metadata": {},
   "outputs": [],
   "source": []
  },
  {
   "cell_type": "code",
   "execution_count": null,
   "id": "4b3c2d86-3035-40ad-a465-8dcc545c9255",
   "metadata": {},
   "outputs": [],
   "source": []
  },
  {
   "cell_type": "code",
   "execution_count": null,
   "id": "0514342e-5f1c-433f-ab65-b6dada1cc868",
   "metadata": {},
   "outputs": [],
   "source": []
  },
  {
   "cell_type": "markdown",
   "id": "be75818f-b318-4649-bb85-711d34b7c57a",
   "metadata": {},
   "source": [
    "## Bahnemann Example 6.3\n",
    "\n",
    "![Picture](img/Bahnemann_6_3.png) "
   ]
  },
  {
   "cell_type": "code",
   "execution_count": 11,
   "id": "9114c78b-942c-4d0e-b48b-417e4b8100fd",
   "metadata": {},
   "outputs": [
    {
     "name": "stdout",
     "output_type": "stream",
     "text": [
      "time: 0 ns (started: 2022-10-30 07:49:51 +00:00)\n"
     ]
    }
   ],
   "source": [
    "from aggregate import build\n",
    "f3 = lambda x: f'{x:.3f}'\n",
    "f4 = lambda x: f'{x:.4f}'\n",
    "g3 = lambda x: f'{x:.3g}'\n",
    "fc1 = lambda x: f'{x:,.1f}'\n",
    "fc0 = lambda x: f'{x:,.0f}'\n",
    "import scipy.stats as ss"
   ]
  },
  {
   "cell_type": "code",
   "execution_count": null,
   "id": "2a90dada-4878-4501-aaa0-226ac0932360",
   "metadata": {},
   "outputs": [],
   "source": [
    "def qd(df, caption=''):\n",
    "    f3 = lambda x: f'{x:.3f}'\n",
    "    f4 = lambda x: f'{x:.4f}'\n",
    "    g3 = lambda x: f'{x:.3g}'\n",
    "    fc1 = lambda x: f'{x:,.1f}'\n",
    "    fc0 = lambda x: f'{x:,.0f}'\n",
    "    mns = df.mean()\n",
    "    ans = {}\n",
    "    for c, mn in zip(df, mns): \n",
    "        ans[c] = f4 if mn < 10 else fc0\n",
    "    if caption == '': \n",
    "        display(df.style.format(ans))\n",
    "    else:\n",
    "        display(df.style.format(ans).set_caption(caption))\n",
    "        "
   ]
  },
  {
   "cell_type": "code",
   "execution_count": 2,
   "id": "2d251a27-67d1-44ba-b56f-86f2da0fad89",
   "metadata": {},
   "outputs": [
    {
     "data": {
      "text/plain": [
       "17.0"
      ]
     },
     "execution_count": 2,
     "metadata": {},
     "output_type": "execute_result"
    },
    {
     "name": "stdout",
     "output_type": "stream",
     "text": [
      "time: 0 ns (started: 2022-10-30 07:43:48 +00:00)\n"
     ]
    }
   ],
   "source": [
    "# need up to 5M and need a reasonably small bs, say 50\n",
    "# hence neeed log2 ge\n",
    "np.ceil(np.log(5e6 / 50) / np.log(2))"
   ]
  },
  {
   "cell_type": "code",
   "execution_count": 3,
   "id": "28e8d089-ad20-4130-bee9-572bea945ca6",
   "metadata": {},
   "outputs": [
    {
     "data": {
      "text/plain": [
       "(19535.722662065487, 1096.6331584284585)"
      ]
     },
     "execution_count": 3,
     "metadata": {},
     "output_type": "execute_result"
    },
    {
     "name": "stdout",
     "output_type": "stream",
     "text": [
      "time: 0 ns (started: 2022-10-30 07:43:48 +00:00)\n"
     ]
    }
   ],
   "source": [
    "# actual mean\n",
    "np.exp(7+2.4**2/2), np.exp(7)"
   ]
  },
  {
   "cell_type": "code",
   "execution_count": 4,
   "id": "c309b5c1-05ef-42bb-97bc-6c2a93e60de4",
   "metadata": {},
   "outputs": [
    {
     "name": "stderr",
     "output_type": "stream",
     "text": [
      "line 3108|WARNING   | aggregate.distributions.safe_integrate|  Severity.moms | ansr=inf, message no message ->\n",
      "line 3113|WARNING   | aggregate.distributions.safe_integrate|  Severity.moms | splitting lognorm EX^2 integral for convergence reasons\n",
      "line 3119|WARNING   | aggregate.distributions.safe_integrate|  Severity.moms | [ϵ, 0.01] split EX^2 integral returned The maximum number of subdivisions (100) has been achieved.   If increasing the limit yields no improvement it is advised to analyze    the integrand in order to determine the difficulties.  If the position of a    local difficulty can be determined (singularity, discontinuity) one will    probably gain from splitting up the interval and calling the integrator    on the subranges.  Perhaps a special-purpose integrator should be used.\n",
      "line 3108|WARNING   | aggregate.distributions.safe_integrate|  Severity.moms | ansr=8.568964911078015e+18, message no message ->\n",
      "line 3113|WARNING   | aggregate.distributions.safe_integrate|  Severity.moms | splitting lognorm EX^3 integral for convergence reasons\n",
      "line 3119|WARNING   | aggregate.distributions.safe_integrate|  Severity.moms | [ϵ, 0.01] split EX^3 integral returned The maximum number of subdivisions (100) has been achieved.   If increasing the limit yields no improvement it is advised to analyze    the integrand in order to determine the difficulties.  If the position of a    local difficulty can be determined (singularity, discontinuity) one will    probably gain from splitting up the interval and calling the integrator    on the subranges.  Perhaps a special-purpose integrator should be used.\n"
     ]
    },
    {
     "data": {
      "text/html": [
       "<h3>Aggregate object: B.Ex.6.3</h3>\n",
       "Claim count 1.00, fixed distribution.<br>\n",
       "Severity: lognorm distribution, unlimited.<br>\n",
       "Updated with bucket size 50 and log2 = 17.<table border=\"1\" class=\"dataframe\">\n",
       "  <thead>\n",
       "    <tr style=\"text-align: right;\">\n",
       "      <th></th>\n",
       "      <th>E(X)</th>\n",
       "      <th>Est E(X)</th>\n",
       "      <th>Err E(X)</th>\n",
       "      <th>CV(X)</th>\n",
       "      <th>Est CV(X)</th>\n",
       "      <th>Err CV(X)</th>\n",
       "      <th>Skew(X)</th>\n",
       "    </tr>\n",
       "    <tr>\n",
       "      <th>X</th>\n",
       "      <th></th>\n",
       "      <th></th>\n",
       "      <th></th>\n",
       "      <th></th>\n",
       "      <th></th>\n",
       "      <th></th>\n",
       "      <th></th>\n",
       "    </tr>\n",
       "  </thead>\n",
       "  <tbody>\n",
       "    <tr>\n",
       "      <th>Sev</th>\n",
       "      <td>19.536k</td>\n",
       "      <td>17.374k</td>\n",
       "      <td>-110.655m</td>\n",
       "      <td>17.785</td>\n",
       "      <td>6.855</td>\n",
       "      <td>-614.540m</td>\n",
       "      <td>4.820k</td>\n",
       "    </tr>\n",
       "    <tr>\n",
       "      <th>Freq</th>\n",
       "      <td>1.000</td>\n",
       "      <td></td>\n",
       "      <td></td>\n",
       "      <td>0.000</td>\n",
       "      <td></td>\n",
       "      <td></td>\n",
       "      <td></td>\n",
       "    </tr>\n",
       "    <tr>\n",
       "      <th>Agg</th>\n",
       "      <td>19.536k</td>\n",
       "      <td>17.374k</td>\n",
       "      <td>-110.655m</td>\n",
       "      <td>17.785</td>\n",
       "      <td>6.855</td>\n",
       "      <td>-614.540m</td>\n",
       "      <td>4.820k</td>\n",
       "    </tr>\n",
       "  </tbody>\n",
       "</table>"
      ],
      "text/plain": [
       "<aggregate.distributions.Aggregate object at 0x00000211B4AB24A0> name: B.Ex.6.3"
      ]
     },
     "execution_count": 4,
     "metadata": {},
     "output_type": "execute_result"
    },
    {
     "name": "stdout",
     "output_type": "stream",
     "text": [
      "time: 1.41 s (started: 2022-10-30 07:43:48 +00:00)\n"
     ]
    }
   ],
   "source": [
    "a = build('agg B.Ex.6.3 1 claim '\n",
    "          'sev exp(7) * lognorm 2.4 '\n",
    "          'fixed', bs=50, log2=17, \n",
    "          # Normalize=false is critical to getting the right accuracy\n",
    "          # you can see this will be an issue because you won't get \n",
    "          # to the \"end\" of the distribution \n",
    "          normalize=False, \n",
    "         )\n",
    "a"
   ]
  },
  {
   "cell_type": "code",
   "execution_count": 6,
   "id": "8099e9e5-af0a-49fb-b72d-7408d9738275",
   "metadata": {},
   "outputs": [
    {
     "data": {
      "text/html": [
       "<style type=\"text/css\">\n",
       "</style>\n",
       "<table id=\"T_78482_\">\n",
       "  <thead>\n",
       "    <tr>\n",
       "      <th class=\"blank level0\" >&nbsp;</th>\n",
       "      <th class=\"col_heading level0 col0\" >F</th>\n",
       "      <th class=\"col_heading level0 col1\" >S</th>\n",
       "      <th class=\"col_heading level0 col2\" >lev</th>\n",
       "      <th class=\"col_heading level0 col3\" >lev</th>\n",
       "    </tr>\n",
       "    <tr>\n",
       "      <th class=\"index_name level0\" >loss</th>\n",
       "      <th class=\"blank col0\" >&nbsp;</th>\n",
       "      <th class=\"blank col1\" >&nbsp;</th>\n",
       "      <th class=\"blank col2\" >&nbsp;</th>\n",
       "      <th class=\"blank col3\" >&nbsp;</th>\n",
       "    </tr>\n",
       "  </thead>\n",
       "  <tbody>\n",
       "    <tr>\n",
       "      <th id=\"T_78482_level0_row0\" class=\"row_heading level0 row0\" >100000.0</th>\n",
       "      <td id=\"T_78482_row0_col0\" class=\"data row0 col0\" >0.970</td>\n",
       "      <td id=\"T_78482_row0_col1\" class=\"data row0 col1\" >0.03</td>\n",
       "      <td id=\"T_78482_row0_col2\" class=\"data row0 col2\" >8,895.8</td>\n",
       "      <td id=\"T_78482_row0_col3\" class=\"data row0 col3\" >8,895.8</td>\n",
       "    </tr>\n",
       "    <tr>\n",
       "      <th id=\"T_78482_level0_row1\" class=\"row_heading level0 row1\" >500000.0</th>\n",
       "      <td id=\"T_78482_row1_col0\" class=\"data row1 col0\" >0.995</td>\n",
       "      <td id=\"T_78482_row1_col1\" class=\"data row1 col1\" >0.00537</td>\n",
       "      <td id=\"T_78482_row1_col2\" class=\"data row1 col2\" >13,625.3</td>\n",
       "      <td id=\"T_78482_row1_col3\" class=\"data row1 col3\" >13,625.3</td>\n",
       "    </tr>\n",
       "    <tr>\n",
       "      <th id=\"T_78482_level0_row2\" class=\"row_heading level0 row2\" >750000.0</th>\n",
       "      <td id=\"T_78482_row2_col0\" class=\"data row2 col0\" >0.997</td>\n",
       "      <td id=\"T_78482_row2_col1\" class=\"data row2 col1\" >0.00326</td>\n",
       "      <td id=\"T_78482_row2_col2\" class=\"data row2 col2\" >14,667.7</td>\n",
       "      <td id=\"T_78482_row2_col3\" class=\"data row2 col3\" >14,667.7</td>\n",
       "    </tr>\n",
       "    <tr>\n",
       "      <th id=\"T_78482_level0_row3\" class=\"row_heading level0 row3\" >1000000.0</th>\n",
       "      <td id=\"T_78482_row3_col0\" class=\"data row3 col0\" >0.998</td>\n",
       "      <td id=\"T_78482_row3_col1\" class=\"data row3 col1\" >0.00226</td>\n",
       "      <td id=\"T_78482_row3_col2\" class=\"data row3 col2\" >15,344.9</td>\n",
       "      <td id=\"T_78482_row3_col3\" class=\"data row3 col3\" >15,344.9</td>\n",
       "    </tr>\n",
       "    <tr>\n",
       "      <th id=\"T_78482_level0_row4\" class=\"row_heading level0 row4\" >2000000.0</th>\n",
       "      <td id=\"T_78482_row4_col0\" class=\"data row4 col0\" >0.999</td>\n",
       "      <td id=\"T_78482_row4_col1\" class=\"data row4 col1\" >0.000878</td>\n",
       "      <td id=\"T_78482_row4_col2\" class=\"data row4 col2\" >16,737.6</td>\n",
       "      <td id=\"T_78482_row4_col3\" class=\"data row4 col3\" >16,737.6</td>\n",
       "    </tr>\n",
       "    <tr>\n",
       "      <th id=\"T_78482_level0_row5\" class=\"row_heading level0 row5\" >3000000.0</th>\n",
       "      <td id=\"T_78482_row5_col0\" class=\"data row5 col0\" >1.000</td>\n",
       "      <td id=\"T_78482_row5_col1\" class=\"data row5 col1\" >0.000488</td>\n",
       "      <td id=\"T_78482_row5_col2\" class=\"data row5 col2\" >17,389.9</td>\n",
       "      <td id=\"T_78482_row5_col3\" class=\"data row5 col3\" >17,389.9</td>\n",
       "    </tr>\n",
       "    <tr>\n",
       "      <th id=\"T_78482_level0_row6\" class=\"row_heading level0 row6\" >4000000.0</th>\n",
       "      <td id=\"T_78482_row6_col0\" class=\"data row6 col0\" >1.000</td>\n",
       "      <td id=\"T_78482_row6_col1\" class=\"data row6 col1\" >0.000316</td>\n",
       "      <td id=\"T_78482_row6_col2\" class=\"data row6 col2\" >17,782.0</td>\n",
       "      <td id=\"T_78482_row6_col3\" class=\"data row6 col3\" >17,782.0</td>\n",
       "    </tr>\n",
       "    <tr>\n",
       "      <th id=\"T_78482_level0_row7\" class=\"row_heading level0 row7\" >5000000.0</th>\n",
       "      <td id=\"T_78482_row7_col0\" class=\"data row7 col0\" >1.000</td>\n",
       "      <td id=\"T_78482_row7_col1\" class=\"data row7 col1\" >0.000224</td>\n",
       "      <td id=\"T_78482_row7_col2\" class=\"data row7 col2\" >18,047.7</td>\n",
       "      <td id=\"T_78482_row7_col3\" class=\"data row7 col3\" >18,047.7</td>\n",
       "    </tr>\n",
       "  </tbody>\n",
       "</table>\n"
      ],
      "text/plain": [
       "<pandas.io.formats.style.Styler at 0x211b668f370>"
      ]
     },
     "execution_count": 6,
     "metadata": {},
     "output_type": "execute_result"
    },
    {
     "name": "stdout",
     "output_type": "stream",
     "text": [
      "time: 16 ms (started: 2022-10-30 07:44:54 +00:00)\n"
     ]
    }
   ],
   "source": [
    "# survival\n",
    "a.density_df.loc[[1e5,  5e5, 7.5e5, 1e6, 2e6, 3e6, 4e6, 5e6], ['F', 'S', 'lev']].style.format({'F': f3, 'S': g3, 'lev': fc1})"
   ]
  },
  {
   "cell_type": "code",
   "execution_count": 13,
   "id": "133808d2-a69f-464b-a0d7-ebdba19c19ae",
   "metadata": {},
   "outputs": [
    {
     "name": "stdout",
     "output_type": "stream",
     "text": [
      "time: 0 ns (started: 2022-10-30 07:50:09 +00:00)\n"
     ]
    }
   ],
   "source": [
    "alae = ε = 2200\n",
    "ϕ = 0.0005\n",
    "ve = 0.35"
   ]
  },
  {
   "cell_type": "code",
   "execution_count": 99,
   "id": "cb07044f-3bf5-4bf3-b0bc-27f11f24d366",
   "metadata": {},
   "outputs": [
    {
     "data": {
      "text/html": [
       "<style type=\"text/css\">\n",
       "</style>\n",
       "<table id=\"T_ceee1_\">\n",
       "  <caption>Table 6.1: Increased limits factors</caption>\n",
       "  <thead>\n",
       "    <tr>\n",
       "      <th class=\"blank level0\" >&nbsp;</th>\n",
       "      <th class=\"col_heading level0 col0\" >loss</th>\n",
       "      <th class=\"col_heading level0 col1\" >lev</th>\n",
       "      <th class=\"col_heading level0 col2\" >Fixed ALAE</th>\n",
       "      <th class=\"col_heading level0 col3\" >Prop ALAE</th>\n",
       "    </tr>\n",
       "  </thead>\n",
       "  <tbody>\n",
       "    <tr>\n",
       "      <th id=\"T_ceee1_level0_row0\" class=\"row_heading level0 row0\" >0</th>\n",
       "      <td id=\"T_ceee1_row0_col0\" class=\"data row0 col0\" >100,000</td>\n",
       "      <td id=\"T_ceee1_row0_col1\" class=\"data row0 col1\" >8,896</td>\n",
       "      <td id=\"T_ceee1_row0_col2\" class=\"data row0 col2\" >1.0000</td>\n",
       "      <td id=\"T_ceee1_row0_col3\" class=\"data row0 col3\" >1.0000</td>\n",
       "    </tr>\n",
       "    <tr>\n",
       "      <th id=\"T_ceee1_level0_row1\" class=\"row_heading level0 row1\" >1</th>\n",
       "      <td id=\"T_ceee1_row1_col0\" class=\"data row1 col0\" >500,000</td>\n",
       "      <td id=\"T_ceee1_row1_col1\" class=\"data row1 col1\" >13,625</td>\n",
       "      <td id=\"T_ceee1_row1_col2\" class=\"data row1 col2\" >1.4262</td>\n",
       "      <td id=\"T_ceee1_row1_col3\" class=\"data row1 col3\" >1.5317</td>\n",
       "    </tr>\n",
       "    <tr>\n",
       "      <th id=\"T_ceee1_level0_row2\" class=\"row_heading level0 row2\" >2</th>\n",
       "      <td id=\"T_ceee1_row2_col0\" class=\"data row2 col0\" >750,000</td>\n",
       "      <td id=\"T_ceee1_row2_col1\" class=\"data row2 col1\" >14,668</td>\n",
       "      <td id=\"T_ceee1_row2_col2\" class=\"data row2 col2\" >1.5202</td>\n",
       "      <td id=\"T_ceee1_row2_col3\" class=\"data row2 col3\" >1.6488</td>\n",
       "    </tr>\n",
       "    <tr>\n",
       "      <th id=\"T_ceee1_level0_row3\" class=\"row_heading level0 row3\" >3</th>\n",
       "      <td id=\"T_ceee1_row3_col0\" class=\"data row3 col0\" >1,000,000</td>\n",
       "      <td id=\"T_ceee1_row3_col1\" class=\"data row3 col1\" >15,345</td>\n",
       "      <td id=\"T_ceee1_row3_col2\" class=\"data row3 col2\" >1.5812</td>\n",
       "      <td id=\"T_ceee1_row3_col3\" class=\"data row3 col3\" >1.7250</td>\n",
       "    </tr>\n",
       "    <tr>\n",
       "      <th id=\"T_ceee1_level0_row4\" class=\"row_heading level0 row4\" >4</th>\n",
       "      <td id=\"T_ceee1_row4_col0\" class=\"data row4 col0\" >2,000,000</td>\n",
       "      <td id=\"T_ceee1_row4_col1\" class=\"data row4 col1\" >16,738</td>\n",
       "      <td id=\"T_ceee1_row4_col2\" class=\"data row4 col2\" >1.7067</td>\n",
       "      <td id=\"T_ceee1_row4_col3\" class=\"data row4 col3\" >1.8815</td>\n",
       "    </tr>\n",
       "    <tr>\n",
       "      <th id=\"T_ceee1_level0_row5\" class=\"row_heading level0 row5\" >5</th>\n",
       "      <td id=\"T_ceee1_row5_col0\" class=\"data row5 col0\" >3,000,000</td>\n",
       "      <td id=\"T_ceee1_row5_col1\" class=\"data row5 col1\" >17,390</td>\n",
       "      <td id=\"T_ceee1_row5_col2\" class=\"data row5 col2\" >1.7655</td>\n",
       "      <td id=\"T_ceee1_row5_col3\" class=\"data row5 col3\" >1.9549</td>\n",
       "    </tr>\n",
       "    <tr>\n",
       "      <th id=\"T_ceee1_level0_row6\" class=\"row_heading level0 row6\" >6</th>\n",
       "      <td id=\"T_ceee1_row6_col0\" class=\"data row6 col0\" >4,000,000</td>\n",
       "      <td id=\"T_ceee1_row6_col1\" class=\"data row6 col1\" >17,782</td>\n",
       "      <td id=\"T_ceee1_row6_col2\" class=\"data row6 col2\" >1.8009</td>\n",
       "      <td id=\"T_ceee1_row6_col3\" class=\"data row6 col3\" >1.9989</td>\n",
       "    </tr>\n",
       "    <tr>\n",
       "      <th id=\"T_ceee1_level0_row7\" class=\"row_heading level0 row7\" >7</th>\n",
       "      <td id=\"T_ceee1_row7_col0\" class=\"data row7 col0\" >5,000,000</td>\n",
       "      <td id=\"T_ceee1_row7_col1\" class=\"data row7 col1\" >18,048</td>\n",
       "      <td id=\"T_ceee1_row7_col2\" class=\"data row7 col2\" >1.8248</td>\n",
       "      <td id=\"T_ceee1_row7_col3\" class=\"data row7 col3\" >2.0288</td>\n",
       "    </tr>\n",
       "  </tbody>\n",
       "</table>\n"
      ],
      "text/plain": [
       "<pandas.io.formats.style.Styler at 0x211b667edc0>"
      ]
     },
     "metadata": {},
     "output_type": "display_data"
    },
    {
     "name": "stdout",
     "output_type": "stream",
     "text": [
      "time: 15 ms (started: 2022-10-30 08:40:53 +00:00)\n"
     ]
    }
   ],
   "source": [
    "# survival\n",
    "rows = [1e5,  5e5, 7.5e5, 1e6, 2e6, 3e6, 4e6, 5e6]\n",
    "bit = a.density_df.loc[rows, ['lev']]\n",
    "bit['Fixed ALAE'] = (bit.lev + alae) / (bit.lev.iloc[0] + alae)\n",
    "bit['Prop ALAE'] = bit.lev / bit.lev.iloc[0]\n",
    "qd(bit.reset_index(drop=False), 'Table 6.1: Increased limits factors')"
   ]
  },
  {
   "cell_type": "code",
   "execution_count": 79,
   "id": "6586a149-aa7a-4770-8af9-b5ce917e672a",
   "metadata": {},
   "outputs": [
    {
     "data": {
      "text/plain": [
       "3414.0775234148923"
      ]
     },
     "execution_count": 79,
     "metadata": {},
     "output_type": "execute_result"
    },
    {
     "name": "stdout",
     "output_type": "stream",
     "text": [
      "time: 0 ns (started: 2022-10-30 08:30:21 +00:00)\n"
     ]
    }
   ],
   "source": [
    "# exposure\n",
    "m = 400\n",
    "prem_bl = m * ϕ * (bit.loc[100000, 'lev'] + alae) / (1 - ve)\n",
    "prem_bl"
   ]
  },
  {
   "cell_type": "markdown",
   "id": "26316a59-4552-469f-993f-41985b1d61f8",
   "metadata": {},
   "source": [
    "## Bahnemann Example 6.4"
   ]
  },
  {
   "cell_type": "code",
   "execution_count": 55,
   "id": "cb658e47-2800-4b78-b241-27f740928540",
   "metadata": {},
   "outputs": [
    {
     "data": {
      "text/html": [
       "<style type=\"text/css\">\n",
       "</style>\n",
       "<table id=\"T_fbe30_\">\n",
       "  <caption>Table 6.2</caption>\n",
       "  <thead>\n",
       "    <tr>\n",
       "      <th class=\"blank level0\" >&nbsp;</th>\n",
       "      <th class=\"col_heading level0 col0\" >loss</th>\n",
       "      <th class=\"col_heading level0 col1\" >lev</th>\n",
       "      <th class=\"col_heading level0 col2\" >Fixed ALAE</th>\n",
       "      <th class=\"col_heading level0 col3\" >Prop ALAE</th>\n",
       "      <th class=\"col_heading level0 col4\" >Premium</th>\n",
       "      <th class=\"col_heading level0 col5\" >Layer Premium</th>\n",
       "    </tr>\n",
       "  </thead>\n",
       "  <tbody>\n",
       "    <tr>\n",
       "      <th id=\"T_fbe30_level0_row0\" class=\"row_heading level0 row0\" >0</th>\n",
       "      <td id=\"T_fbe30_row0_col0\" class=\"data row0 col0\" >100,000</td>\n",
       "      <td id=\"T_fbe30_row0_col1\" class=\"data row0 col1\" >8,896</td>\n",
       "      <td id=\"T_fbe30_row0_col2\" class=\"data row0 col2\" >1.0000</td>\n",
       "      <td id=\"T_fbe30_row0_col3\" class=\"data row0 col3\" >1.0000</td>\n",
       "      <td id=\"T_fbe30_row0_col4\" class=\"data row0 col4\" >3,414</td>\n",
       "      <td id=\"T_fbe30_row0_col5\" class=\"data row0 col5\" >3,414</td>\n",
       "    </tr>\n",
       "    <tr>\n",
       "      <th id=\"T_fbe30_level0_row1\" class=\"row_heading level0 row1\" >1</th>\n",
       "      <td id=\"T_fbe30_row1_col0\" class=\"data row1 col0\" >500,000</td>\n",
       "      <td id=\"T_fbe30_row1_col1\" class=\"data row1 col1\" >13,625</td>\n",
       "      <td id=\"T_fbe30_row1_col2\" class=\"data row1 col2\" >1.4262</td>\n",
       "      <td id=\"T_fbe30_row1_col3\" class=\"data row1 col3\" >1.5317</td>\n",
       "      <td id=\"T_fbe30_row1_col4\" class=\"data row1 col4\" >4,869</td>\n",
       "      <td id=\"T_fbe30_row1_col5\" class=\"data row1 col5\" >1,455</td>\n",
       "    </tr>\n",
       "    <tr>\n",
       "      <th id=\"T_fbe30_level0_row2\" class=\"row_heading level0 row2\" >2</th>\n",
       "      <td id=\"T_fbe30_row2_col0\" class=\"data row2 col0\" >750,000</td>\n",
       "      <td id=\"T_fbe30_row2_col1\" class=\"data row2 col1\" >14,668</td>\n",
       "      <td id=\"T_fbe30_row2_col2\" class=\"data row2 col2\" >1.5202</td>\n",
       "      <td id=\"T_fbe30_row2_col3\" class=\"data row2 col3\" >1.6488</td>\n",
       "      <td id=\"T_fbe30_row2_col4\" class=\"data row2 col4\" >5,190</td>\n",
       "      <td id=\"T_fbe30_row2_col5\" class=\"data row2 col5\" >321</td>\n",
       "    </tr>\n",
       "    <tr>\n",
       "      <th id=\"T_fbe30_level0_row3\" class=\"row_heading level0 row3\" >3</th>\n",
       "      <td id=\"T_fbe30_row3_col0\" class=\"data row3 col0\" >1,000,000</td>\n",
       "      <td id=\"T_fbe30_row3_col1\" class=\"data row3 col1\" >15,345</td>\n",
       "      <td id=\"T_fbe30_row3_col2\" class=\"data row3 col2\" >1.5812</td>\n",
       "      <td id=\"T_fbe30_row3_col3\" class=\"data row3 col3\" >1.7250</td>\n",
       "      <td id=\"T_fbe30_row3_col4\" class=\"data row3 col4\" >5,398</td>\n",
       "      <td id=\"T_fbe30_row3_col5\" class=\"data row3 col5\" >208</td>\n",
       "    </tr>\n",
       "    <tr>\n",
       "      <th id=\"T_fbe30_level0_row4\" class=\"row_heading level0 row4\" >4</th>\n",
       "      <td id=\"T_fbe30_row4_col0\" class=\"data row4 col0\" >2,000,000</td>\n",
       "      <td id=\"T_fbe30_row4_col1\" class=\"data row4 col1\" >16,738</td>\n",
       "      <td id=\"T_fbe30_row4_col2\" class=\"data row4 col2\" >1.7067</td>\n",
       "      <td id=\"T_fbe30_row4_col3\" class=\"data row4 col3\" >1.8815</td>\n",
       "      <td id=\"T_fbe30_row4_col4\" class=\"data row4 col4\" >5,827</td>\n",
       "      <td id=\"T_fbe30_row4_col5\" class=\"data row4 col5\" >429</td>\n",
       "    </tr>\n",
       "    <tr>\n",
       "      <th id=\"T_fbe30_level0_row5\" class=\"row_heading level0 row5\" >5</th>\n",
       "      <td id=\"T_fbe30_row5_col0\" class=\"data row5 col0\" >3,000,000</td>\n",
       "      <td id=\"T_fbe30_row5_col1\" class=\"data row5 col1\" >17,390</td>\n",
       "      <td id=\"T_fbe30_row5_col2\" class=\"data row5 col2\" >1.7655</td>\n",
       "      <td id=\"T_fbe30_row5_col3\" class=\"data row5 col3\" >1.9549</td>\n",
       "      <td id=\"T_fbe30_row5_col4\" class=\"data row5 col4\" >6,028</td>\n",
       "      <td id=\"T_fbe30_row5_col5\" class=\"data row5 col5\" >201</td>\n",
       "    </tr>\n",
       "    <tr>\n",
       "      <th id=\"T_fbe30_level0_row6\" class=\"row_heading level0 row6\" >6</th>\n",
       "      <td id=\"T_fbe30_row6_col0\" class=\"data row6 col0\" >4,000,000</td>\n",
       "      <td id=\"T_fbe30_row6_col1\" class=\"data row6 col1\" >17,782</td>\n",
       "      <td id=\"T_fbe30_row6_col2\" class=\"data row6 col2\" >1.8009</td>\n",
       "      <td id=\"T_fbe30_row6_col3\" class=\"data row6 col3\" >1.9989</td>\n",
       "      <td id=\"T_fbe30_row6_col4\" class=\"data row6 col4\" >6,148</td>\n",
       "      <td id=\"T_fbe30_row6_col5\" class=\"data row6 col5\" >121</td>\n",
       "    </tr>\n",
       "    <tr>\n",
       "      <th id=\"T_fbe30_level0_row7\" class=\"row_heading level0 row7\" >7</th>\n",
       "      <td id=\"T_fbe30_row7_col0\" class=\"data row7 col0\" >5,000,000</td>\n",
       "      <td id=\"T_fbe30_row7_col1\" class=\"data row7 col1\" >18,048</td>\n",
       "      <td id=\"T_fbe30_row7_col2\" class=\"data row7 col2\" >1.8248</td>\n",
       "      <td id=\"T_fbe30_row7_col3\" class=\"data row7 col3\" >2.0288</td>\n",
       "      <td id=\"T_fbe30_row7_col4\" class=\"data row7 col4\" >6,230</td>\n",
       "      <td id=\"T_fbe30_row7_col5\" class=\"data row7 col5\" >82</td>\n",
       "    </tr>\n",
       "  </tbody>\n",
       "</table>\n"
      ],
      "text/plain": [
       "<pandas.io.formats.style.Styler at 0x211b668fc40>"
      ]
     },
     "metadata": {},
     "output_type": "display_data"
    },
    {
     "name": "stdout",
     "output_type": "stream",
     "text": [
      "time: 0 ns (started: 2022-10-30 08:04:22 +00:00)\n"
     ]
    }
   ],
   "source": [
    "bit['Premium'] = m * ϕ * (bit['lev'] + alae) / (1 - ve)\n",
    "# bit = bit.drop([500000, 750000])\n",
    "bit['Layer Premium'] = np.diff(bit.Premium, prepend=0)\n",
    "qd(bit.reset_index(drop=False), 'Table 6.2')"
   ]
  },
  {
   "cell_type": "code",
   "execution_count": null,
   "id": "23e2abdf-bb15-4c06-998c-83622dc43cfe",
   "metadata": {},
   "outputs": [],
   "source": [
    "bl = build('agg Basic 0.2 claims 100000 x 0 sev lognorm "
   ]
  },
  {
   "cell_type": "code",
   "execution_count": 59,
   "id": "754926c4-6374-4e2f-96fa-f938995d910b",
   "metadata": {},
   "outputs": [
    {
     "data": {
      "text/plain": [
       "0.8333333333333334"
      ]
     },
     "execution_count": 59,
     "metadata": {},
     "output_type": "execute_result"
    },
    {
     "name": "stdout",
     "output_type": "stream",
     "text": [
      "time: 0 ns (started: 2022-10-30 08:10:27 +00:00)\n"
     ]
    }
   ],
   "source": [
    "1/1.2"
   ]
  },
  {
   "cell_type": "code",
   "execution_count": 58,
   "id": "1a3caf2e-62ef-42ed-856f-beb2ed140932",
   "metadata": {},
   "outputs": [
    {
     "name": "stdout",
     "output_type": "stream",
     "text": [
      "time: 0 ns (started: 2022-10-30 08:10:18 +00:00)\n"
     ]
    }
   ],
   "source": [
    "# ALAE factor\n",
    "u = 1.2"
   ]
  },
  {
   "cell_type": "code",
   "execution_count": 82,
   "id": "dad8d113-d038-4745-9814-e63e519f71cc",
   "metadata": {},
   "outputs": [
    {
     "name": "stdout",
     "output_type": "stream",
     "text": [
      "time: 281 ms (started: 2022-10-30 08:31:09 +00:00)\n"
     ]
    }
   ],
   "source": [
    "bl = build('agg B.Basic 0.2 claims '\n",
    "           '100000 xs 0 '\n",
    "          'sev exp(7) * lognorm 2.4 '\n",
    "          'poisson', bs=50, log2=17, \n",
    "          normalize=False, \n",
    "         )\n",
    "\n",
    "b1m = build('agg B.Basic 0.2 claims '\n",
    "           '1000000 xs 0 '\n",
    "          'sev exp(7) * lognorm 2.4 '\n",
    "          'poisson', bs=50, log2=17, \n",
    "          normalize=False, \n",
    "         )"
   ]
  },
  {
   "cell_type": "code",
   "execution_count": 61,
   "id": "2881dd65-4424-4c7f-8bdb-4e3cbebb2842",
   "metadata": {},
   "outputs": [
    {
     "data": {
      "text/html": [
       "<div>\n",
       "<style scoped>\n",
       "    .dataframe tbody tr th:only-of-type {\n",
       "        vertical-align: middle;\n",
       "    }\n",
       "\n",
       "    .dataframe tbody tr th {\n",
       "        vertical-align: top;\n",
       "    }\n",
       "\n",
       "    .dataframe thead th {\n",
       "        text-align: right;\n",
       "    }\n",
       "</style>\n",
       "<table border=\"1\" class=\"dataframe\">\n",
       "  <thead>\n",
       "    <tr style=\"text-align: right;\">\n",
       "      <th></th>\n",
       "      <th>E(X)</th>\n",
       "      <th>Est E(X)</th>\n",
       "      <th>Err E(X)</th>\n",
       "      <th>CV(X)</th>\n",
       "      <th>Est CV(X)</th>\n",
       "      <th>Err CV(X)</th>\n",
       "      <th>Skew(X)</th>\n",
       "    </tr>\n",
       "    <tr>\n",
       "      <th>X</th>\n",
       "      <th></th>\n",
       "      <th></th>\n",
       "      <th></th>\n",
       "      <th></th>\n",
       "      <th></th>\n",
       "      <th></th>\n",
       "      <th></th>\n",
       "    </tr>\n",
       "  </thead>\n",
       "  <tbody>\n",
       "    <tr>\n",
       "      <th>Sev</th>\n",
       "      <td>8.896k</td>\n",
       "      <td>8.896k</td>\n",
       "      <td>-32.838u</td>\n",
       "      <td>2.340</td>\n",
       "      <td>2.340</td>\n",
       "      <td>39.073u</td>\n",
       "      <td>3.342</td>\n",
       "    </tr>\n",
       "    <tr>\n",
       "      <th>Freq</th>\n",
       "      <td>200.000m</td>\n",
       "      <td></td>\n",
       "      <td></td>\n",
       "      <td>2.236</td>\n",
       "      <td></td>\n",
       "      <td></td>\n",
       "      <td>2.236</td>\n",
       "    </tr>\n",
       "    <tr>\n",
       "      <th>Agg</th>\n",
       "      <td>1.779k</td>\n",
       "      <td>1.779k</td>\n",
       "      <td>-32.838u</td>\n",
       "      <td>5.690</td>\n",
       "      <td>5.691</td>\n",
       "      <td>33.040u</td>\n",
       "      <td>8.175</td>\n",
       "    </tr>\n",
       "  </tbody>\n",
       "</table>\n",
       "</div>"
      ],
      "text/plain": [
       "          E(X) Est E(X) Err E(X)  CV(X) Est CV(X) Err CV(X)  Skew(X)\n",
       "X                                                                   \n",
       "Sev     8.896k   8.896k -32.838u  2.340     2.340   39.073u    3.342\n",
       "Freq  200.000m                    2.236                        2.236\n",
       "Agg     1.779k   1.779k -32.838u  5.690     5.691   33.040u    8.175"
      ]
     },
     "execution_count": 61,
     "metadata": {},
     "output_type": "execute_result"
    },
    {
     "name": "stdout",
     "output_type": "stream",
     "text": [
      "time: 16 ms (started: 2022-10-30 08:12:25 +00:00)\n"
     ]
    }
   ],
   "source": [
    "bl.describe"
   ]
  },
  {
   "cell_type": "code",
   "execution_count": 81,
   "id": "ce86a05e-c969-4609-898f-d92a24a9b9fc",
   "metadata": {},
   "outputs": [
    {
     "data": {
      "text/plain": [
       "(8896.044076007398,\n",
       " 2.34008818817231,\n",
       " 512509058.23222876,\n",
       " 627.0909625333527,\n",
       " 627.0909625333527)"
      ]
     },
     "execution_count": 81,
     "metadata": {},
     "output_type": "execute_result"
    },
    {
     "name": "stdout",
     "output_type": "stream",
     "text": [
      "time: 15 ms (started: 2022-10-30 08:30:38 +00:00)\n"
     ]
    }
   ],
   "source": [
    "k_prime = 0.0277\n",
    "k = k_prime * np.sqrt(m * ϕ)\n",
    "ex, cvx = bl.describe.loc['Sev', ['E(X)', 'CV(X)']]\n",
    "vx = (cvx * ex) **2\n",
    "ex2 = vx + ex**2\n",
    "ex, cvx, ex2, k_prime * np.sqrt(ex2), k * bl.describe.loc['Agg', 'CV(X)'] * ex"
   ]
  },
  {
   "cell_type": "code",
   "execution_count": 83,
   "id": "2bb6198c-3eaa-4d1b-9761-d9e431d6961e",
   "metadata": {},
   "outputs": [
    {
     "data": {
      "text/plain": [
       "(15345.224869776124,\n",
       " 4.629966538380874,\n",
       " 5283276847.856447,\n",
       " 2013.4064399896442,\n",
       " 2013.4064399896442)"
      ]
     },
     "execution_count": 83,
     "metadata": {},
     "output_type": "execute_result"
    },
    {
     "name": "stdout",
     "output_type": "stream",
     "text": [
      "time: 16 ms (started: 2022-10-30 08:31:31 +00:00)\n"
     ]
    }
   ],
   "source": [
    "ex, cvx = b1m.describe.loc['Sev', ['E(X)', 'CV(X)']]\n",
    "vx = (cvx * ex) **2\n",
    "ex2 = vx + ex**2\n",
    "ex, cvx, ex2, k_prime * np.sqrt(ex2), k * b1m.describe.loc['Agg', 'CV(X)'] * ex"
   ]
  },
  {
   "cell_type": "code",
   "execution_count": 108,
   "id": "287f7edc-2063-460f-ba95-8ec837128169",
   "metadata": {},
   "outputs": [
    {
     "data": {
      "text/html": [
       "<h3>Aggregate object: B.Basic.All</h3>\n",
       "Claim count 0.20, poisson distribution.<br>\n",
       "Severity: lognorm[10,000,000 xs 0] distribution, 10000000.0 xs 0.0.<br>\n",
       "Updated with bucket size 50 and log2 = 18.<table border=\"1\" class=\"dataframe\">\n",
       "  <thead>\n",
       "    <tr style=\"text-align: right;\">\n",
       "      <th></th>\n",
       "      <th>E(X)</th>\n",
       "      <th>Est E(X)</th>\n",
       "      <th>Err E(X)</th>\n",
       "      <th>CV(X)</th>\n",
       "      <th>Est CV(X)</th>\n",
       "      <th>Err CV(X)</th>\n",
       "      <th>Skew(X)</th>\n",
       "    </tr>\n",
       "    <tr>\n",
       "      <th>X</th>\n",
       "      <th></th>\n",
       "      <th></th>\n",
       "      <th></th>\n",
       "      <th></th>\n",
       "      <th></th>\n",
       "      <th></th>\n",
       "      <th></th>\n",
       "    </tr>\n",
       "  </thead>\n",
       "  <tbody>\n",
       "    <tr>\n",
       "      <th>Sev</th>\n",
       "      <td>18.682k</td>\n",
       "      <td>18.681k</td>\n",
       "      <td>-15.639u</td>\n",
       "      <td>8.648</td>\n",
       "      <td>8.648</td>\n",
       "      <td>15.852u</td>\n",
       "      <td>35.847</td>\n",
       "    </tr>\n",
       "    <tr>\n",
       "      <th>Freq</th>\n",
       "      <td>200.000m</td>\n",
       "      <td></td>\n",
       "      <td></td>\n",
       "      <td>2.236</td>\n",
       "      <td></td>\n",
       "      <td></td>\n",
       "      <td>2.236</td>\n",
       "    </tr>\n",
       "    <tr>\n",
       "      <th>Agg</th>\n",
       "      <td>3.736k</td>\n",
       "      <td>3.736k</td>\n",
       "      <td>-22.170u</td>\n",
       "      <td>19.466</td>\n",
       "      <td>19.466</td>\n",
       "      <td>-13.574u</td>\n",
       "      <td>79.340</td>\n",
       "    </tr>\n",
       "  </tbody>\n",
       "</table>"
      ],
      "text/plain": [
       "<aggregate.distributions.Aggregate object at 0x00000211B71A6C10> name: B.Basic.All"
      ]
     },
     "execution_count": 108,
     "metadata": {},
     "output_type": "execute_result"
    },
    {
     "name": "stdout",
     "output_type": "stream",
     "text": [
      "time: 297 ms (started: 2022-10-30 08:43:29 +00:00)\n"
     ]
    }
   ],
   "source": [
    "b10m = build(f'agg B.Basic.All {m * ϕ} claims '\n",
    "           '10000000 xs 0 '\n",
    "          'sev exp(7) * lognorm 2.4 '\n",
    "          'poisson', bs=50, log2=18, \n",
    "          normalize=False, \n",
    "         )\n",
    "b1m"
   ]
  },
  {
   "cell_type": "code",
   "execution_count": 113,
   "id": "3785cb2b-9744-4587-8647-91b4217959b9",
   "metadata": {},
   "outputs": [
    {
     "data": {
      "text/html": [
       "<style type=\"text/css\">\n",
       "</style>\n",
       "<table id=\"T_29f6b_\">\n",
       "  <thead>\n",
       "    <tr>\n",
       "      <th class=\"blank level0\" >&nbsp;</th>\n",
       "      <th class=\"col_heading level0 col0\" >loss</th>\n",
       "      <th class=\"col_heading level0 col1\" >p_sev</th>\n",
       "      <th class=\"col_heading level0 col2\" >S_sev</th>\n",
       "      <th class=\"col_heading level0 col3\" >lev</th>\n",
       "      <th class=\"col_heading level0 col4\" >exlea</th>\n",
       "      <th class=\"col_heading level0 col5\" >ex_lt</th>\n",
       "      <th class=\"col_heading level0 col6\" >sev_lev</th>\n",
       "      <th class=\"col_heading level0 col7\" >ex2_lt</th>\n",
       "      <th class=\"col_heading level0 col8\" >ex2</th>\n",
       "      <th class=\"col_heading level0 col9\" >rho</th>\n",
       "    </tr>\n",
       "    <tr>\n",
       "      <th class=\"index_name level0\" >loss</th>\n",
       "      <th class=\"blank col0\" >&nbsp;</th>\n",
       "      <th class=\"blank col1\" >&nbsp;</th>\n",
       "      <th class=\"blank col2\" >&nbsp;</th>\n",
       "      <th class=\"blank col3\" >&nbsp;</th>\n",
       "      <th class=\"blank col4\" >&nbsp;</th>\n",
       "      <th class=\"blank col5\" >&nbsp;</th>\n",
       "      <th class=\"blank col6\" >&nbsp;</th>\n",
       "      <th class=\"blank col7\" >&nbsp;</th>\n",
       "      <th class=\"blank col8\" >&nbsp;</th>\n",
       "      <th class=\"blank col9\" >&nbsp;</th>\n",
       "    </tr>\n",
       "  </thead>\n",
       "  <tbody>\n",
       "    <tr>\n",
       "      <th id=\"T_29f6b_level0_row0\" class=\"row_heading level0 row0\" >100000</th>\n",
       "      <td id=\"T_29f6b_row0_col0\" class=\"data row0 col0\" >100000.000000</td>\n",
       "      <td id=\"T_29f6b_row0_col1\" class=\"data row0 col1\" >0.000014</td>\n",
       "      <td id=\"T_29f6b_row0_col2\" class=\"data row0 col2\" >0.030021</td>\n",
       "      <td id=\"T_29f6b_row0_col3\" class=\"data row0 col3\" >1769.164521</td>\n",
       "      <td id=\"T_29f6b_row0_col4\" class=\"data row0 col4\" >1170.552088</td>\n",
       "      <td id=\"T_29f6b_row0_col5\" class=\"data row0 col5\" >5893.683946</td>\n",
       "      <td id=\"T_29f6b_row0_col6\" class=\"data row0 col6\" >8895.751951</td>\n",
       "      <td id=\"T_29f6b_row0_col7\" class=\"data row0 col7\" >212302463.547736</td>\n",
       "      <td id=\"T_29f6b_row0_col8\" class=\"data row0 col8\" >512509264.083089</td>\n",
       "      <td id=\"T_29f6b_row0_col9\" class=\"data row0 col9\" >627.091088</td>\n",
       "    </tr>\n",
       "    <tr>\n",
       "      <th id=\"T_29f6b_level0_row1\" class=\"row_heading level0 row1\" >1000000</th>\n",
       "      <td id=\"T_29f6b_row1_col0\" class=\"data row1 col0\" >1000000.000000</td>\n",
       "      <td id=\"T_29f6b_row1_col1\" class=\"data row1 col1\" >0.000000</td>\n",
       "      <td id=\"T_29f6b_row1_col2\" class=\"data row1 col2\" >0.002257</td>\n",
       "      <td id=\"T_29f6b_row1_col3\" class=\"data row1 col3\" >3067.516245</td>\n",
       "      <td id=\"T_29f6b_row1_col4\" class=\"data row1 col4\" >2615.633589</td>\n",
       "      <td id=\"T_29f6b_row1_col5\" class=\"data row1 col5\" >13087.887264</td>\n",
       "      <td id=\"T_29f6b_row1_col6\" class=\"data row1 col6\" >15344.932715</td>\n",
       "      <td id=\"T_29f6b_row1_col7\" class=\"data row1 col7\" >3026231603.002644</td>\n",
       "      <td id=\"T_29f6b_row1_col8\" class=\"data row1 col8\" >5283277054.196095</td>\n",
       "      <td id=\"T_29f6b_row1_col9\" class=\"data row1 col9\" >2013.406479</td>\n",
       "    </tr>\n",
       "  </tbody>\n",
       "</table>\n"
      ],
      "text/plain": [
       "<pandas.io.formats.style.Styler at 0x211b72099d0>"
      ]
     },
     "execution_count": 113,
     "metadata": {},
     "output_type": "execute_result"
    },
    {
     "name": "stdout",
     "output_type": "stream",
     "text": [
      "time: 47 ms (started: 2022-10-30 08:45:22 +00:00)\n"
     ]
    }
   ],
   "source": [
    "df = b10m.density_df[['loss', 'p_sev', 'S_sev', 'lev', 'exlea']]\n",
    "# severity lev\n",
    "df['ex_lt'] = (df.loss * df.p_sev).cumsum()\n",
    "df['sev_lev'] = df.ex_lt + df.S_sev * df.loss\n",
    "# sev lev squared\n",
    "df['ex2_lt'] = (df.loss ** 2 * df.p_sev).cumsum()\n",
    "df['ex2'] = df.ex2_lt + df.S_sev * df.loss ** 2\n",
    "df['rho'] = df.ex2 ** 0.5 * k_prime"
   ]
  },
  {
   "cell_type": "code",
   "execution_count": 116,
   "id": "a9294e53-65cf-417e-988a-475214fa06e4",
   "metadata": {},
   "outputs": [
    {
     "name": "stdout",
     "output_type": "stream",
     "text": [
      "time: 0 ns (started: 2022-10-30 08:46:35 +00:00)\n"
     ]
    }
   ],
   "source": [
    "rows = [100000.0, 500000.0, 1000000.0, 2000000.0, 3000000.0, 4000000.0, 5000000.0]"
   ]
  },
  {
   "cell_type": "code",
   "execution_count": 118,
   "id": "7fa4c746-73eb-4f6b-a533-5e84c770bef3",
   "metadata": {},
   "outputs": [
    {
     "data": {
      "text/html": [
       "<style type=\"text/css\">\n",
       "</style>\n",
       "<table id=\"T_20923_\">\n",
       "  <caption>Table 6.3</caption>\n",
       "  <thead>\n",
       "    <tr>\n",
       "      <th class=\"blank level0\" >&nbsp;</th>\n",
       "      <th class=\"col_heading level0 col0\" >loss</th>\n",
       "      <th class=\"col_heading level0 col1\" >LLAE</th>\n",
       "      <th class=\"col_heading level0 col2\" >rho</th>\n",
       "      <th class=\"col_heading level0 col3\" >I wo</th>\n",
       "      <th class=\"col_heading level0 col4\" >I with</th>\n",
       "    </tr>\n",
       "  </thead>\n",
       "  <tbody>\n",
       "    <tr>\n",
       "      <th id=\"T_20923_level0_row0\" class=\"row_heading level0 row0\" >0</th>\n",
       "      <td id=\"T_20923_row0_col0\" class=\"data row0 col0\" >100,000</td>\n",
       "      <td id=\"T_20923_row0_col1\" class=\"data row0 col1\" >10,675</td>\n",
       "      <td id=\"T_20923_row0_col2\" class=\"data row0 col2\" >627</td>\n",
       "      <td id=\"T_20923_row0_col3\" class=\"data row0 col3\" >1.0000</td>\n",
       "      <td id=\"T_20923_row0_col4\" class=\"data row0 col4\" >1.0000</td>\n",
       "    </tr>\n",
       "    <tr>\n",
       "      <th id=\"T_20923_level0_row1\" class=\"row_heading level0 row1\" >1</th>\n",
       "      <td id=\"T_20923_row1_col0\" class=\"data row1 col0\" >500,000</td>\n",
       "      <td id=\"T_20923_row1_col1\" class=\"data row1 col1\" >16,350</td>\n",
       "      <td id=\"T_20923_row1_col2\" class=\"data row1 col2\" >1,473</td>\n",
       "      <td id=\"T_20923_row1_col3\" class=\"data row1 col3\" >1.5317</td>\n",
       "      <td id=\"T_20923_row1_col4\" class=\"data row1 col4\" >1.5770</td>\n",
       "    </tr>\n",
       "    <tr>\n",
       "      <th id=\"T_20923_level0_row2\" class=\"row_heading level0 row2\" >2</th>\n",
       "      <td id=\"T_20923_row2_col0\" class=\"data row2 col0\" >1,000,000</td>\n",
       "      <td id=\"T_20923_row2_col1\" class=\"data row2 col1\" >18,414</td>\n",
       "      <td id=\"T_20923_row2_col2\" class=\"data row2 col2\" >2,013</td>\n",
       "      <td id=\"T_20923_row2_col3\" class=\"data row2 col3\" >1.7250</td>\n",
       "      <td id=\"T_20923_row2_col4\" class=\"data row2 col4\" >1.8074</td>\n",
       "    </tr>\n",
       "    <tr>\n",
       "      <th id=\"T_20923_level0_row3\" class=\"row_heading level0 row3\" >3</th>\n",
       "      <td id=\"T_20923_row3_col0\" class=\"data row3 col0\" >2,000,000</td>\n",
       "      <td id=\"T_20923_row3_col1\" class=\"data row3 col1\" >20,085</td>\n",
       "      <td id=\"T_20923_row3_col2\" class=\"data row3 col2\" >2,663</td>\n",
       "      <td id=\"T_20923_row3_col3\" class=\"data row3 col3\" >1.8815</td>\n",
       "      <td id=\"T_20923_row3_col4\" class=\"data row3 col4\" >2.0128</td>\n",
       "    </tr>\n",
       "    <tr>\n",
       "      <th id=\"T_20923_level0_row4\" class=\"row_heading level0 row4\" >4</th>\n",
       "      <td id=\"T_20923_row4_col0\" class=\"data row4 col0\" >3,000,000</td>\n",
       "      <td id=\"T_20923_row4_col1\" class=\"data row4 col1\" >20,868</td>\n",
       "      <td id=\"T_20923_row4_col2\" class=\"data row4 col2\" >3,090</td>\n",
       "      <td id=\"T_20923_row4_col3\" class=\"data row4 col3\" >1.9549</td>\n",
       "      <td id=\"T_20923_row4_col4\" class=\"data row4 col4\" >2.1198</td>\n",
       "    </tr>\n",
       "    <tr>\n",
       "      <th id=\"T_20923_level0_row5\" class=\"row_heading level0 row5\" >5</th>\n",
       "      <td id=\"T_20923_row5_col0\" class=\"data row5 col0\" >4,000,000</td>\n",
       "      <td id=\"T_20923_row5_col1\" class=\"data row5 col1\" >21,338</td>\n",
       "      <td id=\"T_20923_row5_col2\" class=\"data row5 col2\" >3,410</td>\n",
       "      <td id=\"T_20923_row5_col3\" class=\"data row5 col3\" >1.9989</td>\n",
       "      <td id=\"T_20923_row5_col4\" class=\"data row5 col4\" >2.1898</td>\n",
       "    </tr>\n",
       "    <tr>\n",
       "      <th id=\"T_20923_level0_row6\" class=\"row_heading level0 row6\" >6</th>\n",
       "      <td id=\"T_20923_row6_col0\" class=\"data row6 col0\" >5,000,000</td>\n",
       "      <td id=\"T_20923_row6_col1\" class=\"data row6 col1\" >21,657</td>\n",
       "      <td id=\"T_20923_row6_col2\" class=\"data row6 col2\" >3,668</td>\n",
       "      <td id=\"T_20923_row6_col3\" class=\"data row6 col3\" >2.0288</td>\n",
       "      <td id=\"T_20923_row6_col4\" class=\"data row6 col4\" >2.2408</td>\n",
       "    </tr>\n",
       "  </tbody>\n",
       "</table>\n"
      ],
      "text/plain": [
       "<pandas.io.formats.style.Styler at 0x211b720b160>"
      ]
     },
     "metadata": {},
     "output_type": "display_data"
    },
    {
     "name": "stdout",
     "output_type": "stream",
     "text": [
      "time: 15 ms (started: 2022-10-30 08:47:06 +00:00)\n"
     ]
    }
   ],
   "source": [
    "df['LLAE'] = df.sev_lev * u\n",
    "df['I wo'] = df.sev_lev / df.loc[100000, 'sev_lev']\n",
    "df['I with'] = (df.LLAE + df.rho) / (df.LLAE[100000] + df.rho[100000])\n",
    "qd(df.loc[rows, ['loss', 'LLAE', 'rho', 'I wo', 'I with']].reset_index(drop=True), 'Table 6.3')"
   ]
  },
  {
   "cell_type": "code",
   "execution_count": 119,
   "id": "0c90d2e1-b3fd-4f32-af35-0d58e9bcc411",
   "metadata": {},
   "outputs": [
    {
     "data": {
      "text/plain": [
       "0.31622776601683794"
      ]
     },
     "execution_count": 119,
     "metadata": {},
     "output_type": "execute_result"
    },
    {
     "name": "stdout",
     "output_type": "stream",
     "text": [
      "time: 0 ns (started: 2022-10-30 08:48:23 +00:00)\n"
     ]
    }
   ],
   "source": [
    "np.sqrt(0.1)"
   ]
  },
  {
   "cell_type": "code",
   "execution_count": 150,
   "id": "d87e8224-06c1-4d1b-88f6-ab8f21504f40",
   "metadata": {},
   "outputs": [
    {
     "name": "stdout",
     "output_type": "stream",
     "text": [
      "time: 641 ms (started: 2022-10-30 12:53:20 +00:00)\n"
     ]
    }
   ],
   "source": [
    "bagg500 = build(f'agg B.Basic.All 1.2 claims '\n",
    "           '500000 xs 0 '\n",
    "          'sev exp(7.6) * lognorm 2.4 '\n",
    "          f'mixed gamma {np.sqrt(0.1)}', bs=50, log2=18, \n",
    "          normalize=False, \n",
    "         )\n",
    "bagg2m = build(f'agg B.Basic.2M 1.2 claims '\n",
    "                '2000000 xs 0 '\n",
    "                'sev exp(7.6) * lognorm 2.4 '\n",
    "               f'mixed gamma {np.sqrt(0.1)} ', \n",
    "                bs=50, log2=18, \n",
    "                normalize=False, \n",
    "         )\n",
    "bagg2m3a = build(f'agg B.Basic.2M 1.2 claims '\n",
    "                '2000000 xs 0 '\n",
    "                'sev exp(7.6) * lognorm 2.4 '\n",
    "               f'mixed gamma {np.sqrt(0.1)} aggregate ceded to {3000000} xs 0', \n",
    "                bs=50, log2=18, \n",
    "                normalize=False, \n",
    "         )"
   ]
  },
  {
   "cell_type": "code",
   "execution_count": 151,
   "id": "7722a80d-4aa6-4fa2-99c4-cba1d5e7d329",
   "metadata": {},
   "outputs": [
    {
     "data": {
      "text/html": [
       "<h3>Aggregate object: B.Basic.All</h3>\n",
       "Claim count 1.20, gamma distribution.<br>\n",
       "Severity: lognorm[500,000 xs 0] distribution, 500000.0 xs 0.0.<br>\n",
       "Updated with bucket size 50 and log2 = 18.<table border=\"1\" class=\"dataframe\">\n",
       "  <thead>\n",
       "    <tr style=\"text-align: right;\">\n",
       "      <th></th>\n",
       "      <th>E(X)</th>\n",
       "      <th>Est E(X)</th>\n",
       "      <th>Err E(X)</th>\n",
       "      <th>CV(X)</th>\n",
       "      <th>Est CV(X)</th>\n",
       "      <th>Err CV(X)</th>\n",
       "      <th>Skew(X)</th>\n",
       "    </tr>\n",
       "    <tr>\n",
       "      <th>X</th>\n",
       "      <th></th>\n",
       "      <th></th>\n",
       "      <th></th>\n",
       "      <th></th>\n",
       "      <th></th>\n",
       "      <th></th>\n",
       "      <th></th>\n",
       "    </tr>\n",
       "  </thead>\n",
       "  <tbody>\n",
       "    <tr>\n",
       "      <th>Sev</th>\n",
       "      <td>21.743k</td>\n",
       "      <td>21.742k</td>\n",
       "      <td>-7.582u</td>\n",
       "      <td>3.155</td>\n",
       "      <td>3.155</td>\n",
       "      <td>8.366u</td>\n",
       "      <td>5.311</td>\n",
       "    </tr>\n",
       "    <tr>\n",
       "      <th>Freq</th>\n",
       "      <td>1.200</td>\n",
       "      <td></td>\n",
       "      <td></td>\n",
       "      <td>966.092m</td>\n",
       "      <td></td>\n",
       "      <td></td>\n",
       "      <td>1.070</td>\n",
       "    </tr>\n",
       "    <tr>\n",
       "      <th>Agg</th>\n",
       "      <td>26.091k</td>\n",
       "      <td>26.091k</td>\n",
       "      <td>-7.582u</td>\n",
       "      <td>3.038</td>\n",
       "      <td>3.038</td>\n",
       "      <td>7.520u</td>\n",
       "      <td>4.994</td>\n",
       "    </tr>\n",
       "  </tbody>\n",
       "</table>"
      ],
      "text/plain": [
       "<aggregate.distributions.Aggregate object at 0x00000211CD45CF90> name: B.Basic.All"
      ]
     },
     "execution_count": 151,
     "metadata": {},
     "output_type": "execute_result"
    },
    {
     "name": "stdout",
     "output_type": "stream",
     "text": [
      "time: 15 ms (started: 2022-10-30 12:53:21 +00:00)\n"
     ]
    }
   ],
   "source": [
    "bagg500"
   ]
  },
  {
   "cell_type": "code",
   "execution_count": 152,
   "id": "9bac33d6-ef10-4382-b7be-66bb3b535df0",
   "metadata": {},
   "outputs": [
    {
     "data": {
      "text/html": [
       "<h3>Aggregate object: B.Basic.2M</h3>\n",
       "Claim count 1.20, gamma distribution.<br>\n",
       "Severity: lognorm[2,000,000 xs 0] distribution, 2000000.0 xs 0.0.<br>\n",
       "Updated with bucket size 50 and log2 = 18.<table border=\"1\" class=\"dataframe\">\n",
       "  <thead>\n",
       "    <tr style=\"text-align: right;\">\n",
       "      <th></th>\n",
       "      <th>E(X)</th>\n",
       "      <th>Est E(X)</th>\n",
       "      <th>Err E(X)</th>\n",
       "      <th>CV(X)</th>\n",
       "      <th>Est CV(X)</th>\n",
       "      <th>Err CV(X)</th>\n",
       "      <th>Skew(X)</th>\n",
       "    </tr>\n",
       "    <tr>\n",
       "      <th>X</th>\n",
       "      <th></th>\n",
       "      <th></th>\n",
       "      <th></th>\n",
       "      <th></th>\n",
       "      <th></th>\n",
       "      <th></th>\n",
       "      <th></th>\n",
       "    </tr>\n",
       "  </thead>\n",
       "  <tbody>\n",
       "    <tr>\n",
       "      <th>Sev</th>\n",
       "      <td>28.338k</td>\n",
       "      <td>28.338k</td>\n",
       "      <td>-5.817u</td>\n",
       "      <td>4.758</td>\n",
       "      <td>4.758</td>\n",
       "      <td>6.080u</td>\n",
       "      <td>10.437</td>\n",
       "    </tr>\n",
       "    <tr>\n",
       "      <th>Freq</th>\n",
       "      <td>1.200</td>\n",
       "      <td></td>\n",
       "      <td></td>\n",
       "      <td>966.092m</td>\n",
       "      <td></td>\n",
       "      <td></td>\n",
       "      <td>1.070</td>\n",
       "    </tr>\n",
       "    <tr>\n",
       "      <th>Agg</th>\n",
       "      <td>34.006k</td>\n",
       "      <td>34.006k</td>\n",
       "      <td>-5.817u</td>\n",
       "      <td>4.450</td>\n",
       "      <td>4.450</td>\n",
       "      <td>5.794u</td>\n",
       "      <td>9.473</td>\n",
       "    </tr>\n",
       "  </tbody>\n",
       "</table>"
      ],
      "text/plain": [
       "<aggregate.distributions.Aggregate object at 0x00000211CD45C5F0> name: B.Basic.2M"
      ]
     },
     "execution_count": 152,
     "metadata": {},
     "output_type": "execute_result"
    },
    {
     "name": "stdout",
     "output_type": "stream",
     "text": [
      "time: 15 ms (started: 2022-10-30 12:53:21 +00:00)\n"
     ]
    }
   ],
   "source": [
    "bagg2m"
   ]
  },
  {
   "cell_type": "code",
   "execution_count": 154,
   "id": "7019322f-aacb-4ed1-9d52-cd67475048c4",
   "metadata": {},
   "outputs": [
    {
     "data": {
      "text/html": [
       "<h3>Aggregate object: B.Basic.2M</h3>\n",
       "Claim count 1.20, gamma distribution.<br>\n",
       "Severity: lognorm[2,000,000 xs 0] distribution, 2000000.0 xs 0.0.<br>\n",
       "Updated with bucket size 50 and log2 = 18.<table border=\"1\" class=\"dataframe\">\n",
       "  <thead>\n",
       "    <tr style=\"text-align: right;\">\n",
       "      <th></th>\n",
       "      <th>E(X)</th>\n",
       "      <th>Est E(X)</th>\n",
       "      <th>Err E(X)</th>\n",
       "      <th>CV(X)</th>\n",
       "      <th>Est CV(X)</th>\n",
       "      <th>Err CV(X)</th>\n",
       "      <th>Skew(X)</th>\n",
       "    </tr>\n",
       "    <tr>\n",
       "      <th>X</th>\n",
       "      <th></th>\n",
       "      <th></th>\n",
       "      <th></th>\n",
       "      <th></th>\n",
       "      <th></th>\n",
       "      <th></th>\n",
       "      <th></th>\n",
       "    </tr>\n",
       "  </thead>\n",
       "  <tbody>\n",
       "    <tr>\n",
       "      <th>Sev</th>\n",
       "      <td>28.338k</td>\n",
       "      <td>28.338k</td>\n",
       "      <td>-5.817u</td>\n",
       "      <td>4.758</td>\n",
       "      <td>4.758</td>\n",
       "      <td>6.080u</td>\n",
       "      <td>10.437</td>\n",
       "    </tr>\n",
       "    <tr>\n",
       "      <th>Freq</th>\n",
       "      <td>1.200</td>\n",
       "      <td></td>\n",
       "      <td></td>\n",
       "      <td>966.092m</td>\n",
       "      <td></td>\n",
       "      <td></td>\n",
       "      <td>1.070</td>\n",
       "    </tr>\n",
       "    <tr>\n",
       "      <th>Agg</th>\n",
       "      <td>34.006k</td>\n",
       "      <td>33.998k</td>\n",
       "      <td>-226.725u</td>\n",
       "      <td>4.450</td>\n",
       "      <td>4.446</td>\n",
       "      <td>-878.623u</td>\n",
       "      <td>9.473</td>\n",
       "    </tr>\n",
       "  </tbody>\n",
       "</table>"
      ],
      "text/plain": [
       "<aggregate.distributions.Aggregate object at 0x00000211CD45C2E0> name: B.Basic.2M"
      ]
     },
     "execution_count": 154,
     "metadata": {},
     "output_type": "execute_result"
    },
    {
     "name": "stdout",
     "output_type": "stream",
     "text": [
      "time: 16 ms (started: 2022-10-30 12:53:27 +00:00)\n"
     ]
    }
   ],
   "source": [
    "bagg2m3a"
   ]
  },
  {
   "cell_type": "code",
   "execution_count": 164,
   "id": "d174f35b-6340-4008-a818-e244851b9ac4",
   "metadata": {},
   "outputs": [
    {
     "data": {
      "text/plain": [
       "(151311.47469045265, 22895162372.999493, 9.472767880156624)"
      ]
     },
     "execution_count": 164,
     "metadata": {},
     "output_type": "execute_result"
    },
    {
     "name": "stdout",
     "output_type": "stream",
     "text": [
      "time: 0 ns (started: 2022-10-30 12:55:54 +00:00)\n"
     ]
    }
   ],
   "source": [
    "bagg2m.agg_sd,bagg2m.agg_var, bagg2m.agg_skew"
   ]
  },
  {
   "cell_type": "code",
   "execution_count": 157,
   "id": "4706bd69-0b61-45bb-8848-15fac991e958",
   "metadata": {},
   "outputs": [
    {
     "name": "stdout",
     "output_type": "stream",
     "text": [
      "time: 0 ns (started: 2022-10-30 12:54:16 +00:00)\n"
     ]
    }
   ],
   "source": [
    "fz = bagg2m.approximate('sgamma')"
   ]
  },
  {
   "cell_type": "code",
   "execution_count": 161,
   "id": "e8fb3d01-3544-4a6e-b219-a829a935adb6",
   "metadata": {},
   "outputs": [
    {
     "name": "stdout",
     "output_type": "stream",
     "text": [
      "time: 0 ns (started: 2022-10-30 12:55:11 +00:00)\n"
     ]
    }
   ],
   "source": [
    "from scipy.integrate import quad"
   ]
  },
  {
   "cell_type": "code",
   "execution_count": 163,
   "id": "55366f1d-4437-48c6-bcb2-3bde8b5cf001",
   "metadata": {},
   "outputs": [
    {
     "data": {
      "text/plain": [
       "(array(     34006), array( 2.2895e+10), array(    9.4728))"
      ]
     },
     "execution_count": 163,
     "metadata": {},
     "output_type": "execute_result"
    },
    {
     "name": "stdout",
     "output_type": "stream",
     "text": [
      "time: 0 ns (started: 2022-10-30 12:55:46 +00:00)\n"
     ]
    }
   ],
   "source": [
    "fz.stats('mvs')"
   ]
  },
  {
   "cell_type": "code",
   "execution_count": 162,
   "id": "94eb5fc9-fcb4-432b-a1db-138584992d91",
   "metadata": {},
   "outputs": [
    {
     "data": {
      "text/plain": [
       "(-0.00014859978745972706, 6.1749242466502e-09)"
      ]
     },
     "execution_count": 162,
     "metadata": {},
     "output_type": "execute_result"
    },
    {
     "name": "stdout",
     "output_type": "stream",
     "text": [
      "time: 31 ms (started: 2022-10-30 12:55:33 +00:00)\n"
     ]
    }
   ],
   "source": [
    "quad(fz.sf, 3e6, np.inf)"
   ]
  },
  {
   "cell_type": "code",
   "execution_count": 172,
   "id": "505f5301-cb78-486b-a914-4c0e56e513f3",
   "metadata": {},
   "outputs": [
    {
     "data": {
      "text/plain": [
       "(91.22595304620786, 3.1164055696924695e-09)"
      ]
     },
     "execution_count": 172,
     "metadata": {},
     "output_type": "execute_result"
    },
    {
     "name": "stdout",
     "output_type": "stream",
     "text": [
      "time: 16 ms (started: 2022-10-30 15:27:02 +00:00)\n"
     ]
    }
   ],
   "source": [
    "quad(fz.sf, 3e6, 50e6)"
   ]
  },
  {
   "cell_type": "code",
   "execution_count": 168,
   "id": "f01ca503-6bc9-4c1e-bfad-a6c8cf0cadea",
   "metadata": {},
   "outputs": [
    {
     "data": {
      "text/plain": [
       "(90.6439456541391, 101.94312966863103)"
      ]
     },
     "execution_count": 168,
     "metadata": {},
     "output_type": "execute_result"
    },
    {
     "name": "stdout",
     "output_type": "stream",
     "text": [
      "time: 62 ms (started: 2022-10-30 12:58:09 +00:00)\n"
     ]
    }
   ],
   "source": [
    "quad(lambda x : (x-3e6) * fz.pdf(x), 3e6, np.inf)"
   ]
  },
  {
   "cell_type": "code",
   "execution_count": 166,
   "id": "cc2b7fa2-cf23-4184-baef-7782167d99ae",
   "metadata": {},
   "outputs": [
    {
     "data": {
      "text/plain": [
       "(0.00014859891126457967, 1.4497695447590608e-05, 0.00013410121581698906)"
      ]
     },
     "execution_count": 166,
     "metadata": {},
     "output_type": "execute_result"
    },
    {
     "name": "stdout",
     "output_type": "stream",
     "text": [
      "time: 0 ns (started: 2022-10-30 12:57:01 +00:00)\n"
     ]
    }
   ],
   "source": [
    "fz.sf(3e6), bagg2m.sf(3.e6), fz.sf(3e6) - bagg2m.sf(3.e6)"
   ]
  },
  {
   "cell_type": "code",
   "execution_count": 179,
   "id": "0ab0bc18-d32b-4955-b4db-b9483a436023",
   "metadata": {},
   "outputs": [
    {
     "data": {
      "text/plain": [
       "(-0.00013410121579787276, 0.0001341012158170285)"
      ]
     },
     "execution_count": 179,
     "metadata": {},
     "output_type": "execute_result"
    },
    {
     "name": "stdout",
     "output_type": "stream",
     "text": [
      "time: 0 ns (started: 2022-10-30 15:31:26 +00:00)\n"
     ]
    }
   ],
   "source": [
    "bagg2m.density_df.loc[3e6, 'S'] - fz.sf(3e6), \\\n",
    "bagg2m.density_df.loc[3e6, 'F'] - fz.cdf(3e6)"
   ]
  },
  {
   "cell_type": "code",
   "execution_count": 178,
   "id": "3062f33b-9a37-4d56-8bc3-936ec7b7b5ba",
   "metadata": {},
   "outputs": [
    {
     "data": {
      "text/plain": [
       "751.2214936698388"
      ]
     },
     "execution_count": 178,
     "metadata": {},
     "output_type": "execute_result"
    },
    {
     "name": "stdout",
     "output_type": "stream",
     "text": [
      "time: 0 ns (started: 2022-10-30 15:31:02 +00:00)\n"
     ]
    }
   ],
   "source": [
    "(bagg2m.density_df.loc[3e6:, 'S'].sum() * bagg2m.bs * 100"
   ]
  },
  {
   "cell_type": "code",
   "execution_count": 153,
   "id": "61c1e5c5-64fd-4e51-8be4-af6045cae5a5",
   "metadata": {},
   "outputs": [
    {
     "data": {
      "text/html": [
       "<div>\n",
       "<style scoped>\n",
       "    .dataframe tbody tr th:only-of-type {\n",
       "        vertical-align: middle;\n",
       "    }\n",
       "\n",
       "    .dataframe tbody tr th {\n",
       "        vertical-align: top;\n",
       "    }\n",
       "\n",
       "    .dataframe thead th {\n",
       "        text-align: right;\n",
       "    }\n",
       "</style>\n",
       "<table border=\"1\" class=\"dataframe\">\n",
       "  <thead>\n",
       "    <tr style=\"text-align: right;\">\n",
       "      <th></th>\n",
       "      <th>E(X)</th>\n",
       "      <th>Est E(X)</th>\n",
       "      <th>Err E(X)</th>\n",
       "      <th>CV(X)</th>\n",
       "      <th>Est CV(X)</th>\n",
       "      <th>Err CV(X)</th>\n",
       "      <th>Skew(X)</th>\n",
       "    </tr>\n",
       "    <tr>\n",
       "      <th>X</th>\n",
       "      <th></th>\n",
       "      <th></th>\n",
       "      <th></th>\n",
       "      <th></th>\n",
       "      <th></th>\n",
       "      <th></th>\n",
       "      <th></th>\n",
       "    </tr>\n",
       "  </thead>\n",
       "  <tbody>\n",
       "    <tr>\n",
       "      <th>Sev</th>\n",
       "      <td>28.338k</td>\n",
       "      <td>28.338k</td>\n",
       "      <td>-5.817u</td>\n",
       "      <td>4.758</td>\n",
       "      <td>4.758</td>\n",
       "      <td>6.080u</td>\n",
       "      <td>10.437</td>\n",
       "    </tr>\n",
       "    <tr>\n",
       "      <th>Freq</th>\n",
       "      <td>1.200</td>\n",
       "      <td></td>\n",
       "      <td></td>\n",
       "      <td>966.092m</td>\n",
       "      <td></td>\n",
       "      <td></td>\n",
       "      <td>1.070</td>\n",
       "    </tr>\n",
       "    <tr>\n",
       "      <th>Agg</th>\n",
       "      <td>34.006k</td>\n",
       "      <td>34.006k</td>\n",
       "      <td>-5.817u</td>\n",
       "      <td>4.450</td>\n",
       "      <td>4.450</td>\n",
       "      <td>5.794u</td>\n",
       "      <td>9.473</td>\n",
       "    </tr>\n",
       "  </tbody>\n",
       "</table>\n",
       "</div>"
      ],
      "text/plain": [
       "         E(X) Est E(X) Err E(X)     CV(X) Est CV(X) Err CV(X)  Skew(X)\n",
       "X                                                                     \n",
       "Sev   28.338k  28.338k  -5.817u     4.758     4.758    6.080u   10.437\n",
       "Freq    1.200                    966.092m                        1.070\n",
       "Agg   34.006k  34.006k  -5.817u     4.450     4.450    5.794u    9.473"
      ]
     },
     "execution_count": 153,
     "metadata": {},
     "output_type": "execute_result"
    },
    {
     "name": "stdout",
     "output_type": "stream",
     "text": [
      "time: 16 ms (started: 2022-10-30 12:53:22 +00:00)\n"
     ]
    }
   ],
   "source": [
    "bagg2m.describe#.iloc[-1, :2].diff()"
   ]
  },
  {
   "cell_type": "code",
   "execution_count": 193,
   "id": "a0f2d212-49f5-4509-87e2-a1e781de21d0",
   "metadata": {},
   "outputs": [
    {
     "data": {
      "text/html": [
       "<div>\n",
       "<style scoped>\n",
       "    .dataframe tbody tr th:only-of-type {\n",
       "        vertical-align: middle;\n",
       "    }\n",
       "\n",
       "    .dataframe tbody tr th {\n",
       "        vertical-align: top;\n",
       "    }\n",
       "\n",
       "    .dataframe thead th {\n",
       "        text-align: right;\n",
       "    }\n",
       "</style>\n",
       "<table border=\"1\" class=\"dataframe\">\n",
       "  <thead>\n",
       "    <tr style=\"text-align: right;\">\n",
       "      <th></th>\n",
       "      <th>loss</th>\n",
       "      <th>p</th>\n",
       "      <th>F</th>\n",
       "      <th>F_sev</th>\n",
       "      <th>S</th>\n",
       "      <th>S_sev</th>\n",
       "      <th>lev</th>\n",
       "      <th>sg</th>\n",
       "      <th>pdf</th>\n",
       "    </tr>\n",
       "    <tr>\n",
       "      <th>loss</th>\n",
       "      <th></th>\n",
       "      <th></th>\n",
       "      <th></th>\n",
       "      <th></th>\n",
       "      <th></th>\n",
       "      <th></th>\n",
       "      <th></th>\n",
       "      <th></th>\n",
       "      <th></th>\n",
       "    </tr>\n",
       "  </thead>\n",
       "  <tbody>\n",
       "    <tr>\n",
       "      <th>0.000</th>\n",
       "      <td>0.000</td>\n",
       "      <td>333.928m</td>\n",
       "      <td>333.928m</td>\n",
       "      <td>33.965m</td>\n",
       "      <td>666.072m</td>\n",
       "      <td>966.035m</td>\n",
       "      <td>0.000</td>\n",
       "      <td>0.000</td>\n",
       "      <td>0.000</td>\n",
       "    </tr>\n",
       "    <tr>\n",
       "      <th>50.000</th>\n",
       "      <td>50.000</td>\n",
       "      <td>18.578m</td>\n",
       "      <td>352.506m</td>\n",
       "      <td>85.701m</td>\n",
       "      <td>647.494m</td>\n",
       "      <td>914.299m</td>\n",
       "      <td>33.304</td>\n",
       "      <td>0.000</td>\n",
       "      <td>0.000</td>\n",
       "    </tr>\n",
       "    <tr>\n",
       "      <th>100.000</th>\n",
       "      <td>100.000</td>\n",
       "      <td>14.347m</td>\n",
       "      <td>366.853m</td>\n",
       "      <td>124.072m</td>\n",
       "      <td>633.147m</td>\n",
       "      <td>875.928m</td>\n",
       "      <td>65.678</td>\n",
       "      <td>0.000</td>\n",
       "      <td>0.000</td>\n",
       "    </tr>\n",
       "    <tr>\n",
       "      <th>150.000</th>\n",
       "      <td>150.000</td>\n",
       "      <td>12.009m</td>\n",
       "      <td>378.862m</td>\n",
       "      <td>155.131m</td>\n",
       "      <td>621.138m</td>\n",
       "      <td>844.869m</td>\n",
       "      <td>97.336</td>\n",
       "      <td>0.000</td>\n",
       "      <td>0.000</td>\n",
       "    </tr>\n",
       "    <tr>\n",
       "      <th>200.000</th>\n",
       "      <td>200.000</td>\n",
       "      <td>10.464m</td>\n",
       "      <td>389.326m</td>\n",
       "      <td>181.422m</td>\n",
       "      <td>610.674m</td>\n",
       "      <td>818.578m</td>\n",
       "      <td>128.393</td>\n",
       "      <td>0.000</td>\n",
       "      <td>0.000</td>\n",
       "    </tr>\n",
       "    <tr>\n",
       "      <th>...</th>\n",
       "      <td>...</td>\n",
       "      <td>...</td>\n",
       "      <td>...</td>\n",
       "      <td>...</td>\n",
       "      <td>...</td>\n",
       "      <td>...</td>\n",
       "      <td>...</td>\n",
       "      <td>...</td>\n",
       "      <td>...</td>\n",
       "    </tr>\n",
       "    <tr>\n",
       "      <th>13.107M</th>\n",
       "      <td>13.107M</td>\n",
       "      <td>0.000</td>\n",
       "      <td>1000.000m</td>\n",
       "      <td>1000.000m</td>\n",
       "      <td>558.664f</td>\n",
       "      <td>333.067a</td>\n",
       "      <td>34.006k</td>\n",
       "      <td>1000.000m</td>\n",
       "      <td>45.392a</td>\n",
       "    </tr>\n",
       "    <tr>\n",
       "      <th>13.107M</th>\n",
       "      <td>13.107M</td>\n",
       "      <td>0.000</td>\n",
       "      <td>1000.000m</td>\n",
       "      <td>1000.000m</td>\n",
       "      <td>558.664f</td>\n",
       "      <td>333.067a</td>\n",
       "      <td>34.006k</td>\n",
       "      <td>1000.000m</td>\n",
       "      <td>45.389a</td>\n",
       "    </tr>\n",
       "    <tr>\n",
       "      <th>13.107M</th>\n",
       "      <td>13.107M</td>\n",
       "      <td>0.000</td>\n",
       "      <td>1000.000m</td>\n",
       "      <td>1000.000m</td>\n",
       "      <td>558.664f</td>\n",
       "      <td>333.067a</td>\n",
       "      <td>34.006k</td>\n",
       "      <td>1000.000m</td>\n",
       "      <td>45.385a</td>\n",
       "    </tr>\n",
       "    <tr>\n",
       "      <th>13.107M</th>\n",
       "      <td>13.107M</td>\n",
       "      <td>0.000</td>\n",
       "      <td>1000.000m</td>\n",
       "      <td>1000.000m</td>\n",
       "      <td>558.664f</td>\n",
       "      <td>333.067a</td>\n",
       "      <td>34.006k</td>\n",
       "      <td>1000.000m</td>\n",
       "      <td>45.382a</td>\n",
       "    </tr>\n",
       "    <tr>\n",
       "      <th>13.107M</th>\n",
       "      <td>13.107M</td>\n",
       "      <td>0.000</td>\n",
       "      <td>1000.000m</td>\n",
       "      <td>1000.000m</td>\n",
       "      <td>558.664f</td>\n",
       "      <td>333.067a</td>\n",
       "      <td>34.006k</td>\n",
       "      <td>1000.000m</td>\n",
       "      <td>45.379a</td>\n",
       "    </tr>\n",
       "  </tbody>\n",
       "</table>\n",
       "<p>262144 rows × 9 columns</p>\n",
       "</div>"
      ],
      "text/plain": [
       "            loss         p          F      F_sev         S     S_sev      lev  \\\n",
       "loss                                                                            \n",
       "0.000      0.000  333.928m   333.928m    33.965m  666.072m  966.035m    0.000   \n",
       "50.000    50.000   18.578m   352.506m    85.701m  647.494m  914.299m   33.304   \n",
       "100.000  100.000   14.347m   366.853m   124.072m  633.147m  875.928m   65.678   \n",
       "150.000  150.000   12.009m   378.862m   155.131m  621.138m  844.869m   97.336   \n",
       "200.000  200.000   10.464m   389.326m   181.422m  610.674m  818.578m  128.393   \n",
       "...          ...       ...        ...        ...       ...       ...      ...   \n",
       "13.107M  13.107M     0.000  1000.000m  1000.000m  558.664f  333.067a  34.006k   \n",
       "13.107M  13.107M     0.000  1000.000m  1000.000m  558.664f  333.067a  34.006k   \n",
       "13.107M  13.107M     0.000  1000.000m  1000.000m  558.664f  333.067a  34.006k   \n",
       "13.107M  13.107M     0.000  1000.000m  1000.000m  558.664f  333.067a  34.006k   \n",
       "13.107M  13.107M     0.000  1000.000m  1000.000m  558.664f  333.067a  34.006k   \n",
       "\n",
       "                sg      pdf  \n",
       "loss                         \n",
       "0.000        0.000    0.000  \n",
       "50.000       0.000    0.000  \n",
       "100.000      0.000    0.000  \n",
       "150.000      0.000    0.000  \n",
       "200.000      0.000    0.000  \n",
       "...            ...      ...  \n",
       "13.107M  1000.000m  45.392a  \n",
       "13.107M  1000.000m  45.389a  \n",
       "13.107M  1000.000m  45.385a  \n",
       "13.107M  1000.000m  45.382a  \n",
       "13.107M  1000.000m  45.379a  \n",
       "\n",
       "[262144 rows x 9 columns]"
      ]
     },
     "execution_count": 193,
     "metadata": {},
     "output_type": "execute_result"
    },
    {
     "name": "stdout",
     "output_type": "stream",
     "text": [
      "time: 110 ms (started: 2022-10-30 15:38:46 +00:00)\n"
     ]
    }
   ],
   "source": [
    "df = bagg2m.density_df.filter(regex='loss|^p$|F|S|lev')\n",
    "df['sg'] = fz.cdf(df.loss)\n",
    "df['pdf'] = fz.pdf(df.loss)\n",
    "df"
   ]
  },
  {
   "cell_type": "code",
   "execution_count": 194,
   "id": "993383f1-112e-4202-aa8b-311e9800843d",
   "metadata": {},
   "outputs": [
    {
     "data": {
      "text/plain": [
       "(0.014497695466706921, 0.14859891126457966)"
      ]
     },
     "execution_count": 194,
     "metadata": {},
     "output_type": "execute_result"
    },
    {
     "name": "stdout",
     "output_type": "stream",
     "text": [
      "time: 16 ms (started: 2022-10-30 15:38:49 +00:00)\n"
     ]
    }
   ],
   "source": [
    "df.loc[3e6, 'S'] * 1000, fz.sf(3.e6) * 1000"
   ]
  },
  {
   "cell_type": "code",
   "execution_count": 195,
   "id": "64b162c4-bd4c-4c19-bea5-4391ad52936c",
   "metadata": {},
   "outputs": [
    {
     "data": {
      "text/plain": [
       "[-40091.0, 2044641.0]"
      ]
     },
     "execution_count": 195,
     "metadata": {},
     "output_type": "execute_result"
    },
    {
     "name": "stdout",
     "output_type": "stream",
     "text": [
      "time: 15 ms (started: 2022-10-30 15:38:50 +00:00)\n"
     ]
    }
   ],
   "source": [
    "bagg2m.limits()"
   ]
  },
  {
   "cell_type": "code",
   "execution_count": 204,
   "id": "8802420f-b2a6-4575-913f-25382e0e3c58",
   "metadata": {},
   "outputs": [
    {
     "data": {
      "image/png": "[encoded data removed]",
      "text/plain": [
       "<Figure size 432x288 with 1 Axes>"
      ]
     },
     "metadata": {
      "image/png": {
       "height": 296,
       "width": 440
      }
     },
     "output_type": "display_data"
    },
    {
     "name": "stdout",
     "output_type": "stream",
     "text": [
      "time: 750 ms (started: 2022-10-30 15:41:55 +00:00)\n"
     ]
    }
   ],
   "source": [
    "%%sf  1 1 6 4 \n",
    "df[['p', 'pdf']].plot(ax=ax)\n",
    "ax.set(xlim=[0, 6e6], yscale='log') # ylim=[0, 1e-5], yscale='log') #  ylim=bagg2m.limits('density'))\n",
    "\n",
    "# df[['F', 'sg']].plot(ax=ax)\n",
    "# ax.set(xlim=bagg2m.limits())"
   ]
  },
  {
   "cell_type": "code",
   "execution_count": 206,
   "id": "4c0b2aba-e8d5-4eb3-ada3-ab27e6ca91a4",
   "metadata": {},
   "outputs": [
    {
     "data": {
      "text/plain": [
       "loss        3.000M\n",
       "p          25.039p\n",
       "F         999.986m\n",
       "F_sev    1000.000m\n",
       "S          14.498u\n",
       "S_sev     333.067a\n",
       "lev        33.998k\n",
       "sg        999.851m\n",
       "pdf       247.597p\n",
       "Name: 3000000.0, dtype: float64"
      ]
     },
     "execution_count": 206,
     "metadata": {},
     "output_type": "execute_result"
    },
    {
     "name": "stdout",
     "output_type": "stream",
     "text": [
      "time: 0 ns (started: 2022-10-30 15:42:33 +00:00)\n"
     ]
    }
   ],
   "source": [
    "df.loc[3e6]"
   ]
  },
  {
   "cell_type": "code",
   "execution_count": 207,
   "id": "1fc0fb2b-9327-45c5-9e48-c2fd73d8a2b0",
   "metadata": {},
   "outputs": [
    {
     "data": {
      "text/html": [
       "<h3>Aggregate object: B.Basic.2M</h3>\n",
       "Claim count 1.20, gamma distribution.<br>\n",
       "Severity: lognorm[2,000,000 xs 0] distribution, 2000000.0 xs 0.0.<br>\n",
       "Updated with bucket size 50 and log2 = 18.<table border=\"1\" class=\"dataframe\">\n",
       "  <thead>\n",
       "    <tr style=\"text-align: right;\">\n",
       "      <th></th>\n",
       "      <th>E(X)</th>\n",
       "      <th>Est E(X)</th>\n",
       "      <th>Err E(X)</th>\n",
       "      <th>CV(X)</th>\n",
       "      <th>Est CV(X)</th>\n",
       "      <th>Err CV(X)</th>\n",
       "      <th>Skew(X)</th>\n",
       "    </tr>\n",
       "    <tr>\n",
       "      <th>X</th>\n",
       "      <th></th>\n",
       "      <th></th>\n",
       "      <th></th>\n",
       "      <th></th>\n",
       "      <th></th>\n",
       "      <th></th>\n",
       "      <th></th>\n",
       "    </tr>\n",
       "  </thead>\n",
       "  <tbody>\n",
       "    <tr>\n",
       "      <th>Sev</th>\n",
       "      <td>28.338k</td>\n",
       "      <td>28.338k</td>\n",
       "      <td>-5.817u</td>\n",
       "      <td>4.758</td>\n",
       "      <td>4.758</td>\n",
       "      <td>6.080u</td>\n",
       "      <td>10.437</td>\n",
       "    </tr>\n",
       "    <tr>\n",
       "      <th>Freq</th>\n",
       "      <td>1.200</td>\n",
       "      <td></td>\n",
       "      <td></td>\n",
       "      <td>966.092m</td>\n",
       "      <td></td>\n",
       "      <td></td>\n",
       "      <td>1.070</td>\n",
       "    </tr>\n",
       "    <tr>\n",
       "      <th>Agg</th>\n",
       "      <td>34.006k</td>\n",
       "      <td>34.006k</td>\n",
       "      <td>-5.817u</td>\n",
       "      <td>4.450</td>\n",
       "      <td>4.450</td>\n",
       "      <td>5.794u</td>\n",
       "      <td>9.473</td>\n",
       "    </tr>\n",
       "  </tbody>\n",
       "</table>"
      ],
      "text/plain": [
       "<aggregate.distributions.Aggregate object at 0x00000211CD45C5F0> name: B.Basic.2M"
      ]
     },
     "execution_count": 207,
     "metadata": {},
     "output_type": "execute_result"
    },
    {
     "name": "stdout",
     "output_type": "stream",
     "text": [
      "time: 15 ms (started: 2022-10-30 15:43:00 +00:00)\n"
     ]
    }
   ],
   "source": [
    "bagg2m# .reins_audit_df.T"
   ]
  },
  {
   "cell_type": "code",
   "execution_count": null,
   "id": "2664ee22-d983-4de2-bf15-fc774d2d8da8",
   "metadata": {},
   "outputs": [],
   "source": []
  }
 ],
 "metadata": {
  "jupytext": {
   "formats": "ipynb,md"
  },
  "kernelspec": {
   "display_name": "Python 3 (ipykernel)",
   "language": "python",
   "name": "python3"
  },
  "language_info": {
   "codemirror_mode": {
    "name": "ipython",
    "version": 3
   },
   "file_extension": ".py",
   "mimetype": "text/x-python",
   "name": "python",
   "nbconvert_exporter": "python",
   "pygments_lexer": "ipython3",
   "version": "3.8.12"
  }
 },
 "nbformat": 4,
 "nbformat_minor": 5
}
