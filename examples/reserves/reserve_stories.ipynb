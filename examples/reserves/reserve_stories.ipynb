{
 "cells": [
  {
   "cell_type": "markdown",
   "metadata": {},
   "source": [
    "# Reserve Stories \n",
    "Scratch work...not book production yet!\n",
    "\n",
    "docs_frozen has four templates (reserve_details is empty):\n",
    "\n",
    "1. specifications that is included in runoff and story \n",
    "2. runoff: tells story for know G, know claim count, know reserves, know claims\n",
    "3. two_step: is like runoff but in two steps: know G then know claims\n",
    "4. story: is more detailed but takes X0 and Xm1 as reserves\n",
    "\n",
    "## From Scratch July 2022\n",
    "\n",
    "With the new Portfolio object etc., that includes some of the enhanced metrics.\n",
    "\n",
    "Same idea for model: year 1 G is known, year 2 full losses known.\n",
    "\n",
    "## Provenance\n",
    "\n",
    "* July 2022: Hack off old CH12_Reserves2 which didn't seem to use the new TensePortfolio construction. \n",
    "\n",
    "Focus on populating the reserve story templates. Deleted a lot of graphics stuff from the end. "
   ]
  },
  {
   "cell_type": "code",
   "execution_count": 1,
   "metadata": {},
   "outputs": [
    {
     "name": "stdout",
     "output_type": "stream",
     "text": [
      "C:\\Users\\steve\\Documents\\SynologyDrive\\TELOS\\Python\\aggregate_project\\aggregate\\templates True\n",
      "time: 537 ms\n"
     ]
    },
    {
     "name": "stderr",
     "output_type": "stream",
     "text": [
      "WARNING: 12 shift/reduce conflicts\n",
      "Parser debugging for UnderwritingParser written to C:\\Users\\steve\\aggregate\\parser\\parser.out\n"
     ]
    }
   ],
   "source": [
    "import reserve_scripts as rs\n",
    "from aggregate import build"
   ]
  },
  {
   "cell_type": "code",
   "execution_count": 2,
   "metadata": {},
   "outputs": [
    {
     "name": "stdout",
     "output_type": "stream",
     "text": [
      "time: 1.98 ms\n"
     ]
    }
   ],
   "source": [
    "# key control variables \n",
    "cv_mix = 0.35  # freq a\n",
    "min_mix = 0.60  # freq b\n",
    "reg_p = 0.995 # determines a \n",
    "bs = 1/2\n",
    "log2 = 16\n",
    "padding = 1\n",
    "coc = 0.1\n",
    "# to start with:\n",
    "dist_name = 'wang'"
   ]
  },
  {
   "cell_type": "code",
   "execution_count": 3,
   "metadata": {},
   "outputs": [
    {
     "name": "stdout",
     "output_type": "stream",
     "text": [
      "port BASE\n",
      "    agg X0  5000  loss 1000 x 0 sev lognorm 100 cv 1.25 mixed sig 0.35 0.6\n",
      "    agg Xm1 5000  loss 1000 x 0 sev lognorm 100 cv 1.25 poisson\n",
      "\n",
      "time: 988 µs\n"
     ]
    }
   ],
   "source": [
    "prog_two_step = f'''port BASE\n",
    "    agg X0  5000  loss 1000 x 0 sev lognorm 100 cv 1.25 mixed sig {cv_mix} {min_mix}\n",
    "    agg Xm1 5000  loss 1000 x 0 sev lognorm 100 cv 1.25 poisson\n",
    "'''    \n",
    "print(prog_two_step)"
   ]
  },
  {
   "cell_type": "code",
   "execution_count": 35,
   "metadata": {},
   "outputs": [
    {
     "name": "stdout",
     "output_type": "stream",
     "text": [
      "port INSCO\n",
      "    agg Xm1 9000 loss 10 x 0 sev lognorm 3 cv 0.5 mixed gamma 0.06\n",
      "    agg X0 3000 loss 10 x 0 sev lognorm 2 cv 2 mixed sig 0.35 0.5\n",
      "\n",
      "time: 2 ms\n"
     ]
    }
   ],
   "source": [
    "prog = f'''port BASE\n",
    "    agg X0  5000  loss 1000 x 0 sev lognorm 100 cv 1.25 mixed sig {cv_mix} {min_mix}\n",
    "    agg Xm1 5000  loss 1000 x 0 sev lognorm 100 cv 1.25 mixed sig {cv_mix / 2} {min_mix}\n",
    "    agg Xm2 5000  loss 1000 x 0 sev lognorm 100 cv 0.75 poisson\n",
    "    agg Xm3 5000  loss 1000 x 0 sev lognorm 100 cv 0.25 poisson'''\n",
    "\n",
    "prog = f'''port INSCO\n",
    "    agg Xm1 9000 loss 10 x 0 sev lognorm 3 cv 0.5 mixed gamma 0.06\n",
    "    agg X0 3000 loss 10 x 0 sev lognorm 2 cv 2 mixed sig 0.35 0.5\n",
    "'''\n",
    "coc = 0.075\n",
    "reg_p = 0.99817\n",
    "print(prog)"
   ]
  },
  {
   "cell_type": "code",
   "execution_count": 66,
   "metadata": {},
   "outputs": [
    {
     "data": {
      "text/plain": [
       "(16, 0.5)"
      ]
     },
     "execution_count": 66,
     "metadata": {},
     "output_type": "execute_result"
    },
    {
     "name": "stdout",
     "output_type": "stream",
     "text": [
      "time: 2.5 ms\n"
     ]
    }
   ],
   "source": [
    "log2, bs"
   ]
  },
  {
   "cell_type": "code",
   "execution_count": 68,
   "metadata": {},
   "outputs": [
    {
     "data": {
      "text/html": [
       "<h2>Portfolio object: INSCO</h2>\n",
       "Portfolio contains 2 aggregate components\n",
       "<div>\n",
       "<style scoped>\n",
       "    .dataframe tbody tr th:only-of-type {\n",
       "        vertical-align: middle;\n",
       "    }\n",
       "\n",
       "    .dataframe tbody tr th {\n",
       "        vertical-align: top;\n",
       "    }\n",
       "\n",
       "    .dataframe thead th {\n",
       "        text-align: right;\n",
       "    }\n",
       "</style>\n",
       "<table border=\"1\" class=\"dataframe\">\n",
       "  <thead>\n",
       "    <tr style=\"text-align: right;\">\n",
       "      <th></th>\n",
       "      <th>X0</th>\n",
       "      <th>Xm1</th>\n",
       "      <th>total</th>\n",
       "    </tr>\n",
       "  </thead>\n",
       "  <tbody>\n",
       "    <tr>\n",
       "      <th>(freq, mean)</th>\n",
       "      <td>1.705k</td>\n",
       "      <td>3.004k</td>\n",
       "      <td>4.710k</td>\n",
       "    </tr>\n",
       "    <tr>\n",
       "      <th>(sev, mean)</th>\n",
       "      <td>1.759</td>\n",
       "      <td>2.996</td>\n",
       "      <td>2.548</td>\n",
       "    </tr>\n",
       "    <tr>\n",
       "      <th>(agg, mean)</th>\n",
       "      <td>3.000k</td>\n",
       "      <td>9.000k</td>\n",
       "      <td>12.000k</td>\n",
       "    </tr>\n",
       "    <tr>\n",
       "      <th>(freq, cv)</th>\n",
       "      <td>350.837m</td>\n",
       "      <td>62.712m</td>\n",
       "      <td>133.178m</td>\n",
       "    </tr>\n",
       "    <tr>\n",
       "      <th>(sev, cv)</th>\n",
       "      <td>1.273</td>\n",
       "      <td>492.195m</td>\n",
       "      <td>740.066m</td>\n",
       "    </tr>\n",
       "    <tr>\n",
       "      <th>(agg, cv)</th>\n",
       "      <td>352.189m</td>\n",
       "      <td>63.352m</td>\n",
       "      <td>100.049m</td>\n",
       "    </tr>\n",
       "    <tr>\n",
       "      <th>(freq, skew)</th>\n",
       "      <td>2.090</td>\n",
       "      <td>120.117m</td>\n",
       "      <td>1.817</td>\n",
       "    </tr>\n",
       "    <tr>\n",
       "      <th>(sev, skew)</th>\n",
       "      <td>2.237</td>\n",
       "      <td>1.395</td>\n",
       "      <td>1.401</td>\n",
       "    </tr>\n",
       "    <tr>\n",
       "      <th>(agg, skew)</th>\n",
       "      <td>2.074</td>\n",
       "      <td>120.330m</td>\n",
       "      <td>1.427</td>\n",
       "    </tr>\n",
       "    <tr>\n",
       "      <th>Mean</th>\n",
       "      <td>3.000k</td>\n",
       "      <td>9.000k</td>\n",
       "      <td>12.000k</td>\n",
       "    </tr>\n",
       "    <tr>\n",
       "      <th>EmpMean</th>\n",
       "      <td>3.000k</td>\n",
       "      <td>9.000k</td>\n",
       "      <td>12.000k</td>\n",
       "    </tr>\n",
       "    <tr>\n",
       "      <th>MeanErr</th>\n",
       "      <td>-267.247p</td>\n",
       "      <td>-168.199f</td>\n",
       "      <td>-404.016p</td>\n",
       "    </tr>\n",
       "    <tr>\n",
       "      <th>CV</th>\n",
       "      <td>352.189m</td>\n",
       "      <td>63.352m</td>\n",
       "      <td>100.049m</td>\n",
       "    </tr>\n",
       "    <tr>\n",
       "      <th>EmpCV</th>\n",
       "      <td>352.188m</td>\n",
       "      <td>63.352m</td>\n",
       "      <td>100.049m</td>\n",
       "    </tr>\n",
       "    <tr>\n",
       "      <th>CVErr</th>\n",
       "      <td>-24.412n</td>\n",
       "      <td>13.117p</td>\n",
       "      <td>-81.556n</td>\n",
       "    </tr>\n",
       "    <tr>\n",
       "      <th>P99.0</th>\n",
       "      <td>6.746k</td>\n",
       "      <td>10.377k</td>\n",
       "      <td>15.902k</td>\n",
       "    </tr>\n",
       "  </tbody>\n",
       "</table>\n",
       "</div>"
      ],
      "text/plain": [
       "<aggregate.port.Portfolio object at 0x0000023002426B20>, { 'name': 'INSCO', 'spec': [{'name': 'Xm1', 'note': '', 'occ_reins': None, 'occ_kind': '', 'agg_reins': None, 'agg_kind': ''}, {'name': 'X0', 'note': '', 'occ_reins': None, 'occ_kind': '', 'agg_reins': None, 'agg_kind': ''}], \"bs\": 0.25, \"log2\": 18, \"padding\": 1, \"tilt_amount\": 0, \"distortion\": \"None\", \"sev_calc\": \"discrete\", \"remove_fuzz\": True, \"approx_type\": \"slognorm\", \"approx_freq_ge\": 100}"
      ]
     },
     "execution_count": 68,
     "metadata": {},
     "output_type": "execute_result"
    },
    {
     "name": "stdout",
     "output_type": "stream",
     "text": [
      "time: 1.9 s\n"
     ]
    }
   ],
   "source": [
    "port = build(prog, log2=log2+2, bs=bs/2, padding=padding)\n",
    "# port = build(prog_two_step, log2=log2, bs=bs, padding=padding)\n",
    "port.program = prog #  build['BASE'][-1]\n",
    "port"
   ]
  },
  {
   "cell_type": "code",
   "execution_count": 57,
   "metadata": {},
   "outputs": [
    {
     "data": {
      "text/plain": [
       "0.5"
      ]
     },
     "execution_count": 57,
     "metadata": {},
     "output_type": "execute_result"
    },
    {
     "name": "stdout",
     "output_type": "stream",
     "text": [
      "time: 6.18 ms\n"
     ]
    }
   ],
   "source": [
    "port.best_bucket(16)"
   ]
  },
  {
   "cell_type": "code",
   "execution_count": 31,
   "metadata": {},
   "outputs": [
    {
     "data": {
      "image/png": "[encoded data removed]",
      "text/plain": [
       "<Figure size 671.832x252 with 2 Axes>"
      ]
     },
     "metadata": {
      "image/png": {
       "height": 260,
       "width": 680
      },
      "needs_background": "light"
     },
     "output_type": "display_data"
    },
    {
     "name": "stdout",
     "output_type": "stream",
     "text": [
      "time: 886 ms\n"
     ]
    }
   ],
   "source": [
    "port.plot()"
   ]
  },
  {
   "cell_type": "code",
   "execution_count": 69,
   "metadata": {},
   "outputs": [
    {
     "data": {
      "text/plain": [
       "array(   0.99817)"
      ]
     },
     "execution_count": 69,
     "metadata": {},
     "output_type": "execute_result"
    },
    {
     "name": "stdout",
     "output_type": "stream",
     "text": [
      "time: 9.1 ms\n"
     ]
    }
   ],
   "source": [
    "port.cdf(18000)"
   ]
  },
  {
   "cell_type": "code",
   "execution_count": 73,
   "metadata": {},
   "outputs": [
    {
     "data": {
      "text/plain": [
       "(0.99816675, 18000.0)"
      ]
     },
     "execution_count": 73,
     "metadata": {},
     "output_type": "execute_result"
    },
    {
     "name": "stdout",
     "output_type": "stream",
     "text": [
      "time: 2.92 ms\n"
     ]
    }
   ],
   "source": [
    "reg_p = 0.99816675\n",
    "a = port.q(reg_p)\n",
    "reg_p, a"
   ]
  },
  {
   "cell_type": "code",
   "execution_count": 74,
   "metadata": {},
   "outputs": [
    {
     "data": {
      "text/html": [
       "<div>\n",
       "<style scoped>\n",
       "    .dataframe tbody tr th:only-of-type {\n",
       "        vertical-align: middle;\n",
       "    }\n",
       "\n",
       "    .dataframe tbody tr th {\n",
       "        vertical-align: top;\n",
       "    }\n",
       "\n",
       "    .dataframe thead th {\n",
       "        text-align: right;\n",
       "    }\n",
       "</style>\n",
       "<table border=\"1\" class=\"dataframe\">\n",
       "  <thead>\n",
       "    <tr style=\"text-align: right;\">\n",
       "      <th></th>\n",
       "      <th></th>\n",
       "      <th></th>\n",
       "      <th>$S$</th>\n",
       "      <th>$\\iota$</th>\n",
       "      <th>$\\delta$</th>\n",
       "      <th>$\\nu$</th>\n",
       "      <th>$EL$</th>\n",
       "      <th>$P$</th>\n",
       "      <th>Levg</th>\n",
       "      <th>$K$</th>\n",
       "      <th>ROE</th>\n",
       "      <th>param</th>\n",
       "      <th>error</th>\n",
       "    </tr>\n",
       "    <tr>\n",
       "      <th>$a$</th>\n",
       "      <th>LR</th>\n",
       "      <th>method</th>\n",
       "      <th></th>\n",
       "      <th></th>\n",
       "      <th></th>\n",
       "      <th></th>\n",
       "      <th></th>\n",
       "      <th></th>\n",
       "      <th></th>\n",
       "      <th></th>\n",
       "      <th></th>\n",
       "      <th></th>\n",
       "      <th></th>\n",
       "    </tr>\n",
       "  </thead>\n",
       "  <tbody>\n",
       "    <tr>\n",
       "      <th rowspan=\"10\" valign=\"top\">18.000k</th>\n",
       "      <th rowspan=\"10\" valign=\"top\">966.270m</th>\n",
       "      <th>ph</th>\n",
       "      <td>1.833m</td>\n",
       "      <td>75.000m</td>\n",
       "      <td>69.767m</td>\n",
       "      <td>930.233m</td>\n",
       "      <td>11.997k</td>\n",
       "      <td>12.416k</td>\n",
       "      <td>2.224</td>\n",
       "      <td>5.584k</td>\n",
       "      <td>75.000m</td>\n",
       "      <td>726.369m</td>\n",
       "      <td>841.210n</td>\n",
       "    </tr>\n",
       "    <tr>\n",
       "      <th>wang</th>\n",
       "      <td>1.833m</td>\n",
       "      <td>75.000m</td>\n",
       "      <td>69.767m</td>\n",
       "      <td>930.233m</td>\n",
       "      <td>11.997k</td>\n",
       "      <td>12.416k</td>\n",
       "      <td>2.224</td>\n",
       "      <td>5.584k</td>\n",
       "      <td>75.000m</td>\n",
       "      <td>344.080m</td>\n",
       "      <td>0.000</td>\n",
       "    </tr>\n",
       "    <tr>\n",
       "      <th>cll</th>\n",
       "      <td>1.833m</td>\n",
       "      <td>75.000m</td>\n",
       "      <td>69.767m</td>\n",
       "      <td>930.233m</td>\n",
       "      <td>11.997k</td>\n",
       "      <td>12.416k</td>\n",
       "      <td>2.224</td>\n",
       "      <td>5.584k</td>\n",
       "      <td>75.000m</td>\n",
       "      <td>761.907m</td>\n",
       "      <td>28.876n</td>\n",
       "    </tr>\n",
       "    <tr>\n",
       "      <th>lep</th>\n",
       "      <td>1.833m</td>\n",
       "      <td>75.000m</td>\n",
       "      <td>69.767m</td>\n",
       "      <td>930.233m</td>\n",
       "      <td>11.997k</td>\n",
       "      <td>12.416k</td>\n",
       "      <td>2.224</td>\n",
       "      <td>5.584k</td>\n",
       "      <td>75.000m</td>\n",
       "      <td>186.593m</td>\n",
       "      <td>-216.834n</td>\n",
       "    </tr>\n",
       "    <tr>\n",
       "      <th>ly</th>\n",
       "      <td>1.833m</td>\n",
       "      <td>75.000m</td>\n",
       "      <td>69.767m</td>\n",
       "      <td>930.233m</td>\n",
       "      <td>11.997k</td>\n",
       "      <td>12.416k</td>\n",
       "      <td>2.224</td>\n",
       "      <td>5.584k</td>\n",
       "      <td>75.000m</td>\n",
       "      <td>482.389m</td>\n",
       "      <td>-9.728n</td>\n",
       "    </tr>\n",
       "    <tr>\n",
       "      <th>clin</th>\n",
       "      <td>1.833m</td>\n",
       "      <td>75.000m</td>\n",
       "      <td>69.767m</td>\n",
       "      <td>930.233m</td>\n",
       "      <td>11.997k</td>\n",
       "      <td>12.416k</td>\n",
       "      <td>2.224</td>\n",
       "      <td>5.584k</td>\n",
       "      <td>75.000m</td>\n",
       "      <td>1.128</td>\n",
       "      <td>0.000</td>\n",
       "    </tr>\n",
       "    <tr>\n",
       "      <th>dual</th>\n",
       "      <td>1.833m</td>\n",
       "      <td>75.000m</td>\n",
       "      <td>69.767m</td>\n",
       "      <td>930.233m</td>\n",
       "      <td>11.997k</td>\n",
       "      <td>12.416k</td>\n",
       "      <td>2.224</td>\n",
       "      <td>5.584k</td>\n",
       "      <td>75.000m</td>\n",
       "      <td>1.579</td>\n",
       "      <td>-10.914p</td>\n",
       "    </tr>\n",
       "    <tr>\n",
       "      <th>ccoc</th>\n",
       "      <td>1.833m</td>\n",
       "      <td>75.000m</td>\n",
       "      <td>69.767m</td>\n",
       "      <td>930.233m</td>\n",
       "      <td>11.997k</td>\n",
       "      <td>12.416k</td>\n",
       "      <td>2.224</td>\n",
       "      <td>5.584k</td>\n",
       "      <td>75.000m</td>\n",
       "      <td>75.000m</td>\n",
       "      <td>-862.703n</td>\n",
       "    </tr>\n",
       "    <tr>\n",
       "      <th>tvar</th>\n",
       "      <td>1.833m</td>\n",
       "      <td>75.000m</td>\n",
       "      <td>69.767m</td>\n",
       "      <td>930.233m</td>\n",
       "      <td>11.997k</td>\n",
       "      <td>12.416k</td>\n",
       "      <td>2.224</td>\n",
       "      <td>5.584k</td>\n",
       "      <td>75.000m</td>\n",
       "      <td>247.890m</td>\n",
       "      <td>9.053u</td>\n",
       "    </tr>\n",
       "    <tr>\n",
       "      <th>wtdtvar</th>\n",
       "      <td>1.833m</td>\n",
       "      <td>75.000m</td>\n",
       "      <td>69.767m</td>\n",
       "      <td>930.233m</td>\n",
       "      <td>11.997k</td>\n",
       "      <td>12.416k</td>\n",
       "      <td>2.224</td>\n",
       "      <td>5.584k</td>\n",
       "      <td>75.000m</td>\n",
       "      <td>264.434m</td>\n",
       "      <td>-1.819p</td>\n",
       "    </tr>\n",
       "  </tbody>\n",
       "</table>\n",
       "</div>"
      ],
      "text/plain": [
       "                             $S$  $\\iota$  $\\delta$     $\\nu$     $EL$  \\\n",
       "$a$     LR       method                                                  \n",
       "18.000k 966.270m ph       1.833m  75.000m   69.767m  930.233m  11.997k   \n",
       "                 wang     1.833m  75.000m   69.767m  930.233m  11.997k   \n",
       "                 cll      1.833m  75.000m   69.767m  930.233m  11.997k   \n",
       "                 lep      1.833m  75.000m   69.767m  930.233m  11.997k   \n",
       "                 ly       1.833m  75.000m   69.767m  930.233m  11.997k   \n",
       "                 clin     1.833m  75.000m   69.767m  930.233m  11.997k   \n",
       "                 dual     1.833m  75.000m   69.767m  930.233m  11.997k   \n",
       "                 ccoc     1.833m  75.000m   69.767m  930.233m  11.997k   \n",
       "                 tvar     1.833m  75.000m   69.767m  930.233m  11.997k   \n",
       "                 wtdtvar  1.833m  75.000m   69.767m  930.233m  11.997k   \n",
       "\n",
       "                              $P$   Levg     $K$      ROE     param     error  \n",
       "$a$     LR       method                                                        \n",
       "18.000k 966.270m ph       12.416k  2.224  5.584k  75.000m  726.369m  841.210n  \n",
       "                 wang     12.416k  2.224  5.584k  75.000m  344.080m     0.000  \n",
       "                 cll      12.416k  2.224  5.584k  75.000m  761.907m   28.876n  \n",
       "                 lep      12.416k  2.224  5.584k  75.000m  186.593m -216.834n  \n",
       "                 ly       12.416k  2.224  5.584k  75.000m  482.389m   -9.728n  \n",
       "                 clin     12.416k  2.224  5.584k  75.000m     1.128     0.000  \n",
       "                 dual     12.416k  2.224  5.584k  75.000m     1.579  -10.914p  \n",
       "                 ccoc     12.416k  2.224  5.584k  75.000m   75.000m -862.703n  \n",
       "                 tvar     12.416k  2.224  5.584k  75.000m  247.890m    9.053u  \n",
       "                 wtdtvar  12.416k  2.224  5.584k  75.000m  264.434m   -1.819p  "
      ]
     },
     "execution_count": 74,
     "metadata": {},
     "output_type": "execute_result"
    },
    {
     "name": "stdout",
     "output_type": "stream",
     "text": [
      "time: 156 ms\n"
     ]
    }
   ],
   "source": [
    "port.calibrate_distortions(ROEs=[coc], Ps=[reg_p], strict=False, df=[0, 0.75])"
   ]
  },
  {
   "cell_type": "code",
   "execution_count": 75,
   "metadata": {},
   "outputs": [
    {
     "name": "stdout",
     "output_type": "stream",
     "text": [
      "time: 829 ms\n"
     ]
    }
   ],
   "source": [
    "ans = port.apply_distortion('wang')"
   ]
  },
  {
   "cell_type": "code",
   "execution_count": 81,
   "metadata": {},
   "outputs": [
    {
     "name": "stdout",
     "output_type": "stream",
     "text": [
      "C:\\Users\\steve\\Documents\\SynologyDrive\\TELOS\\Python\\aggregate_project\\aggregate\\templates True\n",
      "-99 8998.822721919203 8,998.82 9001.0 5583.879533433965 9531.75\n"
     ]
    },
    {
     "data": {
      "text/plain": [
       "72306"
      ]
     },
     "execution_count": 81,
     "metadata": {},
     "output_type": "execute_result"
    },
    {
     "name": "stdout",
     "output_type": "stream",
     "text": [
      "time: 205 ms\n"
     ]
    }
   ],
   "source": [
    "rs.reserve_story_md(port, 'Xm1', p=reg_p, ROE=coc)\n",
    "# Path('c:\\\\temp\\\\reserves\\\\rs.md').write_text(port.md, encoding='utf-8')\n",
    "Path('c:\\\\temp\\\\reserves\\\\rs.html').write_text(port.md, encoding='utf-8')"
   ]
  },
  {
   "cell_type": "code",
   "execution_count": 46,
   "metadata": {},
   "outputs": [
    {
     "name": "stdout",
     "output_type": "stream",
     "text": [
      "time: 7.91 ms\n"
     ]
    }
   ],
   "source": [
    "port.premium_capital(a=10743.5)"
   ]
  },
  {
   "cell_type": "code",
   "execution_count": 48,
   "metadata": {},
   "outputs": [
    {
     "data": {
      "text/html": [
       "<div>\n",
       "<style scoped>\n",
       "    .dataframe tbody tr th:only-of-type {\n",
       "        vertical-align: middle;\n",
       "    }\n",
       "\n",
       "    .dataframe tbody tr th {\n",
       "        vertical-align: top;\n",
       "    }\n",
       "\n",
       "    .dataframe thead th {\n",
       "        text-align: right;\n",
       "    }\n",
       "</style>\n",
       "<table border=\"1\" class=\"dataframe\">\n",
       "  <thead>\n",
       "    <tr style=\"text-align: right;\">\n",
       "      <th></th>\n",
       "      <th>$X_{0}$</th>\n",
       "      <th>$X_{-1}$</th>\n",
       "      <th>Total</th>\n",
       "    </tr>\n",
       "    <tr>\n",
       "      <th>Item</th>\n",
       "      <th></th>\n",
       "      <th></th>\n",
       "      <th></th>\n",
       "    </tr>\n",
       "  </thead>\n",
       "  <tbody>\n",
       "    <tr>\n",
       "      <th>1. Allocated assets</th>\n",
       "      <td>2.845k</td>\n",
       "      <td>7.899k</td>\n",
       "      <td>10.744k</td>\n",
       "    </tr>\n",
       "    <tr>\n",
       "      <th>2. Market value liability</th>\n",
       "      <td>2.806k</td>\n",
       "      <td>7.919k</td>\n",
       "      <td>10.726k</td>\n",
       "    </tr>\n",
       "    <tr>\n",
       "      <th>3. Expected incurred loss</th>\n",
       "      <td>2.630k</td>\n",
       "      <td>8.076k</td>\n",
       "      <td>10.706k</td>\n",
       "    </tr>\n",
       "    <tr>\n",
       "      <th>4. Margin</th>\n",
       "      <td>176.975</td>\n",
       "      <td>-157.061</td>\n",
       "      <td>19.914</td>\n",
       "    </tr>\n",
       "    <tr>\n",
       "      <th>5. Loss ratio</th>\n",
       "      <td>936.941m</td>\n",
       "      <td>1.020</td>\n",
       "      <td>998.143m</td>\n",
       "    </tr>\n",
       "    <tr>\n",
       "      <th>6. Allocated equity</th>\n",
       "      <td>38.274</td>\n",
       "      <td>-20.641</td>\n",
       "      <td>17.632</td>\n",
       "    </tr>\n",
       "    <tr>\n",
       "      <th>7. Cost of allocated equity</th>\n",
       "      <td>4.624</td>\n",
       "      <td>7.609</td>\n",
       "      <td>1.129</td>\n",
       "    </tr>\n",
       "    <tr>\n",
       "      <th>8. Premium to surplus ratio</th>\n",
       "      <td>73.325</td>\n",
       "      <td>-383.674</td>\n",
       "      <td>608.316</td>\n",
       "    </tr>\n",
       "  </tbody>\n",
       "</table>\n",
       "</div>"
      ],
      "text/plain": [
       "                              $X_{0}$  $X_{-1}$     Total\n",
       "Item                                                     \n",
       "1. Allocated assets            2.845k    7.899k   10.744k\n",
       "2. Market value liability      2.806k    7.919k   10.726k\n",
       "3. Expected incurred loss      2.630k    8.076k   10.706k\n",
       "4. Margin                     176.975  -157.061    19.914\n",
       "5. Loss ratio                936.941m     1.020  998.143m\n",
       "6. Allocated equity            38.274   -20.641    17.632\n",
       "7. Cost of allocated equity     4.624     7.609     1.129\n",
       "8. Premium to surplus ratio    73.325  -383.674   608.316"
      ]
     },
     "execution_count": 48,
     "metadata": {},
     "output_type": "execute_result"
    },
    {
     "name": "stdout",
     "output_type": "stream",
     "text": [
      "time: 9 ms\n"
     ]
    }
   ],
   "source": [
    "port.EX_premium_capital"
   ]
  },
  {
   "cell_type": "code",
   "execution_count": 83,
   "metadata": {},
   "outputs": [
    {
     "data": {
      "text/plain": [
       "10743.5"
      ]
     },
     "execution_count": 83,
     "metadata": {},
     "output_type": "execute_result"
    },
    {
     "name": "stdout",
     "output_type": "stream",
     "text": [
      "time: 3.01 ms\n"
     ]
    }
   ],
   "source": [
    "port['Xm1'].q(reg_p)"
   ]
  },
  {
   "cell_type": "code",
   "execution_count": 77,
   "metadata": {},
   "outputs": [
    {
     "data": {
      "text/html": [
       "<style type=\"text/css\">\n",
       "</style>\n",
       "<table id=\"T_85fb8\">\n",
       "  <thead>\n",
       "    <tr>\n",
       "      <th class=\"index_name level0\" >Assets</th>\n",
       "      <th id=\"T_85fb8_level0_col0\" class=\"col_heading level0 col0\" colspan=\"3\">$a=10743.5$</th>\n",
       "      <th id=\"T_85fb8_level0_col3\" class=\"col_heading level0 col3\" colspan=\"3\">$a=18000.0$</th>\n",
       "    </tr>\n",
       "    <tr>\n",
       "      <th class=\"index_name level1\" >Line</th>\n",
       "      <th id=\"T_85fb8_level1_col0\" class=\"col_heading level1 col0\" >$X_{0}$</th>\n",
       "      <th id=\"T_85fb8_level1_col1\" class=\"col_heading level1 col1\" >$X_{-1}$</th>\n",
       "      <th id=\"T_85fb8_level1_col2\" class=\"col_heading level1 col2\" >Total</th>\n",
       "      <th id=\"T_85fb8_level1_col3\" class=\"col_heading level1 col3\" >$X_{0}$</th>\n",
       "      <th id=\"T_85fb8_level1_col4\" class=\"col_heading level1 col4\" >$X_{-1}$</th>\n",
       "      <th id=\"T_85fb8_level1_col5\" class=\"col_heading level1 col5\" >Total</th>\n",
       "    </tr>\n",
       "    <tr>\n",
       "      <th class=\"index_name level0\" >Item</th>\n",
       "      <th class=\"blank col0\" >&nbsp;</th>\n",
       "      <th class=\"blank col1\" >&nbsp;</th>\n",
       "      <th class=\"blank col2\" >&nbsp;</th>\n",
       "      <th class=\"blank col3\" >&nbsp;</th>\n",
       "      <th class=\"blank col4\" >&nbsp;</th>\n",
       "      <th class=\"blank col5\" >&nbsp;</th>\n",
       "    </tr>\n",
       "  </thead>\n",
       "  <tbody>\n",
       "    <tr>\n",
       "      <th id=\"T_85fb8_level0_row0\" class=\"row_heading level0 row0\" >1. Allocated assets</th>\n",
       "      <td id=\"T_85fb8_row0_col0\" class=\"data row0 col0\" >2,844.7234</td>\n",
       "      <td id=\"T_85fb8_row0_col1\" class=\"data row0 col1\" >7,898.7766</td>\n",
       "      <td id=\"T_85fb8_row0_col2\" class=\"data row0 col2\" >10,743.5000</td>\n",
       "      <td id=\"T_85fb8_row0_col3\" class=\"data row0 col3\" >5,763.1366</td>\n",
       "      <td id=\"T_85fb8_row0_col4\" class=\"data row0 col4\" >12,236.8634</td>\n",
       "      <td id=\"T_85fb8_row0_col5\" class=\"data row0 col5\" >18,000.0000</td>\n",
       "    </tr>\n",
       "    <tr>\n",
       "      <th id=\"T_85fb8_level0_row1\" class=\"row_heading level0 row1\" >2. Market value liability</th>\n",
       "      <td id=\"T_85fb8_row1_col0\" class=\"data row1 col0\" >2,806.4121</td>\n",
       "      <td id=\"T_85fb8_row1_col1\" class=\"data row1 col1\" >7,919.4509</td>\n",
       "      <td id=\"T_85fb8_row1_col2\" class=\"data row1 col2\" >10,725.8630</td>\n",
       "      <td id=\"T_85fb8_row1_col3\" class=\"data row1 col3\" >3,321.8777</td>\n",
       "      <td id=\"T_85fb8_row1_col4\" class=\"data row1 col4\" >9,094.2428</td>\n",
       "      <td id=\"T_85fb8_row1_col5\" class=\"data row1 col5\" >12,416.1205</td>\n",
       "    </tr>\n",
       "    <tr>\n",
       "      <th id=\"T_85fb8_level0_row2\" class=\"row_heading level0 row2\" >3. Expected incurred loss</th>\n",
       "      <td id=\"T_85fb8_row2_col0\" class=\"data row2 col0\" >2,629.5089</td>\n",
       "      <td id=\"T_85fb8_row2_col1\" class=\"data row2 col1\" >8,076.4522</td>\n",
       "      <td id=\"T_85fb8_row2_col2\" class=\"data row2 col2\" >10,705.9611</td>\n",
       "      <td id=\"T_85fb8_row2_col3\" class=\"data row2 col3\" >2,998.5068</td>\n",
       "      <td id=\"T_85fb8_row2_col4\" class=\"data row2 col4\" >8,998.8227</td>\n",
       "      <td id=\"T_85fb8_row2_col5\" class=\"data row2 col5\" >11,997.3295</td>\n",
       "    </tr>\n",
       "    <tr>\n",
       "      <th id=\"T_85fb8_level0_row3\" class=\"row_heading level0 row3\" >4. Margin</th>\n",
       "      <td id=\"T_85fb8_row3_col0\" class=\"data row3 col0\" >176.9032</td>\n",
       "      <td id=\"T_85fb8_row3_col1\" class=\"data row3 col1\" >-157.0012</td>\n",
       "      <td id=\"T_85fb8_row3_col2\" class=\"data row3 col2\" >19.9019</td>\n",
       "      <td id=\"T_85fb8_row3_col3\" class=\"data row3 col3\" >323.3709</td>\n",
       "      <td id=\"T_85fb8_row3_col4\" class=\"data row3 col4\" >95.4200</td>\n",
       "      <td id=\"T_85fb8_row3_col5\" class=\"data row3 col5\" >418.7910</td>\n",
       "    </tr>\n",
       "    <tr>\n",
       "      <th id=\"T_85fb8_level0_row4\" class=\"row_heading level0 row4\" >5. Loss ratio</th>\n",
       "      <td id=\"T_85fb8_row4_col0\" class=\"data row4 col0\" >0.9370</td>\n",
       "      <td id=\"T_85fb8_row4_col1\" class=\"data row4 col1\" >1.0198</td>\n",
       "      <td id=\"T_85fb8_row4_col2\" class=\"data row4 col2\" >0.9981</td>\n",
       "      <td id=\"T_85fb8_row4_col3\" class=\"data row4 col3\" >0.9027</td>\n",
       "      <td id=\"T_85fb8_row4_col4\" class=\"data row4 col4\" >0.9895</td>\n",
       "      <td id=\"T_85fb8_row4_col5\" class=\"data row4 col5\" >0.9663</td>\n",
       "    </tr>\n",
       "    <tr>\n",
       "      <th id=\"T_85fb8_level0_row5\" class=\"row_heading level0 row5\" >6. Allocated equity</th>\n",
       "      <td id=\"T_85fb8_row5_col0\" class=\"data row5 col0\" >38.3113</td>\n",
       "      <td id=\"T_85fb8_row5_col1\" class=\"data row5 col1\" >-20.6744</td>\n",
       "      <td id=\"T_85fb8_row5_col2\" class=\"data row5 col2\" >17.6370</td>\n",
       "      <td id=\"T_85fb8_row5_col3\" class=\"data row5 col3\" >2,441.2589</td>\n",
       "      <td id=\"T_85fb8_row5_col4\" class=\"data row5 col4\" >3,142.6207</td>\n",
       "      <td id=\"T_85fb8_row5_col5\" class=\"data row5 col5\" >5,583.8795</td>\n",
       "    </tr>\n",
       "    <tr>\n",
       "      <th id=\"T_85fb8_level0_row6\" class=\"row_heading level0 row6\" >7. Cost of allocated equity</th>\n",
       "      <td id=\"T_85fb8_row6_col0\" class=\"data row6 col0\" >4.6175</td>\n",
       "      <td id=\"T_85fb8_row6_col1\" class=\"data row6 col1\" >7.5940</td>\n",
       "      <td id=\"T_85fb8_row6_col2\" class=\"data row6 col2\" >1.1284</td>\n",
       "      <td id=\"T_85fb8_row6_col3\" class=\"data row6 col3\" >0.1325</td>\n",
       "      <td id=\"T_85fb8_row6_col4\" class=\"data row6 col4\" >0.0304</td>\n",
       "      <td id=\"T_85fb8_row6_col5\" class=\"data row6 col5\" >0.0750</td>\n",
       "    </tr>\n",
       "    <tr>\n",
       "      <th id=\"T_85fb8_level0_row7\" class=\"row_heading level0 row7\" >8. Premium to surplus ratio</th>\n",
       "      <td id=\"T_85fb8_row7_col0\" class=\"data row7 col0\" >73.2528</td>\n",
       "      <td id=\"T_85fb8_row7_col1\" class=\"data row7 col1\" >-383.0564</td>\n",
       "      <td id=\"T_85fb8_row7_col2\" class=\"data row7 col2\" >608.1469</td>\n",
       "      <td id=\"T_85fb8_row7_col3\" class=\"data row7 col3\" >1.3607</td>\n",
       "      <td id=\"T_85fb8_row7_col4\" class=\"data row7 col4\" >2.8938</td>\n",
       "      <td id=\"T_85fb8_row7_col5\" class=\"data row7 col5\" >2.2236</td>\n",
       "    </tr>\n",
       "  </tbody>\n",
       "</table>\n"
      ],
      "text/plain": [
       "<pandas.io.formats.style.Styler at 0x23002422d90>"
      ]
     },
     "execution_count": 77,
     "metadata": {},
     "output_type": "execute_result"
    },
    {
     "name": "stdout",
     "output_type": "stream",
     "text": [
      "time: 43.1 ms\n"
     ]
    }
   ],
   "source": [
    "rs.multi_premium_capital(port, [10743.5, 18000])\n",
    "\n",
    "port.EX_multi_premium_capital.style.format(lambda x: f'{x:,.4f}')"
   ]
  },
  {
   "cell_type": "code",
   "execution_count": null,
   "metadata": {},
   "outputs": [],
   "source": []
  },
  {
   "cell_type": "code",
   "execution_count": 44,
   "metadata": {},
   "outputs": [
    {
     "data": {
      "text/html": [
       "<div>\n",
       "<style scoped>\n",
       "    .dataframe tbody tr th:only-of-type {\n",
       "        vertical-align: middle;\n",
       "    }\n",
       "\n",
       "    .dataframe tbody tr th {\n",
       "        vertical-align: top;\n",
       "    }\n",
       "\n",
       "    .dataframe thead th {\n",
       "        text-align: right;\n",
       "    }\n",
       "</style>\n",
       "<table border=\"1\" class=\"dataframe\">\n",
       "  <thead>\n",
       "    <tr style=\"text-align: right;\">\n",
       "      <th></th>\n",
       "      <th>$X_{0}$</th>\n",
       "      <th>$X_{-1}$</th>\n",
       "      <th>Total</th>\n",
       "    </tr>\n",
       "    <tr>\n",
       "      <th>Item</th>\n",
       "      <th></th>\n",
       "      <th></th>\n",
       "      <th></th>\n",
       "    </tr>\n",
       "  </thead>\n",
       "  <tbody>\n",
       "    <tr>\n",
       "      <th>1. Allocated assets</th>\n",
       "      <td>5.763k</td>\n",
       "      <td>12.237k</td>\n",
       "      <td>18.000k</td>\n",
       "    </tr>\n",
       "    <tr>\n",
       "      <th>2. Market value liability</th>\n",
       "      <td>3.322k</td>\n",
       "      <td>9.094k</td>\n",
       "      <td>12.416k</td>\n",
       "    </tr>\n",
       "    <tr>\n",
       "      <th>3. Expected incurred loss</th>\n",
       "      <td>2.998k</td>\n",
       "      <td>8.999k</td>\n",
       "      <td>11.997k</td>\n",
       "    </tr>\n",
       "    <tr>\n",
       "      <th>4. Margin</th>\n",
       "      <td>323.503</td>\n",
       "      <td>95.454</td>\n",
       "      <td>418.957</td>\n",
       "    </tr>\n",
       "    <tr>\n",
       "      <th>5. Loss ratio</th>\n",
       "      <td>902.618m</td>\n",
       "      <td>989.504m</td>\n",
       "      <td>966.257m</td>\n",
       "    </tr>\n",
       "    <tr>\n",
       "      <th>6. Allocated equity</th>\n",
       "      <td>2.441k</td>\n",
       "      <td>3.143k</td>\n",
       "      <td>5.584k</td>\n",
       "    </tr>\n",
       "    <tr>\n",
       "      <th>7. Cost of allocated equity</th>\n",
       "      <td>132.510m</td>\n",
       "      <td>30.374m</td>\n",
       "      <td>75.032m</td>\n",
       "    </tr>\n",
       "    <tr>\n",
       "      <th>8. Premium to surplus ratio</th>\n",
       "      <td>1.361</td>\n",
       "      <td>2.894</td>\n",
       "      <td>2.224</td>\n",
       "    </tr>\n",
       "  </tbody>\n",
       "</table>\n",
       "</div>"
      ],
      "text/plain": [
       "                              $X_{0}$  $X_{-1}$     Total\n",
       "Item                                                     \n",
       "1. Allocated assets            5.763k   12.237k   18.000k\n",
       "2. Market value liability      3.322k    9.094k   12.416k\n",
       "3. Expected incurred loss      2.998k    8.999k   11.997k\n",
       "4. Margin                     323.503    95.454   418.957\n",
       "5. Loss ratio                902.618m  989.504m  966.257m\n",
       "6. Allocated equity            2.441k    3.143k    5.584k\n",
       "7. Cost of allocated equity  132.510m   30.374m   75.032m\n",
       "8. Premium to surplus ratio     1.361     2.894     2.224"
      ]
     },
     "execution_count": 44,
     "metadata": {},
     "output_type": "execute_result"
    },
    {
     "name": "stdout",
     "output_type": "stream",
     "text": [
      "time: 8.71 ms\n"
     ]
    }
   ],
   "source": [
    "port.EX_premium_capital"
   ]
  },
  {
   "cell_type": "code",
   "execution_count": 12,
   "metadata": {},
   "outputs": [
    {
     "data": {
      "text/html": [
       "<h2>Exhibits for Base Portfolio</h2>"
      ],
      "text/plain": [
       "<IPython.core.display.HTML object>"
      ]
     },
     "metadata": {},
     "output_type": "display_data"
    },
    {
     "data": {
      "text/html": [
       "<h3>Accounting Economic Balance Sheet</h3>"
      ],
      "text/plain": [
       "<IPython.core.display.HTML object>"
      ]
     },
     "metadata": {},
     "output_type": "display_data"
    },
    {
     "data": {
      "text/html": [
       "<style type=\"text/css\">\n",
       "</style>\n",
       "<table id=\"T_8fa25\">\n",
       "  <thead>\n",
       "    <tr>\n",
       "      <th class=\"blank level0\" >&nbsp;</th>\n",
       "      <th id=\"T_8fa25_level0_col0\" class=\"col_heading level0 col0\" >Statutory</th>\n",
       "      <th id=\"T_8fa25_level0_col1\" class=\"col_heading level0 col1\" >Objective</th>\n",
       "      <th id=\"T_8fa25_level0_col2\" class=\"col_heading level0 col2\" >Market</th>\n",
       "      <th id=\"T_8fa25_level0_col3\" class=\"col_heading level0 col3\" >Difference</th>\n",
       "    </tr>\n",
       "    <tr>\n",
       "      <th class=\"index_name level0\" >Item</th>\n",
       "      <th class=\"blank col0\" >&nbsp;</th>\n",
       "      <th class=\"blank col1\" >&nbsp;</th>\n",
       "      <th class=\"blank col2\" >&nbsp;</th>\n",
       "      <th class=\"blank col3\" >&nbsp;</th>\n",
       "    </tr>\n",
       "  </thead>\n",
       "  <tbody>\n",
       "    <tr>\n",
       "      <th id=\"T_8fa25_level0_row0\" class=\"row_heading level0 row0\" >Assets</th>\n",
       "      <td id=\"T_8fa25_row0_col0\" class=\"data row0 col0\" >29748</td>\n",
       "      <td id=\"T_8fa25_row0_col1\" class=\"data row0 col1\" >29748</td>\n",
       "      <td id=\"T_8fa25_row0_col2\" class=\"data row0 col2\" >29748</td>\n",
       "      <td id=\"T_8fa25_row0_col3\" class=\"data row0 col3\" >0</td>\n",
       "    </tr>\n",
       "    <tr>\n",
       "      <th id=\"T_8fa25_level0_row1\" class=\"row_heading level0 row1\" >$X_{0}$</th>\n",
       "      <td id=\"T_8fa25_row1_col0\" class=\"data row1 col0\" >5000</td>\n",
       "      <td id=\"T_8fa25_row1_col1\" class=\"data row1 col1\" >4972</td>\n",
       "      <td id=\"T_8fa25_row1_col2\" class=\"data row1 col2\" >5472.7</td>\n",
       "      <td id=\"T_8fa25_row1_col3\" class=\"data row1 col3\" >500.76</td>\n",
       "    </tr>\n",
       "    <tr>\n",
       "      <th id=\"T_8fa25_level0_row2\" class=\"row_heading level0 row2\" >$X_{-1}$</th>\n",
       "      <td id=\"T_8fa25_row2_col0\" class=\"data row2 col0\" >5000</td>\n",
       "      <td id=\"T_8fa25_row2_col1\" class=\"data row2 col1\" >4990.7</td>\n",
       "      <td id=\"T_8fa25_row2_col2\" class=\"data row2 col2\" >5221</td>\n",
       "      <td id=\"T_8fa25_row2_col3\" class=\"data row2 col3\" >230.23</td>\n",
       "    </tr>\n",
       "    <tr>\n",
       "      <th id=\"T_8fa25_level0_row3\" class=\"row_heading level0 row3\" >$X_{-2}$</th>\n",
       "      <td id=\"T_8fa25_row3_col0\" class=\"data row3 col0\" >5000</td>\n",
       "      <td id=\"T_8fa25_row3_col1\" class=\"data row3 col1\" >4991.8</td>\n",
       "      <td id=\"T_8fa25_row3_col2\" class=\"data row3 col2\" >5086.3</td>\n",
       "      <td id=\"T_8fa25_row3_col3\" class=\"data row3 col3\" >94.469</td>\n",
       "    </tr>\n",
       "    <tr>\n",
       "      <th id=\"T_8fa25_level0_row4\" class=\"row_heading level0 row4\" >$X_{-3}$</th>\n",
       "      <td id=\"T_8fa25_row4_col0\" class=\"data row4 col0\" >5000</td>\n",
       "      <td id=\"T_8fa25_row4_col1\" class=\"data row4 col1\" >4992</td>\n",
       "      <td id=\"T_8fa25_row4_col2\" class=\"data row4 col2\" >5057.6</td>\n",
       "      <td id=\"T_8fa25_row4_col3\" class=\"data row4 col3\" >65.634</td>\n",
       "    </tr>\n",
       "    <tr>\n",
       "      <th id=\"T_8fa25_level0_row5\" class=\"row_heading level0 row5\" >Total</th>\n",
       "      <td id=\"T_8fa25_row5_col0\" class=\"data row5 col0\" >20000</td>\n",
       "      <td id=\"T_8fa25_row5_col1\" class=\"data row5 col1\" >19947</td>\n",
       "      <td id=\"T_8fa25_row5_col2\" class=\"data row5 col2\" >20838</td>\n",
       "      <td id=\"T_8fa25_row5_col3\" class=\"data row5 col3\" >891.09</td>\n",
       "    </tr>\n",
       "    <tr>\n",
       "      <th id=\"T_8fa25_level0_row6\" class=\"row_heading level0 row6\" >Equity</th>\n",
       "      <td id=\"T_8fa25_row6_col0\" class=\"data row6 col0\" >9748.5</td>\n",
       "      <td id=\"T_8fa25_row6_col1\" class=\"data row6 col1\" >9802</td>\n",
       "      <td id=\"T_8fa25_row6_col2\" class=\"data row6 col2\" >8910.9</td>\n",
       "      <td id=\"T_8fa25_row6_col3\" class=\"data row6 col3\" >-891.09</td>\n",
       "    </tr>\n",
       "  </tbody>\n",
       "</table>\n"
      ],
      "text/plain": [
       "<pandas.io.formats.style.Styler at 0x2305df17940>"
      ]
     },
     "metadata": {},
     "output_type": "display_data"
    },
    {
     "data": {
      "text/html": [
       "<hr>"
      ],
      "text/plain": [
       "<IPython.core.display.HTML object>"
      ]
     },
     "metadata": {},
     "output_type": "display_data"
    },
    {
     "data": {
      "text/html": [
       "<h3>Margin Earned</h3>"
      ],
      "text/plain": [
       "<IPython.core.display.HTML object>"
      ]
     },
     "metadata": {},
     "output_type": "display_data"
    },
    {
     "data": {
      "text/html": [
       "<style type=\"text/css\">\n",
       "</style>\n",
       "<table id=\"T_c1bb4\">\n",
       "  <thead>\n",
       "    <tr>\n",
       "      <th class=\"blank level0\" >&nbsp;</th>\n",
       "      <th id=\"T_c1bb4_level0_col0\" class=\"col_heading level0 col0\" >Period ending</th>\n",
       "      <th id=\"T_c1bb4_level0_col1\" class=\"col_heading level0 col1\" >Beginning risk margin</th>\n",
       "      <th id=\"T_c1bb4_level0_col2\" class=\"col_heading level0 col2\" >Margin earned</th>\n",
       "    </tr>\n",
       "    <tr>\n",
       "      <th class=\"index_name level0\" >Resolution during period</th>\n",
       "      <th class=\"blank col0\" >&nbsp;</th>\n",
       "      <th class=\"blank col1\" >&nbsp;</th>\n",
       "      <th class=\"blank col2\" >&nbsp;</th>\n",
       "    </tr>\n",
       "  </thead>\n",
       "  <tbody>\n",
       "    <tr>\n",
       "      <th id=\"T_c1bb4_level0_row0\" class=\"row_heading level0 row0\" >In prd 1</th>\n",
       "      <td id=\"T_c1bb4_row0_col0\" class=\"data row0 col0\" >1</td>\n",
       "      <td id=\"T_c1bb4_row0_col1\" class=\"data row0 col1\" >891.1</td>\n",
       "      <td id=\"T_c1bb4_row0_col2\" class=\"data row0 col2\" >500.76</td>\n",
       "    </tr>\n",
       "    <tr>\n",
       "      <th id=\"T_c1bb4_level0_row1\" class=\"row_heading level0 row1\" >In prd 2</th>\n",
       "      <td id=\"T_c1bb4_row1_col0\" class=\"data row1 col0\" >2</td>\n",
       "      <td id=\"T_c1bb4_row1_col1\" class=\"data row1 col1\" >390.33</td>\n",
       "      <td id=\"T_c1bb4_row1_col2\" class=\"data row1 col2\" >230.23</td>\n",
       "    </tr>\n",
       "    <tr>\n",
       "      <th id=\"T_c1bb4_level0_row2\" class=\"row_heading level0 row2\" >In prd 3</th>\n",
       "      <td id=\"T_c1bb4_row2_col0\" class=\"data row2 col0\" >3</td>\n",
       "      <td id=\"T_c1bb4_row2_col1\" class=\"data row2 col1\" >160.1</td>\n",
       "      <td id=\"T_c1bb4_row2_col2\" class=\"data row2 col2\" >94.469</td>\n",
       "    </tr>\n",
       "    <tr>\n",
       "      <th id=\"T_c1bb4_level0_row3\" class=\"row_heading level0 row3\" >In prd 4</th>\n",
       "      <td id=\"T_c1bb4_row3_col0\" class=\"data row3 col0\" >4</td>\n",
       "      <td id=\"T_c1bb4_row3_col1\" class=\"data row3 col1\" >65.634</td>\n",
       "      <td id=\"T_c1bb4_row3_col2\" class=\"data row3 col2\" >65.634</td>\n",
       "    </tr>\n",
       "    <tr>\n",
       "      <th id=\"T_c1bb4_level0_row4\" class=\"row_heading level0 row4\" >Total</th>\n",
       "      <td id=\"T_c1bb4_row4_col0\" class=\"data row4 col0\" >All</td>\n",
       "      <td id=\"T_c1bb4_row4_col1\" class=\"data row4 col1\" >1507.2</td>\n",
       "      <td id=\"T_c1bb4_row4_col2\" class=\"data row4 col2\" >891.1</td>\n",
       "    </tr>\n",
       "  </tbody>\n",
       "</table>\n"
      ],
      "text/plain": [
       "<pandas.io.formats.style.Styler at 0x230602b4580>"
      ]
     },
     "metadata": {},
     "output_type": "display_data"
    },
    {
     "data": {
      "text/html": [
       "<hr>"
      ],
      "text/plain": [
       "<IPython.core.display.HTML object>"
      ]
     },
     "metadata": {},
     "output_type": "display_data"
    },
    {
     "data": {
      "text/html": [
       "<h3>Premium Capital</h3>"
      ],
      "text/plain": [
       "<IPython.core.display.HTML object>"
      ]
     },
     "metadata": {},
     "output_type": "display_data"
    },
    {
     "data": {
      "text/html": [
       "<style type=\"text/css\">\n",
       "</style>\n",
       "<table id=\"T_39e47\">\n",
       "  <thead>\n",
       "    <tr>\n",
       "      <th class=\"blank level0\" >&nbsp;</th>\n",
       "      <th id=\"T_39e47_level0_col0\" class=\"col_heading level0 col0\" >$X_{0}$</th>\n",
       "      <th id=\"T_39e47_level0_col1\" class=\"col_heading level0 col1\" >$X_{-1}$</th>\n",
       "      <th id=\"T_39e47_level0_col2\" class=\"col_heading level0 col2\" >$X_{-2}$</th>\n",
       "      <th id=\"T_39e47_level0_col3\" class=\"col_heading level0 col3\" >$X_{-3}$</th>\n",
       "      <th id=\"T_39e47_level0_col4\" class=\"col_heading level0 col4\" >Total</th>\n",
       "    </tr>\n",
       "    <tr>\n",
       "      <th class=\"index_name level0\" >Item</th>\n",
       "      <th class=\"blank col0\" >&nbsp;</th>\n",
       "      <th class=\"blank col1\" >&nbsp;</th>\n",
       "      <th class=\"blank col2\" >&nbsp;</th>\n",
       "      <th class=\"blank col3\" >&nbsp;</th>\n",
       "      <th class=\"blank col4\" >&nbsp;</th>\n",
       "    </tr>\n",
       "  </thead>\n",
       "  <tbody>\n",
       "    <tr>\n",
       "      <th id=\"T_39e47_level0_row0\" class=\"row_heading level0 row0\" >1. Allocated assets</th>\n",
       "      <td id=\"T_39e47_row0_col0\" class=\"data row0 col0\" >9229</td>\n",
       "      <td id=\"T_39e47_row0_col1\" class=\"data row0 col1\" >7345.2</td>\n",
       "      <td id=\"T_39e47_row0_col2\" class=\"data row0 col2\" >6898.4</td>\n",
       "      <td id=\"T_39e47_row0_col3\" class=\"data row0 col3\" >6816.4</td>\n",
       "      <td id=\"T_39e47_row0_col4\" class=\"data row0 col4\" >29748</td>\n",
       "    </tr>\n",
       "    <tr>\n",
       "      <th id=\"T_39e47_level0_row1\" class=\"row_heading level0 row1\" >2. Market value liability</th>\n",
       "      <td id=\"T_39e47_row1_col0\" class=\"data row1 col0\" >5472.7</td>\n",
       "      <td id=\"T_39e47_row1_col1\" class=\"data row1 col1\" >5221</td>\n",
       "      <td id=\"T_39e47_row1_col2\" class=\"data row1 col2\" >5086.3</td>\n",
       "      <td id=\"T_39e47_row1_col3\" class=\"data row1 col3\" >5057.6</td>\n",
       "      <td id=\"T_39e47_row1_col4\" class=\"data row1 col4\" >20838</td>\n",
       "    </tr>\n",
       "    <tr>\n",
       "      <th id=\"T_39e47_level0_row2\" class=\"row_heading level0 row2\" >3. Expected incurred loss</th>\n",
       "      <td id=\"T_39e47_row2_col0\" class=\"data row2 col0\" >4972</td>\n",
       "      <td id=\"T_39e47_row2_col1\" class=\"data row2 col1\" >4990.7</td>\n",
       "      <td id=\"T_39e47_row2_col2\" class=\"data row2 col2\" >4991.8</td>\n",
       "      <td id=\"T_39e47_row2_col3\" class=\"data row2 col3\" >4992</td>\n",
       "      <td id=\"T_39e47_row2_col4\" class=\"data row2 col4\" >19947</td>\n",
       "    </tr>\n",
       "    <tr>\n",
       "      <th id=\"T_39e47_level0_row3\" class=\"row_heading level0 row3\" >4. Margin</th>\n",
       "      <td id=\"T_39e47_row3_col0\" class=\"data row3 col0\" >500.76</td>\n",
       "      <td id=\"T_39e47_row3_col1\" class=\"data row3 col1\" >230.23</td>\n",
       "      <td id=\"T_39e47_row3_col2\" class=\"data row3 col2\" >94.469</td>\n",
       "      <td id=\"T_39e47_row3_col3\" class=\"data row3 col3\" >65.634</td>\n",
       "      <td id=\"T_39e47_row3_col4\" class=\"data row3 col4\" >891.09</td>\n",
       "    </tr>\n",
       "    <tr>\n",
       "      <th id=\"T_39e47_level0_row4\" class=\"row_heading level0 row4\" >5. Loss ratio</th>\n",
       "      <td id=\"T_39e47_row4_col0\" class=\"data row4 col0\" >0.9085</td>\n",
       "      <td id=\"T_39e47_row4_col1\" class=\"data row4 col1\" >0.9559</td>\n",
       "      <td id=\"T_39e47_row4_col2\" class=\"data row4 col2\" >0.98143</td>\n",
       "      <td id=\"T_39e47_row4_col3\" class=\"data row4 col3\" >0.98702</td>\n",
       "      <td id=\"T_39e47_row4_col4\" class=\"data row4 col4\" >0.95724</td>\n",
       "    </tr>\n",
       "    <tr>\n",
       "      <th id=\"T_39e47_level0_row5\" class=\"row_heading level0 row5\" >6. Allocated equity</th>\n",
       "      <td id=\"T_39e47_row5_col0\" class=\"data row5 col0\" >3756.3</td>\n",
       "      <td id=\"T_39e47_row5_col1\" class=\"data row5 col1\" >2124.2</td>\n",
       "      <td id=\"T_39e47_row5_col2\" class=\"data row5 col2\" >1812.1</td>\n",
       "      <td id=\"T_39e47_row5_col3\" class=\"data row5 col3\" >1758.8</td>\n",
       "      <td id=\"T_39e47_row5_col4\" class=\"data row5 col4\" >8910.9</td>\n",
       "    </tr>\n",
       "    <tr>\n",
       "      <th id=\"T_39e47_level0_row6\" class=\"row_heading level0 row6\" >7. Cost of allocated equity</th>\n",
       "      <td id=\"T_39e47_row6_col0\" class=\"data row6 col0\" >0.13331</td>\n",
       "      <td id=\"T_39e47_row6_col1\" class=\"data row6 col1\" >0.10838</td>\n",
       "      <td id=\"T_39e47_row6_col2\" class=\"data row6 col2\" >0.052133</td>\n",
       "      <td id=\"T_39e47_row6_col3\" class=\"data row6 col3\" >0.037318</td>\n",
       "      <td id=\"T_39e47_row6_col4\" class=\"data row6 col4\" >0.1</td>\n",
       "    </tr>\n",
       "    <tr>\n",
       "      <th id=\"T_39e47_level0_row7\" class=\"row_heading level0 row7\" >8. Premium to surplus ratio</th>\n",
       "      <td id=\"T_39e47_row7_col0\" class=\"data row7 col0\" >1.4569</td>\n",
       "      <td id=\"T_39e47_row7_col1\" class=\"data row7 col1\" >2.4579</td>\n",
       "      <td id=\"T_39e47_row7_col2\" class=\"data row7 col2\" >2.8069</td>\n",
       "      <td id=\"T_39e47_row7_col3\" class=\"data row7 col3\" >2.8757</td>\n",
       "      <td id=\"T_39e47_row7_col4\" class=\"data row7 col4\" >2.3385</td>\n",
       "    </tr>\n",
       "  </tbody>\n",
       "</table>\n"
      ],
      "text/plain": [
       "<pandas.io.formats.style.Styler at 0x230602b4580>"
      ]
     },
     "metadata": {},
     "output_type": "display_data"
    },
    {
     "data": {
      "text/html": [
       "<hr>"
      ],
      "text/plain": [
       "<IPython.core.display.HTML object>"
      ]
     },
     "metadata": {},
     "output_type": "display_data"
    },
    {
     "data": {
      "text/html": [
       "<h3>Year End Option Analysis</h3>"
      ],
      "text/plain": [
       "<IPython.core.display.HTML object>"
      ]
     },
     "metadata": {},
     "output_type": "display_data"
    },
    {
     "data": {
      "text/html": [
       "<style type=\"text/css\">\n",
       "</style>\n",
       "<table id=\"T_4b9fe\">\n",
       "  <thead>\n",
       "    <tr>\n",
       "      <th class=\"blank level0\" >&nbsp;</th>\n",
       "      <th id=\"T_4b9fe_level0_col0\" class=\"col_heading level0 col0\" >Break Even</th>\n",
       "      <th id=\"T_4b9fe_level0_col1\" class=\"col_heading level0 col1\" >Est. EoY</th>\n",
       "      <th id=\"T_4b9fe_level0_col2\" class=\"col_heading level0 col2\" >BoY</th>\n",
       "    </tr>\n",
       "    <tr>\n",
       "      <th class=\"index_name level0\" >Item and View</th>\n",
       "      <th class=\"blank col0\" >&nbsp;</th>\n",
       "      <th class=\"blank col1\" >&nbsp;</th>\n",
       "      <th class=\"blank col2\" >&nbsp;</th>\n",
       "    </tr>\n",
       "  </thead>\n",
       "  <tbody>\n",
       "    <tr>\n",
       "      <th id=\"T_4b9fe_level0_row0\" class=\"row_heading level0 row0\" >$S_{Total}(a)$</th>\n",
       "      <td id=\"T_4b9fe_row0_col0\" class=\"data row0 col0\" >1</td>\n",
       "      <td id=\"T_4b9fe_row0_col1\" class=\"data row0 col1\" >0.052021</td>\n",
       "      <td id=\"T_4b9fe_row0_col2\" class=\"data row0 col2\" >0.0049998</td>\n",
       "    </tr>\n",
       "    <tr>\n",
       "      <th id=\"T_4b9fe_level0_row1\" class=\"row_heading level0 row1\" >$S_{X_{-1}}(a)$</th>\n",
       "      <td id=\"T_4b9fe_row1_col0\" class=\"data row1 col0\" >0.12549</td>\n",
       "      <td id=\"T_4b9fe_row1_col1\" class=\"data row1 col1\" >6.6678e-11</td>\n",
       "      <td id=\"T_4b9fe_row1_col2\" class=\"data row1 col2\" >0</td>\n",
       "    </tr>\n",
       "    <tr>\n",
       "      <th id=\"T_4b9fe_level0_row2\" class=\"row_heading level0 row2\" >$E[X_{-1}\\wedge a]$</th>\n",
       "      <td id=\"T_4b9fe_row2_col0\" class=\"data row2 col0\" >4879.1</td>\n",
       "      <td id=\"T_4b9fe_row2_col1\" class=\"data row2 col1\" >5000</td>\n",
       "      <td id=\"T_4b9fe_row2_col2\" class=\"data row2 col2\" >5000</td>\n",
       "    </tr>\n",
       "    <tr>\n",
       "      <th id=\"T_4b9fe_level0_row3\" class=\"row_heading level0 row3\" >$\\rho(X_{-1}\\wedge a)$</th>\n",
       "      <td id=\"T_4b9fe_row3_col0\" class=\"data row3 col0\" >5221.1</td>\n",
       "      <td id=\"T_4b9fe_row3_col1\" class=\"data row3 col1\" >5441.7</td>\n",
       "      <td id=\"T_4b9fe_row3_col2\" class=\"data row3 col2\" >5441.7</td>\n",
       "    </tr>\n",
       "    <tr>\n",
       "      <th id=\"T_4b9fe_level0_row4\" class=\"row_heading level0 row4\" >$E[X_{-1}(a)]$</th>\n",
       "      <td id=\"T_4b9fe_row4_col0\" class=\"data row4 col0\" >1643.9</td>\n",
       "      <td id=\"T_4b9fe_row4_col1\" class=\"data row4 col1\" >4970.3</td>\n",
       "      <td id=\"T_4b9fe_row4_col2\" class=\"data row4 col2\" >4990.7</td>\n",
       "    </tr>\n",
       "    <tr>\n",
       "      <th id=\"T_4b9fe_level0_row5\" class=\"row_heading level0 row5\" >$\\rho(X_{-1}\\subseteq X^c\\wedge a)$</th>\n",
       "      <td id=\"T_4b9fe_row5_col0\" class=\"data row5 col0\" >1652.1</td>\n",
       "      <td id=\"T_4b9fe_row5_col1\" class=\"data row5 col1\" >5178.1</td>\n",
       "      <td id=\"T_4b9fe_row5_col2\" class=\"data row5 col2\" >5221</td>\n",
       "    </tr>\n",
       "    <tr>\n",
       "      <th id=\"T_4b9fe_level0_row6\" class=\"row_heading level0 row6\" >$E[Total(a)]$</th>\n",
       "      <td id=\"T_4b9fe_row6_col0\" class=\"data row6 col0\" >6583.8</td>\n",
       "      <td id=\"T_4b9fe_row6_col1\" class=\"data row6 col1\" >19856</td>\n",
       "      <td id=\"T_4b9fe_row6_col2\" class=\"data row6 col2\" >19947</td>\n",
       "    </tr>\n",
       "    <tr>\n",
       "      <th id=\"T_4b9fe_level0_row7\" class=\"row_heading level0 row7\" >$\\rho(Total\\subseteq X^c\\wedge a)$</th>\n",
       "      <td id=\"T_4b9fe_row7_col0\" class=\"data row7 col0\" >6593</td>\n",
       "      <td id=\"T_4b9fe_row7_col1\" class=\"data row7 col1\" >20643</td>\n",
       "      <td id=\"T_4b9fe_row7_col2\" class=\"data row7 col2\" >20838</td>\n",
       "    </tr>\n",
       "    <tr>\n",
       "      <th id=\"T_4b9fe_level0_row8\" class=\"row_heading level0 row8\" >$\\Delta a_{ro}$</th>\n",
       "      <td id=\"T_4b9fe_row8_col0\" class=\"data row8 col0\" >2972</td>\n",
       "      <td id=\"T_4b9fe_row8_col1\" class=\"data row8 col1\" >-15192</td>\n",
       "      <td id=\"T_4b9fe_row8_col2\" class=\"data row8 col2\" >-20184</td>\n",
       "    </tr>\n",
       "    <tr>\n",
       "      <th id=\"T_4b9fe_level0_row9\" class=\"row_heading level0 row9\" >$\\Delta \\mathit{MVL}_{ro}(a)$</th>\n",
       "      <td id=\"T_4b9fe_row9_col0\" class=\"data row9 col0\" >2762.3</td>\n",
       "      <td id=\"T_4b9fe_row9_col1\" class=\"data row9 col1\" >-15182</td>\n",
       "      <td id=\"T_4b9fe_row9_col2\" class=\"data row9 col2\" >-20173</td>\n",
       "    </tr>\n",
       "    <tr>\n",
       "      <th id=\"T_4b9fe_level0_row10\" class=\"row_heading level0 row10\" >$\\mathit{EGL}_{ro}(a)$</th>\n",
       "      <td id=\"T_4b9fe_row10_col0\" class=\"data row10 col0\" >-209.75</td>\n",
       "      <td id=\"T_4b9fe_row10_col1\" class=\"data row10 col1\" >10.922</td>\n",
       "      <td id=\"T_4b9fe_row10_col2\" class=\"data row10 col2\" >10.922</td>\n",
       "    </tr>\n",
       "    <tr>\n",
       "      <th id=\"T_4b9fe_level0_row11\" class=\"row_heading level0 row11\" >$\\Delta a_{gc}$</th>\n",
       "      <td id=\"T_4b9fe_row11_col0\" class=\"data row11 col0\" >7538.8</td>\n",
       "      <td id=\"T_4b9fe_row11_col1\" class=\"data row11 col1\" >-10626</td>\n",
       "      <td id=\"T_4b9fe_row11_col2\" class=\"data row11 col2\" >-15617</td>\n",
       "    </tr>\n",
       "    <tr>\n",
       "      <th id=\"T_4b9fe_level0_row12\" class=\"row_heading level0 row12\" >$\\Delta \\mathit{MVL}_{gc}(a)$</th>\n",
       "      <td id=\"T_4b9fe_row12_col0\" class=\"data row12 col0\" >7538.9</td>\n",
       "      <td id=\"T_4b9fe_row12_col1\" class=\"data row12 col1\" >-10405</td>\n",
       "      <td id=\"T_4b9fe_row12_col2\" class=\"data row12 col2\" >-15396</td>\n",
       "    </tr>\n",
       "    <tr>\n",
       "      <th id=\"T_4b9fe_level0_row13\" class=\"row_heading level0 row13\" >$\\mathit{EGL}_{gc}(a)$</th>\n",
       "      <td id=\"T_4b9fe_row13_col0\" class=\"data row13 col0\" >0.078527</td>\n",
       "      <td id=\"T_4b9fe_row13_col1\" class=\"data row13 col1\" >220.75</td>\n",
       "      <td id=\"T_4b9fe_row13_col2\" class=\"data row13 col2\" >220.75</td>\n",
       "    </tr>\n",
       "    <tr>\n",
       "      <th id=\"T_4b9fe_level0_row14\" class=\"row_heading level0 row14\" >$\\mathit{MVL}(a)$??</th>\n",
       "      <td id=\"T_4b9fe_row14_col0\" class=\"data row14 col0\" >1371.9</td>\n",
       "      <td id=\"T_4b9fe_row14_col1\" class=\"data row14 col1\" >19316</td>\n",
       "      <td id=\"T_4b9fe_row14_col2\" class=\"data row14 col2\" >8910.9</td>\n",
       "    </tr>\n",
       "    <tr>\n",
       "      <th id=\"T_4b9fe_level0_row15\" class=\"row_heading level0 row15\" >Assets</th>\n",
       "      <td id=\"T_4b9fe_row15_col0\" class=\"data row15 col0\" >6593</td>\n",
       "      <td id=\"T_4b9fe_row15_col1\" class=\"data row15 col1\" >24758</td>\n",
       "      <td id=\"T_4b9fe_row15_col2\" class=\"data row15 col2\" >29748</td>\n",
       "    </tr>\n",
       "  </tbody>\n",
       "</table>\n"
      ],
      "text/plain": [
       "<pandas.io.formats.style.Styler at 0x230602b4580>"
      ]
     },
     "metadata": {},
     "output_type": "display_data"
    },
    {
     "data": {
      "text/html": [
       "<hr>"
      ],
      "text/plain": [
       "<IPython.core.display.HTML object>"
      ]
     },
     "metadata": {},
     "output_type": "display_data"
    },
    {
     "name": "stdout",
     "output_type": "stream",
     "text": [
      "time: 32.7 ms\n"
     ]
    }
   ],
   "source": [
    "port.show_enhanced_exhibits()"
   ]
  },
  {
   "cell_type": "code",
   "execution_count": null,
   "metadata": {},
   "outputs": [],
   "source": []
  }
 ],
 "metadata": {
  "kernelspec": {
   "display_name": "Python 3 (ipykernel)",
   "language": "python",
   "name": "python3"
  },
  "language_info": {
   "codemirror_mode": {
    "name": "ipython",
    "version": 3
   },
   "file_extension": ".py",
   "mimetype": "text/x-python",
   "name": "python",
   "nbconvert_exporter": "python",
   "pygments_lexer": "ipython3",
   "version": "3.8.13"
  },
  "widgets": {
   "application/vnd.jupyter.widget-state+json": {
    "state": {},
    "version_major": 2,
    "version_minor": 0
   }
  }
 },
 "nbformat": 4,
 "nbformat_minor": 4
}
