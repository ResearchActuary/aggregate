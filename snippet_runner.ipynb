{
 "cells": [
  {
   "cell_type": "markdown",
   "id": "959cfc69-534e-4f46-a36e-85f7479669f7",
   "metadata": {},
   "source": [
    "# Snippet Creator and Hacking Space \n",
    "\n",
    "Hacking space. \n",
    "\n",
    "Use snippets.py (previously dm.py) or whatever for the code... \n",
    "\n",
    "## Provenance\n",
    "\n",
    "* dm.ipynb renamed snippet_runner.ipynb to coordinate with snippets.py\n",
    "* Moved into agg project, untracked June 28, 2022\n",
    "* Created new as Learning_SLY June 23, 2022"
   ]
  },
  {
   "cell_type": "code",
   "execution_count": null,
   "id": "ca2c8f98-f841-40e6-9cba-6503101ed441",
   "metadata": {},
   "outputs": [],
   "source": [
    "# see the parser\n",
    "%run aggregate/parser.py"
   ]
  },
  {
   "cell_type": "code",
   "execution_count": null,
   "id": "c8e9984f-0180-42fe-93e2-4852b8bcb9e4",
   "metadata": {},
   "outputs": [],
   "source": [
    "agg.parser.UnderwritingParser.enhance_debugfile()"
   ]
  },
  {
   "cell_type": "code",
   "execution_count": null,
   "id": "43ef0c56-1465-448b-bb1f-89b42945bcca",
   "metadata": {},
   "outputs": [],
   "source": [
    "logger_level(30)\n",
    "%run -i snippets.py"
   ]
  },
  {
   "cell_type": "code",
   "execution_count": null,
   "id": "b6ed764a-aa2d-46b8-8140-fd8acb9b9e77",
   "metadata": {},
   "outputs": [],
   "source": [
    "# save grammar \n",
    "agg.grammar()"
   ]
  },
  {
   "cell_type": "code",
   "execution_count": null,
   "id": "30e7f14f-0699-4590-89f0-12fb30701301",
   "metadata": {},
   "outputs": [],
   "source": [
    "test = build('agg TEST dfreq [1 2 3 4] dsev [1 2 5 10]')\n",
    "test"
   ]
  },
  {
   "cell_type": "code",
   "execution_count": null,
   "id": "bf924b4a-422b-4711-8c56-1ca66b9fcab8",
   "metadata": {},
   "outputs": [],
   "source": [
    "test.report_df"
   ]
  },
  {
   "cell_type": "markdown",
   "id": "f10ad8a5-bc97-4d1c-9d46-34960b6a01cb",
   "metadata": {},
   "source": [
    "# NewCo Re Capital Model\n",
    "\n",
    "## Effect on the tail of adding cat...really depends on the relative vol of non-cat."
   ]
  },
  {
   "cell_type": "code",
   "execution_count": null,
   "id": "2d2fcf9c-824b-4357-810c-d67547677bc7",
   "metadata": {},
   "outputs": [],
   "source": [
    "logger_level(30)\n",
    "%run -i snippets.py \n",
    "# %run -i snippets.py parse_tests"
   ]
  },
  {
   "cell_type": "code",
   "execution_count": null,
   "id": "0840b954-5808-4969-8ceb-60ef3f4ddb76",
   "metadata": {},
   "outputs": [],
   "source": [
    "porta = build('''\n",
    "port newco\n",
    "    agg NonCatAndReserves 1 claim sev gamma 27000 cv 0.05 fixed\n",
    "    agg Cat               1 claim sev lognorm  500 cv 0.500 fixed\n",
    "''', log2=17, bs=1, padding=1)\n",
    "\n",
    "portb = build('''\n",
    "port newco\n",
    "    agg NonCatAndReserves 1 claim sev gamma  27000 cv .01 fixed\n",
    "    agg Cat               1 claim sev lognorm  500 cv 0.500 fixed\n",
    "''', log2=17, bs=1, padding=2)"
   ]
  },
  {
   "cell_type": "code",
   "execution_count": null,
   "id": "a25980ca-b28b-4cad-9fd8-101b1f809a04",
   "metadata": {},
   "outputs": [],
   "source": [
    "porta.plot()"
   ]
  },
  {
   "cell_type": "code",
   "execution_count": null,
   "id": "1a0cf18c-8eec-4aa6-a546-37468b036106",
   "metadata": {},
   "outputs": [],
   "source": [
    "portb.plot()"
   ]
  },
  {
   "cell_type": "code",
   "execution_count": null,
   "id": "ca0474b3-3768-4fe9-84a3-430bab93b4f7",
   "metadata": {},
   "outputs": [],
   "source": [
    "%%sf 1 2 8 8 \n",
    "porta.biv_contour_plot(f, ax0, 0, 40e3, 1e3, cmap='viridis')\n",
    "portb.biv_contour_plot(f, ax1, 0, 40e3, 1e3, cmap='viridis')"
   ]
  },
  {
   "cell_type": "markdown",
   "id": "14cbff1d-6c0b-412d-9f19-b14517c541c5",
   "metadata": {},
   "source": [
    "## Cat / Non-Cat Capital Model Case: New Syntax"
   ]
  },
  {
   "cell_type": "code",
   "execution_count": null,
   "id": "72387c11-f7f0-49cc-abe0-efadaf48644b",
   "metadata": {},
   "outputs": [],
   "source": [
    "logger_level(30)\n",
    "%run -i snippets.py"
   ]
  },
  {
   "cell_type": "code",
   "execution_count": null,
   "id": "b239227b-ebce-467c-afd7-6c1080c54cc4",
   "metadata": {},
   "outputs": [],
   "source": [
    "prog_noncat = 'agg NC 1 claim sev gamma 6840 cv 0.037 # 19500 fixed'\n",
    "noncat = build(prog_noncat)\n",
    "noncat.report_df"
   ]
  },
  {
   "cell_type": "code",
   "execution_count": null,
   "id": "ee3ffe69-0674-4e60-a75c-59ba34e322e4",
   "metadata": {},
   "outputs": [],
   "source": [
    "prog_cat_gross = 'agg CAT [26.144 2] claims sev lognorm [40 100] cv [1.7 2.5] mixed gamma 0.4'\n",
    "cat = build(prog_cat_gross, log2=18, bs=1)\n",
    "cat.report_df"
   ]
  },
  {
   "cell_type": "code",
   "execution_count": null,
   "id": "43159c79-0d0e-4eb7-8400-7ca74b1b7b24",
   "metadata": {},
   "outputs": [],
   "source": [
    "prog_cat_net = 'agg CAT [26.144 2] claims sev lognorm [40 100] cv [1.7 2.5] occurrence net of 1000 x 400 mixed gamma 0.4 aggregate net of 1325 xs 2000'\n",
    "net = build(prog_cat_net, log2=18, bs=1)\n",
    "net.report_df"
   ]
  },
  {
   "cell_type": "code",
   "execution_count": null,
   "id": "fc17ec66-6783-4f29-bfe9-9ff976c4bc49",
   "metadata": {},
   "outputs": [],
   "source": [
    "cat.q(0.9),cat.q(0.99), cat.q(0.996), cat.q(0.999), net.q(0.9), net.q(0.99), net.q(0.996), net.q(0.999)"
   ]
  },
  {
   "cell_type": "code",
   "execution_count": null,
   "id": "a694acd1-7e72-4459-a2cf-0da83cbf7f38",
   "metadata": {},
   "outputs": [],
   "source": [
    "# blend calibration\n",
    "# A- bond, default 5 bps, spread 195 bps over treasuriesw\n",
    "# most recent cat bond EL 0.009, spread 0.053\n",
    "# cat bonds average el 4.2% at 8.5%\n",
    "# s_values = [0.0005, 0.009, 0.042]\n",
    "# y = np.array([0.0195, 0.042, 0.085])\n",
    "s_values = [0.0005, 0.009]\n",
    "y = np.array([0.0195, 0.042])\n",
    "gs_values = y / (1+y)"
   ]
  },
  {
   "cell_type": "code",
   "execution_count": null,
   "id": "30c5348e-a956-4562-ac02-b6e09c69907e",
   "metadata": {},
   "outputs": [],
   "source": [
    "a, prem = catco.pricing_summary.loc[['a', 'P'], 'gross']\n",
    "a, prem"
   ]
  },
  {
   "cell_type": "code",
   "execution_count": null,
   "id": "78b91748-8caa-4fbf-a79f-f25a27d00d81",
   "metadata": {},
   "outputs": [],
   "source": [
    "ans"
   ]
  },
  {
   "cell_type": "code",
   "execution_count": null,
   "id": "dade2381-9b59-4719-990c-823e12947b85",
   "metadata": {},
   "outputs": [],
   "source": [
    "ans = catco.gross.calibrate_blends(a, prem, s_values, gs_values, debug=True)"
   ]
  },
  {
   "cell_type": "code",
   "execution_count": null,
   "id": "ebc0b59c-d093-4d71-ac0c-1d6e6aaf877d",
   "metadata": {},
   "outputs": [],
   "source": [
    "catco.dist_dict[list( catco.dist_dict.keys() )[-1]].plot(both=False)"
   ]
  },
  {
   "cell_type": "code",
   "execution_count": null,
   "id": "b57f9834-df79-4ffc-bf83-910f20dd7a19",
   "metadata": {},
   "outputs": [],
   "source": [
    "%%sf 1 4 4 4 \n",
    "for k, v in catco.blend_distortions.items():\n",
    "    ax = next(axi)\n",
    "    v.plot(ax=ax, both=False, lw=1)\n",
    "    ax.set(title=k)\n",
    "ax = next(axi)\n",
    "catco.blend_d.plot(ax=ax, both=False, lw=1)\n",
    "ax.set(title=\n",
    "      'Blend-d')"
   ]
  },
  {
   "cell_type": "code",
   "execution_count": null,
   "id": "81a6830d-46c6-400a-b4d7-17226a860e95",
   "metadata": {},
   "outputs": [],
   "source": [
    "%%sf 1 4 4 4 \n",
    "g = agg.Distortion('ph', 0.5)\n",
    "for k, v in ans[3].items():\n",
    "    ax = next(axi)\n",
    "    g.g = v\n",
    "    g.plot(ax=ax, both=False, lw=1)\n",
    "    ax.set(title=k)"
   ]
  },
  {
   "cell_type": "code",
   "execution_count": null,
   "id": "089d783f-cc54-48b9-915c-0eab010c2f25",
   "metadata": {},
   "outputs": [],
   "source": [
    "catco = cs.CaseStudy()\n",
    "catco.factory(case_id='CatCo',\n",
    "                   case_name='CatCo Capital Model',\n",
    "                   case_description='CatCo capital model calibrated to S&P',\n",
    "                   a_distribution       = prog_noncat,\n",
    "                   b_distribution_gross = prog_cat_gross,\n",
    "                   b_distribution_net   = prog_cat_net,\n",
    "                   reg_p=0.99995,      # backed into number so the net capital is correct\n",
    "                   roe=0.085,\n",
    "                   d2tc=0.281118428,    # to get about the right amount of debt\n",
    "                   f_discrete=False, \n",
    "                   s_values=s_values,\n",
    "                   gs_values=gs_values,\n",
    "                   bs=1,\n",
    "                   log2=18,\n",
    "                   padding=1)\n",
    "catco.to_json()"
   ]
  },
  {
   "cell_type": "code",
   "execution_count": null,
   "id": "860c6ac3-a9a3-4e39-8ea8-7986825b4915",
   "metadata": {},
   "outputs": [],
   "source": [
    "catco.full_monty()"
   ]
  },
  {
   "cell_type": "code",
   "execution_count": null,
   "id": "0f42f59c-b140-4fb0-8800-f3c82c036881",
   "metadata": {},
   "outputs": [],
   "source": [
    "catco.show_extended_graphs()"
   ]
  },
  {
   "cell_type": "code",
   "execution_count": null,
   "id": "874b7ba4-93b4-4216-a797-8445872e950a",
   "metadata": {},
   "outputs": [],
   "source": [
    "mrr = cs.ManualRenderResults(catco)"
   ]
  },
  {
   "cell_type": "code",
   "execution_count": null,
   "id": "dd248d70-523d-4c86-b782-d339642a2fe5",
   "metadata": {},
   "outputs": [],
   "source": [
    "# custom for this analysis\n",
    "mrr.render_custom('F', 'A', 'N', 'M', 'O', 'V', 'E', 'Z*', 'B')"
   ]
  },
  {
   "cell_type": "code",
   "execution_count": null,
   "id": "d2b13640-fa53-4b95-843b-e03b069ae637",
   "metadata": {},
   "outputs": [],
   "source": [
    "catco.show_extended_graphs()"
   ]
  },
  {
   "cell_type": "code",
   "execution_count": null,
   "id": "264e8122-35c3-4bbd-b2f8-7f4680f163c3",
   "metadata": {},
   "outputs": [],
   "source": []
  },
  {
   "cell_type": "markdown",
   "id": "2e3a894e-13f6-4212-b2af-38dcc0e1b1a5",
   "metadata": {},
   "source": [
    "# Define severity as a mixture?"
   ]
  },
  {
   "cell_type": "code",
   "execution_count": null,
   "id": "9c2dfaa5-f5fe-45f5-8757-ce939eea8a21",
   "metadata": {},
   "outputs": [],
   "source": [
    "out = build('sev Atest [10 30 100 300 1000] @ expon 1 wts [.4 .2 .2 .1 .1]')"
   ]
  },
  {
   "cell_type": "code",
   "execution_count": null,
   "id": "2d373c1f-3258-4eaf-b80f-9ca47cd32bb1",
   "metadata": {},
   "outputs": [],
   "source": [
    "out"
   ]
  },
  {
   "cell_type": "code",
   "execution_count": null,
   "id": "51b4f947-9cad-484c-89fb-3fbab50df1b8",
   "metadata": {},
   "outputs": [],
   "source": [
    "a = build('agg Amixed 10 claim sev.Atest poisson', log2=16, bs=.5)\n",
    "a"
   ]
  },
  {
   "cell_type": "code",
   "execution_count": null,
   "id": "8b56e545-5d9e-47b8-800f-2173ae4c2205",
   "metadata": {},
   "outputs": [],
   "source": [
    "a.report_df"
   ]
  },
  {
   "cell_type": "code",
   "execution_count": null,
   "id": "80cbf76a-9520-4fa2-9d48-fde55dd859ef",
   "metadata": {},
   "outputs": [],
   "source": [
    "a.plot()"
   ]
  },
  {
   "cell_type": "code",
   "execution_count": 31,
   "id": "1def6679-2291-438c-86e2-df55718b020d",
   "metadata": {},
   "outputs": [
    {
     "name": "stdout",
     "output_type": "stream",
     "text": [
      "time: 0 ns (started: 2022-07-12 21:33:21 -04:00)\n"
     ]
    }
   ],
   "source": [
    "port = catco.net"
   ]
  },
  {
   "cell_type": "code",
   "execution_count": 32,
   "id": "2c9ae9b2-d811-4372-bda4-c18d19f08eff",
   "metadata": {},
   "outputs": [
    {
     "data": {
      "text/html": [
       "<h2>Portfolio object: Net_CatCo</h2>\n",
       "Portfolio contains 2 aggregate components\n",
       "<div>\n",
       "<style scoped>\n",
       "    .dataframe tbody tr th:only-of-type {\n",
       "        vertical-align: middle;\n",
       "    }\n",
       "\n",
       "    .dataframe tbody tr th {\n",
       "        vertical-align: top;\n",
       "    }\n",
       "\n",
       "    .dataframe thead th {\n",
       "        text-align: right;\n",
       "    }\n",
       "</style>\n",
       "<table border=\"1\" class=\"dataframe\">\n",
       "  <thead>\n",
       "    <tr style=\"text-align: right;\">\n",
       "      <th></th>\n",
       "      <th>CAT</th>\n",
       "      <th>NC</th>\n",
       "      <th>total</th>\n",
       "    </tr>\n",
       "  </thead>\n",
       "  <tbody>\n",
       "    <tr>\n",
       "      <th>(freq, mean)</th>\n",
       "      <td>28.144</td>\n",
       "      <td>1.000</td>\n",
       "      <td>29.144</td>\n",
       "    </tr>\n",
       "    <tr>\n",
       "      <th>(sev, mean)</th>\n",
       "      <td>44.264</td>\n",
       "      <td>26.340k</td>\n",
       "      <td>946.533</td>\n",
       "    </tr>\n",
       "    <tr>\n",
       "      <th>(agg, mean)</th>\n",
       "      <td>1.246k</td>\n",
       "      <td>26.340k</td>\n",
       "      <td>27.586k</td>\n",
       "    </tr>\n",
       "    <tr>\n",
       "      <th>(freq, cv)</th>\n",
       "      <td>442.189m</td>\n",
       "      <td>0.000</td>\n",
       "      <td>427.017m</td>\n",
       "    </tr>\n",
       "    <tr>\n",
       "      <th>(sev, cv)</th>\n",
       "      <td>2.140</td>\n",
       "      <td>9.608m</td>\n",
       "      <td>5.058</td>\n",
       "    </tr>\n",
       "    <tr>\n",
       "      <th>(agg, cv)</th>\n",
       "      <td>598.568m</td>\n",
       "      <td>9.608m</td>\n",
       "      <td>28.546m</td>\n",
       "    </tr>\n",
       "    <tr>\n",
       "      <th>(freq, skew)</th>\n",
       "      <td>804.025m</td>\n",
       "      <td>NaN</td>\n",
       "      <td>804.025m</td>\n",
       "    </tr>\n",
       "    <tr>\n",
       "      <th>(sev, skew)</th>\n",
       "      <td>34.464</td>\n",
       "      <td>74.000m</td>\n",
       "      <td>5.115</td>\n",
       "    </tr>\n",
       "    <tr>\n",
       "      <th>(agg, skew)</th>\n",
       "      <td>2.758</td>\n",
       "      <td>74.000m</td>\n",
       "      <td>2.345</td>\n",
       "    </tr>\n",
       "    <tr>\n",
       "      <th>Mean</th>\n",
       "      <td>1.246k</td>\n",
       "      <td>26.340k</td>\n",
       "      <td>27.586k</td>\n",
       "    </tr>\n",
       "    <tr>\n",
       "      <th>EmpMean</th>\n",
       "      <td>1.140k</td>\n",
       "      <td>26.340k</td>\n",
       "      <td>27.480k</td>\n",
       "    </tr>\n",
       "    <tr>\n",
       "      <th>MeanErr</th>\n",
       "      <td>-84.963m</td>\n",
       "      <td>-563.882f</td>\n",
       "      <td>-3.837m</td>\n",
       "    </tr>\n",
       "    <tr>\n",
       "      <th>CV</th>\n",
       "      <td>598.568m</td>\n",
       "      <td>9.608m</td>\n",
       "      <td>28.546m</td>\n",
       "    </tr>\n",
       "    <tr>\n",
       "      <th>EmpCV</th>\n",
       "      <td>480.062m</td>\n",
       "      <td>9.608m</td>\n",
       "      <td>21.940m</td>\n",
       "    </tr>\n",
       "    <tr>\n",
       "      <th>CVErr</th>\n",
       "      <td>-197.983m</td>\n",
       "      <td>648.297n</td>\n",
       "      <td>-231.403m</td>\n",
       "    </tr>\n",
       "    <tr>\n",
       "      <th>P99.0</th>\n",
       "      <td>2.000k</td>\n",
       "      <td>26.942k</td>\n",
       "      <td>28.754k</td>\n",
       "    </tr>\n",
       "  </tbody>\n",
       "</table>\n",
       "</div>"
      ],
      "text/plain": [
       "<aggregate.port.Portfolio object at 0x00000209091340A0>, { 'name': 'Net_CatCo', 'spec': [{'name': 'NC', 'note': '', 'occ_reins': None, 'occ_kind': '', 'agg_reins': None, 'agg_kind': ''}, {'name': 'CAT', 'note': '', 'occ_reins': [(1000.0, 1000.0, 400.0)], 'occ_kind': 'net of', 'agg_reins': [(1325.0, 1325.0, 2000.0)], 'agg_kind': 'net of'}], \"bs\": 1, \"log2\": 18, \"padding\": 1, \"tilt_amount\": 0, \"distortion\": \"blend (0.599099)\", \"sev_calc\": \"discrete\", \"remove_fuzz\": True, \"approx_type\": \"slognorm\", \"approx_freq_ge\": 100}"
      ]
     },
     "execution_count": 32,
     "metadata": {},
     "output_type": "execute_result"
    },
    {
     "name": "stdout",
     "output_type": "stream",
     "text": [
      "time: 0 ns (started: 2022-07-12 21:33:22 -04:00)\n"
     ]
    }
   ],
   "source": [
    "port"
   ]
  },
  {
   "cell_type": "code",
   "execution_count": 34,
   "id": "135ce734-5e1e-4992-a40e-ca6b778f0aa3",
   "metadata": {},
   "outputs": [
    {
     "name": "stdout",
     "output_type": "stream",
     "text": [
      "CAT                     EX_accounting_economic_balance_sheet    EX_allocated_capital_comparison EX_basic_loss_statistics\n",
      "EX_distortion_calibration       EX_distortion_information       EX_loss_ratio_comparison        EX_margin_comparison\n",
      "EX_multi_premium_capital        EX_natural_allocation_summary   EX_premium_capital\n",
      "EX_return_on_allocated_capital_comparison       NC                      accounting_economic_balance_sheet       add_exa\n",
      "agg_list                analysis_collateral     analysis_priority       analyze_distortion\n",
      "analyze_distortion_add_comps    analyze_distortion_plots        analyze_distortions     apply_distortion\n",
      "apply_distortions       approx_freq_ge          approx_type             as_severity             assets_2_epd\n",
      "audit                   audit_df                audit_percentiles       audits                  augmented\n",
      "augmented_df            basic_loss_statistics   best_bucket             biv_contour_plot        bs\n",
      "calibrate_blends        calibrate_distortion    calibrate_distortions   cdf                     collapse\n",
      "compare_allocations     cotvar                  density                 density_df              density_sample\n",
      "discretization_calc     dist_ans                distortion              distortion_calibration  distortion_information\n",
      "dists                   epd_2_assets            equal_risk_epd          equal_risk_var_tvar     ex\n",
      "figure                  fit                     from_DataFrame          from_Excel              from_dict_of_aggs\n",
      "gamma                   get_stat                gradient                hash_rep_at_last_update json\n",
      "last_a                  last_update             limits                  line_name_pipe          line_names\n",
      "line_names_ex           line_renamer            log2                    make_all                merton_perold\n",
      "multi_premium_capital   name                    natural_profit_segment_plot     nice_program            padding\n",
      "pdf                     percentiles             plot                    plot_old                premium_capital\n",
      "premium_capital_renamer price                   priority_analysis_df    priority_capital_df     profit_segment_plot\n",
      "program                 q                       q_temp                  recommend_bucket        remove_fuzz\n",
      "renamer                 report                  report_df               save                    set_a_p\n",
      "sev_calc                sf                      short_renamer           show_enhanced_exhibits  snap\n",
      "stand_alone_pricing     stand_alone_pricing_work        stat_renamer            statistics              statistics_df\n",
      "tilt_amount             tm_renamer              top_down                trim_df                 tvar\n",
      "tvar_threshold          twelve_plot             uat                     uat_differential\n",
      "uat_interpolation_functions     update                  update_efficiently      var                     var_dict\n",
      "time: 16 ms (started: 2022-07-12 21:33:31 -04:00)\n"
     ]
    }
   ],
   "source": [
    "sdir(port)"
   ]
  },
  {
   "cell_type": "code",
   "execution_count": 35,
   "id": "b078fbfb-18c1-4185-a34d-08aa3338a70f",
   "metadata": {},
   "outputs": [
    {
     "data": {
      "text/html": [
       "<div>\n",
       "<style scoped>\n",
       "    .dataframe tbody tr th:only-of-type {\n",
       "        vertical-align: middle;\n",
       "    }\n",
       "\n",
       "    .dataframe tbody tr th {\n",
       "        vertical-align: top;\n",
       "    }\n",
       "\n",
       "    .dataframe thead th {\n",
       "        text-align: right;\n",
       "    }\n",
       "</style>\n",
       "<table border=\"1\" class=\"dataframe\">\n",
       "  <thead>\n",
       "    <tr style=\"text-align: right;\">\n",
       "      <th>portfolio</th>\n",
       "      <th>gross</th>\n",
       "      <th>net</th>\n",
       "    </tr>\n",
       "    <tr>\n",
       "      <th>stat</th>\n",
       "      <th></th>\n",
       "      <th></th>\n",
       "    </tr>\n",
       "  </thead>\n",
       "  <tbody>\n",
       "    <tr>\n",
       "      <th>L</th>\n",
       "      <td>27.586k</td>\n",
       "      <td>27.480k</td>\n",
       "    </tr>\n",
       "    <tr>\n",
       "      <th>M</th>\n",
       "      <td>907.932</td>\n",
       "      <td>725.699</td>\n",
       "    </tr>\n",
       "    <tr>\n",
       "      <th>P</th>\n",
       "      <td>28.493k</td>\n",
       "      <td>28.205k</td>\n",
       "    </tr>\n",
       "    <tr>\n",
       "      <th>LR</th>\n",
       "      <td>968.135m</td>\n",
       "      <td>974.271m</td>\n",
       "    </tr>\n",
       "    <tr>\n",
       "      <th>Q</th>\n",
       "      <td>10.682k</td>\n",
       "      <td>8.538k</td>\n",
       "    </tr>\n",
       "    <tr>\n",
       "      <th>ROE</th>\n",
       "      <td>85.000m</td>\n",
       "      <td>85.000m</td>\n",
       "    </tr>\n",
       "    <tr>\n",
       "      <th>a</th>\n",
       "      <td>39.175k</td>\n",
       "      <td>36.743k</td>\n",
       "    </tr>\n",
       "    <tr>\n",
       "      <th>PQ</th>\n",
       "      <td>2.668</td>\n",
       "      <td>3.304</td>\n",
       "    </tr>\n",
       "  </tbody>\n",
       "</table>\n",
       "</div>"
      ],
      "text/plain": [
       "portfolio     gross       net\n",
       "stat                         \n",
       "L           27.586k   27.480k\n",
       "M           907.932   725.699\n",
       "P           28.493k   28.205k\n",
       "LR         968.135m  974.271m\n",
       "Q           10.682k    8.538k\n",
       "ROE         85.000m   85.000m\n",
       "a           39.175k   36.743k\n",
       "PQ            2.668     3.304"
      ]
     },
     "execution_count": 35,
     "metadata": {},
     "output_type": "execute_result"
    },
    {
     "name": "stdout",
     "output_type": "stream",
     "text": [
      "time: 16 ms (started: 2022-07-12 21:34:22 -04:00)\n"
     ]
    }
   ],
   "source": [
    "catco.pricing_summary"
   ]
  },
  {
   "cell_type": "code",
   "execution_count": 38,
   "id": "eb259304-ca71-44c7-b54a-1f00232a8e88",
   "metadata": {},
   "outputs": [
    {
     "name": "stdout",
     "output_type": "stream",
     "text": [
      "time: 0 ns (started: 2022-07-12 21:35:39 -04:00)\n"
     ]
    }
   ],
   "source": [
    "port.dist_ans"
   ]
  },
  {
   "cell_type": "code",
   "execution_count": 37,
   "id": "200f2184-4628-443a-be5c-08f0c64677f4",
   "metadata": {},
   "outputs": [
    {
     "ename": "AttributeError",
     "evalue": "'NoneType' object has no attribute 'reset_index'",
     "output_type": "error",
     "traceback": [
      "\u001b[1;31m---------------------------------------------------------------------------\u001b[0m",
      "\u001b[1;31mAttributeError\u001b[0m                            Traceback (most recent call last)",
      "\u001b[1;32m~\\S\\TELOS\\Python\\aggregate_project\\snippets.py\u001b[0m in \u001b[0;36m<module>\u001b[1;34m\u001b[0m\n\u001b[1;32m----> 1\u001b[1;33m \u001b[0mport\u001b[0m\u001b[1;33m.\u001b[0m\u001b[0mdistortion_information\u001b[0m\u001b[1;33m(\u001b[0m\u001b[1;33m)\u001b[0m\u001b[1;33m\u001b[0m\u001b[1;33m\u001b[0m\u001b[0m\n\u001b[0m",
      "\u001b[1;32m~\\S\\TELOS\\Python\\aggregate_project\\aggregate\\port.py\u001b[0m in \u001b[0;36mdistortion_information\u001b[1;34m(self)\u001b[0m\n\u001b[0;32m   5295\u001b[0m         \u001b[0msummary\u001b[0m \u001b[0mof\u001b[0m \u001b[0mthe\u001b[0m \u001b[0mdistortion\u001b[0m \u001b[0mcalibration\u001b[0m \u001b[0minformation\u001b[0m\u001b[1;33m\u001b[0m\u001b[1;33m\u001b[0m\u001b[0m\n\u001b[0;32m   5296\u001b[0m         \"\"\"\n\u001b[1;32m-> 5297\u001b[1;33m         \u001b[0mself\u001b[0m\u001b[1;33m.\u001b[0m\u001b[0mEX_distortion_information\u001b[0m \u001b[1;33m=\u001b[0m \u001b[0mself\u001b[0m\u001b[1;33m.\u001b[0m\u001b[0mdist_ans\u001b[0m\u001b[1;33m.\u001b[0m\u001b[0mreset_index\u001b[0m\u001b[1;33m(\u001b[0m\u001b[0mdrop\u001b[0m\u001b[1;33m=\u001b[0m\u001b[1;32mFalse\u001b[0m\u001b[1;33m)\u001b[0m\u001b[1;33m.\u001b[0m\u001b[0;31m \u001b[0m\u001b[0;31m\\\u001b[0m\u001b[1;33m\u001b[0m\u001b[1;33m\u001b[0m\u001b[0m\n\u001b[0m\u001b[0;32m   5298\u001b[0m             \u001b[0msort_values\u001b[0m\u001b[1;33m(\u001b[0m\u001b[1;34m'method'\u001b[0m\u001b[1;33m)\u001b[0m\u001b[1;33m[\u001b[0m\u001b[1;33m[\u001b[0m\u001b[1;34m'method'\u001b[0m\u001b[1;33m,\u001b[0m \u001b[1;34m'param'\u001b[0m\u001b[1;33m]\u001b[0m\u001b[1;33m]\u001b[0m\u001b[1;33m.\u001b[0m\u001b[0;31m \u001b[0m\u001b[0;31m\\\u001b[0m\u001b[1;33m\u001b[0m\u001b[1;33m\u001b[0m\u001b[0m\n\u001b[0;32m   5299\u001b[0m             \u001b[0mrename\u001b[0m\u001b[1;33m(\u001b[0m\u001b[0mcolumns\u001b[0m\u001b[1;33m=\u001b[0m\u001b[0mdict\u001b[0m\u001b[1;33m(\u001b[0m\u001b[0mmethod\u001b[0m\u001b[1;33m=\u001b[0m\u001b[1;34m'Distortion'\u001b[0m\u001b[1;33m,\u001b[0m \u001b[0mparam\u001b[0m\u001b[1;33m=\u001b[0m\u001b[1;34m'Shape Parameter'\u001b[0m\u001b[1;33m)\u001b[0m\u001b[1;33m)\u001b[0m\u001b[1;33m.\u001b[0m\u001b[0;31m \u001b[0m\u001b[0;31m\\\u001b[0m\u001b[1;33m\u001b[0m\u001b[1;33m\u001b[0m\u001b[0m\n",
      "\u001b[1;31mAttributeError\u001b[0m: 'NoneType' object has no attribute 'reset_index'"
     ]
    },
    {
     "name": "stdout",
     "output_type": "stream",
     "text": [
      "time: 16 ms (started: 2022-07-12 21:35:18 -04:00)\n"
     ]
    }
   ],
   "source": [
    "port.distortion_information()"
   ]
  },
  {
   "cell_type": "code",
   "execution_count": 36,
   "id": "df669bc6-1920-47fb-9580-8de744978225",
   "metadata": {},
   "outputs": [
    {
     "data": {
      "text/plain": [
       "blend (0.599099)"
      ]
     },
     "execution_count": 36,
     "metadata": {},
     "output_type": "execute_result"
    },
    {
     "name": "stdout",
     "output_type": "stream",
     "text": [
      "time: 16 ms (started: 2022-07-12 21:35:10 -04:00)\n"
     ]
    }
   ],
   "source": [
    "port.distortion"
   ]
  },
  {
   "cell_type": "code",
   "execution_count": 39,
   "id": "06669db7-b375-4146-b664-f631508d6fe3",
   "metadata": {},
   "outputs": [
    {
     "name": "stdout",
     "output_type": "stream",
     "text": [
      "time: 31 ms (started: 2022-07-12 21:39:03 -04:00)\n"
     ]
    }
   ],
   "source": [
    "port.make_all(a=36743)"
   ]
  },
  {
   "cell_type": "code",
   "execution_count": 56,
   "id": "d2ef7cdc-f5f9-4dea-802e-0e5d4a359b65",
   "metadata": {},
   "outputs": [
    {
     "name": "stdout",
     "output_type": "stream",
     "text": [
      "time: 78 ms (started: 2022-07-12 21:56:43 -04:00)\n"
     ]
    }
   ],
   "source": [
    "port.multi_premium_capital([34000, 35000, 36000])"
   ]
  },
  {
   "cell_type": "code",
   "execution_count": 57,
   "id": "0e5b1211-3663-4b83-9d5d-1484823a89b7",
   "metadata": {},
   "outputs": [
    {
     "data": {
      "text/html": [
       "<div>\n",
       "<style scoped>\n",
       "    .dataframe tbody tr th:only-of-type {\n",
       "        vertical-align: middle;\n",
       "    }\n",
       "\n",
       "    .dataframe tbody tr th {\n",
       "        vertical-align: top;\n",
       "    }\n",
       "\n",
       "    .dataframe thead tr th {\n",
       "        text-align: left;\n",
       "    }\n",
       "\n",
       "    .dataframe thead tr:last-of-type th {\n",
       "        text-align: right;\n",
       "    }\n",
       "</style>\n",
       "<table border=\"1\" class=\"dataframe\">\n",
       "  <thead>\n",
       "    <tr>\n",
       "      <th>Assets</th>\n",
       "      <th colspan=\"3\" halign=\"left\">$a=34000.0$</th>\n",
       "      <th colspan=\"3\" halign=\"left\">$a=35000.0$</th>\n",
       "      <th colspan=\"3\" halign=\"left\">$a=36000.0$</th>\n",
       "    </tr>\n",
       "    <tr>\n",
       "      <th>Line</th>\n",
       "      <th>CAT</th>\n",
       "      <th>NC</th>\n",
       "      <th>Total</th>\n",
       "      <th>CAT</th>\n",
       "      <th>NC</th>\n",
       "      <th>Total</th>\n",
       "      <th>CAT</th>\n",
       "      <th>NC</th>\n",
       "      <th>Total</th>\n",
       "    </tr>\n",
       "    <tr>\n",
       "      <th>Item</th>\n",
       "      <th></th>\n",
       "      <th></th>\n",
       "      <th></th>\n",
       "      <th></th>\n",
       "      <th></th>\n",
       "      <th></th>\n",
       "      <th></th>\n",
       "      <th></th>\n",
       "      <th></th>\n",
       "    </tr>\n",
       "  </thead>\n",
       "  <tbody>\n",
       "    <tr>\n",
       "      <th>1. Allocated assets</th>\n",
       "      <td>6.665k</td>\n",
       "      <td>27.335k</td>\n",
       "      <td>34.000k</td>\n",
       "      <td>7.555k</td>\n",
       "      <td>27.445k</td>\n",
       "      <td>35.000k</td>\n",
       "      <td>8.448k</td>\n",
       "      <td>27.552k</td>\n",
       "      <td>36.000k</td>\n",
       "    </tr>\n",
       "    <tr>\n",
       "      <th>2. Market value liability</th>\n",
       "      <td>2.132k</td>\n",
       "      <td>26.030k</td>\n",
       "      <td>28.162k</td>\n",
       "      <td>2.148k</td>\n",
       "      <td>26.032k</td>\n",
       "      <td>28.180k</td>\n",
       "      <td>2.164k</td>\n",
       "      <td>26.034k</td>\n",
       "      <td>28.198k</td>\n",
       "    </tr>\n",
       "    <tr>\n",
       "      <th>3. Expected incurred loss</th>\n",
       "      <td>1.140k</td>\n",
       "      <td>26.340k</td>\n",
       "      <td>27.479k</td>\n",
       "      <td>1.140k</td>\n",
       "      <td>26.340k</td>\n",
       "      <td>27.480k</td>\n",
       "      <td>1.140k</td>\n",
       "      <td>26.340k</td>\n",
       "      <td>27.480k</td>\n",
       "    </tr>\n",
       "    <tr>\n",
       "      <th>4. Margin</th>\n",
       "      <td>992.503</td>\n",
       "      <td>-309.462</td>\n",
       "      <td>683.041</td>\n",
       "      <td>1.008k</td>\n",
       "      <td>-307.540</td>\n",
       "      <td>700.589</td>\n",
       "      <td>1.024k</td>\n",
       "      <td>-305.673</td>\n",
       "      <td>718.064</td>\n",
       "    </tr>\n",
       "    <tr>\n",
       "      <th>5. Loss ratio</th>\n",
       "      <td>534.525m</td>\n",
       "      <td>1.012</td>\n",
       "      <td>975.746m</td>\n",
       "      <td>530.643m</td>\n",
       "      <td>1.012</td>\n",
       "      <td>975.139m</td>\n",
       "      <td>526.820m</td>\n",
       "      <td>1.012</td>\n",
       "      <td>974.535m</td>\n",
       "    </tr>\n",
       "    <tr>\n",
       "      <th>6. Allocated equity</th>\n",
       "      <td>4.532k</td>\n",
       "      <td>1.305k</td>\n",
       "      <td>5.838k</td>\n",
       "      <td>5.407k</td>\n",
       "      <td>1.413k</td>\n",
       "      <td>6.820k</td>\n",
       "      <td>6.285k</td>\n",
       "      <td>1.518k</td>\n",
       "      <td>7.802k</td>\n",
       "    </tr>\n",
       "    <tr>\n",
       "      <th>7. Cost of allocated equity</th>\n",
       "      <td>218.982m</td>\n",
       "      <td>-237.106m</td>\n",
       "      <td>117.009m</td>\n",
       "      <td>186.445m</td>\n",
       "      <td>-217.691m</td>\n",
       "      <td>102.728m</td>\n",
       "      <td>162.895m</td>\n",
       "      <td>-201.410m</td>\n",
       "      <td>92.032m</td>\n",
       "    </tr>\n",
       "    <tr>\n",
       "      <th>8. Premium to surplus ratio</th>\n",
       "      <td>470.449m</td>\n",
       "      <td>19.944</td>\n",
       "      <td>4.824</td>\n",
       "      <td>397.234m</td>\n",
       "      <td>18.427</td>\n",
       "      <td>4.132</td>\n",
       "      <td>344.256m</td>\n",
       "      <td>17.154</td>\n",
       "      <td>3.614</td>\n",
       "    </tr>\n",
       "  </tbody>\n",
       "</table>\n",
       "</div>"
      ],
      "text/plain": [
       "Assets                      $a=34000.0$                     $a=35000.0$  \\\n",
       "Line                                CAT        NC     Total         CAT   \n",
       "Item                                                                      \n",
       "1. Allocated assets              6.665k   27.335k   34.000k      7.555k   \n",
       "2. Market value liability        2.132k   26.030k   28.162k      2.148k   \n",
       "3. Expected incurred loss        1.140k   26.340k   27.479k      1.140k   \n",
       "4. Margin                       992.503  -309.462   683.041      1.008k   \n",
       "5. Loss ratio                  534.525m     1.012  975.746m    530.643m   \n",
       "6. Allocated equity              4.532k    1.305k    5.838k      5.407k   \n",
       "7. Cost of allocated equity    218.982m -237.106m  117.009m    186.445m   \n",
       "8. Premium to surplus ratio    470.449m    19.944     4.824    397.234m   \n",
       "\n",
       "Assets                                          $a=36000.0$            \\\n",
       "Line                               NC     Total         CAT        NC   \n",
       "Item                                                                    \n",
       "1. Allocated assets           27.445k   35.000k      8.448k   27.552k   \n",
       "2. Market value liability     26.032k   28.180k      2.164k   26.034k   \n",
       "3. Expected incurred loss     26.340k   27.480k      1.140k   26.340k   \n",
       "4. Margin                    -307.540   700.589      1.024k  -305.673   \n",
       "5. Loss ratio                   1.012  975.139m    526.820m     1.012   \n",
       "6. Allocated equity            1.413k    6.820k      6.285k    1.518k   \n",
       "7. Cost of allocated equity -217.691m  102.728m    162.895m -201.410m   \n",
       "8. Premium to surplus ratio    18.427     4.132    344.256m    17.154   \n",
       "\n",
       "Assets                                 \n",
       "Line                            Total  \n",
       "Item                                   \n",
       "1. Allocated assets           36.000k  \n",
       "2. Market value liability     28.198k  \n",
       "3. Expected incurred loss     27.480k  \n",
       "4. Margin                     718.064  \n",
       "5. Loss ratio                974.535m  \n",
       "6. Allocated equity            7.802k  \n",
       "7. Cost of allocated equity   92.032m  \n",
       "8. Premium to surplus ratio     3.614  "
      ]
     },
     "execution_count": 57,
     "metadata": {},
     "output_type": "execute_result"
    },
    {
     "name": "stdout",
     "output_type": "stream",
     "text": [
      "time: 16 ms (started: 2022-07-12 21:56:57 -04:00)\n"
     ]
    }
   ],
   "source": [
    "port.EX_multi_premium_capital"
   ]
  },
  {
   "cell_type": "code",
   "execution_count": 65,
   "id": "43ea8cac-de19-47cd-95f2-1eb1130047fe",
   "metadata": {},
   "outputs": [
    {
     "name": "stdout",
     "output_type": "stream",
     "text": [
      "time: 15 ms (started: 2022-07-12 22:03:22 -04:00)\n"
     ]
    }
   ],
   "source": [
    "catco.gross._distortion = catco.gross.dists['ph']"
   ]
  },
  {
   "cell_type": "code",
   "execution_count": 62,
   "id": "df287af0-31ad-4d87-9c93-6a5a5354693a",
   "metadata": {},
   "outputs": [
    {
     "data": {
      "text/html": [
       "<div>\n",
       "<style scoped>\n",
       "    .dataframe tbody tr th:only-of-type {\n",
       "        vertical-align: middle;\n",
       "    }\n",
       "\n",
       "    .dataframe tbody tr th {\n",
       "        vertical-align: top;\n",
       "    }\n",
       "\n",
       "    .dataframe thead th {\n",
       "        text-align: right;\n",
       "    }\n",
       "</style>\n",
       "<table border=\"1\" class=\"dataframe\">\n",
       "  <thead>\n",
       "    <tr style=\"text-align: right;\">\n",
       "      <th></th>\n",
       "      <th>Shape Parameter</th>\n",
       "    </tr>\n",
       "    <tr>\n",
       "      <th>Distortion</th>\n",
       "      <th></th>\n",
       "    </tr>\n",
       "  </thead>\n",
       "  <tbody>\n",
       "    <tr>\n",
       "      <th>Dual Moment</th>\n",
       "      <td>4.568</td>\n",
       "    </tr>\n",
       "    <tr>\n",
       "      <th>Proportional Hazard</th>\n",
       "      <td>466.397m</td>\n",
       "    </tr>\n",
       "    <tr>\n",
       "      <th>roe</th>\n",
       "      <td>85.000m</td>\n",
       "    </tr>\n",
       "    <tr>\n",
       "      <th>Tail VaR</th>\n",
       "      <td>695.210m</td>\n",
       "    </tr>\n",
       "    <tr>\n",
       "      <th>Wang-normal</th>\n",
       "      <td>976.838m</td>\n",
       "    </tr>\n",
       "  </tbody>\n",
       "</table>\n",
       "</div>"
      ],
      "text/plain": [
       "                     Shape Parameter\n",
       "Distortion                          \n",
       "Dual Moment                    4.568\n",
       "Proportional Hazard         466.397m\n",
       "roe                          85.000m\n",
       "Tail VaR                    695.210m\n",
       "Wang-normal                 976.838m"
      ]
     },
     "execution_count": 62,
     "metadata": {},
     "output_type": "execute_result"
    },
    {
     "name": "stdout",
     "output_type": "stream",
     "text": [
      "time: 0 ns (started: 2022-07-12 22:02:16 -04:00)\n"
     ]
    }
   ],
   "source": [
    "catco.gross.EX_distortion_information"
   ]
  },
  {
   "cell_type": "markdown",
   "id": "0d1c392c-af0c-4dce-8508-9c0e14c66193",
   "metadata": {},
   "source": [
    "$x \\wedge x$ $\\bar Q(a)$"
   ]
  },
  {
   "cell_type": "code",
   "execution_count": null,
   "id": "36fcb6ea-04bf-4100-bcc9-20a3a368d005",
   "metadata": {},
   "outputs": [],
   "source": [
    "  191:         port.profit_segment_plot(a, 0.999, ['total', 'Thick', 'Thin'],\n",
    "  195:         port.natural_profit_segment_plot(a, 0.999, ['total', 'Thick', 'Thin'],\n"
   ]
  },
  {
   "cell_type": "code",
   "execution_count": 73,
   "id": "603f5a24-a531-46d5-82c9-84484f288788",
   "metadata": {},
   "outputs": [
    {
     "data": {
      "text/plain": [
       "['NC', 'CAT']"
      ]
     },
     "execution_count": 73,
     "metadata": {},
     "output_type": "execute_result"
    },
    {
     "name": "stdout",
     "output_type": "stream",
     "text": [
      "time: 0 ns (started: 2022-07-12 22:15:34 -04:00)\n"
     ]
    }
   ],
   "source": [
    "catco.gross.line_names"
   ]
  },
  {
   "cell_type": "code",
   "execution_count": 85,
   "id": "d68061a0-6672-482c-8ddb-72179a59a59c",
   "metadata": {},
   "outputs": [
    {
     "data": {
      "text/html": [
       "<h2>Portfolio object: Gross_CatCo</h2>\n",
       "Portfolio contains 2 aggregate components\n",
       "<div>\n",
       "<style scoped>\n",
       "    .dataframe tbody tr th:only-of-type {\n",
       "        vertical-align: middle;\n",
       "    }\n",
       "\n",
       "    .dataframe tbody tr th {\n",
       "        vertical-align: top;\n",
       "    }\n",
       "\n",
       "    .dataframe thead th {\n",
       "        text-align: right;\n",
       "    }\n",
       "</style>\n",
       "<table border=\"1\" class=\"dataframe\">\n",
       "  <thead>\n",
       "    <tr style=\"text-align: right;\">\n",
       "      <th></th>\n",
       "      <th>CAT</th>\n",
       "      <th>NC</th>\n",
       "      <th>total</th>\n",
       "    </tr>\n",
       "  </thead>\n",
       "  <tbody>\n",
       "    <tr>\n",
       "      <th>(freq, mean)</th>\n",
       "      <td>28.144</td>\n",
       "      <td>1.000</td>\n",
       "      <td>29.144</td>\n",
       "    </tr>\n",
       "    <tr>\n",
       "      <th>(sev, mean)</th>\n",
       "      <td>44.264</td>\n",
       "      <td>26.340k</td>\n",
       "      <td>946.533</td>\n",
       "    </tr>\n",
       "    <tr>\n",
       "      <th>(agg, mean)</th>\n",
       "      <td>1.246k</td>\n",
       "      <td>26.340k</td>\n",
       "      <td>27.586k</td>\n",
       "    </tr>\n",
       "    <tr>\n",
       "      <th>(freq, cv)</th>\n",
       "      <td>442.189m</td>\n",
       "      <td>0.000</td>\n",
       "      <td>427.017m</td>\n",
       "    </tr>\n",
       "    <tr>\n",
       "      <th>(sev, cv)</th>\n",
       "      <td>2.140</td>\n",
       "      <td>9.608m</td>\n",
       "      <td>5.058</td>\n",
       "    </tr>\n",
       "    <tr>\n",
       "      <th>(agg, cv)</th>\n",
       "      <td>598.568m</td>\n",
       "      <td>9.608m</td>\n",
       "      <td>28.546m</td>\n",
       "    </tr>\n",
       "    <tr>\n",
       "      <th>(freq, skew)</th>\n",
       "      <td>804.025m</td>\n",
       "      <td>NaN</td>\n",
       "      <td>804.025m</td>\n",
       "    </tr>\n",
       "    <tr>\n",
       "      <th>(sev, skew)</th>\n",
       "      <td>34.464</td>\n",
       "      <td>74.000m</td>\n",
       "      <td>5.115</td>\n",
       "    </tr>\n",
       "    <tr>\n",
       "      <th>(agg, skew)</th>\n",
       "      <td>2.758</td>\n",
       "      <td>74.000m</td>\n",
       "      <td>2.345</td>\n",
       "    </tr>\n",
       "    <tr>\n",
       "      <th>Mean</th>\n",
       "      <td>1.246k</td>\n",
       "      <td>26.340k</td>\n",
       "      <td>27.586k</td>\n",
       "    </tr>\n",
       "    <tr>\n",
       "      <th>EmpMean</th>\n",
       "      <td>1.246k</td>\n",
       "      <td>26.340k</td>\n",
       "      <td>27.586k</td>\n",
       "    </tr>\n",
       "    <tr>\n",
       "      <th>MeanErr</th>\n",
       "      <td>1.672u</td>\n",
       "      <td>-563.882f</td>\n",
       "      <td>73.561n</td>\n",
       "    </tr>\n",
       "    <tr>\n",
       "      <th>CV</th>\n",
       "      <td>598.568m</td>\n",
       "      <td>9.608m</td>\n",
       "      <td>28.546m</td>\n",
       "    </tr>\n",
       "    <tr>\n",
       "      <th>EmpCV</th>\n",
       "      <td>598.549m</td>\n",
       "      <td>9.608m</td>\n",
       "      <td>28.544m</td>\n",
       "    </tr>\n",
       "    <tr>\n",
       "      <th>CVErr</th>\n",
       "      <td>-31.840u</td>\n",
       "      <td>648.297n</td>\n",
       "      <td>-36.499u</td>\n",
       "    </tr>\n",
       "    <tr>\n",
       "      <th>P99.0</th>\n",
       "      <td>3.600k</td>\n",
       "      <td>26.942k</td>\n",
       "      <td>29.995k</td>\n",
       "    </tr>\n",
       "  </tbody>\n",
       "</table>\n",
       "</div>"
      ],
      "text/plain": [
       "<aggregate.port.Portfolio object at 0x0000020907D5B520>, { 'name': 'Gross_CatCo', 'spec': [{'name': 'NC', 'note': '', 'occ_reins': None, 'occ_kind': '', 'agg_reins': None, 'agg_kind': ''}, {'name': 'CAT', 'note': '', 'occ_reins': None, 'occ_kind': '', 'agg_reins': None, 'agg_kind': ''}], \"bs\": 1, \"log2\": 18, \"padding\": 1, \"tilt_amount\": 0, \"distortion\": \"ph (0.46639739474873826)\", \"sev_calc\": \"discrete\", \"remove_fuzz\": True, \"approx_type\": \"slognorm\", \"approx_freq_ge\": 100}"
      ]
     },
     "execution_count": 85,
     "metadata": {},
     "output_type": "execute_result"
    },
    {
     "name": "stdout",
     "output_type": "stream",
     "text": [
      "time: 15 ms (started: 2022-07-12 22:28:40 -04:00)\n"
     ]
    }
   ],
   "source": [
    "catco.gross"
   ]
  },
  {
   "cell_type": "code",
   "execution_count": 91,
   "id": "ecaadead-4606-421d-95a4-3f1b48830399",
   "metadata": {},
   "outputs": [
    {
     "data": {
      "image/png": "[encoded data removed]",
      "text/plain": [
       "<Figure size 360x504 with 1 Axes>"
      ]
     },
     "metadata": {
      "image/png": {
       "height": 512,
       "width": 368
      }
     },
     "output_type": "display_data"
    },
    {
     "name": "stdout",
     "output_type": "stream",
     "text": [
      "time: 297 ms (started: 2022-07-12 22:29:55 -04:00)\n"
     ]
    }
   ],
   "source": [
    "%%sf 1 1 5 7\n",
    "catco.gross.profit_segment_plot(ax, 0.99999, ['total', 'CAT', 'NC'], \n",
    "                                'wang', [2,0,1], [0, 26340, 0])"
   ]
  },
  {
   "cell_type": "code",
   "execution_count": 96,
   "id": "91498ce7-aa39-4b64-9622-50a5b15e1403",
   "metadata": {},
   "outputs": [
    {
     "data": {
      "image/png": "[encoded data removed]",
      "text/plain": [
       "<Figure size 360x504 with 1 Axes>"
      ]
     },
     "metadata": {
      "image/png": {
       "height": 512,
       "width": 368
      }
     },
     "output_type": "display_data"
    },
    {
     "name": "stdout",
     "output_type": "stream",
     "text": [
      "time: 547 ms (started: 2022-07-12 22:35:25 -04:00)\n"
     ]
    }
   ],
   "source": [
    "%%sf 1 1 5 7\n",
    "catco.gross.natural_profit_segment_plot(ax, 0.99999, ['total', 'CAT', 'NC'], [2,0,1], [0, 0, 0])"
   ]
  },
  {
   "cell_type": "code",
   "execution_count": 97,
   "id": "0a10d21a-1fdd-4a63-8a6f-257d5f0fa50b",
   "metadata": {},
   "outputs": [
    {
     "data": {
      "text/html": [
       "<style type=\"text/css\">\n",
       "#T_39070_ td:hover {\n",
       "  background-color: #ffffb3;\n",
       "}\n",
       "#T_39070_ .index_name {\n",
       "  font-style: italic;\n",
       "  color: white;\n",
       "  background-color: #777777;\n",
       "  font-weight: bold;\n",
       "  border: 1px solid white;\n",
       "  text-transform: capitalize;\n",
       "  text-align: left;\n",
       "}\n",
       "#T_39070_ th:not(.index_name) {\n",
       "  background-color: #DDDDDD;\n",
       "  color: black;\n",
       "  border: 1px solid #ffffff;\n",
       "}\n",
       "#T_39070_ th.col_heading {\n",
       "  text-align: center;\n",
       "}\n",
       "#T_39070_ .row_heading {\n",
       "  text-align: left;\n",
       "}\n",
       "#T_39070_ td {\n",
       "  text-align: right;\n",
       "}\n",
       "</style>\n",
       "<table id=\"T_39070_\">\n",
       "  <thead>\n",
       "    <tr>\n",
       "      <th class=\"index_name level0\" >unit</th>\n",
       "      <th class=\"col_heading level0 col0\" >Nc</th>\n",
       "      <th class=\"col_heading level0 col1\" >Cat</th>\n",
       "      <th class=\"col_heading level0 col2\" >Total</th>\n",
       "    </tr>\n",
       "    <tr>\n",
       "      <th class=\"index_name level0\" >statistic</th>\n",
       "      <th class=\"blank col0\" >&nbsp;</th>\n",
       "      <th class=\"blank col1\" >&nbsp;</th>\n",
       "      <th class=\"blank col2\" >&nbsp;</th>\n",
       "    </tr>\n",
       "  </thead>\n",
       "  <tbody>\n",
       "    <tr>\n",
       "      <th id=\"T_39070_level0_row0\" class=\"row_heading level0 row0\" >Freqency Mean</th>\n",
       "      <td id=\"T_39070_row0_col0\" class=\"data row0 col0\" >1.000</td>\n",
       "      <td id=\"T_39070_row0_col1\" class=\"data row0 col1\" >28.144</td>\n",
       "      <td id=\"T_39070_row0_col2\" class=\"data row0 col2\" >29.144</td>\n",
       "    </tr>\n",
       "    <tr>\n",
       "      <th id=\"T_39070_level0_row1\" class=\"row_heading level0 row1\" >Freqency CV</th>\n",
       "      <td id=\"T_39070_row1_col0\" class=\"data row1 col0\" >0.000</td>\n",
       "      <td id=\"T_39070_row1_col1\" class=\"data row1 col1\" >0.442</td>\n",
       "      <td id=\"T_39070_row1_col2\" class=\"data row1 col2\" >0.427</td>\n",
       "    </tr>\n",
       "    <tr>\n",
       "      <th id=\"T_39070_level0_row2\" class=\"row_heading level0 row2\" >Freqency Skewness</th>\n",
       "      <td id=\"T_39070_row2_col0\" class=\"data row2 col0\" >nan</td>\n",
       "      <td id=\"T_39070_row2_col1\" class=\"data row2 col1\" >0.804</td>\n",
       "      <td id=\"T_39070_row2_col2\" class=\"data row2 col2\" >0.804</td>\n",
       "    </tr>\n",
       "    <tr>\n",
       "      <th id=\"T_39070_level0_row3\" class=\"row_heading level0 row3\" >Severity Mean</th>\n",
       "      <td id=\"T_39070_row3_col0\" class=\"data row3 col0\" >26,340.000</td>\n",
       "      <td id=\"T_39070_row3_col1\" class=\"data row3 col1\" >44.264</td>\n",
       "      <td id=\"T_39070_row3_col2\" class=\"data row3 col2\" >946.533</td>\n",
       "    </tr>\n",
       "    <tr>\n",
       "      <th id=\"T_39070_level0_row4\" class=\"row_heading level0 row4\" >Severity CV</th>\n",
       "      <td id=\"T_39070_row4_col0\" class=\"data row4 col0\" >0.010</td>\n",
       "      <td id=\"T_39070_row4_col1\" class=\"data row4 col1\" >2.140</td>\n",
       "      <td id=\"T_39070_row4_col2\" class=\"data row4 col2\" >5.058</td>\n",
       "    </tr>\n",
       "    <tr>\n",
       "      <th id=\"T_39070_level0_row5\" class=\"row_heading level0 row5\" >Severity Skewness</th>\n",
       "      <td id=\"T_39070_row5_col0\" class=\"data row5 col0\" >0.074</td>\n",
       "      <td id=\"T_39070_row5_col1\" class=\"data row5 col1\" >34.464</td>\n",
       "      <td id=\"T_39070_row5_col2\" class=\"data row5 col2\" >5.115</td>\n",
       "    </tr>\n",
       "    <tr>\n",
       "      <th id=\"T_39070_level0_row6\" class=\"row_heading level0 row6\" >Aggregate Mean</th>\n",
       "      <td id=\"T_39070_row6_col0\" class=\"data row6 col0\" >26,340.000</td>\n",
       "      <td id=\"T_39070_row6_col1\" class=\"data row6 col1\" >1,245.760</td>\n",
       "      <td id=\"T_39070_row6_col2\" class=\"data row6 col2\" >27,585.760</td>\n",
       "    </tr>\n",
       "    <tr>\n",
       "      <th id=\"T_39070_level0_row7\" class=\"row_heading level0 row7\" >Aggregate emp Mean</th>\n",
       "      <td id=\"T_39070_row7_col0\" class=\"data row7 col0\" >26,340.000</td>\n",
       "      <td id=\"T_39070_row7_col1\" class=\"data row7 col1\" >1,245.762</td>\n",
       "      <td id=\"T_39070_row7_col2\" class=\"data row7 col2\" >27,585.762</td>\n",
       "    </tr>\n",
       "    <tr>\n",
       "      <th id=\"T_39070_level0_row8\" class=\"row_heading level0 row8\" >Aggregate Mean err</th>\n",
       "      <td id=\"T_39070_row8_col0\" class=\"data row8 col0\" >-0.000</td>\n",
       "      <td id=\"T_39070_row8_col1\" class=\"data row8 col1\" >0.000</td>\n",
       "      <td id=\"T_39070_row8_col2\" class=\"data row8 col2\" >0.000</td>\n",
       "    </tr>\n",
       "    <tr>\n",
       "      <th id=\"T_39070_level0_row9\" class=\"row_heading level0 row9\" >Aggregate CV</th>\n",
       "      <td id=\"T_39070_row9_col0\" class=\"data row9 col0\" >0.010</td>\n",
       "      <td id=\"T_39070_row9_col1\" class=\"data row9 col1\" >0.599</td>\n",
       "      <td id=\"T_39070_row9_col2\" class=\"data row9 col2\" >0.029</td>\n",
       "    </tr>\n",
       "    <tr>\n",
       "      <th id=\"T_39070_level0_row10\" class=\"row_heading level0 row10\" >Aggregate emp CV</th>\n",
       "      <td id=\"T_39070_row10_col0\" class=\"data row10 col0\" >0.010</td>\n",
       "      <td id=\"T_39070_row10_col1\" class=\"data row10 col1\" >0.599</td>\n",
       "      <td id=\"T_39070_row10_col2\" class=\"data row10 col2\" >0.029</td>\n",
       "    </tr>\n",
       "    <tr>\n",
       "      <th id=\"T_39070_level0_row11\" class=\"row_heading level0 row11\" >Aggregate CV err</th>\n",
       "      <td id=\"T_39070_row11_col0\" class=\"data row11 col0\" >0.000</td>\n",
       "      <td id=\"T_39070_row11_col1\" class=\"data row11 col1\" >-0.000</td>\n",
       "      <td id=\"T_39070_row11_col2\" class=\"data row11 col2\" >-0.000</td>\n",
       "    </tr>\n",
       "    <tr>\n",
       "      <th id=\"T_39070_level0_row12\" class=\"row_heading level0 row12\" >Aggregate Skewness</th>\n",
       "      <td id=\"T_39070_row12_col0\" class=\"data row12 col0\" >0.074</td>\n",
       "      <td id=\"T_39070_row12_col1\" class=\"data row12 col1\" >2.758</td>\n",
       "      <td id=\"T_39070_row12_col2\" class=\"data row12 col2\" >2.345</td>\n",
       "    </tr>\n",
       "    <tr>\n",
       "      <th id=\"T_39070_level0_row13\" class=\"row_heading level0 row13\" >Aggregate emp Skewness</th>\n",
       "      <td id=\"T_39070_row13_col0\" class=\"data row13 col0\" >0.074</td>\n",
       "      <td id=\"T_39070_row13_col1\" class=\"data row13 col1\" >2.723</td>\n",
       "      <td id=\"T_39070_row13_col2\" class=\"data row13 col2\" >2.309</td>\n",
       "    </tr>\n",
       "    <tr>\n",
       "      <th id=\"T_39070_level0_row14\" class=\"row_heading level0 row14\" >Aggregate Skewness err</th>\n",
       "      <td id=\"T_39070_row14_col0\" class=\"data row14 col0\" >-0.000</td>\n",
       "      <td id=\"T_39070_row14_col1\" class=\"data row14 col1\" >-0.013</td>\n",
       "      <td id=\"T_39070_row14_col2\" class=\"data row14 col2\" >-0.015</td>\n",
       "    </tr>\n",
       "    <tr>\n",
       "      <th id=\"T_39070_level0_row15\" class=\"row_heading level0 row15\" >Aggregate emp Kurtosis</th>\n",
       "      <td id=\"T_39070_row15_col0\" class=\"data row15 col0\" >0.008</td>\n",
       "      <td id=\"T_39070_row15_col1\" class=\"data row15 col1\" >73.850</td>\n",
       "      <td id=\"T_39070_row15_col2\" class=\"data row15 col2\" >57.501</td>\n",
       "    </tr>\n",
       "    <tr>\n",
       "      <th id=\"T_39070_level0_row16\" class=\"row_heading level0 row16\" >P99.0 emp</th>\n",
       "      <td id=\"T_39070_row16_col0\" class=\"data row16 col0\" >26,942.000</td>\n",
       "      <td id=\"T_39070_row16_col1\" class=\"data row16 col1\" >3,600.000</td>\n",
       "      <td id=\"T_39070_row16_col2\" class=\"data row16 col2\" >29,995.000</td>\n",
       "    </tr>\n",
       "    <tr>\n",
       "      <th id=\"T_39070_level0_row17\" class=\"row_heading level0 row17\" >P99.6 emp</th>\n",
       "      <td id=\"T_39070_row17_col0\" class=\"data row17 col0\" >27,030.000</td>\n",
       "      <td id=\"T_39070_row17_col1\" class=\"data row17 col1\" >4,294.000</td>\n",
       "      <td id=\"T_39070_row17_col2\" class=\"data row17 col2\" >30,683.000</td>\n",
       "    </tr>\n",
       "  </tbody>\n",
       "</table>\n"
      ],
      "text/plain": [
       "<pandas.io.formats.style.Styler at 0x209499d3580>"
      ]
     },
     "execution_count": 97,
     "metadata": {},
     "output_type": "execute_result"
    },
    {
     "name": "stdout",
     "output_type": "stream",
     "text": [
      "time: 15 ms (started: 2022-07-12 22:36:51 -04:00)\n"
     ]
    }
   ],
   "source": [
    "catco.gross.report_df"
   ]
  },
  {
   "cell_type": "code",
   "execution_count": 68,
   "id": "8be8af62-6132-4824-aa34-75df2aefb489",
   "metadata": {},
   "outputs": [
    {
     "data": {
      "text/html": [
       "<div>\n",
       "<style scoped>\n",
       "    .dataframe tbody tr th:only-of-type {\n",
       "        vertical-align: middle;\n",
       "    }\n",
       "\n",
       "    .dataframe tbody tr th {\n",
       "        vertical-align: top;\n",
       "    }\n",
       "\n",
       "    .dataframe thead th {\n",
       "        text-align: right;\n",
       "    }\n",
       "</style>\n",
       "<table border=\"1\" class=\"dataframe\">\n",
       "  <thead>\n",
       "    <tr style=\"text-align: right;\">\n",
       "      <th></th>\n",
       "      <th>a</th>\n",
       "      <th>LR</th>\n",
       "      <th>S(a)</th>\n",
       "      <th>ι</th>\n",
       "      <th>δ</th>\n",
       "      <th>ν</th>\n",
       "      <th>EL(a)</th>\n",
       "      <th>ρ(X ∧ a)</th>\n",
       "      <th>Levg</th>\n",
       "      <th>𝑄¯ Q(a)</th>\n",
       "      <th>ROE</th>\n",
       "      <th>Shape</th>\n",
       "    </tr>\n",
       "    <tr>\n",
       "      <th>Distortion</th>\n",
       "      <th></th>\n",
       "      <th></th>\n",
       "      <th></th>\n",
       "      <th></th>\n",
       "      <th></th>\n",
       "      <th></th>\n",
       "      <th></th>\n",
       "      <th></th>\n",
       "      <th></th>\n",
       "      <th></th>\n",
       "      <th></th>\n",
       "      <th></th>\n",
       "    </tr>\n",
       "  </thead>\n",
       "  <tbody>\n",
       "    <tr>\n",
       "      <th>ph</th>\n",
       "      <td>39.175k</td>\n",
       "      <td>968.135m</td>\n",
       "      <td>49.999u</td>\n",
       "      <td>85.000m</td>\n",
       "      <td>78.341m</td>\n",
       "      <td>921.659m</td>\n",
       "      <td>27.586k</td>\n",
       "      <td>28.493k</td>\n",
       "      <td>2.668</td>\n",
       "      <td>10.682k</td>\n",
       "      <td>85.000m</td>\n",
       "      <td>466.397m</td>\n",
       "    </tr>\n",
       "  </tbody>\n",
       "</table>\n",
       "</div>"
      ],
      "text/plain": [
       "                  a        LR     S(a)        ι        δ         ν    EL(a)  \\\n",
       "Distortion                                                                    \n",
       "ph          39.175k  968.135m  49.999u  85.000m  78.341m  921.659m  27.586k   \n",
       "\n",
       "            ρ(X ∧ a)   Levg  𝑄¯ Q(a)      ROE     Shape  \n",
       "Distortion                                               \n",
       "ph           28.493k  2.668  10.682k  85.000m  466.397m  "
      ]
     },
     "execution_count": 68,
     "metadata": {},
     "output_type": "execute_result"
    },
    {
     "name": "stdout",
     "output_type": "stream",
     "text": [
      "time: 16 ms (started: 2022-07-12 22:05:58 -04:00)\n"
     ]
    }
   ],
   "source": [
    "catco.gross.distortion_calibration()\n",
    "catco.gross.EX_distortion_calibration"
   ]
  },
  {
   "cell_type": "code",
   "execution_count": 40,
   "id": "af2241da-a876-4f7d-8db1-7ec9f659ec7a",
   "metadata": {},
   "outputs": [
    {
     "data": {
      "text/html": [
       "<h2>Exhibits for Net Catco Portfolio</h2>"
      ],
      "text/plain": [
       "<IPython.core.display.HTML object>"
      ]
     },
     "metadata": {},
     "output_type": "display_data"
    },
    {
     "data": {
      "text/html": [
       "<h3>Accounting Economic Balance Sheet</h3>"
      ],
      "text/plain": [
       "<IPython.core.display.HTML object>"
      ]
     },
     "metadata": {},
     "output_type": "display_data"
    },
    {
     "data": {
      "text/html": [
       "<style type=\"text/css\">\n",
       "</style>\n",
       "<table id=\"T_503d1_\">\n",
       "  <thead>\n",
       "    <tr>\n",
       "      <th class=\"blank level0\" >&nbsp;</th>\n",
       "      <th class=\"col_heading level0 col0\" >Statutory</th>\n",
       "      <th class=\"col_heading level0 col1\" >Objective</th>\n",
       "      <th class=\"col_heading level0 col2\" >Market</th>\n",
       "      <th class=\"col_heading level0 col3\" >Difference</th>\n",
       "    </tr>\n",
       "    <tr>\n",
       "      <th class=\"index_name level0\" >Item</th>\n",
       "      <th class=\"blank col0\" >&nbsp;</th>\n",
       "      <th class=\"blank col1\" >&nbsp;</th>\n",
       "      <th class=\"blank col2\" >&nbsp;</th>\n",
       "      <th class=\"blank col3\" >&nbsp;</th>\n",
       "    </tr>\n",
       "  </thead>\n",
       "  <tbody>\n",
       "    <tr>\n",
       "      <th id=\"T_503d1_level0_row0\" class=\"row_heading level0 row0\" >Assets</th>\n",
       "      <td id=\"T_503d1_row0_col0\" class=\"data row0 col0\" >36743</td>\n",
       "      <td id=\"T_503d1_row0_col1\" class=\"data row0 col1\" >36743</td>\n",
       "      <td id=\"T_503d1_row0_col2\" class=\"data row0 col2\" >36743</td>\n",
       "      <td id=\"T_503d1_row0_col3\" class=\"data row0 col3\" >0</td>\n",
       "    </tr>\n",
       "    <tr>\n",
       "      <th id=\"T_503d1_level0_row1\" class=\"row_heading level0 row1\" >NC</th>\n",
       "      <td id=\"T_503d1_row1_col0\" class=\"data row1 col0\" >1245.8</td>\n",
       "      <td id=\"T_503d1_row1_col1\" class=\"data row1 col1\" >1139.8</td>\n",
       "      <td id=\"T_503d1_row1_col2\" class=\"data row1 col2\" >2175.1</td>\n",
       "      <td id=\"T_503d1_row1_col3\" class=\"data row1 col3\" >1035.3</td>\n",
       "    </tr>\n",
       "    <tr>\n",
       "      <th id=\"T_503d1_level0_row2\" class=\"row_heading level0 row2\" >CAT</th>\n",
       "      <td id=\"T_503d1_row2_col0\" class=\"data row2 col0\" >26340</td>\n",
       "      <td id=\"T_503d1_row2_col1\" class=\"data row2 col1\" >26340</td>\n",
       "      <td id=\"T_503d1_row2_col2\" class=\"data row2 col2\" >26036</td>\n",
       "      <td id=\"T_503d1_row2_col3\" class=\"data row2 col3\" >-304.31</td>\n",
       "    </tr>\n",
       "    <tr>\n",
       "      <th id=\"T_503d1_level0_row3\" class=\"row_heading level0 row3\" >Total</th>\n",
       "      <td id=\"T_503d1_row3_col0\" class=\"data row3 col0\" >27586</td>\n",
       "      <td id=\"T_503d1_row3_col1\" class=\"data row3 col1\" >27480</td>\n",
       "      <td id=\"T_503d1_row3_col2\" class=\"data row3 col2\" >28211</td>\n",
       "      <td id=\"T_503d1_row3_col3\" class=\"data row3 col3\" >731.02</td>\n",
       "    </tr>\n",
       "    <tr>\n",
       "      <th id=\"T_503d1_level0_row4\" class=\"row_heading level0 row4\" >Equity</th>\n",
       "      <td id=\"T_503d1_row4_col0\" class=\"data row4 col0\" >9157.2</td>\n",
       "      <td id=\"T_503d1_row4_col1\" class=\"data row4 col1\" >9263.3</td>\n",
       "      <td id=\"T_503d1_row4_col2\" class=\"data row4 col2\" >8532.3</td>\n",
       "      <td id=\"T_503d1_row4_col3\" class=\"data row4 col3\" >-731.02</td>\n",
       "    </tr>\n",
       "  </tbody>\n",
       "</table>\n"
      ],
      "text/plain": [
       "<pandas.io.formats.style.Styler at 0x20a531b9e50>"
      ]
     },
     "metadata": {},
     "output_type": "display_data"
    },
    {
     "data": {
      "text/html": [
       "<hr>"
      ],
      "text/plain": [
       "<IPython.core.display.HTML object>"
      ]
     },
     "metadata": {},
     "output_type": "display_data"
    },
    {
     "data": {
      "text/html": [
       "<h3>Basic Loss Statistics</h3>"
      ],
      "text/plain": [
       "<IPython.core.display.HTML object>"
      ]
     },
     "metadata": {},
     "output_type": "display_data"
    },
    {
     "data": {
      "text/html": [
       "<style type=\"text/css\">\n",
       "</style>\n",
       "<table id=\"T_9f2ad_\">\n",
       "  <thead>\n",
       "    <tr>\n",
       "      <th class=\"blank level0\" >&nbsp;</th>\n",
       "      <th class=\"col_heading level0 col0\" >CAT</th>\n",
       "      <th class=\"col_heading level0 col1\" >NC</th>\n",
       "      <th class=\"col_heading level0 col2\" >Total</th>\n",
       "    </tr>\n",
       "  </thead>\n",
       "  <tbody>\n",
       "    <tr>\n",
       "      <th id=\"T_9f2ad_level0_row0\" class=\"row_heading level0 row0\" >Mean</th>\n",
       "      <td id=\"T_9f2ad_row0_col0\" class=\"data row0 col0\" >1245.759986</td>\n",
       "      <td id=\"T_9f2ad_row0_col1\" class=\"data row0 col1\" >26340.000000</td>\n",
       "      <td id=\"T_9f2ad_row0_col2\" class=\"data row0 col2\" >27585.759986</td>\n",
       "    </tr>\n",
       "    <tr>\n",
       "      <th id=\"T_9f2ad_level0_row1\" class=\"row_heading level0 row1\" >EmpMean</th>\n",
       "      <td id=\"T_9f2ad_row1_col0\" class=\"data row1 col0\" >1139.916133</td>\n",
       "      <td id=\"T_9f2ad_row1_col1\" class=\"data row1 col1\" >26340.000000</td>\n",
       "      <td id=\"T_9f2ad_row1_col2\" class=\"data row1 col2\" >27479.916083</td>\n",
       "    </tr>\n",
       "    <tr>\n",
       "      <th id=\"T_9f2ad_level0_row2\" class=\"row_heading level0 row2\" >MeanErr</th>\n",
       "      <td id=\"T_9f2ad_row2_col0\" class=\"data row2 col0\" >-0.084963</td>\n",
       "      <td id=\"T_9f2ad_row2_col1\" class=\"data row2 col1\" >-0.000000</td>\n",
       "      <td id=\"T_9f2ad_row2_col2\" class=\"data row2 col2\" >-0.003837</td>\n",
       "    </tr>\n",
       "    <tr>\n",
       "      <th id=\"T_9f2ad_level0_row3\" class=\"row_heading level0 row3\" >CV</th>\n",
       "      <td id=\"T_9f2ad_row3_col0\" class=\"data row3 col0\" >0.598568</td>\n",
       "      <td id=\"T_9f2ad_row3_col1\" class=\"data row3 col1\" >0.009608</td>\n",
       "      <td id=\"T_9f2ad_row3_col2\" class=\"data row3 col2\" >0.028546</td>\n",
       "    </tr>\n",
       "    <tr>\n",
       "      <th id=\"T_9f2ad_level0_row4\" class=\"row_heading level0 row4\" >EmpCV</th>\n",
       "      <td id=\"T_9f2ad_row4_col0\" class=\"data row4 col0\" >0.480062</td>\n",
       "      <td id=\"T_9f2ad_row4_col1\" class=\"data row4 col1\" >0.009608</td>\n",
       "      <td id=\"T_9f2ad_row4_col2\" class=\"data row4 col2\" >0.021940</td>\n",
       "    </tr>\n",
       "    <tr>\n",
       "      <th id=\"T_9f2ad_level0_row5\" class=\"row_heading level0 row5\" >CVErr</th>\n",
       "      <td id=\"T_9f2ad_row5_col0\" class=\"data row5 col0\" >-0.197983</td>\n",
       "      <td id=\"T_9f2ad_row5_col1\" class=\"data row5 col1\" >0.000001</td>\n",
       "      <td id=\"T_9f2ad_row5_col2\" class=\"data row5 col2\" >-0.231403</td>\n",
       "    </tr>\n",
       "    <tr>\n",
       "      <th id=\"T_9f2ad_level0_row6\" class=\"row_heading level0 row6\" >Skew</th>\n",
       "      <td id=\"T_9f2ad_row6_col0\" class=\"data row6 col0\" >2.758267</td>\n",
       "      <td id=\"T_9f2ad_row6_col1\" class=\"data row6 col1\" >0.074000</td>\n",
       "      <td id=\"T_9f2ad_row6_col2\" class=\"data row6 col2\" >2.344593</td>\n",
       "    </tr>\n",
       "    <tr>\n",
       "      <th id=\"T_9f2ad_level0_row7\" class=\"row_heading level0 row7\" >Kurt</th>\n",
       "      <td id=\"T_9f2ad_row7_col0\" class=\"data row7 col0\" >193.352739</td>\n",
       "      <td id=\"T_9f2ad_row7_col1\" class=\"data row7 col1\" >0.008216</td>\n",
       "      <td id=\"T_9f2ad_row7_col2\" class=\"data row7 col2\" >126.147704</td>\n",
       "    </tr>\n",
       "    <tr>\n",
       "      <th id=\"T_9f2ad_level0_row8\" class=\"row_heading level0 row8\" >P99.0</th>\n",
       "      <td id=\"T_9f2ad_row8_col0\" class=\"data row8 col0\" >2000.000000</td>\n",
       "      <td id=\"T_9f2ad_row8_col1\" class=\"data row8 col1\" >26942.000000</td>\n",
       "      <td id=\"T_9f2ad_row8_col2\" class=\"data row8 col2\" >28754.000000</td>\n",
       "    </tr>\n",
       "    <tr>\n",
       "      <th id=\"T_9f2ad_level0_row9\" class=\"row_heading level0 row9\" >P99.6</th>\n",
       "      <td id=\"T_9f2ad_row9_col0\" class=\"data row9 col0\" >2262.000000</td>\n",
       "      <td id=\"T_9f2ad_row9_col1\" class=\"data row9 col1\" >27030.000000</td>\n",
       "      <td id=\"T_9f2ad_row9_col2\" class=\"data row9 col2\" >28928.000000</td>\n",
       "    </tr>\n",
       "    <tr>\n",
       "      <th id=\"T_9f2ad_level0_row10\" class=\"row_heading level0 row10\" >P99.9950</th>\n",
       "      <td id=\"T_9f2ad_row10_col0\" class=\"data row10 col0\" >27369.000000</td>\n",
       "      <td id=\"T_9f2ad_row10_col1\" class=\"data row10 col1\" >10392.000000</td>\n",
       "      <td id=\"T_9f2ad_row10_col2\" class=\"data row10 col2\" >36743.000000</td>\n",
       "    </tr>\n",
       "  </tbody>\n",
       "</table>\n"
      ],
      "text/plain": [
       "<pandas.io.formats.style.Styler at 0x20a531b9e50>"
      ]
     },
     "metadata": {},
     "output_type": "display_data"
    },
    {
     "data": {
      "text/html": [
       "<hr>"
      ],
      "text/plain": [
       "<IPython.core.display.HTML object>"
      ]
     },
     "metadata": {},
     "output_type": "display_data"
    },
    {
     "data": {
      "text/html": [
       "<h3>Premium Capital</h3>"
      ],
      "text/plain": [
       "<IPython.core.display.HTML object>"
      ]
     },
     "metadata": {},
     "output_type": "display_data"
    },
    {
     "data": {
      "text/html": [
       "<style type=\"text/css\">\n",
       "</style>\n",
       "<table id=\"T_33c1b_\">\n",
       "  <thead>\n",
       "    <tr>\n",
       "      <th class=\"blank level0\" >&nbsp;</th>\n",
       "      <th class=\"col_heading level0 col0\" >CAT</th>\n",
       "      <th class=\"col_heading level0 col1\" >NC</th>\n",
       "      <th class=\"col_heading level0 col2\" >Total</th>\n",
       "    </tr>\n",
       "    <tr>\n",
       "      <th class=\"index_name level0\" >Item</th>\n",
       "      <th class=\"blank col0\" >&nbsp;</th>\n",
       "      <th class=\"blank col1\" >&nbsp;</th>\n",
       "      <th class=\"blank col2\" >&nbsp;</th>\n",
       "    </tr>\n",
       "  </thead>\n",
       "  <tbody>\n",
       "    <tr>\n",
       "      <th id=\"T_33c1b_level0_row0\" class=\"row_heading level0 row0\" >1. Allocated assets</th>\n",
       "      <td id=\"T_33c1b_row0_col0\" class=\"data row0 col0\" >9113</td>\n",
       "      <td id=\"T_33c1b_row0_col1\" class=\"data row0 col1\" >27630</td>\n",
       "      <td id=\"T_33c1b_row0_col2\" class=\"data row0 col2\" >36743</td>\n",
       "    </tr>\n",
       "    <tr>\n",
       "      <th id=\"T_33c1b_level0_row1\" class=\"row_heading level0 row1\" >2. Market value liability</th>\n",
       "      <td id=\"T_33c1b_row1_col0\" class=\"data row1 col0\" >2175.1</td>\n",
       "      <td id=\"T_33c1b_row1_col1\" class=\"data row1 col1\" >26036</td>\n",
       "      <td id=\"T_33c1b_row1_col2\" class=\"data row1 col2\" >28211</td>\n",
       "    </tr>\n",
       "    <tr>\n",
       "      <th id=\"T_33c1b_level0_row2\" class=\"row_heading level0 row2\" >3. Expected incurred loss</th>\n",
       "      <td id=\"T_33c1b_row2_col0\" class=\"data row2 col0\" >1139.8</td>\n",
       "      <td id=\"T_33c1b_row2_col1\" class=\"data row2 col1\" >26340</td>\n",
       "      <td id=\"T_33c1b_row2_col2\" class=\"data row2 col2\" >27480</td>\n",
       "    </tr>\n",
       "    <tr>\n",
       "      <th id=\"T_33c1b_level0_row3\" class=\"row_heading level0 row3\" >4. Margin</th>\n",
       "      <td id=\"T_33c1b_row3_col0\" class=\"data row3 col0\" >1035.3</td>\n",
       "      <td id=\"T_33c1b_row3_col1\" class=\"data row3 col1\" >-304.31</td>\n",
       "      <td id=\"T_33c1b_row3_col2\" class=\"data row3 col2\" >731.02</td>\n",
       "    </tr>\n",
       "    <tr>\n",
       "      <th id=\"T_33c1b_level0_row4\" class=\"row_heading level0 row4\" >5. Loss ratio</th>\n",
       "      <td id=\"T_33c1b_row4_col0\" class=\"data row4 col0\" >0.52402</td>\n",
       "      <td id=\"T_33c1b_row4_col1\" class=\"data row4 col1\" >1.0117</td>\n",
       "      <td id=\"T_33c1b_row4_col2\" class=\"data row4 col2\" >0.97409</td>\n",
       "    </tr>\n",
       "    <tr>\n",
       "      <th id=\"T_33c1b_level0_row5\" class=\"row_heading level0 row5\" >6. Allocated equity</th>\n",
       "      <td id=\"T_33c1b_row5_col0\" class=\"data row5 col0\" >6937.9</td>\n",
       "      <td id=\"T_33c1b_row5_col1\" class=\"data row5 col1\" >1594.5</td>\n",
       "      <td id=\"T_33c1b_row5_col2\" class=\"data row5 col2\" >8532.3</td>\n",
       "    </tr>\n",
       "    <tr>\n",
       "      <th id=\"T_33c1b_level0_row6\" class=\"row_heading level0 row6\" >7. Cost of allocated equity</th>\n",
       "      <td id=\"T_33c1b_row6_col0\" class=\"data row6 col0\" >0.14923</td>\n",
       "      <td id=\"T_33c1b_row6_col1\" class=\"data row6 col1\" >-0.19085</td>\n",
       "      <td id=\"T_33c1b_row6_col2\" class=\"data row6 col2\" >0.085676</td>\n",
       "    </tr>\n",
       "    <tr>\n",
       "      <th id=\"T_33c1b_level0_row7\" class=\"row_heading level0 row7\" >8. Premium to surplus ratio</th>\n",
       "      <td id=\"T_33c1b_row7_col0\" class=\"data row7 col0\" >0.31352</td>\n",
       "      <td id=\"T_33c1b_row7_col1\" class=\"data row7 col1\" >16.329</td>\n",
       "      <td id=\"T_33c1b_row7_col2\" class=\"data row7 col2\" >3.3063</td>\n",
       "    </tr>\n",
       "  </tbody>\n",
       "</table>\n"
      ],
      "text/plain": [
       "<pandas.io.formats.style.Styler at 0x20a531b9e50>"
      ]
     },
     "metadata": {},
     "output_type": "display_data"
    },
    {
     "data": {
      "text/html": [
       "<hr>"
      ],
      "text/plain": [
       "<IPython.core.display.HTML object>"
      ]
     },
     "metadata": {},
     "output_type": "display_data"
    },
    {
     "name": "stdout",
     "output_type": "stream",
     "text": [
      "time: 31 ms (started: 2022-07-12 21:39:53 -04:00)\n"
     ]
    }
   ],
   "source": [
    "port.show_enhanced_exhibits()"
   ]
  },
  {
   "cell_type": "code",
   "execution_count": 70,
   "id": "13a17530-86df-4f31-b6e9-f1f29a9647e5",
   "metadata": {},
   "outputs": [
    {
     "data": {
      "text/html": [
       "<style type=\"text/css\">\n",
       "#T_df3a0_ td:hover {\n",
       "  background-color: #ffffb3;\n",
       "}\n",
       "#T_df3a0_ .index_name {\n",
       "  font-style: italic;\n",
       "  color: white;\n",
       "  background-color: #777777;\n",
       "  font-weight: bold;\n",
       "  border: 1px solid white;\n",
       "  text-transform: capitalize;\n",
       "  text-align: left;\n",
       "}\n",
       "#T_df3a0_ th:not(.index_name) {\n",
       "  background-color: #DDDDDD;\n",
       "  color: black;\n",
       "  border: 1px solid #ffffff;\n",
       "}\n",
       "#T_df3a0_ th.col_heading {\n",
       "  text-align: center;\n",
       "}\n",
       "#T_df3a0_ .row_heading {\n",
       "  text-align: left;\n",
       "}\n",
       "#T_df3a0_ td {\n",
       "  text-align: right;\n",
       "}\n",
       "</style>\n",
       "<table id=\"T_df3a0_\">\n",
       "  <thead>\n",
       "    <tr>\n",
       "      <th class=\"index_name level0\" >unit</th>\n",
       "      <th class=\"col_heading level0 col0\" >Nc</th>\n",
       "      <th class=\"col_heading level0 col1\" >Cat</th>\n",
       "      <th class=\"col_heading level0 col2\" >Total</th>\n",
       "    </tr>\n",
       "    <tr>\n",
       "      <th class=\"index_name level0\" >statistic</th>\n",
       "      <th class=\"blank col0\" >&nbsp;</th>\n",
       "      <th class=\"blank col1\" >&nbsp;</th>\n",
       "      <th class=\"blank col2\" >&nbsp;</th>\n",
       "    </tr>\n",
       "  </thead>\n",
       "  <tbody>\n",
       "    <tr>\n",
       "      <th id=\"T_df3a0_level0_row0\" class=\"row_heading level0 row0\" >Freqency Mean</th>\n",
       "      <td id=\"T_df3a0_row0_col0\" class=\"data row0 col0\" >1.000</td>\n",
       "      <td id=\"T_df3a0_row0_col1\" class=\"data row0 col1\" >28.144</td>\n",
       "      <td id=\"T_df3a0_row0_col2\" class=\"data row0 col2\" >29.144</td>\n",
       "    </tr>\n",
       "    <tr>\n",
       "      <th id=\"T_df3a0_level0_row1\" class=\"row_heading level0 row1\" >Freqency CV</th>\n",
       "      <td id=\"T_df3a0_row1_col0\" class=\"data row1 col0\" >0.000</td>\n",
       "      <td id=\"T_df3a0_row1_col1\" class=\"data row1 col1\" >0.442</td>\n",
       "      <td id=\"T_df3a0_row1_col2\" class=\"data row1 col2\" >0.427</td>\n",
       "    </tr>\n",
       "    <tr>\n",
       "      <th id=\"T_df3a0_level0_row2\" class=\"row_heading level0 row2\" >Freqency Skewness</th>\n",
       "      <td id=\"T_df3a0_row2_col0\" class=\"data row2 col0\" >nan</td>\n",
       "      <td id=\"T_df3a0_row2_col1\" class=\"data row2 col1\" >0.804</td>\n",
       "      <td id=\"T_df3a0_row2_col2\" class=\"data row2 col2\" >0.804</td>\n",
       "    </tr>\n",
       "    <tr>\n",
       "      <th id=\"T_df3a0_level0_row3\" class=\"row_heading level0 row3\" >Severity Mean</th>\n",
       "      <td id=\"T_df3a0_row3_col0\" class=\"data row3 col0\" >26,340.000</td>\n",
       "      <td id=\"T_df3a0_row3_col1\" class=\"data row3 col1\" >44.264</td>\n",
       "      <td id=\"T_df3a0_row3_col2\" class=\"data row3 col2\" >946.533</td>\n",
       "    </tr>\n",
       "    <tr>\n",
       "      <th id=\"T_df3a0_level0_row4\" class=\"row_heading level0 row4\" >Severity CV</th>\n",
       "      <td id=\"T_df3a0_row4_col0\" class=\"data row4 col0\" >0.010</td>\n",
       "      <td id=\"T_df3a0_row4_col1\" class=\"data row4 col1\" >2.140</td>\n",
       "      <td id=\"T_df3a0_row4_col2\" class=\"data row4 col2\" >5.058</td>\n",
       "    </tr>\n",
       "    <tr>\n",
       "      <th id=\"T_df3a0_level0_row5\" class=\"row_heading level0 row5\" >Severity Skewness</th>\n",
       "      <td id=\"T_df3a0_row5_col0\" class=\"data row5 col0\" >0.074</td>\n",
       "      <td id=\"T_df3a0_row5_col1\" class=\"data row5 col1\" >34.464</td>\n",
       "      <td id=\"T_df3a0_row5_col2\" class=\"data row5 col2\" >5.115</td>\n",
       "    </tr>\n",
       "    <tr>\n",
       "      <th id=\"T_df3a0_level0_row6\" class=\"row_heading level0 row6\" >Aggregate Mean</th>\n",
       "      <td id=\"T_df3a0_row6_col0\" class=\"data row6 col0\" >26,340.000</td>\n",
       "      <td id=\"T_df3a0_row6_col1\" class=\"data row6 col1\" >1,245.760</td>\n",
       "      <td id=\"T_df3a0_row6_col2\" class=\"data row6 col2\" >27,585.760</td>\n",
       "    </tr>\n",
       "    <tr>\n",
       "      <th id=\"T_df3a0_level0_row7\" class=\"row_heading level0 row7\" >Aggregate emp Mean</th>\n",
       "      <td id=\"T_df3a0_row7_col0\" class=\"data row7 col0\" >26,340.000</td>\n",
       "      <td id=\"T_df3a0_row7_col1\" class=\"data row7 col1\" >1,139.916</td>\n",
       "      <td id=\"T_df3a0_row7_col2\" class=\"data row7 col2\" >27,479.916</td>\n",
       "    </tr>\n",
       "    <tr>\n",
       "      <th id=\"T_df3a0_level0_row8\" class=\"row_heading level0 row8\" >Aggregate Mean err</th>\n",
       "      <td id=\"T_df3a0_row8_col0\" class=\"data row8 col0\" >-0.000</td>\n",
       "      <td id=\"T_df3a0_row8_col1\" class=\"data row8 col1\" >-0.085</td>\n",
       "      <td id=\"T_df3a0_row8_col2\" class=\"data row8 col2\" >-0.004</td>\n",
       "    </tr>\n",
       "    <tr>\n",
       "      <th id=\"T_df3a0_level0_row9\" class=\"row_heading level0 row9\" >Aggregate CV</th>\n",
       "      <td id=\"T_df3a0_row9_col0\" class=\"data row9 col0\" >0.010</td>\n",
       "      <td id=\"T_df3a0_row9_col1\" class=\"data row9 col1\" >0.599</td>\n",
       "      <td id=\"T_df3a0_row9_col2\" class=\"data row9 col2\" >0.029</td>\n",
       "    </tr>\n",
       "    <tr>\n",
       "      <th id=\"T_df3a0_level0_row10\" class=\"row_heading level0 row10\" >Aggregate emp CV</th>\n",
       "      <td id=\"T_df3a0_row10_col0\" class=\"data row10 col0\" >0.010</td>\n",
       "      <td id=\"T_df3a0_row10_col1\" class=\"data row10 col1\" >0.480</td>\n",
       "      <td id=\"T_df3a0_row10_col2\" class=\"data row10 col2\" >0.022</td>\n",
       "    </tr>\n",
       "    <tr>\n",
       "      <th id=\"T_df3a0_level0_row11\" class=\"row_heading level0 row11\" >Aggregate CV err</th>\n",
       "      <td id=\"T_df3a0_row11_col0\" class=\"data row11 col0\" >0.000</td>\n",
       "      <td id=\"T_df3a0_row11_col1\" class=\"data row11 col1\" >-0.198</td>\n",
       "      <td id=\"T_df3a0_row11_col2\" class=\"data row11 col2\" >-0.231</td>\n",
       "    </tr>\n",
       "    <tr>\n",
       "      <th id=\"T_df3a0_level0_row12\" class=\"row_heading level0 row12\" >Aggregate Skewness</th>\n",
       "      <td id=\"T_df3a0_row12_col0\" class=\"data row12 col0\" >0.074</td>\n",
       "      <td id=\"T_df3a0_row12_col1\" class=\"data row12 col1\" >2.758</td>\n",
       "      <td id=\"T_df3a0_row12_col2\" class=\"data row12 col2\" >2.345</td>\n",
       "    </tr>\n",
       "    <tr>\n",
       "      <th id=\"T_df3a0_level0_row13\" class=\"row_heading level0 row13\" >Aggregate emp Skewness</th>\n",
       "      <td id=\"T_df3a0_row13_col0\" class=\"data row13 col0\" >0.074</td>\n",
       "      <td id=\"T_df3a0_row13_col1\" class=\"data row13 col1\" >2.670</td>\n",
       "      <td id=\"T_df3a0_row13_col2\" class=\"data row13 col2\" >1.990</td>\n",
       "    </tr>\n",
       "    <tr>\n",
       "      <th id=\"T_df3a0_level0_row14\" class=\"row_heading level0 row14\" >Aggregate Skewness err</th>\n",
       "      <td id=\"T_df3a0_row14_col0\" class=\"data row14 col0\" >-0.000</td>\n",
       "      <td id=\"T_df3a0_row14_col1\" class=\"data row14 col1\" >-0.032</td>\n",
       "      <td id=\"T_df3a0_row14_col2\" class=\"data row14 col2\" >-0.151</td>\n",
       "    </tr>\n",
       "    <tr>\n",
       "      <th id=\"T_df3a0_level0_row15\" class=\"row_heading level0 row15\" >Aggregate emp Kurtosis</th>\n",
       "      <td id=\"T_df3a0_row15_col0\" class=\"data row15 col0\" >0.008</td>\n",
       "      <td id=\"T_df3a0_row15_col1\" class=\"data row15 col1\" >193.353</td>\n",
       "      <td id=\"T_df3a0_row15_col2\" class=\"data row15 col2\" >126.148</td>\n",
       "    </tr>\n",
       "    <tr>\n",
       "      <th id=\"T_df3a0_level0_row16\" class=\"row_heading level0 row16\" >P99.0 emp</th>\n",
       "      <td id=\"T_df3a0_row16_col0\" class=\"data row16 col0\" >26,942.000</td>\n",
       "      <td id=\"T_df3a0_row16_col1\" class=\"data row16 col1\" >2,000.000</td>\n",
       "      <td id=\"T_df3a0_row16_col2\" class=\"data row16 col2\" >28,754.000</td>\n",
       "    </tr>\n",
       "    <tr>\n",
       "      <th id=\"T_df3a0_level0_row17\" class=\"row_heading level0 row17\" >P99.6 emp</th>\n",
       "      <td id=\"T_df3a0_row17_col0\" class=\"data row17 col0\" >27,030.000</td>\n",
       "      <td id=\"T_df3a0_row17_col1\" class=\"data row17 col1\" >2,262.000</td>\n",
       "      <td id=\"T_df3a0_row17_col2\" class=\"data row17 col2\" >28,928.000</td>\n",
       "    </tr>\n",
       "  </tbody>\n",
       "</table>\n"
      ],
      "text/plain": [
       "<pandas.io.formats.style.Styler at 0x20a27ad8fd0>"
      ]
     },
     "execution_count": 70,
     "metadata": {},
     "output_type": "execute_result"
    },
    {
     "name": "stdout",
     "output_type": "stream",
     "text": [
      "time: 16 ms (started: 2022-07-12 22:12:43 -04:00)\n"
     ]
    }
   ],
   "source": [
    "port.report_df"
   ]
  },
  {
   "cell_type": "code",
   "execution_count": null,
   "id": "63d3ac0d-3aec-4711-911b-b5d09811283c",
   "metadata": {},
   "outputs": [],
   "source": []
  },
  {
   "cell_type": "code",
   "execution_count": null,
   "id": "09577153-d021-409c-b64b-b895dd7938d8",
   "metadata": {},
   "outputs": [],
   "source": []
  }
 ],
 "metadata": {
  "kernelspec": {
   "display_name": "Python 3 (ipykernel)",
   "language": "python",
   "name": "python3"
  },
  "language_info": {
   "codemirror_mode": {
    "name": "ipython",
    "version": 3
   },
   "file_extension": ".py",
   "mimetype": "text/x-python",
   "name": "python",
   "nbconvert_exporter": "python",
   "pygments_lexer": "ipython3",
   "version": "3.8.12"
  }
 },
 "nbformat": 4,
 "nbformat_minor": 5
}
