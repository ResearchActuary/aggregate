{
 "cells": [
  {
   "cell_type": "markdown",
   "id": "959cfc69-534e-4f46-a36e-85f7479669f7",
   "metadata": {},
   "source": [
    "# Snippet Creator and Hacking Space \n",
    "\n",
    "Hacking space. \n",
    "\n",
    "Use snippets.py (previously dm.py) or whatever for the code... \n",
    "\n",
    "## Provenance\n",
    "\n",
    "* dm.ipynb renamed snippet_runner.ipynb to coordinate with snippets.py\n",
    "* Moved into agg project, untracked June 28, 2022\n",
    "* Created new as Learning_SLY June 23, 2022"
   ]
  },
  {
   "cell_type": "code",
   "execution_count": null,
   "id": "ca2c8f98-f841-40e6-9cba-6503101ed441",
   "metadata": {},
   "outputs": [],
   "source": [
    "# see the parser\n",
    "%run aggregate/parser.py"
   ]
  },
  {
   "cell_type": "code",
   "execution_count": null,
   "id": "c8e9984f-0180-42fe-93e2-4852b8bcb9e4",
   "metadata": {},
   "outputs": [],
   "source": [
    "agg.parser.UnderwritingParser.enhance_debugfile()"
   ]
  },
  {
   "cell_type": "code",
   "execution_count": null,
   "id": "43ef0c56-1465-448b-bb1f-89b42945bcca",
   "metadata": {},
   "outputs": [],
   "source": [
    "logger_level(30)\n",
    "%run -i snippets.py"
   ]
  },
  {
   "cell_type": "code",
   "execution_count": null,
   "id": "b6ed764a-aa2d-46b8-8140-fd8acb9b9e77",
   "metadata": {},
   "outputs": [],
   "source": [
    "# save grammar \n",
    "agg.grammar()"
   ]
  },
  {
   "cell_type": "code",
   "execution_count": null,
   "id": "30e7f14f-0699-4590-89f0-12fb30701301",
   "metadata": {},
   "outputs": [],
   "source": [
    "test = build('agg TEST dfreq [1 2 3 4] dsev [1 2 5 10]')\n",
    "test"
   ]
  },
  {
   "cell_type": "code",
   "execution_count": null,
   "id": "bf924b4a-422b-4711-8c56-1ca66b9fcab8",
   "metadata": {},
   "outputs": [],
   "source": [
    "test.report_df"
   ]
  },
  {
   "cell_type": "markdown",
   "id": "f10ad8a5-bc97-4d1c-9d46-34960b6a01cb",
   "metadata": {},
   "source": [
    "# NewCo Re Capital Model\n",
    "\n",
    "## Effect on the tail of adding cat...really depends on the relative vol of non-cat."
   ]
  },
  {
   "cell_type": "code",
   "execution_count": null,
   "id": "2d2fcf9c-824b-4357-810c-d67547677bc7",
   "metadata": {},
   "outputs": [],
   "source": [
    "logger_level(30)\n",
    "%run -i snippets.py \n",
    "# %run -i snippets.py parse_tests"
   ]
  },
  {
   "cell_type": "code",
   "execution_count": null,
   "id": "0840b954-5808-4969-8ceb-60ef3f4ddb76",
   "metadata": {},
   "outputs": [],
   "source": [
    "porta = build('''\n",
    "port newco\n",
    "    agg NonCatAndReserves 1 claim sev gamma 27000 cv 0.05 fixed\n",
    "    agg Cat               1 claim sev lognorm  500 cv 0.500 fixed\n",
    "''', log2=17, bs=1, padding=1)\n",
    "\n",
    "portb = build('''\n",
    "port newco\n",
    "    agg NonCatAndReserves 1 claim sev gamma  27000 cv .01 fixed\n",
    "    agg Cat               1 claim sev lognorm  500 cv 0.500 fixed\n",
    "''', log2=17, bs=1, padding=2)"
   ]
  },
  {
   "cell_type": "code",
   "execution_count": null,
   "id": "a25980ca-b28b-4cad-9fd8-101b1f809a04",
   "metadata": {},
   "outputs": [],
   "source": [
    "porta.plot()"
   ]
  },
  {
   "cell_type": "code",
   "execution_count": null,
   "id": "1a0cf18c-8eec-4aa6-a546-37468b036106",
   "metadata": {},
   "outputs": [],
   "source": [
    "portb.plot()"
   ]
  },
  {
   "cell_type": "code",
   "execution_count": null,
   "id": "ca0474b3-3768-4fe9-84a3-430bab93b4f7",
   "metadata": {},
   "outputs": [],
   "source": [
    "%%sf 1 2 8 8 \n",
    "porta.biv_contour_plot(f, ax0, 0, 40e3, 1e3, cmap='viridis')\n",
    "portb.biv_contour_plot(f, ax1, 0, 40e3, 1e3, cmap='viridis')"
   ]
  },
  {
   "cell_type": "markdown",
   "id": "14cbff1d-6c0b-412d-9f19-b14517c541c5",
   "metadata": {},
   "source": [
    "## Cat / Non-Cat Capital Model Case: New Syntax"
   ]
  },
  {
   "cell_type": "code",
   "execution_count": null,
   "id": "72387c11-f7f0-49cc-abe0-efadaf48644b",
   "metadata": {},
   "outputs": [],
   "source": [
    "logger_level(30)\n",
    "%run -i snippets.py"
   ]
  },
  {
   "cell_type": "code",
   "execution_count": null,
   "id": "b239227b-ebce-467c-afd7-6c1080c54cc4",
   "metadata": {},
   "outputs": [],
   "source": [
    "prog_noncat = 'agg NC 1 claim sev gamma 6840 cv 0.037 # 19500 fixed'\n",
    "noncat = build(prog_noncat)\n",
    "noncat.report_df"
   ]
  },
  {
   "cell_type": "code",
   "execution_count": null,
   "id": "ee3ffe69-0674-4e60-a75c-59ba34e322e4",
   "metadata": {},
   "outputs": [],
   "source": [
    "prog_cat_gross = 'agg CAT [26.144 2] claims sev lognorm [40 100] cv [1.7 2.5] mixed gamma 0.4'\n",
    "cat = build(prog_cat_gross, log2=18, bs=1)\n",
    "cat.report_df"
   ]
  },
  {
   "cell_type": "code",
   "execution_count": null,
   "id": "43159c79-0d0e-4eb7-8400-7ca74b1b7b24",
   "metadata": {},
   "outputs": [],
   "source": [
    "prog_cat_net = 'agg CAT [26.144 2] claims sev lognorm [40 100] cv [1.7 2.5] occurrence net of 1000 x 400 mixed gamma 0.4 aggregate net of 1325 xs 2000'\n",
    "net = build(prog_cat_net, log2=18, bs=1)\n",
    "net.report_df"
   ]
  },
  {
   "cell_type": "code",
   "execution_count": null,
   "id": "fc17ec66-6783-4f29-bfe9-9ff976c4bc49",
   "metadata": {},
   "outputs": [],
   "source": [
    "cat.q(0.9),cat.q(0.99), cat.q(0.996), cat.q(0.999), net.q(0.9), net.q(0.99), net.q(0.996), net.q(0.999)"
   ]
  },
  {
   "cell_type": "code",
   "execution_count": null,
   "id": "a694acd1-7e72-4459-a2cf-0da83cbf7f38",
   "metadata": {},
   "outputs": [],
   "source": [
    "# blend calibration\n",
    "# A- bond, default 5 bps, spread 195 bps over treasuriesw\n",
    "# most recent cat bond EL 0.009, spread 0.053\n",
    "# cat bonds average el 4.2% at 8.5%\n",
    "# s_values = [0.0005, 0.009, 0.042]\n",
    "# y = np.array([0.0195, 0.042, 0.085])\n",
    "s_values = [0.0005, 0.009]\n",
    "y = np.array([0.0195, 0.042])\n",
    "gs_values = y / (1+y)"
   ]
  },
  {
   "cell_type": "code",
   "execution_count": null,
   "id": "30c5348e-a956-4562-ac02-b6e09c69907e",
   "metadata": {},
   "outputs": [],
   "source": [
    "a, prem = catco.pricing_summary.loc[['a', 'P'], 'gross']\n",
    "a, prem"
   ]
  },
  {
   "cell_type": "code",
   "execution_count": null,
   "id": "78b91748-8caa-4fbf-a79f-f25a27d00d81",
   "metadata": {},
   "outputs": [],
   "source": [
    "ans"
   ]
  },
  {
   "cell_type": "code",
   "execution_count": null,
   "id": "dade2381-9b59-4719-990c-823e12947b85",
   "metadata": {},
   "outputs": [],
   "source": [
    "ans = catco.gross.calibrate_blends(a, prem, s_values, gs_values, debug=True)"
   ]
  },
  {
   "cell_type": "code",
   "execution_count": null,
   "id": "ebc0b59c-d093-4d71-ac0c-1d6e6aaf877d",
   "metadata": {},
   "outputs": [],
   "source": [
    "catco.dist_dict[list( catco.dist_dict.keys() )[-1]].plot(both=False)"
   ]
  },
  {
   "cell_type": "code",
   "execution_count": null,
   "id": "b57f9834-df79-4ffc-bf83-910f20dd7a19",
   "metadata": {},
   "outputs": [],
   "source": [
    "%%sf 1 4 4 4 \n",
    "for k, v in catco.blend_distortions.items():\n",
    "    ax = next(axi)\n",
    "    v.plot(ax=ax, both=False, lw=1)\n",
    "    ax.set(title=k)\n",
    "ax = next(axi)\n",
    "catco.blend_d.plot(ax=ax, both=False, lw=1)\n",
    "ax.set(title=\n",
    "      'Blend-d')"
   ]
  },
  {
   "cell_type": "code",
   "execution_count": null,
   "id": "81a6830d-46c6-400a-b4d7-17226a860e95",
   "metadata": {},
   "outputs": [],
   "source": [
    "%%sf 1 4 4 4 \n",
    "g = agg.Distortion('ph', 0.5)\n",
    "for k, v in ans[3].items():\n",
    "    ax = next(axi)\n",
    "    g.g = v\n",
    "    g.plot(ax=ax, both=False, lw=1)\n",
    "    ax.set(title=k)"
   ]
  },
  {
   "cell_type": "code",
   "execution_count": null,
   "id": "089d783f-cc54-48b9-915c-0eab010c2f25",
   "metadata": {},
   "outputs": [],
   "source": [
    "catco = cs.CaseStudy()\n",
    "catco.factory(case_id='CatCo',\n",
    "                   case_name='CatCo Capital Model',\n",
    "                   case_description='CatCo capital model calibrated to S&P',\n",
    "                   a_distribution       = prog_noncat,\n",
    "                   b_distribution_gross = prog_cat_gross,\n",
    "                   b_distribution_net   = prog_cat_net,\n",
    "                   reg_p=0.99995,      # backed into number so the net capital is correct\n",
    "                   roe=0.085,\n",
    "                   d2tc=0.281118428,    # to get about the right amount of debt\n",
    "                   f_discrete=False, \n",
    "                   s_values=s_values,\n",
    "                   gs_values=gs_values,\n",
    "                   bs=1,\n",
    "                   log2=18,\n",
    "                   padding=1)\n",
    "catco.to_json()"
   ]
  },
  {
   "cell_type": "code",
   "execution_count": null,
   "id": "860c6ac3-a9a3-4e39-8ea8-7986825b4915",
   "metadata": {},
   "outputs": [],
   "source": [
    "catco.full_monty()"
   ]
  },
  {
   "cell_type": "code",
   "execution_count": null,
   "id": "0f42f59c-b140-4fb0-8800-f3c82c036881",
   "metadata": {},
   "outputs": [],
   "source": [
    "catco.show_extended_graphs()"
   ]
  },
  {
   "cell_type": "code",
   "execution_count": null,
   "id": "874b7ba4-93b4-4216-a797-8445872e950a",
   "metadata": {},
   "outputs": [],
   "source": [
    "mrr = cs.ManualRenderResults(catco)"
   ]
  },
  {
   "cell_type": "code",
   "execution_count": null,
   "id": "dd248d70-523d-4c86-b782-d339642a2fe5",
   "metadata": {},
   "outputs": [],
   "source": [
    "# custom for this analysis\n",
    "mrr.render_custom('F', 'A', 'N', 'M', 'O', 'V', 'E', 'Z*', 'B')"
   ]
  },
  {
   "cell_type": "code",
   "execution_count": null,
   "id": "d2b13640-fa53-4b95-843b-e03b069ae637",
   "metadata": {},
   "outputs": [],
   "source": [
    "catco.show_extended_graphs()"
   ]
  },
  {
   "cell_type": "code",
   "execution_count": null,
   "id": "264e8122-35c3-4bbd-b2f8-7f4680f163c3",
   "metadata": {},
   "outputs": [],
   "source": []
  },
  {
   "cell_type": "markdown",
   "id": "2e3a894e-13f6-4212-b2af-38dcc0e1b1a5",
   "metadata": {},
   "source": [
    "# Define severity as a mixture?"
   ]
  },
  {
   "cell_type": "code",
   "execution_count": null,
   "id": "9c2dfaa5-f5fe-45f5-8757-ce939eea8a21",
   "metadata": {},
   "outputs": [],
   "source": [
    "out = build('sev Atest [10 30 100 300 1000] @ expon 1 wts [.4 .2 .2 .1 .1]')"
   ]
  },
  {
   "cell_type": "code",
   "execution_count": null,
   "id": "2d373c1f-3258-4eaf-b80f-9ca47cd32bb1",
   "metadata": {},
   "outputs": [],
   "source": [
    "out"
   ]
  },
  {
   "cell_type": "code",
   "execution_count": null,
   "id": "51b4f947-9cad-484c-89fb-3fbab50df1b8",
   "metadata": {},
   "outputs": [],
   "source": [
    "a = build('agg Amixed 10 claim sev.Atest poisson', log2=16, bs=.5)\n",
    "a"
   ]
  },
  {
   "cell_type": "code",
   "execution_count": null,
   "id": "8b56e545-5d9e-47b8-800f-2173ae4c2205",
   "metadata": {},
   "outputs": [],
   "source": [
    "a.report_df"
   ]
  },
  {
   "cell_type": "code",
   "execution_count": null,
   "id": "80cbf76a-9520-4fa2-9d48-fde55dd859ef",
   "metadata": {},
   "outputs": [],
   "source": [
    "a.plot()"
   ]
  },
  {
   "cell_type": "code",
   "execution_count": null,
   "id": "1def6679-2291-438c-86e2-df55718b020d",
   "metadata": {},
   "outputs": [],
   "source": []
  }
 ],
 "metadata": {
  "kernelspec": {
   "display_name": "Python 3 (ipykernel)",
   "language": "python",
   "name": "python3"
  },
  "language_info": {
   "codemirror_mode": {
    "name": "ipython",
    "version": 3
   },
   "file_extension": ".py",
   "mimetype": "text/x-python",
   "name": "python",
   "nbconvert_exporter": "python",
   "pygments_lexer": "ipython3",
   "version": "3.8.12"
  }
 },
 "nbformat": 4,
 "nbformat_minor": 5
}
