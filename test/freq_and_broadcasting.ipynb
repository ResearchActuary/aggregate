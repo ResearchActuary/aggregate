{
 "cells": [
  {
   "cell_type": "markdown",
   "metadata": {},
   "source": [
    "# Audits for new frequency distributions and mixture broadcasting "
   ]
  },
  {
   "cell_type": "code",
   "execution_count": null,
   "metadata": {},
   "outputs": [],
   "source": [
    "import pandas as pd\n",
    "import matplotlib.pyplot as plt\n",
    "import numpy as np\n",
    "import seaborn as sns\n",
    "from IPython.core.display import HTML, display\n",
    "from importlib import reload\n",
    "\n",
    "# pandas options \n",
    "pd.set_option('max_rows', 50)\n",
    "pd.set_option('max_columns', 30)\n",
    "pd.set_option('display.max_colwidth', 150)\n",
    "\n",
    "# matplotlib and plotting options \n",
    "%matplotlib inline\n",
    "%config InlineBackend.figure_format = 'svg'\n",
    "\n",
    "# seaborn options \n",
    "sns.set(context='paper', style='darkgrid', font='serif')\n",
    "# sns.set(context='paper', style='ticks', font='serif')\n",
    "\n",
    "# warnings\n",
    "import warnings\n",
    "# warnings.simplefilter('error')\n",
    "# warnings.simplefilter('ignore')\n",
    "# warnings.simplefilter('error', RuntimeWarning)\n",
    "warnings.simplefilter('once', RuntimeWarning )\n",
    "import logging\n",
    "logging.getLogger(\"matplotlib\").setLevel(logging.CRITICAL)\n",
    "# logging.getLogger(\"aggregate\").setLevel(logging.WARNING)"
   ]
  },
  {
   "cell_type": "code",
   "execution_count": null,
   "metadata": {},
   "outputs": [],
   "source": [
    "# this file is in examples\n",
    "from importlib import reload\n",
    "import sys\n",
    "sys.path.insert(0,'..')\n",
    "import aggregate as agg\n",
    "from aggregate import Aggregate, Portfolio\n",
    "import aggregate.parser as parser\n",
    "import aggregate.underwriter as trash\n",
    "\n",
    "uw = trash.Underwriter(debug=False)"
   ]
  },
  {
   "cell_type": "markdown",
   "metadata": {},
   "source": [
    "# Individual Aggregate Examples "
   ]
  },
  {
   "cell_type": "code",
   "execution_count": null,
   "metadata": {},
   "outputs": [],
   "source": [
    "test_programs = dict(\n",
    "            B=('agg B 10 claims sev dhistogram xps [1], [1] binomial 0.2', 10, 1),\n",
    "            H=('agg H 10 claims sev dhistogram xps [1], [1] poisson', 10, 1),\n",
    "            I=('agg I 10 claims sev dhistogram xps [1], [1] mixed gamma 0.4', 10, 1),\n",
    "            J=('agg J 10 claims sev dhistogram xps [1], [1] mixed gamma 1.4', 10, 1),\n",
    "            K=('agg K 10 claims sev dhistogram xps [1], [1] mixed delaporte 0.4 0.5', 10, 1),\n",
    "            L=('agg L 10 claims sev dhistogram xps [1], [1] mixed ig 1.4', 10, 1),\n",
    "            M=('agg M 10 claims sev dhistogram xps [1], [1] mixed sig 0.4 0.5', 10, 1),\n",
    "            N=('agg N 10 claims sev dhistogram xps [1], [1] mixed pascal 0.4 0.5', 10, 1),\n",
    "            A=('agg A 2 claims sev 5 * uniform fixed', 10, 0.01),\n",
    "            E=('agg E 0.2 claims sev 5 * uniform bernoulli',16, 0.01),\n",
    "            F=('agg F 10 claims 10 xs 5 sev lognorm 10 cv 2 mixed gamma 0.16',16, 0.01),\n",
    "            G=('agg G 10 claims 10 xs 5 sev lognorm 10 cv 2 mixed gamma 1.4', 17, 0.025),\n",
    "            P=('agg P 10 claims sev lognorm 10 cv 0.765 mixed sig 0.4 0.5',16, 0.025),\n",
    "            a=('agg a 1 claim sev dhistogram xps [1 2 3 4] [.25 .25 .25 .25] fixed', 16, 0.025),\n",
    "            b=('agg b 10 claims sev 5 * uniform binomial 0.2', 16, 0.025),\n",
    "            c=('agg c 10 claims sev 5 * uniform binomial 0.2', 16, 0.025),\n",
    "            d=('agg d 10 claims 10 xs 5 sev lognorm 10 cv 2 poisson', 16, 0.025),\n",
    "            e=('agg e 10 claims 10 xs 5 sev lognorm 10 cv 2 mixed gamma 0.16', 16, 0.025),\n",
    "            f=('agg f 10 claims 10 xs 5 sev lognorm 10 cv 2 mixed gamma 1.4', 16, 0.05),\n",
    "            g=('agg g 10 claims sev lognorm 10 cv 0.765 mixed sig 0.4 0.5', 16, 0.025))\n"
   ]
  },
  {
   "cell_type": "code",
   "execution_count": null,
   "metadata": {},
   "outputs": [],
   "source": [
    "def sc_runner(program, log2, bs):\n",
    "    ag = uw(program)\n",
    "    ag.update(np.arange(1 << log2, dtype=float) * bs)\n",
    "    # checks\n",
    "    m, em, cv, ecv = ag.audit_df.loc['mixed', 'agg_m'], ag.audit_df.loc['mixed', 'emp_agg_1'], \\\n",
    "                     ag.audit_df.loc['mixed', 'agg_cv'], ag.audit_df.loc['mixed', 'emp_agg_cv']\n",
    "    merr, cverr = abs(em / m - 1), abs(ecv / cv - 1)\n",
    "    if merr < 1e-5 and cverr < 1e-5:\n",
    "        print(f'OK {program[0:50]:<50s}')\n",
    "    else:\n",
    "        print(f'mean err = {merr:.4e}, cverr = {cverr:.4e}, {program[0:50]:<50s}')"
   ]
  },
  {
   "cell_type": "code",
   "execution_count": null,
   "metadata": {},
   "outputs": [],
   "source": [
    "for k, v in test_programs.items():\n",
    "    sc_runner(*v)"
   ]
  },
  {
   "cell_type": "markdown",
   "metadata": {},
   "source": [
    "# Big Portfolio Example"
   ]
  },
  {
   "cell_type": "code",
   "execution_count": null,
   "metadata": {},
   "outputs": [],
   "source": [
    "port = uw('''port BigTest\n",
    "    agg Poisson     50 claims sev dhistogram xps [1], [1] poisson\n",
    "    agg NegBin     50 claims sev dhistogram xps [1], [1] mixed gamma 0.4\n",
    "    agg Delaporte   50 claims sev dhistogram xps [1], [1] mixed delaporte 0.4 0.6\n",
    "    agg InvGauss   50 claims sev dhistogram xps [1], [1] mixed ig 0.4\n",
    "    agg ShiftIG    50 claims sev dhistogram xps [1], [1] mixed sig 0.4 0.6\n",
    "    agg PoisPascal 50 claims sev dhistogram xps [1], [1] mixed pascal 0.4 1.5''')"
   ]
  },
  {
   "cell_type": "code",
   "execution_count": null,
   "metadata": {},
   "outputs": [],
   "source": [
    "port.recommend_bucket()"
   ]
  },
  {
   "cell_type": "code",
   "execution_count": null,
   "metadata": {},
   "outputs": [],
   "source": [
    "uw['BigTest']"
   ]
  },
  {
   "cell_type": "code",
   "execution_count": null,
   "metadata": {},
   "outputs": [],
   "source": [
    "port.update(10, 1, trim_df=False)"
   ]
  },
  {
   "cell_type": "code",
   "execution_count": null,
   "metadata": {},
   "outputs": [],
   "source": [
    "port"
   ]
  },
  {
   "cell_type": "code",
   "execution_count": null,
   "metadata": {},
   "outputs": [],
   "source": [
    "port.plot(aspect=1.3, subplots=True)"
   ]
  },
  {
   "cell_type": "markdown",
   "metadata": {},
   "source": [
    "# Sichel Tests"
   ]
  },
  {
   "cell_type": "code",
   "execution_count": null,
   "metadata": {},
   "outputs": [],
   "source": [
    "uw.update = False\n",
    "port = uw('''port Sichel\n",
    "    agg Sichlamm2     50 claims sev dhistogram xps [1], [1]  mixed sichel 0.5 -2\n",
    "    agg Sichlamm1     50 claims sev dhistogram xps [1], [1]  mixed sichel 0.5 -1\n",
    "    agg Sichlamm05     50 claims sev dhistogram xps [1], [1]  mixed sichel 0.5, -0.5\n",
    "    agg Sichlam0     50 claims sev dhistogram xps [1], [1]  mixed sichel 0.5, 0\n",
    "    agg Sichlamp05     50 claims sev dhistogram xps [1], [1]  mixed sichel 0.5, 0.5\n",
    "    agg Sichlamp1     50 claims sev dhistogram xps [1], [1]  mixed sichel 0.5, 1\n",
    "    agg Sichgamma    50 claims sev dhistogram xps [1], [1]  mixed sichel.gamma 0.5, 0.25\n",
    "    agg Sichig       50 claims sev dhistogram xps [1], [1]  mixed sichel.ig 0.5, 0.25\n",
    "    agg delap           50 claims sev dhistogram xps [1], [1]  mixed delaporte 0.5 0.25''')"
   ]
  },
  {
   "cell_type": "code",
   "execution_count": null,
   "metadata": {},
   "outputs": [],
   "source": [
    "port"
   ]
  },
  {
   "cell_type": "code",
   "execution_count": null,
   "metadata": {},
   "outputs": [],
   "source": [
    "port.recommend_bucket()"
   ]
  },
  {
   "cell_type": "code",
   "execution_count": null,
   "metadata": {},
   "outputs": [],
   "source": [
    "port.update(10, 1, add_exa=True)"
   ]
  },
  {
   "cell_type": "code",
   "execution_count": null,
   "metadata": {},
   "outputs": [],
   "source": [
    "port"
   ]
  },
  {
   "cell_type": "code",
   "execution_count": null,
   "metadata": {},
   "outputs": [],
   "source": [
    "port.plot(figsize=(8,6), logy=True)"
   ]
  },
  {
   "cell_type": "markdown",
   "metadata": {},
   "source": [
    "# Beta Tests"
   ]
  },
  {
   "cell_type": "code",
   "execution_count": null,
   "metadata": {},
   "outputs": [],
   "source": [
    "port = uw('''port BetaTest\n",
    "    agg beta1   20 claims sev dhistogram xps [1], [1]  mixed beta 0.25 30\n",
    "    agg beta2   20 claims sev dhistogram xps [1], [1]  mixed beta 0.25 40\n",
    "    agg beta3   20 claims sev dhistogram xps [1], [1]  mixed beta 0.5  30\n",
    "    agg beta4   20 claims sev dhistogram xps [1], [1]  mixed beta 0.5  40\n",
    "''')"
   ]
  },
  {
   "cell_type": "code",
   "execution_count": null,
   "metadata": {},
   "outputs": [],
   "source": [
    "port"
   ]
  },
  {
   "cell_type": "code",
   "execution_count": null,
   "metadata": {},
   "outputs": [],
   "source": [
    "port.update(8, 1, verbose=False)"
   ]
  },
  {
   "cell_type": "code",
   "execution_count": null,
   "metadata": {},
   "outputs": [],
   "source": [
    "port.plot(aspect=1.414, subplots=True)"
   ]
  },
  {
   "cell_type": "code",
   "execution_count": null,
   "metadata": {},
   "outputs": [],
   "source": [
    "port"
   ]
  },
  {
   "cell_type": "markdown",
   "metadata": {},
   "source": [
    "# Broadcasting severities"
   ]
  },
  {
   "cell_type": "code",
   "execution_count": null,
   "metadata": {},
   "outputs": [],
   "source": [
    "uw = trash.Underwriter()"
   ]
  },
  {
   "cell_type": "code",
   "execution_count": null,
   "metadata": {},
   "outputs": [],
   "source": [
    "warnings.simplefilter('error',  RuntimeWarning)\n",
    "warnings.simplefilter('default',  RuntimeWarning)\n"
   ]
  },
  {
   "cell_type": "markdown",
   "metadata": {},
   "source": [
    "## Method 1: Cross product of limit profile and mixing distribution"
   ]
  },
  {
   "cell_type": "code",
   "execution_count": null,
   "metadata": {},
   "outputs": [],
   "source": [
    "ag = uw('agg multiExp [10 20 30] claims [100 200 75] xs [0 50 75] sev lognorm 100 cv [1 2] wts [.6 .4] mixed gamma 0.4')\n",
    "# ag = uw(f'agg multiExp 10 claims {np.linspace(50, 250, 10)} xs 0  sev lognorm 100 cv {np.linspace(0.75, 2.5, 10)} wts =10 mixed gamma 0.4')\n",
    "a = ag.update(np.arange(1<<14, dtype=float), verbose=True)\n",
    "display(a)\n",
    "ag"
   ]
  },
  {
   "cell_type": "code",
   "execution_count": null,
   "metadata": {},
   "outputs": [],
   "source": [
    "pd.concat((ag.statistics_df, ag.statistics_total_df))"
   ]
  },
  {
   "cell_type": "code",
   "execution_count": null,
   "metadata": {},
   "outputs": [],
   "source": [
    "ag"
   ]
  },
  {
   "cell_type": "markdown",
   "metadata": {},
   "source": [
    "## Method 2: Seperate severity for each limit component, no cross product"
   ]
  },
  {
   "cell_type": "code",
   "execution_count": null,
   "metadata": {},
   "outputs": [],
   "source": [
    "ag = uw('agg sharedMix [10 30] claims sev lognorm 100 cv [1 2] mixed gamma 0.4')\n",
    "# ag = uw(f'agg multiExp 10 claims {np.linspace(50, 250, 10)} xs 0  sev lognorm 100 cv {np.linspace(0.75, 2.5, 10)} wts =10 mixed gamma 0.4')\n",
    "a = ag.update(np.arange(1<<14, dtype=float), verbose=True)\n",
    "display(a)\n",
    "ag"
   ]
  },
  {
   "cell_type": "markdown",
   "metadata": {},
   "source": [
    "# Understanding $K_\\gamma$"
   ]
  },
  {
   "cell_type": "code",
   "execution_count": null,
   "metadata": {},
   "outputs": [],
   "source": [
    "import aggregate.utils as tr"
   ]
  },
  {
   "cell_type": "code",
   "execution_count": null,
   "metadata": {},
   "outputs": [],
   "source": [
    "reload(tr)"
   ]
  },
  {
   "cell_type": "code",
   "execution_count": null,
   "metadata": {},
   "outputs": [],
   "source": [
    "df, ans = tr.frequency_examples(n=100, ν=0.45, f=0.5, κ=1.25, sichel_case='', log2=16, xmax=2500) "
   ]
  },
  {
   "cell_type": "code",
   "execution_count": null,
   "metadata": {},
   "outputs": [],
   "source": [
    "from scipy.special import kv\n",
    "xs = np.linspace(0, 5, 101)\n",
    "ls = np.linspace(-5,7,4)\n",
    "plt.figure(figsize=(8, 4))\n",
    "plt.subplot(1, 3, 1)\n",
    "for l in ls:\n",
    "    plt.plot(xs, kv(l, xs), label=f'l={l:.1f}')\n",
    "plt.legend()\n",
    "plt.yscale('log')    \n",
    "plt.subplot(1, 3, 2)\n",
    "xs = np.linspace(-1.5, 3.5, 7) \n",
    "ls = np.linspace(-3, 4, 21)\n",
    "for x in xs:\n",
    "    plt.plot(ls, kv(ls, x), label=f'x={x:.1f}')\n",
    "plt.legend()\n",
    "plt.yscale('log')\n",
    "plt.subplot(1, 3, 3)\n",
    "ls = np.linspace(-3, 4, 2)\n",
    "xs = np.linspace(0, 5, 101)\n",
    "for l in ls:\n",
    "    plt.plot(xs, kv(l+1, xs) / kv(l, xs), label=f'l={l:.1f}')\n",
    "plt.legend()\n"
   ]
  },
  {
   "cell_type": "markdown",
   "metadata": {},
   "source": [
    "# CV of different distributions"
   ]
  },
  {
   "cell_type": "code",
   "execution_count": null,
   "metadata": {},
   "outputs": [],
   "source": [
    "import scipy.stats as ss"
   ]
  },
  {
   "cell_type": "code",
   "execution_count": null,
   "metadata": {},
   "outputs": [],
   "source": [
    "def cv(fz):\n",
    "    m, v = fz.stats()\n",
    "    sd = np.sqrt(v)\n",
    "    return sd / m"
   ]
  },
  {
   "cell_type": "code",
   "execution_count": null,
   "metadata": {},
   "outputs": [],
   "source": [
    "ν = 2.5"
   ]
  },
  {
   "cell_type": "code",
   "execution_count": null,
   "metadata": {},
   "outputs": [],
   "source": [
    "fz = ss.gamma(1/ν**2)"
   ]
  },
  {
   "cell_type": "code",
   "execution_count": null,
   "metadata": {},
   "outputs": [],
   "source": [
    "fz = ss.lognorm(np.sqrt(np.log(ν**2 + 1)))"
   ]
  },
  {
   "cell_type": "code",
   "execution_count": null,
   "metadata": {},
   "outputs": [],
   "source": [
    "fz = ss.invgamma(1 / ν**2 + 2)"
   ]
  },
  {
   "cell_type": "code",
   "execution_count": null,
   "metadata": {},
   "outputs": [],
   "source": [
    "fz = ss.invgauss(ν**2)"
   ]
  },
  {
   "cell_type": "code",
   "execution_count": null,
   "metadata": {},
   "outputs": [],
   "source": [
    "fz = ss.pareto(2 * ν**2 / (ν**2  - 1), loc=-1)"
   ]
  },
  {
   "cell_type": "code",
   "execution_count": null,
   "metadata": {},
   "outputs": [],
   "source": [
    "cv(fz)"
   ]
  },
  {
   "cell_type": "code",
   "execution_count": null,
   "metadata": {},
   "outputs": [],
   "source": [
    "fz.stats()"
   ]
  }
 ],
 "metadata": {
  "kernelspec": {
   "display_name": "Python 3",
   "language": "python",
   "name": "python3"
  },
  "language_info": {
   "codemirror_mode": {
    "name": "ipython",
    "version": 3
   },
   "file_extension": ".py",
   "mimetype": "text/x-python",
   "name": "python",
   "nbconvert_exporter": "python",
   "pygments_lexer": "ipython3",
   "version": "3.6.3"
  }
 },
 "nbformat": 4,
 "nbformat_minor": 2
}
